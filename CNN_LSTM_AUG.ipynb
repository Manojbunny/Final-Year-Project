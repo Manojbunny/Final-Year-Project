{
 "cells": [
  {
   "cell_type": "code",
   "execution_count": 1,
   "id": "488257f4-019f-48c9-8d4a-3e8cbdd0bdad",
   "metadata": {},
   "outputs": [
    {
     "name": "stderr",
     "output_type": "stream",
     "text": [
      "Processing Mild-Demented:  11%|█████▉                                                | 98/896 [00:00<00:01, 506.46it/s]"
     ]
    },
    {
     "name": "stdout",
     "output_type": "stream",
     "text": [
      "Batch images shape: (16, 128, 128, 3)\n",
      "Batch labels shape: (16, 1)\n",
      "Batch images shape: (16, 128, 128, 3)\n",
      "Batch labels shape: (16, 1)\n",
      "Batch images shape: (16, 128, 128, 3)\n",
      "Batch labels shape: (16, 1)\n",
      "Batch images shape: (16, 128, 128, 3)\n",
      "Batch labels shape: (16, 1)\n",
      "Batch images shape: (16, 128, 128, 3)\n",
      "Batch labels shape: (16, 1)\n",
      "Batch images shape: (16, 128, 128, 3)\n",
      "Batch labels shape: (16, 1)\n",
      "Batch images shape: (16, 128, 128, 3)\n",
      "Batch labels shape: (16, 1)\n",
      "Batch images shape: (16, 128, 128, 3)\n",
      "Batch labels shape: (16, 1)\n"
     ]
    },
    {
     "name": "stderr",
     "output_type": "stream",
     "text": [
      "Processing Mild-Demented:  23%|████████████▏                                        | 206/896 [00:00<00:01, 520.46it/s]"
     ]
    },
    {
     "name": "stdout",
     "output_type": "stream",
     "text": [
      "Batch images shape: (16, 128, 128, 3)\n",
      "Batch labels shape: (16, 1)\n",
      "Batch images shape: (16, 128, 128, 3)\n",
      "Batch labels shape: (16, 1)\n",
      "Batch images shape: (16, 128, 128, 3)\n",
      "Batch labels shape: (16, 1)\n",
      "Batch images shape: (16, 128, 128, 3)\n",
      "Batch labels shape: (16, 1)\n",
      "Batch images shape: (16, 128, 128, 3)\n",
      "Batch labels shape: (16, 1)\n",
      "Batch images shape: (16, 128, 128, 3)\n",
      "Batch labels shape: (16, 1)\n"
     ]
    },
    {
     "name": "stderr",
     "output_type": "stream",
     "text": [
      "Processing Mild-Demented:  34%|██████████████████                                   | 306/896 [00:00<00:01, 459.75it/s]"
     ]
    },
    {
     "name": "stdout",
     "output_type": "stream",
     "text": [
      "Batch images shape: (16, 128, 128, 3)\n",
      "Batch labels shape: (16, 1)\n",
      "Batch images shape: (16, 128, 128, 3)\n",
      "Batch labels shape: (16, 1)\n",
      "Batch images shape: (16, 128, 128, 3)\n",
      "Batch labels shape: (16, 1)\n",
      "Batch images shape: (16, 128, 128, 3)\n",
      "Batch labels shape: (16, 1)\n",
      "Batch images shape: (16, 128, 128, 3)\n",
      "Batch labels shape: (16, 1)\n",
      "Batch images shape: (16, 128, 128, 3)\n",
      "Batch labels shape: (16, 1)\n"
     ]
    },
    {
     "name": "stderr",
     "output_type": "stream",
     "text": [
      "Processing Mild-Demented:  46%|████████████████████████▌                            | 416/896 [00:00<00:00, 480.94it/s]"
     ]
    },
    {
     "name": "stdout",
     "output_type": "stream",
     "text": [
      "Batch images shape: (16, 128, 128, 3)\n",
      "Batch labels shape: (16, 1)\n",
      "Batch images shape: (16, 128, 128, 3)\n",
      "Batch labels shape: (16, 1)\n",
      "Batch images shape: (16, 128, 128, 3)\n",
      "Batch labels shape: (16, 1)\n",
      "Batch images shape: (16, 128, 128, 3)\n",
      "Batch labels shape: (16, 1)\n",
      "Batch images shape: (16, 128, 128, 3)\n",
      "Batch labels shape: (16, 1)\n",
      "Batch images shape: (16, 128, 128, 3)\n",
      "Batch labels shape: (16, 1)\n",
      "Batch images shape: (16, 128, 128, 3)\n",
      "Batch labels shape: (16, 1)\n"
     ]
    },
    {
     "name": "stderr",
     "output_type": "stream",
     "text": [
      "Processing Mild-Demented:  61%|████████████████████████████████▍                    | 548/896 [00:01<00:00, 550.61it/s]"
     ]
    },
    {
     "name": "stdout",
     "output_type": "stream",
     "text": [
      "Batch images shape: (16, 128, 128, 3)\n",
      "Batch labels shape: (16, 1)\n",
      "Batch images shape: (16, 128, 128, 3)\n",
      "Batch labels shape: (16, 1)\n",
      "Batch images shape: (16, 128, 128, 3)\n",
      "Batch labels shape: (16, 1)\n",
      "Batch images shape: (16, 128, 128, 3)\n",
      "Batch labels shape: (16, 1)\n",
      "Batch images shape: (16, 128, 128, 3)\n",
      "Batch labels shape: (16, 1)\n",
      "Batch images shape: (16, 128, 128, 3)\n",
      "Batch labels shape: (16, 1)\n",
      "Batch images shape: (16, 128, 128, 3)\n",
      "Batch labels shape: (16, 1)\n",
      "Batch images shape: (16, 128, 128, 3)\n",
      "Batch labels shape: (16, 1)\n",
      "Batch images shape: (16, 128, 128, 3)\n",
      "Batch labels shape: (16, 1)\n"
     ]
    },
    {
     "name": "stderr",
     "output_type": "stream",
     "text": [
      "Processing Mild-Demented:  75%|███████████████████████████████████████▊             | 673/896 [00:01<00:00, 583.58it/s]"
     ]
    },
    {
     "name": "stdout",
     "output_type": "stream",
     "text": [
      "Batch images shape: (16, 128, 128, 3)\n",
      "Batch labels shape: (16, 1)\n",
      "Batch images shape: (16, 128, 128, 3)\n",
      "Batch labels shape: (16, 1)\n",
      "Batch images shape: (16, 128, 128, 3)\n",
      "Batch labels shape: (16, 1)\n",
      "Batch images shape: (16, 128, 128, 3)\n",
      "Batch labels shape: (16, 1)\n",
      "Batch images shape: (16, 128, 128, 3)\n",
      "Batch labels shape: (16, 1)\n",
      "Batch images shape: (16, 128, 128, 3)\n",
      "Batch labels shape: (16, 1)\n",
      "Batch images shape: (16, 128, 128, 3)\n",
      "Batch labels shape: (16, 1)\n",
      "Batch images shape: (16, 128, 128, 3)\n",
      "Batch labels shape: (16, 1)\n",
      "Batch images shape: (16, 128, 128, 3)\n",
      "Batch labels shape: (16, 1)\n"
     ]
    },
    {
     "name": "stderr",
     "output_type": "stream",
     "text": [
      "Processing Mild-Demented:  90%|███████████████████████████████████████████████▊     | 809/896 [00:01<00:00, 619.31it/s]"
     ]
    },
    {
     "name": "stdout",
     "output_type": "stream",
     "text": [
      "Batch images shape: (16, 128, 128, 3)\n",
      "Batch labels shape: (16, 1)\n",
      "Batch images shape: (16, 128, 128, 3)\n",
      "Batch labels shape: (16, 1)\n",
      "Batch images shape: (16, 128, 128, 3)\n",
      "Batch labels shape: (16, 1)\n",
      "Batch images shape: (16, 128, 128, 3)\n",
      "Batch labels shape: (16, 1)\n",
      "Batch images shape: (16, 128, 128, 3)\n",
      "Batch labels shape: (16, 1)\n",
      "Batch images shape: (16, 128, 128, 3)\n",
      "Batch labels shape: (16, 1)\n",
      "Batch images shape: (16, 128, 128, 3)\n",
      "Batch labels shape: (16, 1)\n",
      "Batch images shape: (16, 128, 128, 3)\n",
      "Batch labels shape: (16, 1)\n"
     ]
    },
    {
     "name": "stderr",
     "output_type": "stream",
     "text": [
      "Processing Mild-Demented: 100%|█████████████████████████████████████████████████████| 896/896 [00:01<00:00, 539.70it/s]\n"
     ]
    },
    {
     "name": "stdout",
     "output_type": "stream",
     "text": [
      "Batch images shape: (16, 128, 128, 3)\n",
      "Batch labels shape: (16, 1)\n",
      "Batch images shape: (16, 128, 128, 3)\n",
      "Batch labels shape: (16, 1)\n",
      "Batch images shape: (16, 128, 128, 3)\n",
      "Batch labels shape: (16, 1)\n"
     ]
    },
    {
     "name": "stderr",
     "output_type": "stream",
     "text": [
      "Processing Moderate-Demented: 100%|███████████████████████████████████████████████████| 64/64 [00:00<00:00, 766.93it/s]\n"
     ]
    },
    {
     "name": "stdout",
     "output_type": "stream",
     "text": [
      "Batch images shape: (16, 128, 128, 3)\n",
      "Batch labels shape: (16, 1)\n",
      "Batch images shape: (16, 128, 128, 3)\n",
      "Batch labels shape: (16, 1)\n",
      "Batch images shape: (16, 128, 128, 3)\n",
      "Batch labels shape: (16, 1)\n",
      "Batch images shape: (16, 128, 128, 3)\n",
      "Batch labels shape: (16, 1)\n"
     ]
    },
    {
     "name": "stderr",
     "output_type": "stream",
     "text": [
      "Processing Non-Demented:   0%|                                                                | 0/3200 [00:00<?, ?it/s]"
     ]
    },
    {
     "name": "stdout",
     "output_type": "stream",
     "text": [
      "Batch images shape: (16, 128, 128, 3)\n",
      "Batch labels shape: (16, 1)\n"
     ]
    },
    {
     "name": "stderr",
     "output_type": "stream",
     "text": [
      "Processing Non-Demented:   2%|▉                                                     | 54/3200 [00:00<00:05, 539.89it/s]"
     ]
    },
    {
     "name": "stdout",
     "output_type": "stream",
     "text": [
      "Batch images shape: (16, 128, 128, 3)\n",
      "Batch labels shape: (16, 1)\n",
      "Batch images shape: (16, 128, 128, 3)\n",
      "Batch labels shape: (16, 1)\n",
      "Batch images shape: (16, 128, 128, 3)\n",
      "Batch labels shape: (16, 1)\n",
      "Batch images shape: (16, 128, 128, 3)\n",
      "Batch labels shape: (16, 1)\n",
      "Batch images shape: (16, 128, 128, 3)\n",
      "Batch labels shape: (16, 1)\n"
     ]
    },
    {
     "name": "stderr",
     "output_type": "stream",
     "text": [
      "Processing Non-Demented:   3%|█▊                                                   | 108/3200 [00:00<00:05, 532.28it/s]"
     ]
    },
    {
     "name": "stdout",
     "output_type": "stream",
     "text": [
      "Batch images shape: (16, 128, 128, 3)\n",
      "Batch labels shape: (16, 1)\n",
      "Batch images shape: (16, 128, 128, 3)\n",
      "Batch labels shape: (16, 1)\n",
      "Batch images shape: (16, 128, 128, 3)\n",
      "Batch labels shape: (16, 1)\n",
      "Batch images shape: (16, 128, 128, 3)\n",
      "Batch labels shape: (16, 1)\n"
     ]
    },
    {
     "name": "stderr",
     "output_type": "stream",
     "text": [
      "Processing Non-Demented:   5%|██▋                                                  | 164/3200 [00:00<00:05, 510.69it/s]"
     ]
    },
    {
     "name": "stdout",
     "output_type": "stream",
     "text": [
      "Batch images shape: (16, 128, 128, 3)\n",
      "Batch labels shape: (16, 1)\n",
      "Batch images shape: (16, 128, 128, 3)\n",
      "Batch labels shape: (16, 1)\n"
     ]
    },
    {
     "name": "stderr",
     "output_type": "stream",
     "text": [
      "Processing Non-Demented:   7%|███▌                                                 | 216/3200 [00:00<00:05, 506.09it/s]"
     ]
    },
    {
     "name": "stdout",
     "output_type": "stream",
     "text": [
      "Batch images shape: (16, 128, 128, 3)\n",
      "Batch labels shape: (16, 1)\n",
      "Batch images shape: (16, 128, 128, 3)\n",
      "Batch labels shape: (16, 1)\n",
      "Batch images shape: (16, 128, 128, 3)\n",
      "Batch labels shape: (16, 1)\n",
      "Batch images shape: (16, 128, 128, 3)\n",
      "Batch labels shape: (16, 1)\n",
      "Batch images shape: (16, 128, 128, 3)\n",
      "Batch labels shape: (16, 1)\n"
     ]
    },
    {
     "name": "stderr",
     "output_type": "stream",
     "text": [
      "Processing Non-Demented:   8%|████▌                                                | 272/3200 [00:00<00:05, 499.25it/s]"
     ]
    },
    {
     "name": "stdout",
     "output_type": "stream",
     "text": [
      "Batch images shape: (16, 128, 128, 3)\n",
      "Batch labels shape: (16, 1)\n",
      "Batch images shape: (16, 128, 128, 3)\n",
      "Batch labels shape: (16, 1)\n"
     ]
    },
    {
     "name": "stderr",
     "output_type": "stream",
     "text": [
      "Processing Non-Demented:  10%|█████▎                                               | 323/3200 [00:00<00:05, 499.19it/s]"
     ]
    },
    {
     "name": "stdout",
     "output_type": "stream",
     "text": [
      "Batch images shape: (16, 128, 128, 3)\n",
      "Batch labels shape: (16, 1)\n",
      "Batch images shape: (16, 128, 128, 3)\n",
      "Batch labels shape: (16, 1)\n",
      "Batch images shape: (16, 128, 128, 3)\n",
      "Batch labels shape: (16, 1)\n",
      "Batch images shape: (16, 128, 128, 3)\n",
      "Batch labels shape: (16, 1)\n"
     ]
    },
    {
     "name": "stderr",
     "output_type": "stream",
     "text": [
      "Processing Non-Demented:  12%|██████▏                                              | 376/3200 [00:00<00:05, 488.24it/s]"
     ]
    },
    {
     "name": "stdout",
     "output_type": "stream",
     "text": [
      "Batch images shape: (16, 128, 128, 3)\n",
      "Batch labels shape: (16, 1)\n",
      "Batch images shape: (16, 128, 128, 3)\n",
      "Batch labels shape: (16, 1)\n",
      "Batch images shape: (16, 128, 128, 3)\n",
      "Batch labels shape: (16, 1)\n",
      "Batch images shape: (16, 128, 128, 3)\n",
      "Batch labels shape: (16, 1)\n"
     ]
    },
    {
     "name": "stderr",
     "output_type": "stream",
     "text": [
      "Processing Non-Demented:  14%|███████▏                                             | 433/3200 [00:00<00:05, 492.36it/s]"
     ]
    },
    {
     "name": "stdout",
     "output_type": "stream",
     "text": [
      "Batch images shape: (16, 128, 128, 3)\n",
      "Batch labels shape: (16, 1)\n",
      "Batch images shape: (16, 128, 128, 3)\n",
      "Batch labels shape: (16, 1)\n"
     ]
    },
    {
     "name": "stderr",
     "output_type": "stream",
     "text": [
      "Processing Non-Demented:  15%|███████▉                                             | 483/3200 [00:00<00:05, 484.89it/s]"
     ]
    },
    {
     "name": "stdout",
     "output_type": "stream",
     "text": [
      "Batch images shape: (16, 128, 128, 3)\n",
      "Batch labels shape: (16, 1)\n",
      "Batch images shape: (16, 128, 128, 3)\n",
      "Batch labels shape: (16, 1)\n",
      "Batch images shape: (16, 128, 128, 3)\n",
      "Batch labels shape: (16, 1)\n"
     ]
    },
    {
     "name": "stderr",
     "output_type": "stream",
     "text": [
      "Processing Non-Demented:  17%|████████▉                                            | 536/3200 [00:01<00:05, 484.52it/s]"
     ]
    },
    {
     "name": "stdout",
     "output_type": "stream",
     "text": [
      "Batch images shape: (16, 128, 128, 3)\n",
      "Batch labels shape: (16, 1)\n",
      "Batch images shape: (16, 128, 128, 3)\n",
      "Batch labels shape: (16, 1)\n",
      "Batch images shape: (16, 128, 128, 3)\n",
      "Batch labels shape: (16, 1)\n",
      "Batch images shape: (16, 128, 128, 3)\n",
      "Batch labels shape: (16, 1)\n"
     ]
    },
    {
     "name": "stderr",
     "output_type": "stream",
     "text": [
      "Processing Non-Demented:  18%|█████████▋                                           | 587/3200 [00:01<00:05, 489.17it/s]"
     ]
    },
    {
     "name": "stdout",
     "output_type": "stream",
     "text": [
      "Batch images shape: (16, 128, 128, 3)\n",
      "Batch labels shape: (16, 1)\n",
      "Batch images shape: (16, 128, 128, 3)\n",
      "Batch labels shape: (16, 1)\n",
      "Batch images shape: (16, 128, 128, 3)\n",
      "Batch labels shape: (16, 1)\n"
     ]
    },
    {
     "name": "stderr",
     "output_type": "stream",
     "text": [
      "Processing Non-Demented:  20%|██████████▌                                          | 636/3200 [00:01<00:06, 390.81it/s]"
     ]
    },
    {
     "name": "stdout",
     "output_type": "stream",
     "text": [
      "Batch images shape: (16, 128, 128, 3)\n",
      "Batch labels shape: (16, 1)\n",
      "Batch images shape: (16, 128, 128, 3)\n",
      "Batch labels shape: (16, 1)\n",
      "Batch images shape: (16, 128, 128, 3)"
     ]
    },
    {
     "name": "stderr",
     "output_type": "stream",
     "text": [
      "Processing Non-Demented:  21%|███████████▎                                         | 683/3200 [00:01<00:06, 410.24it/s]"
     ]
    },
    {
     "name": "stdout",
     "output_type": "stream",
     "text": [
      "\n",
      "Batch labels shape: (16, 1)\n",
      "Batch images shape: (16, 128, 128, 3)\n",
      "Batch labels shape: (16, 1)\n",
      "Batch images shape: (16, 128, 128, 3)\n",
      "Batch labels shape: (16, 1)\n",
      "Batch images shape: (16, 128, 128, 3)\n",
      "Batch labels shape: (16, 1)\n",
      "Batch images shape: (16, 128, 128, 3)\n",
      "Batch labels shape: (16, 1)\n"
     ]
    },
    {
     "name": "stderr",
     "output_type": "stream",
     "text": [
      "Processing Non-Demented:  23%|████████████▎                                        | 740/3200 [00:01<00:05, 437.93it/s]"
     ]
    },
    {
     "name": "stdout",
     "output_type": "stream",
     "text": [
      "Batch images shape: (16, 128, 128, 3)\n",
      "Batch labels shape: (16, 1)\n",
      "Batch images shape: (16, 128, 128, 3)\n",
      "Batch labels shape: (16, 1)\n"
     ]
    },
    {
     "name": "stderr",
     "output_type": "stream",
     "text": [
      "Processing Non-Demented:  26%|█████████████▉                                       | 840/3200 [00:01<00:05, 467.26it/s]"
     ]
    },
    {
     "name": "stdout",
     "output_type": "stream",
     "text": [
      "Batch images shape: (16, 128, 128, 3)\n",
      "Batch labels shape: (16, 1)\n",
      "Batch images shape: (16, 128, 128, 3)\n",
      "Batch labels shape: (16, 1)\n",
      "Batch images shape: (16, 128, 128, 3)\n",
      "Batch labels shape: (16, 1)\n",
      "Batch images shape: (16, 128, 128, 3)\n",
      "Batch labels shape: (16, 1)\n",
      "Batch images shape: (16, 128, 128, 3)\n",
      "Batch labels shape: (16, 1)\n",
      "Batch images shape: (16, 128, 128, 3)\n",
      "Batch labels shape: (16, 1)\n",
      "Batch images shape: (16, 128, 128, 3)\n",
      "Batch labels shape: (16, 1)\n"
     ]
    },
    {
     "name": "stderr",
     "output_type": "stream",
     "text": [
      "Processing Non-Demented:  30%|███████████████▋                                     | 950/3200 [00:02<00:04, 489.38it/s]"
     ]
    },
    {
     "name": "stdout",
     "output_type": "stream",
     "text": [
      "Batch images shape: (16, 128, 128, 3)\n",
      "Batch labels shape: (16, 1)\n",
      "Batch images shape: (16, 128, 128, 3)\n",
      "Batch labels shape: (16, 1)\n",
      "Batch images shape: (16, 128, 128, 3)\n",
      "Batch labels shape: (16, 1)\n",
      "Batch images shape: (16, 128, 128, 3)\n",
      "Batch labels shape: (16, 1)\n",
      "Batch images shape: (16, 128, 128, 3)\n",
      "Batch labels shape: (16, 1)\n",
      "Batch images shape: (16, 128, 128, 3)\n",
      "Batch labels shape: (16, 1)\n"
     ]
    },
    {
     "name": "stderr",
     "output_type": "stream",
     "text": [
      "Processing Non-Demented:  32%|████████████████▌                                   | 1023/3200 [00:02<00:04, 540.00it/s]"
     ]
    },
    {
     "name": "stdout",
     "output_type": "stream",
     "text": [
      "Batch images shape: (16, 128, 128, 3)\n",
      "Batch labels shape: (16, 1)\n",
      "Batch images shape: (16, 128, 128, 3)\n",
      "Batch labels shape: (16, 1)\n"
     ]
    },
    {
     "name": "stderr",
     "output_type": "stream",
     "text": [
      "Processing Non-Demented:  34%|█████████████████▋                                  | 1087/3200 [00:02<00:03, 566.10it/s]"
     ]
    },
    {
     "name": "stdout",
     "output_type": "stream",
     "text": [
      "Batch images shape: (16, 128, 128, 3)\n",
      "Batch labels shape: (16, 1)\n",
      "Batch images shape: (16, 128, 128, 3)\n",
      "Batch labels shape: (16, 1)\n",
      "Batch images shape: (16, 128, 128, 3)\n",
      "Batch labels shape: (16, 1)\n",
      "Batch images shape: (16, 128, 128, 3)\n",
      "Batch labels shape: (16, 1)\n",
      "Batch images shape: (16, 128, 128, 3)\n",
      "Batch labels shape: (16, 1)\n",
      "Batch images shape: (16, 128, 128, 3)\n",
      "Batch labels shape: (16, 1)\n",
      "Batch images shape: (16, 128, 128, 3)\n",
      "Batch labels shape: (16, 1)\n",
      "Batch images shape: (16, 128, 128, 3)\n",
      "Batch labels shape: (16, 1)\n"
     ]
    },
    {
     "name": "stderr",
     "output_type": "stream",
     "text": [
      "Processing Non-Demented:  38%|███████████████████▌                                | 1203/3200 [00:02<00:03, 543.65it/s]"
     ]
    },
    {
     "name": "stdout",
     "output_type": "stream",
     "text": [
      "Batch images shape: (16, 128, 128, 3)\n",
      "Batch labels shape: (16, 1)\n",
      "Batch images shape: (16, 128, 128, 3)\n",
      "Batch labels shape: (16, 1)\n",
      "Batch images shape: (16, 128, 128, 3)\n",
      "Batch labels shape: (16, 1)\n",
      "Batch images shape: (16, 128, 128, 3)\n",
      "Batch labels shape: (16, 1)\n",
      "Batch images shape: (16, 128, 128, 3)\n",
      "Batch labels shape: (16, 1)\n",
      "Batch images shape: (16, 128, 128, 3)\n",
      "Batch labels shape: (16, 1)\n"
     ]
    },
    {
     "name": "stderr",
     "output_type": "stream",
     "text": [
      "Processing Non-Demented:  41%|█████████████████████▎                              | 1313/3200 [00:02<00:03, 526.95it/s]"
     ]
    },
    {
     "name": "stdout",
     "output_type": "stream",
     "text": [
      "Batch images shape: (16, 128, 128, 3)\n",
      "Batch labels shape: (16, 1)\n",
      "Batch images shape: (16, 128, 128, 3)\n",
      "Batch labels shape: (16, 1)\n",
      "Batch images shape: (16, 128, 128, 3)\n",
      "Batch labels shape: (16, 1)\n",
      "Batch images shape: (16, 128, 128, 3)\n",
      "Batch labels shape: (16, 1)\n",
      "Batch images shape: (16, 128, 128, 3)\n",
      "Batch labels shape: (16, 1)\n",
      "Batch images shape: (16, 128, 128, 3)\n",
      "Batch labels shape: (16, 1)\n"
     ]
    },
    {
     "name": "stderr",
     "output_type": "stream",
     "text": [
      "Processing Non-Demented:  45%|███████████████████████▏                            | 1428/3200 [00:02<00:03, 531.08it/s]"
     ]
    },
    {
     "name": "stdout",
     "output_type": "stream",
     "text": [
      "Batch images shape: (16, 128, 128, 3)\n",
      "Batch labels shape: (16, 1)\n",
      "Batch images shape: (16, 128, 128, 3)\n",
      "Batch labels shape: (16, 1)\n",
      "Batch images shape: (16, 128, 128, 3)\n",
      "Batch labels shape: (16, 1)\n",
      "Batch images shape: (16, 128, 128, 3)\n",
      "Batch labels shape: (16, 1)\n",
      "Batch images shape: (16, 128, 128, 3)\n",
      "Batch labels shape: (16, 1)\n",
      "Batch images shape: (16, 128, 128, 3)\n",
      "Batch labels shape: (16, 1)\n",
      "Batch images shape: (16, 128, 128, 3)\n",
      "Batch labels shape: (16, 1)\n"
     ]
    },
    {
     "name": "stderr",
     "output_type": "stream",
     "text": [
      "Processing Non-Demented:  48%|████████████████████████▉                           | 1537/3200 [00:03<00:03, 535.22it/s]"
     ]
    },
    {
     "name": "stdout",
     "output_type": "stream",
     "text": [
      "Batch images shape: (16, 128, 128, 3)\n",
      "Batch labels shape: (16, 1)\n",
      "Batch images shape: (16, 128, 128, 3)\n",
      "Batch labels shape: (16, 1)\n",
      "Batch images shape: (16, 128, 128, 3)\n",
      "Batch labels shape: (16, 1)\n",
      "Batch images shape: (16, 128, 128, 3)\n",
      "Batch labels shape: (16, 1)\n",
      "Batch images shape: (16, 128, 128, 3)\n",
      "Batch labels shape: (16, 1)\n",
      "Batch images shape: (16, 128, 128, 3)\n",
      "Batch labels shape: (16, 1)\n",
      "Batch images shape: (16, 128, 128, 3)\n",
      "Batch labels shape: (16, 1)\n",
      "Batch images shape: (16, 128, 128, 3)\n",
      "Batch labels shape: (16, 1)\n"
     ]
    },
    {
     "name": "stderr",
     "output_type": "stream",
     "text": [
      "Processing Non-Demented:  51%|██████████████████████████▋                         | 1645/3200 [00:03<00:02, 530.69it/s]"
     ]
    },
    {
     "name": "stdout",
     "output_type": "stream",
     "text": [
      "Batch images shape: (16, 128, 128, 3)\n",
      "Batch labels shape: (16, 1)\n",
      "Batch images shape: (16, 128, 128, 3)\n",
      "Batch labels shape: (16, 1)\n",
      "Batch images shape: (16, 128, 128, 3)\n",
      "Batch labels shape: (16, 1)\n",
      "Batch images shape: (16, 128, 128, 3)\n",
      "Batch labels shape: (16, 1)\n",
      "Batch images shape: (16, 128, 128, 3)\n",
      "Batch labels shape: (16, 1)\n",
      "Batch images shape: (16, 128, 128, 3)\n",
      "Batch labels shape: (16, 1)\n",
      "Batch images shape: (16, 128, 128, 3)\n",
      "Batch labels shape: (16, 1)\n",
      "Batch images shape: (16, 128, 128, 3)\n",
      "Batch labels shape: (16, 1)\n"
     ]
    },
    {
     "name": "stderr",
     "output_type": "stream",
     "text": [
      "Processing Non-Demented:  58%|█████████████████████████████▉                      | 1843/3200 [00:03<00:02, 617.28it/s]"
     ]
    },
    {
     "name": "stdout",
     "output_type": "stream",
     "text": [
      "Batch images shape: (16, 128, 128, 3)\n",
      "Batch labels shape: (16, 1)\n",
      "Batch images shape: (16, 128, 128, 3)\n",
      "Batch labels shape: (16, 1)\n",
      "Batch images shape: (16, 128, 128, 3)\n",
      "Batch labels shape: (16, 1)\n",
      "Batch images shape: (16, 128, 128, 3)\n",
      "Batch labels shape: (16, 1)\n",
      "Batch images shape: (16, 128, 128, 3)\n",
      "Batch labels shape: (16, 1)\n",
      "Batch images shape: (16, 128, 128, 3)\n",
      "Batch labels shape: (16, 1)\n",
      "Batch images shape: (16, 128, 128, 3)\n",
      "Batch labels shape: (16, 1)\n",
      "Batch images shape: (16, 128, 128, 3)\n",
      "Batch labels shape: (16, 1)\n",
      "Batch images shape: (16, 128, 128, 3)\n",
      "Batch labels shape: (16, 1)\n"
     ]
    },
    {
     "name": "stderr",
     "output_type": "stream",
     "text": [
      "Processing Non-Demented:  60%|██████████████████████████████▉                     | 1905/3200 [00:03<00:02, 608.94it/s]"
     ]
    },
    {
     "name": "stdout",
     "output_type": "stream",
     "text": [
      "Batch images shape: (16, 128, 128, 3)\n",
      "Batch labels shape: (16, 1)\n",
      "Batch images shape: (16, 128, 128, 3)\n",
      "Batch labels shape: (16, 1)\n",
      "Batch images shape: (16, 128, 128, 3)\n",
      "Batch labels shape: (16, 1)\n",
      "Batch images shape: (16, 128, 128, 3)\n",
      "Batch labels shape: (16, 1)\n",
      "Batch images shape: (16, 128, 128, 3)\n",
      "Batch labels shape: (16, 1)\n",
      "Batch images shape: (16, 128, 128, 3)\n",
      "Batch labels shape: (16, 1)\n",
      "Batch images shape: (16, 128, 128, 3)\n",
      "Batch labels shape: (16, 1)\n"
     ]
    },
    {
     "name": "stderr",
     "output_type": "stream",
     "text": [
      "Processing Non-Demented:  63%|████████████████████████████████▉                   | 2027/3200 [00:03<00:02, 574.45it/s]"
     ]
    },
    {
     "name": "stdout",
     "output_type": "stream",
     "text": [
      "Batch images shape: (16, 128, 128, 3)\n",
      "Batch labels shape: (16, 1)\n",
      "Batch images shape: (16, 128, 128, 3)\n",
      "Batch labels shape: (16, 1)\n",
      "Batch images shape: (16, 128, 128, 3)\n",
      "Batch labels shape: (16, 1)\n",
      "Batch images shape: (16, 128, 128, 3)\n",
      "Batch labels shape: (16, 1)\n",
      "Batch images shape: (16, 128, 128, 3)\n",
      "Batch labels shape: (16, 1)\n",
      "Batch images shape: (16, 128, 128, 3)\n",
      "Batch labels shape: (16, 1)\n"
     ]
    },
    {
     "name": "stderr",
     "output_type": "stream",
     "text": [
      "Processing Non-Demented:  67%|██████████████████████████████████▊                 | 2144/3200 [00:04<00:01, 540.53it/s]"
     ]
    },
    {
     "name": "stdout",
     "output_type": "stream",
     "text": [
      "Batch images shape: (16, 128, 128, 3)\n",
      "Batch labels shape: (16, 1)\n",
      "Batch images shape: (16, 128, 128, 3)\n",
      "Batch labels shape: (16, 1)\n",
      "Batch images shape: (16, 128, 128, 3)\n",
      "Batch labels shape: (16, 1)\n",
      "Batch images shape: (16, 128, 128, 3)\n",
      "Batch labels shape: (16, 1)\n",
      "Batch images shape: (16, 128, 128, 3)\n",
      "Batch labels shape: (16, 1)\n",
      "Batch images shape: (16, 128, 128, 3)\n",
      "Batch labels shape: (16, 1)\n",
      "Batch images shape: (16, 128, 128, 3)\n",
      "Batch labels shape: (16, 1)\n"
     ]
    },
    {
     "name": "stderr",
     "output_type": "stream",
     "text": [
      "Processing Non-Demented:  71%|████████████████████████████████████▋               | 2258/3200 [00:04<00:01, 536.85it/s]"
     ]
    },
    {
     "name": "stdout",
     "output_type": "stream",
     "text": [
      "Batch images shape: (16, 128, 128, 3)\n",
      "Batch labels shape: (16, 1)\n",
      "Batch images shape: (16, 128, 128, 3)\n",
      "Batch labels shape: (16, 1)\n",
      "Batch images shape: (16, 128, 128, 3)\n",
      "Batch labels shape: (16, 1)\n",
      "Batch images shape: (16, 128, 128, 3)\n",
      "Batch labels shape: (16, 1)\n",
      "Batch images shape: (16, 128, 128, 3)\n",
      "Batch labels shape: (16, 1)\n",
      "Batch images shape: (16, 128, 128, 3)\n",
      "Batch labels shape: (16, 1)\n",
      "Batch images shape: (16, 128, 128, 3)\n",
      "Batch labels shape: (16, 1)\n"
     ]
    },
    {
     "name": "stderr",
     "output_type": "stream",
     "text": [
      "Processing Non-Demented:  74%|██████████████████████████████████████▍             | 2368/3200 [00:04<00:01, 541.27it/s]"
     ]
    },
    {
     "name": "stdout",
     "output_type": "stream",
     "text": [
      "Batch images shape: (16, 128, 128, 3)\n",
      "Batch labels shape: (16, 1)\n",
      "Batch images shape: (16, 128, 128, 3)\n",
      "Batch labels shape: (16, 1)\n",
      "Batch images shape: (16, 128, 128, 3)\n",
      "Batch labels shape: (16, 1)\n",
      "Batch images shape: (16, 128, 128, 3)\n",
      "Batch labels shape: (16, 1)\n",
      "Batch images shape: (16, 128, 128, 3)\n",
      "Batch labels shape: (16, 1)\n",
      "Batch images shape: (16, 128, 128, 3)\n",
      "Batch labels shape: (16, 1)\n",
      "Batch images shape: (16, 128, 128, 3)\n",
      "Batch labels shape: (16, 1)\n",
      "Batch images shape: (16, 128, 128, 3)\n",
      "Batch labels shape: (16, 1)\n"
     ]
    },
    {
     "name": "stderr",
     "output_type": "stream",
     "text": [
      "Processing Non-Demented:  78%|████████████████████████████████████████▍           | 2487/3200 [00:04<00:01, 550.53it/s]"
     ]
    },
    {
     "name": "stdout",
     "output_type": "stream",
     "text": [
      "Batch images shape: (16, 128, 128, 3)\n",
      "Batch labels shape: (16, 1)\n",
      "Batch images shape: (16, 128, 128, 3)\n",
      "Batch labels shape: (16, 1)\n",
      "Batch images shape: (16, 128, 128, 3)\n",
      "Batch labels shape: (16, 1)\n",
      "Batch images shape: (16, 128, 128, 3)\n",
      "Batch labels shape: (16, 1)\n",
      "Batch images shape: (16, 128, 128, 3)\n",
      "Batch labels shape: (16, 1)\n",
      "Batch images shape: (16, 128, 128, 3)\n",
      "Batch labels shape: (16, 1)\n",
      "Batch images shape: (16, 128, 128, 3)\n",
      "Batch labels shape: (16, 1)\n",
      "Batch images shape: (16, 128, 128, 3)\n",
      "Batch labels shape: (16, 1)\n"
     ]
    },
    {
     "name": "stderr",
     "output_type": "stream",
     "text": [
      "Processing Non-Demented:  81%|██████████████████████████████████████████▎         | 2606/3200 [00:04<00:01, 568.60it/s]"
     ]
    },
    {
     "name": "stdout",
     "output_type": "stream",
     "text": [
      "Batch images shape: (16, 128, 128, 3)\n",
      "Batch labels shape: (16, 1)\n",
      "Batch images shape: (16, 128, 128, 3)\n",
      "Batch labels shape: (16, 1)\n",
      "Batch images shape: (16, 128, 128, 3)\n",
      "Batch labels shape: (16, 1)\n",
      "Batch images shape: (16, 128, 128, 3)\n",
      "Batch labels shape: (16, 1)\n",
      "Batch images shape: (16, 128, 128, 3)\n",
      "Batch labels shape: (16, 1)\n",
      "Batch images shape: (16, 128, 128, 3)\n",
      "Batch labels shape: (16, 1)\n",
      "Batch images shape: (16, 128, 128, 3)\n",
      "Batch labels shape: (16, 1)\n",
      "Batch images shape: (16, 128, 128, 3)\n",
      "Batch labels shape: (16, 1)\n",
      "Batch images shape: (16, 128, 128, 3)\n",
      "Batch labels shape: (16, 1)\n"
     ]
    },
    {
     "name": "stderr",
     "output_type": "stream",
     "text": [
      "Processing Non-Demented:  86%|████████████████████████████████████████████▋       | 2752/3200 [00:05<00:00, 647.01it/s]"
     ]
    },
    {
     "name": "stdout",
     "output_type": "stream",
     "text": [
      "Batch images shape: (16, 128, 128, 3)\n",
      "Batch labels shape: (16, 1)\n",
      "Batch images shape: (16, 128, 128, 3)\n",
      "Batch labels shape: (16, 1)\n",
      "Batch images shape: (16, 128, 128, 3)\n",
      "Batch labels shape: (16, 1)\n",
      "Batch images shape: (16, 128, 128, 3)\n",
      "Batch labels shape: (16, 1)\n",
      "Batch images shape: (16, 128, 128, 3)\n",
      "Batch labels shape: (16, 1)\n",
      "Batch images shape: (16, 128, 128, 3)\n",
      "Batch labels shape: (16, 1)\n",
      "Batch images shape: (16, 128, 128, 3)\n",
      "Batch labels shape: (16, 1)\n",
      "Batch images shape: (16, 128, 128, 3)\n",
      "Batch labels shape: (16, 1)\n",
      "Batch images shape: (16, 128, 128, 3)\n",
      "Batch labels shape: (16, 1)\n"
     ]
    },
    {
     "name": "stderr",
     "output_type": "stream",
     "text": [
      "Processing Non-Demented:  90%|██████████████████████████████████████████████▉     | 2892/3200 [00:05<00:00, 603.59it/s]"
     ]
    },
    {
     "name": "stdout",
     "output_type": "stream",
     "text": [
      "Batch images shape: (16, 128, 128, 3)\n",
      "Batch labels shape: (16, 1)\n",
      "Batch images shape: (16, 128, 128, 3)\n",
      "Batch labels shape: (16, 1)\n",
      "Batch images shape: (16, 128, 128, 3)\n",
      "Batch labels shape: (16, 1)\n",
      "Batch images shape: (16, 128, 128, 3)\n",
      "Batch labels shape: (16, 1)\n",
      "Batch images shape: (16, 128, 128, 3)\n",
      "Batch labels shape: (16, 1)\n",
      "Batch images shape: (16, 128, 128, 3)\n",
      "Batch labels shape: (16, 1)\n",
      "Batch images shape: (16, 128, 128, 3)\n",
      "Batch labels shape: (16, 1)\n",
      "Batch images shape: (16, 128, 128, 3)\n",
      "Batch labels shape: (16, 1)\n"
     ]
    },
    {
     "name": "stderr",
     "output_type": "stream",
     "text": [
      "Processing Non-Demented:  97%|██████████████████████████████████████████████████▏ | 3089/3200 [00:05<00:00, 624.03it/s]"
     ]
    },
    {
     "name": "stdout",
     "output_type": "stream",
     "text": [
      "Batch images shape: (16, 128, 128, 3)\n",
      "Batch labels shape: (16, 1)\n",
      "Batch images shape: (16, 128, 128, 3)\n",
      "Batch labels shape: (16, 1)\n",
      "Batch images shape: (16, 128, 128, 3)\n",
      "Batch labels shape: (16, 1)\n",
      "Batch images shape: (16, 128, 128, 3)\n",
      "Batch labels shape: (16, 1)\n",
      "Batch images shape: (16, 128, 128, 3)\n",
      "Batch labels shape: (16, 1)\n",
      "Batch images shape: (16, 128, 128, 3)\n",
      "Batch labels shape: (16, 1)\n",
      "Batch images shape: (16, 128, 128, 3)\n",
      "Batch labels shape: (16, 1)\n",
      "Batch images shape: (16, 128, 128, 3)\n",
      "Batch labels shape: (16, 1)\n",
      "Batch images shape: (16, 128, 128, 3)\n",
      "Batch labels shape: (16, 1)\n"
     ]
    },
    {
     "name": "stderr",
     "output_type": "stream",
     "text": [
      "Processing Non-Demented:  98%|███████████████████████████████████████████████████▏| 3152/3200 [00:05<00:00, 571.45it/s]"
     ]
    },
    {
     "name": "stdout",
     "output_type": "stream",
     "text": [
      "Batch images shape: (16, 128, 128, 3)\n",
      "Batch labels shape: (16, 1)\n",
      "Batch images shape: (16, 128, 128, 3)\n",
      "Batch labels shape: (16, 1)\n",
      "Batch images shape: (16, 128, 128, 3)\n",
      "Batch labels shape: (16, 1)\n",
      "Batch images shape: (16, 128, 128, 3)\n",
      "Batch labels shape: (16, 1)\n",
      "Batch images shape: (16, 128, 128, 3)\n",
      "Batch labels shape: (16, 1)\n",
      "Batch images shape: (16, 128, 128, 3)\n",
      "Batch labels shape: (16, 1)\n",
      "Batch images shape: (16, 128, 128, 3)\n",
      "Batch labels shape: (16, 1)\n"
     ]
    },
    {
     "name": "stderr",
     "output_type": "stream",
     "text": [
      "Processing Non-Demented: 100%|████████████████████████████████████████████████████| 3200/3200 [00:05<00:00, 538.11it/s]\n",
      "Processing VeryMild-Demented:   5%|██▏                                             | 103/2240 [00:00<00:04, 456.82it/s]"
     ]
    },
    {
     "name": "stdout",
     "output_type": "stream",
     "text": [
      "Batch images shape: (16, 128, 128, 3)\n",
      "Batch labels shape: (16, 1)\n",
      "Batch images shape: (16, 128, 128, 3)\n",
      "Batch labels shape: (16, 1)\n",
      "Batch images shape: (16, 128, 128, 3)\n",
      "Batch labels shape: (16, 1)\n",
      "Batch images shape: (16, 128, 128, 3)\n",
      "Batch labels shape: (16, 1)\n",
      "Batch images shape: (16, 128, 128, 3)\n",
      "Batch labels shape: (16, 1)\n",
      "Batch images shape: (16, 128, 128, 3)\n",
      "Batch labels shape: (16, 1)\n"
     ]
    },
    {
     "name": "stderr",
     "output_type": "stream",
     "text": [
      "Processing VeryMild-Demented:  11%|█████                                           | 239/2240 [00:00<00:03, 599.38it/s]"
     ]
    },
    {
     "name": "stdout",
     "output_type": "stream",
     "text": [
      "Batch images shape: (16, 128, 128, 3)\n",
      "Batch labels shape: (16, 1)\n",
      "Batch images shape: (16, 128, 128, 3)\n",
      "Batch labels shape: (16, 1)\n",
      "Batch images shape: (16, 128, 128, 3)\n",
      "Batch labels shape: (16, 1)\n",
      "Batch images shape: (16, 128, 128, 3)\n",
      "Batch labels shape: (16, 1)\n",
      "Batch images shape: (16, 128, 128, 3)\n",
      "Batch labels shape: (16, 1)\n",
      "Batch images shape: (16, 128, 128, 3)\n",
      "Batch labels shape: (16, 1)\n",
      "Batch images shape: (16, 128, 128, 3)\n",
      "Batch labels shape: (16, 1)\n",
      "Batch images shape: (16, 128, 128, 3)\n",
      "Batch labels shape: (16, 1)\n",
      "Batch images shape: (16, 128, 128, 3)\n",
      "Batch labels shape: (16, 1)\n",
      "Batch images shape: (16, 128, 128, 3)\n",
      "Batch labels shape: (16, 1)\n"
     ]
    },
    {
     "name": "stderr",
     "output_type": "stream",
     "text": [
      "Processing VeryMild-Demented:  17%|████████▍                                       | 391/2240 [00:00<00:02, 652.07it/s]"
     ]
    },
    {
     "name": "stdout",
     "output_type": "stream",
     "text": [
      "Batch images shape: (16, 128, 128, 3)\n",
      "Batch labels shape: (16, 1)\n",
      "Batch images shape: (16, 128, 128, 3)\n",
      "Batch labels shape: (16, 1)\n",
      "Batch images shape: (16, 128, 128, 3)\n",
      "Batch labels shape: (16, 1)\n",
      "Batch images shape: (16, 128, 128, 3)\n",
      "Batch labels shape: (16, 1)\n",
      "Batch images shape: (16, 128, 128, 3)\n",
      "Batch labels shape: (16, 1)\n",
      "Batch images shape: (16, 128, 128, 3)\n",
      "Batch labels shape: (16, 1)\n",
      "Batch images shape: (16, 128, 128, 3)\n",
      "Batch labels shape: (16, 1)\n",
      "Batch images shape: (16, 128, 128, 3)\n",
      "Batch labels shape: (16, 1)\n",
      "Batch images shape: (16, 128, 128, 3)\n",
      "Batch labels shape: (16, 1)\n",
      "Batch images shape: (16, 128, 128, 3)\n",
      "Batch labels shape: (16, 1)\n"
     ]
    },
    {
     "name": "stderr",
     "output_type": "stream",
     "text": [
      "Processing VeryMild-Demented:  24%|███████████▌                                    | 541/2240 [00:00<00:02, 679.04it/s]"
     ]
    },
    {
     "name": "stdout",
     "output_type": "stream",
     "text": [
      "Batch images shape: (16, 128, 128, 3)\n",
      "Batch labels shape: (16, 1)\n",
      "Batch images shape: (16, 128, 128, 3)\n",
      "Batch labels shape: (16, 1)\n",
      "Batch images shape: (16, 128, 128, 3)\n",
      "Batch labels shape: (16, 1)\n",
      "Batch images shape: (16, 128, 128, 3)\n",
      "Batch labels shape: (16, 1)\n",
      "Batch images shape: (16, 128, 128, 3)\n",
      "Batch labels shape: (16, 1)\n",
      "Batch images shape: (16, 128, 128, 3)\n",
      "Batch labels shape: (16, 1)\n",
      "Batch images shape: (16, 128, 128, 3)\n",
      "Batch labels shape: (16, 1)\n",
      "Batch images shape: (16, 128, 128, 3)\n",
      "Batch labels shape: (16, 1)\n",
      "Batch images shape: (16, 128, 128, 3)\n",
      "Batch labels shape: (16, 1)\n"
     ]
    },
    {
     "name": "stderr",
     "output_type": "stream",
     "text": [
      "Processing VeryMild-Demented:  27%|█████████████▏                                  | 613/2240 [00:00<00:02, 665.47it/s]"
     ]
    },
    {
     "name": "stdout",
     "output_type": "stream",
     "text": [
      "Batch images shape: (16, 128, 128, 3)\n",
      "Batch labels shape: (16, 1)\n",
      "Batch images shape: (16, 128, 128, 3)\n",
      "Batch labels shape: (16, 1)\n",
      "Batch images shape: (16, 128, 128, 3)\n",
      "Batch labels shape: (16, 1)\n",
      "Batch images shape: (16, 128, 128, 3)\n",
      "Batch labels shape: (16, 1)\n",
      "Batch images shape: (16, 128, 128, 3)\n",
      "Batch labels shape: (16, 1)\n",
      "Batch images shape: (16, 128, 128, 3)\n",
      "Batch labels shape: (16, 1)\n",
      "Batch images shape: (16, 128, 128, 3)\n",
      "Batch labels shape: (16, 1)\n"
     ]
    },
    {
     "name": "stderr",
     "output_type": "stream",
     "text": [
      "Processing VeryMild-Demented:  36%|█████████████████▍                              | 812/2240 [00:01<00:02, 639.47it/s]"
     ]
    },
    {
     "name": "stdout",
     "output_type": "stream",
     "text": [
      "Batch images shape: (16, 128, 128, 3)\n",
      "Batch labels shape: (16, 1)\n",
      "Batch images shape: (16, 128, 128, 3)\n",
      "Batch labels shape: (16, 1)\n",
      "Batch images shape: (16, 128, 128, 3)\n",
      "Batch labels shape: (16, 1)\n",
      "Batch images shape: (16, 128, 128, 3)\n",
      "Batch labels shape: (16, 1)\n",
      "Batch images shape: (16, 128, 128, 3)\n",
      "Batch labels shape: (16, 1)\n",
      "Batch images shape: (16, 128, 128, 3)\n",
      "Batch labels shape: (16, 1)\n",
      "Batch images shape: (16, 128, 128, 3)\n",
      "Batch labels shape: (16, 1)\n",
      "Batch images shape: (16, 128, 128, 3)\n",
      "Batch labels shape: (16, 1)\n"
     ]
    },
    {
     "name": "stderr",
     "output_type": "stream",
     "text": [
      "Processing VeryMild-Demented:  39%|██████████████████▊                             | 879/2240 [00:01<00:02, 648.27it/s]"
     ]
    },
    {
     "name": "stdout",
     "output_type": "stream",
     "text": [
      "Batch images shape: (16, 128, 128, 3)\n",
      "Batch labels shape: (16, 1)\n",
      "Batch images shape: (16, 128, 128, 3)\n",
      "Batch labels shape: (16, 1)\n",
      "Batch images shape: (16, 128, 128, 3)\n",
      "Batch labels shape: (16, 1)\n",
      "Batch images shape: (16, 128, 128, 3)\n",
      "Batch labels shape: (16, 1)\n",
      "Batch images shape: (16, 128, 128, 3)\n",
      "Batch labels shape: (16, 1)\n",
      "Batch images shape: (16, 128, 128, 3)\n",
      "Batch labels shape: (16, 1)\n",
      "Batch images shape: (16, 128, 128, 3)\n",
      "Batch labels shape: (16, 1)\n",
      "Batch images shape: (16, 128, 128, 3)\n",
      "Batch labels shape: (16, 1)\n"
     ]
    },
    {
     "name": "stderr",
     "output_type": "stream",
     "text": [
      "Processing VeryMild-Demented:  45%|█████████████████████▏                         | 1011/2240 [00:01<00:01, 641.93it/s]"
     ]
    },
    {
     "name": "stdout",
     "output_type": "stream",
     "text": [
      "Batch images shape: (16, 128, 128, 3)\n",
      "Batch labels shape: (16, 1)\n",
      "Batch images shape: (16, 128, 128, 3)\n",
      "Batch labels shape: (16, 1)\n",
      "Batch images shape: (16, 128, 128, 3)\n",
      "Batch labels shape: (16, 1)\n",
      "Batch images shape: (16, 128, 128, 3)\n",
      "Batch labels shape: (16, 1)\n",
      "Batch images shape: (16, 128, 128, 3)\n",
      "Batch labels shape: (16, 1)\n",
      "Batch images shape: (16, 128, 128, 3)\n",
      "Batch labels shape: (16, 1)\n",
      "Batch images shape: (16, 128, 128, 3)\n",
      "Batch labels shape: (16, 1)\n",
      "Batch images shape: (16, 128, 128, 3)\n",
      "Batch labels shape: (16, 1)\n"
     ]
    },
    {
     "name": "stderr",
     "output_type": "stream",
     "text": [
      "Processing VeryMild-Demented:  51%|███████████████████████▉                       | 1138/2240 [00:01<00:01, 565.40it/s]"
     ]
    },
    {
     "name": "stdout",
     "output_type": "stream",
     "text": [
      "Batch images shape: (16, 128, 128, 3)\n",
      "Batch labels shape: (16, 1)\n",
      "Batch images shape: (16, 128, 128, 3)\n",
      "Batch labels shape: (16, 1)\n",
      "Batch images shape: (16, 128, 128, 3)\n",
      "Batch labels shape: (16, 1)\n",
      "Batch images shape: (16, 128, 128, 3)\n",
      "Batch labels shape: (16, 1)\n",
      "Batch images shape: (16, 128, 128, 3)\n",
      "Batch labels shape: (16, 1)\n",
      "Batch images shape: (16, 128, 128, 3)\n",
      "Batch labels shape: (16, 1)\n",
      "Batch images shape: (16, 128, 128, 3)\n",
      "Batch labels shape: (16, 1)\n"
     ]
    },
    {
     "name": "stderr",
     "output_type": "stream",
     "text": [
      "Processing VeryMild-Demented:  56%|██████████████████████████▎                    | 1253/2240 [00:02<00:01, 541.25it/s]"
     ]
    },
    {
     "name": "stdout",
     "output_type": "stream",
     "text": [
      "Batch images shape: (16, 128, 128, 3)\n",
      "Batch labels shape: (16, 1)\n",
      "Batch images shape: (16, 128, 128, 3)\n",
      "Batch labels shape: (16, 1)\n",
      "Batch images shape: (16, 128, 128, 3)\n",
      "Batch labels shape: (16, 1)\n",
      "Batch images shape: (16, 128, 128, 3)\n",
      "Batch labels shape: (16, 1)\n",
      "Batch images shape: (16, 128, 128, 3)\n",
      "Batch labels shape: (16, 1)\n",
      "Batch images shape: (16, 128, 128, 3)\n",
      "Batch labels shape: (16, 1)\n",
      "Batch images shape: (16, 128, 128, 3)\n",
      "Batch labels shape: (16, 1)\n"
     ]
    },
    {
     "name": "stderr",
     "output_type": "stream",
     "text": [
      "Processing VeryMild-Demented:  61%|████████████████████████████▊                  | 1374/2240 [00:02<00:01, 533.86it/s]"
     ]
    },
    {
     "name": "stdout",
     "output_type": "stream",
     "text": [
      "Batch images shape: (16, 128, 128, 3)\n",
      "Batch labels shape: (16, 1)\n",
      "Batch images shape: (16, 128, 128, 3)\n",
      "Batch labels shape: (16, 1)\n",
      "Batch images shape: (16, 128, 128, 3)\n",
      "Batch labels shape: (16, 1)\n",
      "Batch images shape: (16, 128, 128, 3)\n",
      "Batch labels shape: (16, 1)\n",
      "Batch images shape: (16, 128, 128, 3)\n",
      "Batch labels shape: (16, 1)\n",
      "Batch images shape: (16, 128, 128, 3)\n",
      "Batch labels shape: (16, 1)\n",
      "Batch images shape: (16, 128, 128, 3)\n",
      "Batch labels shape: (16, 1)\n"
     ]
    },
    {
     "name": "stderr",
     "output_type": "stream",
     "text": [
      "Processing VeryMild-Demented:  68%|███████████████████████████████▊               | 1514/2240 [00:02<00:01, 612.63it/s]"
     ]
    },
    {
     "name": "stdout",
     "output_type": "stream",
     "text": [
      "Batch images shape: (16, 128, 128, 3)\n",
      "Batch labels shape: (16, 1)\n",
      "Batch images shape: (16, 128, 128, 3)\n",
      "Batch labels shape: (16, 1)\n",
      "Batch images shape: (16, 128, 128, 3)\n",
      "Batch labels shape: (16, 1)\n",
      "Batch images shape: (16, 128, 128, 3)\n",
      "Batch labels shape: (16, 1)\n",
      "Batch images shape: (16, 128, 128, 3)\n",
      "Batch labels shape: (16, 1)\n",
      "Batch images shape: (16, 128, 128, 3)\n",
      "Batch labels shape: (16, 1)\n",
      "Batch images shape: (16, 128, 128, 3)\n",
      "Batch labels shape: (16, 1)\n",
      "Batch images shape: (16, 128, 128, 3)\n",
      "Batch labels shape: (16, 1)\n",
      "Batch images shape: (16, 128, 128, 3)\n",
      "Batch labels shape: (16, 1)\n",
      "Batch images shape: (16, 128, 128, 3)\n",
      "Batch labels shape: (16, 1)\n"
     ]
    },
    {
     "name": "stderr",
     "output_type": "stream",
     "text": [
      "Processing VeryMild-Demented:  74%|██████████████████████████████████▋            | 1656/2240 [00:02<00:00, 654.14it/s]"
     ]
    },
    {
     "name": "stdout",
     "output_type": "stream",
     "text": [
      "Batch images shape: (16, 128, 128, 3)\n",
      "Batch labels shape: (16, 1)\n",
      "Batch images shape: (16, 128, 128, 3)\n",
      "Batch labels shape: (16, 1)\n",
      "Batch images shape: (16, 128, 128, 3)\n",
      "Batch labels shape: (16, 1)\n",
      "Batch images shape: (16, 128, 128, 3)\n",
      "Batch labels shape: (16, 1)\n",
      "Batch images shape: (16, 128, 128, 3)\n",
      "Batch labels shape: (16, 1)\n",
      "Batch images shape: (16, 128, 128, 3)\n",
      "Batch labels shape: (16, 1)\n",
      "Batch images shape: (16, 128, 128, 3)\n",
      "Batch labels shape: (16, 1)\n",
      "Batch images shape: (16, 128, 128, 3)\n",
      "Batch labels shape: (16, 1)\n",
      "Batch images shape: (16, 128, 128, 3)\n",
      "Batch labels shape: (16, 1)\n"
     ]
    },
    {
     "name": "stderr",
     "output_type": "stream",
     "text": [
      "Processing VeryMild-Demented:  80%|█████████████████████████████████████▌         | 1793/2240 [00:02<00:00, 666.13it/s]"
     ]
    },
    {
     "name": "stdout",
     "output_type": "stream",
     "text": [
      "Batch images shape: (16, 128, 128, 3)\n",
      "Batch labels shape: (16, 1)\n",
      "Batch images shape: (16, 128, 128, 3)\n",
      "Batch labels shape: (16, 1)\n",
      "Batch images shape: (16, 128, 128, 3)\n",
      "Batch labels shape: (16, 1)\n",
      "Batch images shape: (16, 128, 128, 3)\n",
      "Batch labels shape: (16, 1)\n",
      "Batch images shape: (16, 128, 128, 3)\n",
      "Batch labels shape: (16, 1)\n",
      "Batch images shape: (16, 128, 128, 3)\n",
      "Batch labels shape: (16, 1)\n",
      "Batch images shape: (16, 128, 128, 3)\n",
      "Batch labels shape: (16, 1)\n",
      "Batch images shape: (16, 128, 128, 3)\n",
      "Batch labels shape: (16, 1)\n",
      "Batch images shape: (16, 128, 128, 3)\n",
      "Batch labels shape: (16, 1)\n"
     ]
    },
    {
     "name": "stderr",
     "output_type": "stream",
     "text": [
      "Processing VeryMild-Demented:  86%|████████████████████████████████████████▍      | 1927/2240 [00:03<00:00, 659.24it/s]"
     ]
    },
    {
     "name": "stdout",
     "output_type": "stream",
     "text": [
      "Batch images shape: (16, 128, 128, 3)\n",
      "Batch labels shape: (16, 1)\n",
      "Batch images shape: (16, 128, 128, 3)\n",
      "Batch labels shape: (16, 1)\n",
      "Batch images shape: (16, 128, 128, 3)\n",
      "Batch labels shape: (16, 1)\n",
      "Batch images shape: (16, 128, 128, 3)\n",
      "Batch labels shape: (16, 1)\n",
      "Batch images shape: (16, 128, 128, 3)\n",
      "Batch labels shape: (16, 1)\n",
      "Batch images shape: (16, 128, 128, 3)\n",
      "Batch labels shape: (16, 1)\n",
      "Batch images shape: (16, 128, 128, 3)\n",
      "Batch labels shape: (16, 1)\n",
      "Batch images shape: (16, 128, 128, 3)\n",
      "Batch labels shape: (16, 1)\n"
     ]
    },
    {
     "name": "stderr",
     "output_type": "stream",
     "text": [
      "Processing VeryMild-Demented:  92%|███████████████████████████████████████████▍   | 2072/2240 [00:03<00:00, 657.55it/s]"
     ]
    },
    {
     "name": "stdout",
     "output_type": "stream",
     "text": [
      "Batch images shape: (16, 128, 128, 3)\n",
      "Batch labels shape: (16, 1)\n",
      "Batch images shape: (16, 128, 128, 3)\n",
      "Batch labels shape: (16, 1)\n",
      "Batch images shape: (16, 128, 128, 3)\n",
      "Batch labels shape: (16, 1)\n",
      "Batch images shape: (16, 128, 128, 3)\n",
      "Batch labels shape: (16, 1)\n",
      "Batch images shape: (16, 128, 128, 3)\n",
      "Batch labels shape: (16, 1)\n",
      "Batch images shape: (16, 128, 128, 3)\n",
      "Batch labels shape: (16, 1)\n",
      "Batch images shape: (16, 128, 128, 3)\n",
      "Batch labels shape: (16, 1)\n",
      "Batch images shape: (16, 128, 128, 3)\n",
      "Batch labels shape: (16, 1)\n",
      "Batch images shape: (16, 128, 128, 3)\n",
      "Batch labels shape: (16, 1)\n"
     ]
    },
    {
     "name": "stderr",
     "output_type": "stream",
     "text": [
      "Processing VeryMild-Demented: 100%|███████████████████████████████████████████████| 2240/2240 [00:03<00:00, 622.96it/s]"
     ]
    },
    {
     "name": "stdout",
     "output_type": "stream",
     "text": [
      "Batch images shape: (16, 128, 128, 3)\n",
      "Batch labels shape: (16, 1)\n",
      "Batch images shape: (16, 128, 128, 3)\n",
      "Batch labels shape: (16, 1)\n",
      "Batch images shape: (16, 128, 128, 3)\n",
      "Batch labels shape: (16, 1)\n",
      "Batch images shape: (16, 128, 128, 3)\n",
      "Batch labels shape: (16, 1)\n",
      "Batch images shape: (16, 128, 128, 3)\n",
      "Batch labels shape: (16, 1)\n",
      "Batch images shape: (16, 128, 128, 3)\n",
      "Batch labels shape: (16, 1)\n",
      "Batch images shape: (16, 128, 128, 3)\n",
      "Batch labels shape: (16, 1)\n",
      "Batch images shape: (16, 128, 128, 3)\n",
      "Batch labels shape: (16, 1)\n"
     ]
    },
    {
     "name": "stderr",
     "output_type": "stream",
     "text": [
      "\n"
     ]
    }
   ],
   "source": [
    "import os\n",
    "import numpy as np\n",
    "import cv2\n",
    "from sklearn.preprocessing import LabelBinarizer\n",
    "from tqdm import tqdm\n",
    "\n",
    "# Set directories\n",
    "base_dir = \"C:\\\\Users\\\\HP\\\\Downloads\\\\Dataset_Alzheimer\"\n",
    "class_dirs = {\n",
    "    \"Mild-Demented\": os.path.join(base_dir, \"Mild_Demented\"),\n",
    "    \"Moderate-Demented\": os.path.join(base_dir, \"Moderate_Demented\"),\n",
    "    \"Non-Demented\": os.path.join(base_dir, \"Non_Demented\"),\n",
    "    \"VeryMild-Demented\": os.path.join(base_dir, \"Very_Mild_Demented\")\n",
    "}\n",
    "\n",
    "# Define preprocessing parameters\n",
    "target_size = (128, 128)  # Standardized for better model performance\n",
    "batch_size = 16  # Matches typical model input batch size\n",
    "\n",
    "# Initialize LabelBinarizer\n",
    "lb = LabelBinarizer()\n",
    "lb.fit([\"Demented\", \"Non-Demented\"])  # Fit only once globally\n",
    "\n",
    "# Generator function to yield batches\n",
    "def image_generator():\n",
    "    images = []\n",
    "    labels = []\n",
    "    valid_extensions = (\".jpg\", \".png\", \".jpeg\")\n",
    "\n",
    "    for class_name, class_dir in class_dirs.items():\n",
    "        for img_file in tqdm(os.listdir(class_dir), desc=f'Processing {class_name}'):\n",
    "            if not img_file.lower().endswith(valid_extensions):\n",
    "                continue  # Skip non-image files\n",
    "            \n",
    "            img_path = os.path.join(class_dir, img_file)\n",
    "            img = cv2.imread(img_path)\n",
    "\n",
    "            # Resize using bicubic interpolation\n",
    "            img_resized = cv2.resize(img, target_size, interpolation=cv2.INTER_CUBIC)\n",
    "\n",
    "            # Convert to grayscale for CLAHE\n",
    "            img_gray = cv2.cvtColor(img_resized, cv2.COLOR_BGR2GRAY)\n",
    "            clahe = cv2.createCLAHE(clipLimit=2.0, tileGridSize=(8, 8))\n",
    "            img_clahe = clahe.apply(img_gray)\n",
    "\n",
    "            # Normalize using min-max scaling (safer than mean-std)\n",
    "            img_normalized = cv2.normalize(img_clahe, None, 0, 255, cv2.NORM_MINMAX)\n",
    "\n",
    "            # Convert back to 3-channel format for CNN models\n",
    "            img_final = cv2.cvtColor(img_normalized.astype(np.uint8), cv2.COLOR_GRAY2BGR)\n",
    "\n",
    "            # Assign labels\n",
    "            label = \"Demented\" if class_name in [\"Mild-Demented\", \"Moderate-Demented\", \"VeryMild-Demented\"] else \"Non-Demented\"\n",
    "\n",
    "            images.append(img_final)\n",
    "            labels.append(label)\n",
    "\n",
    "            # Yield batch\n",
    "            if len(images) == batch_size:\n",
    "                yield np.array(images), lb.transform(labels)\n",
    "                images, labels = [], []  # Reset for next batch\n",
    "\n",
    "    # Yield remaining images if any\n",
    "    if images:\n",
    "        yield np.array(images), lb.transform(labels)\n",
    "\n",
    "# Example usage\n",
    "for batch_images, batch_labels in image_generator():\n",
    "    print(f\"Batch images shape: {batch_images.shape}\")\n",
    "    print(f\"Batch labels shape: {batch_labels.shape}\")\n"
   ]
  },
  {
   "cell_type": "code",
   "execution_count": 2,
   "id": "cfd58ee2-aad9-48e6-8de5-dc10ca481dca",
   "metadata": {},
   "outputs": [
    {
     "name": "stderr",
     "output_type": "stream",
     "text": [
      "Copying to C:\\Users\\HP\\Downloads\\Alzheimer_Classification_cnnlstmaug\\train\\Demented: 100%|█| 2560/2560 [00:06<00:00, 39\n",
      "Copying to C:\\Users\\HP\\Downloads\\Alzheimer_Classification_cnnlstmaug\\test\\Demented: 100%|█| 640/640 [00:01<00:00, 416.9\n",
      "Copying to C:\\Users\\HP\\Downloads\\Alzheimer_Classification_cnnlstmaug\\train\\Non-Demented: 100%|█| 2560/2560 [00:06<00:00\n",
      "Copying to C:\\Users\\HP\\Downloads\\Alzheimer_Classification_cnnlstmaug\\test\\Non-Demented: 100%|█| 640/640 [00:01<00:00, 4\n",
      "Loading 1 images: 100%|██████████████████████████████████████████████████████████| 2560/2560 [00:02<00:00, 1098.95it/s]\n",
      "Loading 0 images: 100%|██████████████████████████████████████████████████████████| 2560/2560 [00:01<00:00, 1293.87it/s]\n",
      "Loading 1 images: 100%|████████████████████████████████████████████████████████████| 640/640 [00:00<00:00, 1283.00it/s]\n",
      "Loading 0 images: 100%|████████████████████████████████████████████████████████████| 640/640 [00:00<00:00, 1289.11it/s]\n"
     ]
    },
    {
     "name": "stdout",
     "output_type": "stream",
     "text": [
      "Training - Demented: 2560, Non-Demented: 2560\n",
      "Testing - Demented: 640, Non-Demented: 640\n",
      "Dataset successfully organized, split, and loaded!\n"
     ]
    }
   ],
   "source": [
    "import os\n",
    "import shutil\n",
    "import random\n",
    "import numpy as np\n",
    "from tqdm import tqdm\n",
    "from PIL import Image\n",
    "\n",
    "# Define source directory paths\n",
    "source_dirs = {\n",
    "    \"Demented\": [\n",
    "        \"C:\\\\Users\\\\HP\\\\Downloads\\\\Dataset\\\\Mild_Demented\",\n",
    "        \"C:\\\\Users\\\\HP\\\\Downloads\\\\Dataset\\\\Moderate_Demented\",\n",
    "        \"C:\\\\Users\\\\HP\\\\Downloads\\\\Dataset\\\\Very_Mild_Demented\"\n",
    "    ],\n",
    "    \"Non-Demented\": [\"C:\\\\Users\\\\HP\\\\Downloads\\\\Dataset\\\\Non_Demented\"]\n",
    "}\n",
    "\n",
    "# Define target directories\n",
    "new_base_dir = \"C:\\\\Users\\\\HP\\\\Downloads\\\\Alzheimer_Classification_cnnlstmaug\"\n",
    "train_dir = os.path.join(new_base_dir, \"train\")\n",
    "test_dir = os.path.join(new_base_dir, \"test\")\n",
    "train_demented_dir = os.path.join(train_dir, \"Demented\")\n",
    "train_nondemented_dir = os.path.join(train_dir, \"Non-Demented\")\n",
    "test_demented_dir = os.path.join(test_dir, \"Demented\")\n",
    "test_nondemented_dir = os.path.join(test_dir, \"Non-Demented\")\n",
    "\n",
    "# Create directories if they don't exist\n",
    "for dir_path in [train_demented_dir, train_nondemented_dir, test_demented_dir, test_nondemented_dir]:\n",
    "    os.makedirs(dir_path, exist_ok=True)\n",
    "\n",
    "# Function to shuffle and split data\n",
    "def shuffle_and_split_data(source_dirs, train_dir, test_dir, split_ratio=0.8):\n",
    "    all_images = []\n",
    "    valid_extensions = (\".jpg\", \".png\", \".jpeg\")\n",
    "\n",
    "    for source_dir in source_dirs:\n",
    "        for sub_dir in (source_dir if isinstance(source_dir, list) else [source_dir]):\n",
    "            for img_file in os.listdir(sub_dir):\n",
    "                if img_file.lower().endswith(valid_extensions):\n",
    "                    all_images.append(os.path.join(sub_dir, img_file))\n",
    "\n",
    "    # Shuffle images\n",
    "    random.shuffle(all_images)\n",
    "\n",
    "    # Split data\n",
    "    split_point = int(len(all_images) * split_ratio)\n",
    "    train_images, test_images = all_images[:split_point], all_images[split_point:]\n",
    "\n",
    "    # Copy images\n",
    "    for img_path in tqdm(train_images, desc=f'Copying to {train_dir}'):\n",
    "        shutil.copy(img_path, train_dir)\n",
    "    \n",
    "    for img_path in tqdm(test_images, desc=f'Copying to {test_dir}'):\n",
    "        shutil.copy(img_path, test_dir)\n",
    "    \n",
    "    return train_images, test_images\n",
    "\n",
    "# Split and copy data\n",
    "train_demented, test_demented = shuffle_and_split_data(source_dirs[\"Demented\"], train_demented_dir, test_demented_dir)\n",
    "train_nondemented, test_nondemented = shuffle_and_split_data(source_dirs[\"Non-Demented\"], train_nondemented_dir, test_nondemented_dir)\n",
    "\n",
    "# Prepare X and y\n",
    "def load_images(image_paths, label):\n",
    "    images = []\n",
    "    labels = []\n",
    "    for img_path in tqdm(image_paths, desc=f'Loading {label} images'):\n",
    "        try:\n",
    "            img = Image.open(img_path).convert(\"RGB\").resize((128, 128))  # Resize to 128x128\n",
    "            images.append(np.array(img))\n",
    "            labels.append(label)\n",
    "        except Exception as e:\n",
    "            print(f\"Error loading {img_path}: {e}\")\n",
    "    return np.array(images), np.array(labels)\n",
    "\n",
    "# Load training and testing data\n",
    "X_train_demented, y_train_demented = load_images(train_demented, label=1)\n",
    "X_train_nondemented, y_train_nondemented = load_images(train_nondemented, label=0)\n",
    "X_test_demented, y_test_demented = load_images(test_demented, label=1)\n",
    "X_test_nondemented, y_test_nondemented = load_images(test_nondemented, label=0)\n",
    "\n",
    "# Combine training data\n",
    "X_train = np.concatenate([X_train_demented, X_train_nondemented], axis=0)\n",
    "y_train = np.concatenate([y_train_demented, y_train_nondemented], axis=0)\n",
    "\n",
    "# Combine testing data\n",
    "X_test = np.concatenate([X_test_demented, X_test_nondemented], axis=0)\n",
    "y_test = np.concatenate([y_test_demented, y_test_nondemented], axis=0)\n",
    "\n",
    "# Shuffle data\n",
    "indices_train = np.arange(len(X_train))\n",
    "indices_test = np.arange(len(X_test))\n",
    "np.random.shuffle(indices_train)\n",
    "np.random.shuffle(indices_test)\n",
    "\n",
    "X_train, y_train = X_train[indices_train], y_train[indices_train]\n",
    "X_test, y_test = X_test[indices_test], y_test[indices_test]\n",
    "\n",
    "# Normalize images (convert pixel values to [0,1])\n",
    "X_train = X_train.astype(\"float32\") / 255.0\n",
    "X_test = X_test.astype(\"float32\") / 255.0\n",
    "\n",
    "# Print dataset summary\n",
    "print(f\"Training - Demented: {len(y_train_demented)}, Non-Demented: {len(y_train_nondemented)}\")\n",
    "print(f\"Testing - Demented: {len(y_test_demented)}, Non-Demented: {len(y_test_nondemented)}\")\n",
    "print(\"Dataset successfully organized, split, and loaded!\")\n"
   ]
  },
  {
   "cell_type": "code",
   "execution_count": 3,
   "id": "4d857109-6e71-43c8-a791-b5a0da2e0471",
   "metadata": {},
   "outputs": [
    {
     "data": {
      "text/html": [
       "<pre style=\"white-space:pre;overflow-x:auto;line-height:normal;font-family:Menlo,'DejaVu Sans Mono',consolas,'Courier New',monospace\"><span style=\"font-weight: bold\">Model: \"sequential\"</span>\n",
       "</pre>\n"
      ],
      "text/plain": [
       "\u001b[1mModel: \"sequential\"\u001b[0m\n"
      ]
     },
     "metadata": {},
     "output_type": "display_data"
    },
    {
     "data": {
      "text/html": [
       "<pre style=\"white-space:pre;overflow-x:auto;line-height:normal;font-family:Menlo,'DejaVu Sans Mono',consolas,'Courier New',monospace\">┏━━━━━━━━━━━━━━━━━━━━━━━━━━━━━━━━━━━━━━┳━━━━━━━━━━━━━━━━━━━━━━━━━━━━━┳━━━━━━━━━━━━━━━━━┓\n",
       "┃<span style=\"font-weight: bold\"> Layer (type)                         </span>┃<span style=\"font-weight: bold\"> Output Shape                </span>┃<span style=\"font-weight: bold\">         Param # </span>┃\n",
       "┡━━━━━━━━━━━━━━━━━━━━━━━━━━━━━━━━━━━━━━╇━━━━━━━━━━━━━━━━━━━━━━━━━━━━━╇━━━━━━━━━━━━━━━━━┩\n",
       "│ time_distributed (<span style=\"color: #0087ff; text-decoration-color: #0087ff\">TimeDistributed</span>)   │ (<span style=\"color: #00d7ff; text-decoration-color: #00d7ff\">None</span>, <span style=\"color: #00af00; text-decoration-color: #00af00\">1</span>, <span style=\"color: #00af00; text-decoration-color: #00af00\">128</span>, <span style=\"color: #00af00; text-decoration-color: #00af00\">128</span>, <span style=\"color: #00af00; text-decoration-color: #00af00\">64</span>)     │           <span style=\"color: #00af00; text-decoration-color: #00af00\">1,792</span> │\n",
       "├──────────────────────────────────────┼─────────────────────────────┼─────────────────┤\n",
       "│ time_distributed_1 (<span style=\"color: #0087ff; text-decoration-color: #0087ff\">TimeDistributed</span>) │ (<span style=\"color: #00d7ff; text-decoration-color: #00d7ff\">None</span>, <span style=\"color: #00af00; text-decoration-color: #00af00\">1</span>, <span style=\"color: #00af00; text-decoration-color: #00af00\">64</span>, <span style=\"color: #00af00; text-decoration-color: #00af00\">64</span>, <span style=\"color: #00af00; text-decoration-color: #00af00\">64</span>)       │               <span style=\"color: #00af00; text-decoration-color: #00af00\">0</span> │\n",
       "├──────────────────────────────────────┼─────────────────────────────┼─────────────────┤\n",
       "│ time_distributed_2 (<span style=\"color: #0087ff; text-decoration-color: #0087ff\">TimeDistributed</span>) │ (<span style=\"color: #00d7ff; text-decoration-color: #00d7ff\">None</span>, <span style=\"color: #00af00; text-decoration-color: #00af00\">1</span>, <span style=\"color: #00af00; text-decoration-color: #00af00\">64</span>, <span style=\"color: #00af00; text-decoration-color: #00af00\">64</span>, <span style=\"color: #00af00; text-decoration-color: #00af00\">32</span>)       │          <span style=\"color: #00af00; text-decoration-color: #00af00\">18,464</span> │\n",
       "├──────────────────────────────────────┼─────────────────────────────┼─────────────────┤\n",
       "│ time_distributed_3 (<span style=\"color: #0087ff; text-decoration-color: #0087ff\">TimeDistributed</span>) │ (<span style=\"color: #00d7ff; text-decoration-color: #00d7ff\">None</span>, <span style=\"color: #00af00; text-decoration-color: #00af00\">1</span>, <span style=\"color: #00af00; text-decoration-color: #00af00\">32</span>, <span style=\"color: #00af00; text-decoration-color: #00af00\">32</span>, <span style=\"color: #00af00; text-decoration-color: #00af00\">32</span>)       │               <span style=\"color: #00af00; text-decoration-color: #00af00\">0</span> │\n",
       "├──────────────────────────────────────┼─────────────────────────────┼─────────────────┤\n",
       "│ time_distributed_4 (<span style=\"color: #0087ff; text-decoration-color: #0087ff\">TimeDistributed</span>) │ (<span style=\"color: #00d7ff; text-decoration-color: #00d7ff\">None</span>, <span style=\"color: #00af00; text-decoration-color: #00af00\">1</span>, <span style=\"color: #00af00; text-decoration-color: #00af00\">32768</span>)            │               <span style=\"color: #00af00; text-decoration-color: #00af00\">0</span> │\n",
       "├──────────────────────────────────────┼─────────────────────────────┼─────────────────┤\n",
       "│ lstm (<span style=\"color: #0087ff; text-decoration-color: #0087ff\">LSTM</span>)                          │ (<span style=\"color: #00d7ff; text-decoration-color: #00d7ff\">None</span>, <span style=\"color: #00af00; text-decoration-color: #00af00\">100</span>)                 │      <span style=\"color: #00af00; text-decoration-color: #00af00\">13,147,600</span> │\n",
       "├──────────────────────────────────────┼─────────────────────────────┼─────────────────┤\n",
       "│ dense (<span style=\"color: #0087ff; text-decoration-color: #0087ff\">Dense</span>)                        │ (<span style=\"color: #00d7ff; text-decoration-color: #00d7ff\">None</span>, <span style=\"color: #00af00; text-decoration-color: #00af00\">1</span>)                   │             <span style=\"color: #00af00; text-decoration-color: #00af00\">101</span> │\n",
       "└──────────────────────────────────────┴─────────────────────────────┴─────────────────┘\n",
       "</pre>\n"
      ],
      "text/plain": [
       "┏━━━━━━━━━━━━━━━━━━━━━━━━━━━━━━━━━━━━━━┳━━━━━━━━━━━━━━━━━━━━━━━━━━━━━┳━━━━━━━━━━━━━━━━━┓\n",
       "┃\u001b[1m \u001b[0m\u001b[1mLayer (type)                        \u001b[0m\u001b[1m \u001b[0m┃\u001b[1m \u001b[0m\u001b[1mOutput Shape               \u001b[0m\u001b[1m \u001b[0m┃\u001b[1m \u001b[0m\u001b[1m        Param #\u001b[0m\u001b[1m \u001b[0m┃\n",
       "┡━━━━━━━━━━━━━━━━━━━━━━━━━━━━━━━━━━━━━━╇━━━━━━━━━━━━━━━━━━━━━━━━━━━━━╇━━━━━━━━━━━━━━━━━┩\n",
       "│ time_distributed (\u001b[38;5;33mTimeDistributed\u001b[0m)   │ (\u001b[38;5;45mNone\u001b[0m, \u001b[38;5;34m1\u001b[0m, \u001b[38;5;34m128\u001b[0m, \u001b[38;5;34m128\u001b[0m, \u001b[38;5;34m64\u001b[0m)     │           \u001b[38;5;34m1,792\u001b[0m │\n",
       "├──────────────────────────────────────┼─────────────────────────────┼─────────────────┤\n",
       "│ time_distributed_1 (\u001b[38;5;33mTimeDistributed\u001b[0m) │ (\u001b[38;5;45mNone\u001b[0m, \u001b[38;5;34m1\u001b[0m, \u001b[38;5;34m64\u001b[0m, \u001b[38;5;34m64\u001b[0m, \u001b[38;5;34m64\u001b[0m)       │               \u001b[38;5;34m0\u001b[0m │\n",
       "├──────────────────────────────────────┼─────────────────────────────┼─────────────────┤\n",
       "│ time_distributed_2 (\u001b[38;5;33mTimeDistributed\u001b[0m) │ (\u001b[38;5;45mNone\u001b[0m, \u001b[38;5;34m1\u001b[0m, \u001b[38;5;34m64\u001b[0m, \u001b[38;5;34m64\u001b[0m, \u001b[38;5;34m32\u001b[0m)       │          \u001b[38;5;34m18,464\u001b[0m │\n",
       "├──────────────────────────────────────┼─────────────────────────────┼─────────────────┤\n",
       "│ time_distributed_3 (\u001b[38;5;33mTimeDistributed\u001b[0m) │ (\u001b[38;5;45mNone\u001b[0m, \u001b[38;5;34m1\u001b[0m, \u001b[38;5;34m32\u001b[0m, \u001b[38;5;34m32\u001b[0m, \u001b[38;5;34m32\u001b[0m)       │               \u001b[38;5;34m0\u001b[0m │\n",
       "├──────────────────────────────────────┼─────────────────────────────┼─────────────────┤\n",
       "│ time_distributed_4 (\u001b[38;5;33mTimeDistributed\u001b[0m) │ (\u001b[38;5;45mNone\u001b[0m, \u001b[38;5;34m1\u001b[0m, \u001b[38;5;34m32768\u001b[0m)            │               \u001b[38;5;34m0\u001b[0m │\n",
       "├──────────────────────────────────────┼─────────────────────────────┼─────────────────┤\n",
       "│ lstm (\u001b[38;5;33mLSTM\u001b[0m)                          │ (\u001b[38;5;45mNone\u001b[0m, \u001b[38;5;34m100\u001b[0m)                 │      \u001b[38;5;34m13,147,600\u001b[0m │\n",
       "├──────────────────────────────────────┼─────────────────────────────┼─────────────────┤\n",
       "│ dense (\u001b[38;5;33mDense\u001b[0m)                        │ (\u001b[38;5;45mNone\u001b[0m, \u001b[38;5;34m1\u001b[0m)                   │             \u001b[38;5;34m101\u001b[0m │\n",
       "└──────────────────────────────────────┴─────────────────────────────┴─────────────────┘\n"
      ]
     },
     "metadata": {},
     "output_type": "display_data"
    },
    {
     "data": {
      "text/html": [
       "<pre style=\"white-space:pre;overflow-x:auto;line-height:normal;font-family:Menlo,'DejaVu Sans Mono',consolas,'Courier New',monospace\"><span style=\"font-weight: bold\"> Total params: </span><span style=\"color: #00af00; text-decoration-color: #00af00\">13,167,957</span> (50.23 MB)\n",
       "</pre>\n"
      ],
      "text/plain": [
       "\u001b[1m Total params: \u001b[0m\u001b[38;5;34m13,167,957\u001b[0m (50.23 MB)\n"
      ]
     },
     "metadata": {},
     "output_type": "display_data"
    },
    {
     "data": {
      "text/html": [
       "<pre style=\"white-space:pre;overflow-x:auto;line-height:normal;font-family:Menlo,'DejaVu Sans Mono',consolas,'Courier New',monospace\"><span style=\"font-weight: bold\"> Trainable params: </span><span style=\"color: #00af00; text-decoration-color: #00af00\">13,167,957</span> (50.23 MB)\n",
       "</pre>\n"
      ],
      "text/plain": [
       "\u001b[1m Trainable params: \u001b[0m\u001b[38;5;34m13,167,957\u001b[0m (50.23 MB)\n"
      ]
     },
     "metadata": {},
     "output_type": "display_data"
    },
    {
     "data": {
      "text/html": [
       "<pre style=\"white-space:pre;overflow-x:auto;line-height:normal;font-family:Menlo,'DejaVu Sans Mono',consolas,'Courier New',monospace\"><span style=\"font-weight: bold\"> Non-trainable params: </span><span style=\"color: #00af00; text-decoration-color: #00af00\">0</span> (0.00 B)\n",
       "</pre>\n"
      ],
      "text/plain": [
       "\u001b[1m Non-trainable params: \u001b[0m\u001b[38;5;34m0\u001b[0m (0.00 B)\n"
      ]
     },
     "metadata": {},
     "output_type": "display_data"
    },
    {
     "name": "stdout",
     "output_type": "stream",
     "text": [
      "Epoch 1/20\n",
      "\u001b[1m320/320\u001b[0m \u001b[32m━━━━━━━━━━━━━━━━━━━━\u001b[0m\u001b[37m\u001b[0m \u001b[1m170s\u001b[0m 517ms/step - accuracy: 0.5108 - loss: 0.6920 - val_accuracy: 0.6922 - val_loss: 0.6253\n",
      "Epoch 2/20\n",
      "\u001b[1m320/320\u001b[0m \u001b[32m━━━━━━━━━━━━━━━━━━━━\u001b[0m\u001b[37m\u001b[0m \u001b[1m151s\u001b[0m 472ms/step - accuracy: 0.6319 - loss: 0.6404 - val_accuracy: 0.6914 - val_loss: 0.5935\n",
      "Epoch 3/20\n",
      "\u001b[1m320/320\u001b[0m \u001b[32m━━━━━━━━━━━━━━━━━━━━\u001b[0m\u001b[37m\u001b[0m \u001b[1m153s\u001b[0m 477ms/step - accuracy: 0.6689 - loss: 0.6150 - val_accuracy: 0.7008 - val_loss: 0.5773\n",
      "Epoch 4/20\n",
      "\u001b[1m320/320\u001b[0m \u001b[32m━━━━━━━━━━━━━━━━━━━━\u001b[0m\u001b[37m\u001b[0m \u001b[1m174s\u001b[0m 542ms/step - accuracy: 0.6823 - loss: 0.5990 - val_accuracy: 0.7000 - val_loss: 0.5827\n",
      "Epoch 5/20\n",
      "\u001b[1m320/320\u001b[0m \u001b[32m━━━━━━━━━━━━━━━━━━━━\u001b[0m\u001b[37m\u001b[0m \u001b[1m167s\u001b[0m 523ms/step - accuracy: 0.6955 - loss: 0.5917 - val_accuracy: 0.7047 - val_loss: 0.5649\n",
      "Epoch 6/20\n",
      "\u001b[1m320/320\u001b[0m \u001b[32m━━━━━━━━━━━━━━━━━━━━\u001b[0m\u001b[37m\u001b[0m \u001b[1m162s\u001b[0m 506ms/step - accuracy: 0.6862 - loss: 0.5984 - val_accuracy: 0.7031 - val_loss: 0.5665\n",
      "Epoch 7/20\n",
      "\u001b[1m320/320\u001b[0m \u001b[32m━━━━━━━━━━━━━━━━━━━━\u001b[0m\u001b[37m\u001b[0m \u001b[1m184s\u001b[0m 574ms/step - accuracy: 0.6819 - loss: 0.5923 - val_accuracy: 0.7008 - val_loss: 0.5650\n",
      "Epoch 8/20\n",
      "\u001b[1m320/320\u001b[0m \u001b[32m━━━━━━━━━━━━━━━━━━━━\u001b[0m\u001b[37m\u001b[0m \u001b[1m184s\u001b[0m 576ms/step - accuracy: 0.7069 - loss: 0.5788 - val_accuracy: 0.7016 - val_loss: 0.5725\n",
      "Epoch 9/20\n",
      "\u001b[1m320/320\u001b[0m \u001b[32m━━━━━━━━━━━━━━━━━━━━\u001b[0m\u001b[37m\u001b[0m \u001b[1m194s\u001b[0m 606ms/step - accuracy: 0.6978 - loss: 0.5838 - val_accuracy: 0.6969 - val_loss: 0.5624\n",
      "Epoch 10/20\n",
      "\u001b[1m320/320\u001b[0m \u001b[32m━━━━━━━━━━━━━━━━━━━━\u001b[0m\u001b[37m\u001b[0m \u001b[1m192s\u001b[0m 599ms/step - accuracy: 0.6944 - loss: 0.5785 - val_accuracy: 0.6687 - val_loss: 0.6154\n",
      "Epoch 11/20\n",
      "\u001b[1m320/320\u001b[0m \u001b[32m━━━━━━━━━━━━━━━━━━━━\u001b[0m\u001b[37m\u001b[0m \u001b[1m186s\u001b[0m 580ms/step - accuracy: 0.7028 - loss: 0.5750 - val_accuracy: 0.6391 - val_loss: 0.6286\n",
      "Epoch 12/20\n",
      "\u001b[1m320/320\u001b[0m \u001b[32m━━━━━━━━━━━━━━━━━━━━\u001b[0m\u001b[37m\u001b[0m \u001b[1m192s\u001b[0m 600ms/step - accuracy: 0.6961 - loss: 0.5774 - val_accuracy: 0.7469 - val_loss: 0.5440\n",
      "Epoch 13/20\n",
      "\u001b[1m320/320\u001b[0m \u001b[32m━━━━━━━━━━━━━━━━━━━━\u001b[0m\u001b[37m\u001b[0m \u001b[1m172s\u001b[0m 538ms/step - accuracy: 0.7032 - loss: 0.5776 - val_accuracy: 0.7242 - val_loss: 0.5421\n",
      "Epoch 14/20\n",
      "\u001b[1m320/320\u001b[0m \u001b[32m━━━━━━━━━━━━━━━━━━━━\u001b[0m\u001b[37m\u001b[0m \u001b[1m177s\u001b[0m 553ms/step - accuracy: 0.6991 - loss: 0.5714 - val_accuracy: 0.7211 - val_loss: 0.5418\n",
      "Epoch 15/20\n",
      "\u001b[1m320/320\u001b[0m \u001b[32m━━━━━━━━━━━━━━━━━━━━\u001b[0m\u001b[37m\u001b[0m \u001b[1m156s\u001b[0m 488ms/step - accuracy: 0.7056 - loss: 0.5725 - val_accuracy: 0.7109 - val_loss: 0.5406\n",
      "Epoch 16/20\n",
      "\u001b[1m320/320\u001b[0m \u001b[32m━━━━━━━━━━━━━━━━━━━━\u001b[0m\u001b[37m\u001b[0m \u001b[1m140s\u001b[0m 438ms/step - accuracy: 0.7099 - loss: 0.5605 - val_accuracy: 0.6922 - val_loss: 0.5670\n",
      "Epoch 17/20\n",
      "\u001b[1m320/320\u001b[0m \u001b[32m━━━━━━━━━━━━━━━━━━━━\u001b[0m\u001b[37m\u001b[0m \u001b[1m145s\u001b[0m 454ms/step - accuracy: 0.7054 - loss: 0.5653 - val_accuracy: 0.7242 - val_loss: 0.5362\n",
      "Epoch 18/20\n",
      "\u001b[1m320/320\u001b[0m \u001b[32m━━━━━━━━━━━━━━━━━━━━\u001b[0m\u001b[37m\u001b[0m \u001b[1m148s\u001b[0m 463ms/step - accuracy: 0.7064 - loss: 0.5667 - val_accuracy: 0.7031 - val_loss: 0.5584\n",
      "Epoch 19/20\n",
      "\u001b[1m320/320\u001b[0m \u001b[32m━━━━━━━━━━━━━━━━━━━━\u001b[0m\u001b[37m\u001b[0m \u001b[1m147s\u001b[0m 460ms/step - accuracy: 0.7273 - loss: 0.5458 - val_accuracy: 0.7469 - val_loss: 0.5263\n",
      "Epoch 20/20\n",
      "\u001b[1m320/320\u001b[0m \u001b[32m━━━━━━━━━━━━━━━━━━━━\u001b[0m\u001b[37m\u001b[0m \u001b[1m147s\u001b[0m 458ms/step - accuracy: 0.7048 - loss: 0.5679 - val_accuracy: 0.7117 - val_loss: 0.5503\n"
     ]
    },
    {
     "data": {
      "text/plain": [
       "<keras.src.callbacks.history.History at 0x2124e682690>"
      ]
     },
     "execution_count": 3,
     "metadata": {},
     "output_type": "execute_result"
    }
   ],
   "source": [
    "import numpy as np\n",
    "from tensorflow.keras.models import Sequential\n",
    "from tensorflow.keras.layers import Input, TimeDistributed, Conv2D, MaxPooling2D, Flatten, LSTM, Dense\n",
    "from tensorflow.keras.optimizers import Adam\n",
    "from tensorflow.keras.preprocessing.image import ImageDataGenerator\n",
    "\n",
    "# Assuming X_train, X_test, y_train, y_test are already loaded and normalized\n",
    "\n",
    "# ========================\n",
    "# Data Augmentation\n",
    "# ========================\n",
    "datagen = ImageDataGenerator(\n",
    "    rotation_range=15,\n",
    "    zoom_range=0.1,\n",
    "    width_shift_range=0.1,\n",
    "    height_shift_range=0.1,\n",
    "    horizontal_flip=True\n",
    ")\n",
    "datagen.fit(X_train)\n",
    "\n",
    "# ========================\n",
    "# Reshape to 5D for LSTM (batch, timesteps, height, width, channels)\n",
    "# ========================\n",
    "X_test_seq = X_test.reshape((-1, 1, 128, 128, 3))\n",
    "\n",
    "# ========================\n",
    "# Custom Generator for Augmented CNN-LSTM\n",
    "# ========================\n",
    "def cnn_lstm_generator(X, y, batch_size=16):\n",
    "    generator = datagen.flow(X, y, batch_size=batch_size, shuffle=True)\n",
    "    while True:\n",
    "        X_batch, y_batch = next(generator)\n",
    "        yield X_batch.reshape((-1, 1, 128, 128, 3)), y_batch\n",
    "\n",
    "# ========================\n",
    "# Define CNN-LSTM Model\n",
    "# ========================\n",
    "model = Sequential()\n",
    "\n",
    "# Input shape: (batch_size, timesteps, height, width, channels)\n",
    "model.add(Input(shape=(1, 128, 128, 3)))\n",
    "\n",
    "# CNN layers\n",
    "model.add(TimeDistributed(Conv2D(64, (3, 3), activation='relu', padding='same')))\n",
    "model.add(TimeDistributed(MaxPooling2D((2, 2))))\n",
    "\n",
    "model.add(TimeDistributed(Conv2D(32, (3, 3), activation='relu', padding='same')))\n",
    "model.add(TimeDistributed(MaxPooling2D((2, 2))))\n",
    "\n",
    "# Flatten\n",
    "model.add(TimeDistributed(Flatten()))\n",
    "\n",
    "# LSTM\n",
    "model.add(LSTM(100))\n",
    "\n",
    "# Output\n",
    "model.add(Dense(1, activation='sigmoid'))\n",
    "\n",
    "# Compile\n",
    "model.compile(optimizer=Adam(learning_rate=0.0001), \n",
    "              loss='binary_crossentropy', \n",
    "              metrics=['accuracy'])\n",
    "\n",
    "model.summary()\n",
    "\n",
    "# ========================\n",
    "# Train Model\n",
    "# ========================\n",
    "model.fit(\n",
    "    cnn_lstm_generator(X_train, y_train, batch_size=16),\n",
    "    steps_per_epoch=len(X_train) // 16,\n",
    "    epochs=20,\n",
    "    validation_data=(X_test_seq, y_test)\n",
    ")\n"
   ]
  },
  {
   "cell_type": "code",
   "execution_count": 5,
   "id": "9aa4cf0a-158b-4444-ab98-e2c5fb67db63",
   "metadata": {},
   "outputs": [
    {
     "name": "stdout",
     "output_type": "stream",
     "text": [
      "\u001b[1m40/40\u001b[0m \u001b[32m━━━━━━━━━━━━━━━━━━━━\u001b[0m\u001b[37m\u001b[0m \u001b[1m5s\u001b[0m 118ms/step\n",
      "Accuracy: 0.71171875\n",
      "Precision: 0.6573751451800233\n",
      "Recall: 0.884375\n",
      "F1 Score: 0.754163890739507\n",
      "\n",
      "Classification Report:\n",
      "               precision    recall  f1-score   support\n",
      "\n",
      "Non-Demented       0.82      0.54      0.65       640\n",
      "    Demented       0.66      0.88      0.75       640\n",
      "\n",
      "    accuracy                           0.71      1280\n",
      "   macro avg       0.74      0.71      0.70      1280\n",
      "weighted avg       0.74      0.71      0.70      1280\n",
      "\n",
      "Confusion Matrix:\n",
      " [[345 295]\n",
      " [ 74 566]]\n"
     ]
    }
   ],
   "source": [
    "from sklearn.metrics import classification_report, confusion_matrix, accuracy_score, precision_score, recall_score, f1_score\n",
    "\n",
    "# Predict probabilities\n",
    "y_pred_probs = model.predict(X_test_seq)\n",
    "\n",
    "# Convert to binary labels\n",
    "y_pred = (y_pred_probs > 0.5).astype(int).flatten()\n",
    "\n",
    "# Accuracy\n",
    "acc = accuracy_score(y_test, y_pred)\n",
    "print(\"Accuracy:\", acc)\n",
    "\n",
    "# Precision, Recall, F1\n",
    "precision = precision_score(y_test, y_pred)\n",
    "recall = recall_score(y_test, y_pred)\n",
    "f1 = f1_score(y_test, y_pred)\n",
    "\n",
    "print(\"Precision:\", precision)\n",
    "print(\"Recall:\", recall)\n",
    "print(\"F1 Score:\", f1)\n",
    "\n",
    "# Classification Report\n",
    "print(\"\\nClassification Report:\\n\", classification_report(\n",
    "    y_test, y_pred, target_names=[\"Non-Demented\", \"Demented\"]\n",
    "))\n",
    "\n",
    "# Confusion Matrix\n",
    "print(\"Confusion Matrix:\\n\", confusion_matrix(y_test, y_pred))\n"
   ]
  },
  {
   "cell_type": "code",
   "execution_count": null,
   "id": "0b98bec2-d91b-4e5d-b128-fc314ea6b210",
   "metadata": {},
   "outputs": [],
   "source": []
  }
 ],
 "metadata": {
  "kernelspec": {
   "display_name": "Python 3 (ipykernel)",
   "language": "python",
   "name": "python3"
  },
  "language_info": {
   "codemirror_mode": {
    "name": "ipython",
    "version": 3
   },
   "file_extension": ".py",
   "mimetype": "text/x-python",
   "name": "python",
   "nbconvert_exporter": "python",
   "pygments_lexer": "ipython3",
   "version": "3.11.4"
  }
 },
 "nbformat": 4,
 "nbformat_minor": 5
}
