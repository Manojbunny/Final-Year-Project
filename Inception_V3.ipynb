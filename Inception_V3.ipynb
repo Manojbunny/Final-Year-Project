{
 "cells": [
  {
   "cell_type": "code",
   "execution_count": 1,
   "id": "4e9b50e9-1648-4216-9e41-af14d82dd65d",
   "metadata": {},
   "outputs": [
    {
     "name": "stderr",
     "output_type": "stream",
     "text": [
      "Processing Mild-Demented:  13%|███████                                              | 120/896 [00:00<00:01, 595.73it/s]"
     ]
    },
    {
     "name": "stdout",
     "output_type": "stream",
     "text": [
      "Batch images shape: (16, 128, 128, 3)\n",
      "Batch labels shape: (16, 1)\n",
      "Batch images shape: (16, 128, 128, 3)\n",
      "Batch labels shape: (16, 1)\n",
      "Batch images shape: (16, 128, 128, 3)\n",
      "Batch labels shape: (16, 1)\n",
      "Batch images shape: (16, 128, 128, 3)\n",
      "Batch labels shape: (16, 1)\n",
      "Batch images shape: (16, 128, 128, 3)\n",
      "Batch labels shape: (16, 1)\n",
      "Batch images shape: (16, 128, 128, 3)\n",
      "Batch labels shape: (16, 1)\n",
      "Batch images shape: (16, 128, 128, 3)\n",
      "Batch labels shape: (16, 1)\n",
      "Batch images shape: (16, 128, 128, 3)\n",
      "Batch labels shape: (16, 1)\n",
      "Batch images shape: (16, 128, 128, 3)\n",
      "Batch labels shape: (16, 1)\n",
      "Batch images shape: (16, 128, 128, 3)\n",
      "Batch labels shape: (16, 1)\n"
     ]
    },
    {
     "name": "stderr",
     "output_type": "stream",
     "text": [
      "Processing Mild-Demented:  31%|████████████████▌                                    | 279/896 [00:00<00:00, 695.83it/s]"
     ]
    },
    {
     "name": "stdout",
     "output_type": "stream",
     "text": [
      "Batch images shape: (16, 128, 128, 3)\n",
      "Batch labels shape: (16, 1)\n",
      "Batch images shape: (16, 128, 128, 3)\n",
      "Batch labels shape: (16, 1)\n",
      "Batch images shape: (16, 128, 128, 3)\n",
      "Batch labels shape: (16, 1)\n",
      "Batch images shape: (16, 128, 128, 3)\n",
      "Batch labels shape: (16, 1)\n",
      "Batch images shape: (16, 128, 128, 3)\n",
      "Batch labels shape: (16, 1)\n",
      "Batch images shape: (16, 128, 128, 3)\n",
      "Batch labels shape: (16, 1)\n",
      "Batch images shape: (16, 128, 128, 3)\n",
      "Batch labels shape: (16, 1)\n",
      "Batch images shape: (16, 128, 128, 3)\n",
      "Batch labels shape: (16, 1)\n",
      "Batch images shape: (16, 128, 128, 3)\n",
      "Batch labels shape: (16, 1)\n",
      "Batch images shape: (16, 128, 128, 3)\n",
      "Batch labels shape: (16, 1)\n"
     ]
    },
    {
     "name": "stderr",
     "output_type": "stream",
     "text": [
      "Processing Mild-Demented:  48%|█████████████████████████▍                           | 429/896 [00:00<00:00, 722.56it/s]"
     ]
    },
    {
     "name": "stdout",
     "output_type": "stream",
     "text": [
      "Batch images shape: (16, 128, 128, 3)\n",
      "Batch labels shape: (16, 1)\n",
      "Batch images shape: (16, 128, 128, 3)\n",
      "Batch labels shape: (16, 1)\n",
      "Batch images shape: (16, 128, 128, 3)\n",
      "Batch labels shape: (16, 1)\n",
      "Batch images shape: (16, 128, 128, 3)\n",
      "Batch labels shape: (16, 1)\n",
      "Batch images shape: (16, 128, 128, 3)\n",
      "Batch labels shape: (16, 1)\n",
      "Batch images shape: (16, 128, 128, 3)\n",
      "Batch labels shape: (16, 1)\n",
      "Batch images shape: (16, 128, 128, 3)\n",
      "Batch labels shape: (16, 1)\n",
      "Batch images shape: (16, 128, 128, 3)\n",
      "Batch labels shape: (16, 1)\n",
      "Batch images shape: (16, 128, 128, 3)\n",
      "Batch labels shape: (16, 1)\n",
      "Batch images shape: (16, 128, 128, 3)\n",
      "Batch labels shape: (16, 1)\n"
     ]
    },
    {
     "name": "stderr",
     "output_type": "stream",
     "text": [
      "Processing Mild-Demented:  66%|██████████████████████████████████▉                  | 591/896 [00:00<00:00, 738.47it/s]"
     ]
    },
    {
     "name": "stdout",
     "output_type": "stream",
     "text": [
      "Batch images shape: (16, 128, 128, 3)\n",
      "Batch labels shape: (16, 1)\n",
      "Batch images shape: (16, 128, 128, 3)\n",
      "Batch labels shape: (16, 1)\n",
      "Batch images shape: (16, 128, 128, 3)\n",
      "Batch labels shape: (16, 1)\n",
      "Batch images shape: (16, 128, 128, 3)\n",
      "Batch labels shape: (16, 1)\n",
      "Batch images shape: (16, 128, 128, 3)\n",
      "Batch labels shape: (16, 1)\n",
      "Batch images shape: (16, 128, 128, 3)\n",
      "Batch labels shape: (16, 1)\n",
      "Batch images shape: (16, 128, 128, 3)\n",
      "Batch labels shape: (16, 1)\n",
      "Batch images shape: (16, 128, 128, 3)\n",
      "Batch labels shape: (16, 1)\n",
      "Batch images shape: (16, 128, 128, 3)\n",
      "Batch labels shape: (16, 1)\n",
      "Batch images shape: (16, 128, 128, 3)\n",
      "Batch labels shape: (16, 1)\n"
     ]
    },
    {
     "name": "stderr",
     "output_type": "stream",
     "text": [
      "Processing Mild-Demented:  84%|████████████████████████████████████████████▍        | 751/896 [00:01<00:00, 740.27it/s]"
     ]
    },
    {
     "name": "stdout",
     "output_type": "stream",
     "text": [
      "Batch images shape: (16, 128, 128, 3)\n",
      "Batch labels shape: (16, 1)\n",
      "Batch images shape: (16, 128, 128, 3)\n",
      "Batch labels shape: (16, 1)\n",
      "Batch images shape: (16, 128, 128, 3)\n",
      "Batch labels shape: (16, 1)\n",
      "Batch images shape: (16, 128, 128, 3)\n",
      "Batch labels shape: (16, 1)\n",
      "Batch images shape: (16, 128, 128, 3)\n",
      "Batch labels shape: (16, 1)\n",
      "Batch images shape: (16, 128, 128, 3)\n",
      "Batch labels shape: (16, 1)\n",
      "Batch images shape: (16, 128, 128, 3)\n",
      "Batch labels shape: (16, 1)\n",
      "Batch images shape: (16, 128, 128, 3)\n",
      "Batch labels shape: (16, 1)\n",
      "Batch images shape: (16, 128, 128, 3)\n",
      "Batch labels shape: (16, 1)\n",
      "Batch images shape: (16, 128, 128, 3)\n",
      "Batch labels shape: (16, 1)\n",
      "Batch images shape: (16, 128, 128, 3)\n",
      "Batch labels shape: (16, 1)\n"
     ]
    },
    {
     "name": "stderr",
     "output_type": "stream",
     "text": [
      "Processing Mild-Demented: 100%|█████████████████████████████████████████████████████| 896/896 [00:01<00:00, 709.81it/s]\n"
     ]
    },
    {
     "name": "stdout",
     "output_type": "stream",
     "text": [
      "Batch images shape: (16, 128, 128, 3)\n",
      "Batch labels shape: (16, 1)\n",
      "Batch images shape: (16, 128, 128, 3)\n",
      "Batch labels shape: (16, 1)\n",
      "Batch images shape: (16, 128, 128, 3)\n",
      "Batch labels shape: (16, 1)\n",
      "Batch images shape: (16, 128, 128, 3)\n",
      "Batch labels shape: (16, 1)\n",
      "Batch images shape: (16, 128, 128, 3)\n",
      "Batch labels shape: (16, 1)\n"
     ]
    },
    {
     "name": "stderr",
     "output_type": "stream",
     "text": [
      "Processing Moderate-Demented: 100%|███████████████████████████████████████████████████| 64/64 [00:00<00:00, 778.47it/s]\n"
     ]
    },
    {
     "name": "stdout",
     "output_type": "stream",
     "text": [
      "Batch images shape: (16, 128, 128, 3)\n",
      "Batch labels shape: (16, 1)\n",
      "Batch images shape: (16, 128, 128, 3)\n",
      "Batch labels shape: (16, 1)\n",
      "Batch images shape: (16, 128, 128, 3)\n",
      "Batch labels shape: (16, 1)\n",
      "Batch images shape: (16, 128, 128, 3)\n",
      "Batch labels shape: (16, 1)\n"
     ]
    },
    {
     "name": "stderr",
     "output_type": "stream",
     "text": [
      "Processing Non-Demented:   0%|                                                                | 0/3200 [00:00<?, ?it/s]"
     ]
    },
    {
     "name": "stdout",
     "output_type": "stream",
     "text": [
      "Batch images shape: (16, 128, 128, 3)\n",
      "Batch labels shape: (16, 1)\n",
      "Batch images shape: (16, 128, 128, 3)\n",
      "Batch labels shape: (16, 1)\n",
      "Batch images shape: (16, 128, 128, 3)\n",
      "Batch labels shape: (16, 1)\n"
     ]
    },
    {
     "name": "stderr",
     "output_type": "stream",
     "text": [
      "Processing Non-Demented:   2%|█▎                                                    | 75/3200 [00:00<00:04, 683.52it/s]"
     ]
    },
    {
     "name": "stdout",
     "output_type": "stream",
     "text": [
      "Batch images shape: (16, 128, 128, 3)\n",
      "Batch labels shape: (16, 1)\n",
      "Batch images shape: (16, 128, 128, 3)\n",
      "Batch labels shape: (16, 1)\n",
      "Batch images shape: (16, 128, 128, 3)\n",
      "Batch labels shape: (16, 1)\n",
      "Batch images shape: (16, 128, 128, 3)\n",
      "Batch labels shape: (16, 1)\n",
      "Batch images shape: (16, 128, 128, 3)\n",
      "Batch labels shape: (16, 1)\n",
      "Batch images shape: (16, 128, 128, 3)\n",
      "Batch labels shape: (16, 1)\n"
     ]
    },
    {
     "name": "stderr",
     "output_type": "stream",
     "text": [
      "Processing Non-Demented:   5%|██▋                                                  | 159/3200 [00:00<00:04, 713.42it/s]"
     ]
    },
    {
     "name": "stdout",
     "output_type": "stream",
     "text": [
      "Batch images shape: (16, 128, 128, 3)\n",
      "Batch labels shape: (16, 1)\n",
      "Batch images shape: (16, 128, 128, 3)\n",
      "Batch labels shape: (16, 1)\n",
      "Batch images shape: (16, 128, 128, 3)\n",
      "Batch labels shape: (16, 1)\n"
     ]
    },
    {
     "name": "stderr",
     "output_type": "stream",
     "text": [
      "Processing Non-Demented:   7%|███▊                                                 | 231/3200 [00:00<00:04, 688.83it/s]"
     ]
    },
    {
     "name": "stdout",
     "output_type": "stream",
     "text": [
      "Batch images shape: (16, 128, 128, 3)\n",
      "Batch labels shape: (16, 1)\n",
      "Batch images shape: (16, 128, 128, 3)\n",
      "Batch labels shape: (16, 1)\n",
      "Batch images shape: (16, 128, 128, 3)\n",
      "Batch labels shape: (16, 1)\n",
      "Batch images shape: (16, 128, 128, 3)\n",
      "Batch labels shape: (16, 1)\n",
      "Batch images shape: (16, 128, 128, 3)\n",
      "Batch labels shape: (16, 1)\n",
      "Batch images shape: (16, 128, 128, 3)\n",
      "Batch labels shape: (16, 1)\n"
     ]
    },
    {
     "name": "stderr",
     "output_type": "stream",
     "text": [
      "Processing Non-Demented:  10%|█████                                                | 308/3200 [00:00<00:04, 695.31it/s]"
     ]
    },
    {
     "name": "stdout",
     "output_type": "stream",
     "text": [
      "Batch images shape: (16, 128, 128, 3)\n",
      "Batch labels shape: (16, 1)\n",
      "Batch images shape: (16, 128, 128, 3)\n",
      "Batch labels shape: (16, 1)\n",
      "Batch images shape: (16, 128, 128, 3)\n",
      "Batch labels shape: (16, 1)\n",
      "Batch images shape: (16, 128, 128, 3)\n",
      "Batch labels shape: (16, 1)\n"
     ]
    },
    {
     "name": "stderr",
     "output_type": "stream",
     "text": [
      "Processing Non-Demented:  12%|██████▎                                              | 378/3200 [00:00<00:04, 690.07it/s]"
     ]
    },
    {
     "name": "stdout",
     "output_type": "stream",
     "text": [
      "Batch images shape: (16, 128, 128, 3)\n",
      "Batch labels shape: (16, 1)\n",
      "Batch images shape: (16, 128, 128, 3)\n",
      "Batch labels shape: (16, 1)\n",
      "Batch images shape: (16, 128, 128, 3)\n",
      "Batch labels shape: (16, 1)\n",
      "Batch images shape: (16, 128, 128, 3)\n",
      "Batch labels shape: (16, 1)\n",
      "Batch images shape: (16, 128, 128, 3)\n",
      "Batch labels shape: (16, 1)\n"
     ]
    },
    {
     "name": "stderr",
     "output_type": "stream",
     "text": [
      "Processing Non-Demented:  14%|███████▍                                             | 447/3200 [00:00<00:04, 684.50it/s]"
     ]
    },
    {
     "name": "stdout",
     "output_type": "stream",
     "text": [
      "Batch images shape: (16, 128, 128, 3)\n",
      "Batch labels shape: (16, 1)\n",
      "Batch images shape: (16, 128, 128, 3)\n",
      "Batch labels shape: (16, 1)\n",
      "Batch images shape: (16, 128, 128, 3)\n",
      "Batch labels shape: (16, 1)\n",
      "Batch images shape: (16, 128, 128, 3)\n",
      "Batch labels shape: (16, 1)\n"
     ]
    },
    {
     "name": "stderr",
     "output_type": "stream",
     "text": [
      "Processing Non-Demented:  16%|████████▌                                            | 516/3200 [00:00<00:04, 621.70it/s]"
     ]
    },
    {
     "name": "stdout",
     "output_type": "stream",
     "text": [
      "Batch images shape: (16, 128, 128, 3)\n",
      "Batch labels shape: (16, 1)\n",
      "Batch images shape: (16, 128, 128, 3)\n",
      "Batch labels shape: (16, 1)\n",
      "Batch images shape: (16, 128, 128, 3)\n",
      "Batch labels shape: (16, 1)\n"
     ]
    },
    {
     "name": "stderr",
     "output_type": "stream",
     "text": [
      "Processing Non-Demented:  18%|█████████▌                                           | 579/3200 [00:00<00:04, 595.55it/s]"
     ]
    },
    {
     "name": "stdout",
     "output_type": "stream",
     "text": [
      "Batch images shape: (16, 128, 128, 3)\n",
      "Batch labels shape: (16, 1)\n",
      "Batch images shape: (16, 128, 128, 3)\n",
      "Batch labels shape: (16, 1)\n",
      "Batch images shape: (16, 128, 128, 3)\n",
      "Batch labels shape: (16, 1)\n",
      "Batch images shape: (16, 128, 128, 3)\n",
      "Batch labels shape: (16, 1)\n",
      "Batch images shape: (16, 128, 128, 3)\n",
      "Batch labels shape: (16, 1)\n"
     ]
    },
    {
     "name": "stderr",
     "output_type": "stream",
     "text": [
      "Processing Non-Demented:  20%|██████████▋                                          | 642/3200 [00:01<00:04, 586.78it/s]"
     ]
    },
    {
     "name": "stdout",
     "output_type": "stream",
     "text": [
      "Batch images shape: (16, 128, 128, 3)\n",
      "Batch labels shape: (16, 1)\n",
      "Batch images shape: (16, 128, 128, 3)\n",
      "Batch labels shape: (16, 1)\n",
      "Batch images shape: (16, 128, 128, 3)\n",
      "Batch labels shape: (16, 1)\n"
     ]
    },
    {
     "name": "stderr",
     "output_type": "stream",
     "text": [
      "Processing Non-Demented:  22%|███████████▋                                         | 702/3200 [00:01<00:04, 584.08it/s]"
     ]
    },
    {
     "name": "stdout",
     "output_type": "stream",
     "text": [
      "Batch images shape: (16, 128, 128, 3)\n",
      "Batch labels shape: (16, 1)\n",
      "Batch images shape: (16, 128, 128, 3)\n",
      "Batch labels shape: (16, 1)\n",
      "Batch images shape: (16, 128, 128, 3)\n",
      "Batch labels shape: (16, 1)\n",
      "Batch images shape: (16, 128, 128, 3)\n",
      "Batch labels shape: (16, 1)\n",
      "Batch images shape: (16, 128, 128, 3)\n",
      "Batch labels shape: (16, 1)\n"
     ]
    },
    {
     "name": "stderr",
     "output_type": "stream",
     "text": [
      "Processing Non-Demented:  24%|████████████▌                                        | 761/3200 [00:01<00:04, 583.31it/s]"
     ]
    },
    {
     "name": "stdout",
     "output_type": "stream",
     "text": [
      "Batch images shape: (16, 128, 128, 3)\n",
      "Batch labels shape: (16, 1)\n",
      "Batch images shape: (16, 128, 128, 3)\n",
      "Batch labels shape: (16, 1)\n"
     ]
    },
    {
     "name": "stderr",
     "output_type": "stream",
     "text": [
      "Processing Non-Demented:  26%|█████████████▌                                       | 820/3200 [00:01<00:04, 557.77it/s]"
     ]
    },
    {
     "name": "stdout",
     "output_type": "stream",
     "text": [
      "Batch images shape: (16, 128, 128, 3)\n",
      "Batch labels shape: (16, 1)\n",
      "Batch images shape: (16, 128, 128, 3)\n",
      "Batch labels shape: (16, 1)\n",
      "Batch images shape: (16, 128, 128, 3)\n",
      "Batch labels shape: (16, 1)\n",
      "Batch images shape: (16, 128, 128, 3)\n",
      "Batch labels shape: (16, 1)\n",
      "Batch images shape: (16, 128, 128, 3)\n",
      "Batch labels shape: (16, 1)\n"
     ]
    },
    {
     "name": "stderr",
     "output_type": "stream",
     "text": [
      "Processing Non-Demented:  28%|██████████████▌                                      | 881/3200 [00:01<00:04, 552.97it/s]"
     ]
    },
    {
     "name": "stdout",
     "output_type": "stream",
     "text": [
      "Batch images shape: (16, 128, 128, 3)\n",
      "Batch labels shape: (16, 1)\n",
      "Batch images shape: (16, 128, 128, 3)\n",
      "Batch labels shape: (16, 1)\n"
     ]
    },
    {
     "name": "stderr",
     "output_type": "stream",
     "text": [
      "Processing Non-Demented:  30%|███████████████▋                                     | 946/3200 [00:01<00:04, 555.86it/s]"
     ]
    },
    {
     "name": "stdout",
     "output_type": "stream",
     "text": [
      "Batch images shape: (16, 128, 128, 3)\n",
      "Batch labels shape: (16, 1)\n",
      "Batch images shape: (16, 128, 128, 3)\n",
      "Batch labels shape: (16, 1)\n",
      "Batch images shape: (16, 128, 128, 3)\n",
      "Batch labels shape: (16, 1)\n",
      "Batch images shape: (16, 128, 128, 3)\n",
      "Batch labels shape: (16, 1)\n",
      "Batch images shape: (16, 128, 128, 3)\n",
      "Batch labels shape: (16, 1)\n"
     ]
    },
    {
     "name": "stderr",
     "output_type": "stream",
     "text": [
      "Processing Non-Demented:  31%|████████████████▎                                   | 1003/3200 [00:01<00:03, 558.44it/s]"
     ]
    },
    {
     "name": "stdout",
     "output_type": "stream",
     "text": [
      "Batch images shape: (16, 128, 128, 3)\n",
      "Batch labels shape: (16, 1)\n",
      "Batch images shape: (16, 128, 128, 3)\n",
      "Batch labels shape: (16, 1)\n",
      "Batch images shape: (16, 128, 128, 3)\n",
      "Batch labels shape: (16, 1)\n"
     ]
    },
    {
     "name": "stderr",
     "output_type": "stream",
     "text": [
      "Processing Non-Demented:  33%|█████████████████▎                                  | 1063/3200 [00:01<00:03, 547.46it/s]"
     ]
    },
    {
     "name": "stdout",
     "output_type": "stream",
     "text": [
      "Batch images shape: (16, 128, 128, 3)\n",
      "Batch labels shape: (16, 1)\n",
      "Batch images shape: (16, 128, 128, 3)\n",
      "Batch labels shape: (16, 1)\n",
      "Batch images shape: (16, 128, 128, 3)\n",
      "Batch labels shape: (16, 1)\n",
      "Batch images shape: (16, 128, 128, 3)\n",
      "Batch labels shape: (16, 1)\n",
      "Batch images shape: (16, 128, 128, 3)\n",
      "Batch labels shape: (16, 1)\n"
     ]
    },
    {
     "name": "stderr",
     "output_type": "stream",
     "text": [
      "Processing Non-Demented:  37%|███████████████████                                 | 1173/3200 [00:02<00:04, 476.86it/s]"
     ]
    },
    {
     "name": "stdout",
     "output_type": "stream",
     "text": [
      "Batch images shape: (16, 128, 128, 3)\n",
      "Batch labels shape: (16, 1)\n",
      "Batch images shape: (16, 128, 128, 3)\n",
      "Batch labels shape: (16, 1)\n",
      "Batch images shape: (16, 128, 128, 3)\n",
      "Batch labels shape: (16, 1)\n",
      "Batch images shape: (16, 128, 128, 3)\n",
      "Batch labels shape: (16, 1)\n",
      "Batch images shape: (16, 128, 128, 3)\n",
      "Batch labels shape: (16, 1)\n",
      "Batch images shape: (16, 128, 128, 3)\n",
      "Batch labels shape: (16, 1)\n",
      "Batch images shape: (16, 128, 128, 3)\n",
      "Batch labels shape: (16, 1)\n"
     ]
    },
    {
     "name": "stderr",
     "output_type": "stream",
     "text": [
      "Processing Non-Demented:  40%|█████████████████████                               | 1296/3200 [00:02<00:03, 521.34it/s]"
     ]
    },
    {
     "name": "stdout",
     "output_type": "stream",
     "text": [
      "Batch images shape: (16, 128, 128, 3)\n",
      "Batch labels shape: (16, 1)\n",
      "Batch images shape: (16, 128, 128, 3)\n",
      "Batch labels shape: (16, 1)\n",
      "Batch images shape: (16, 128, 128, 3)\n",
      "Batch labels shape: (16, 1)\n",
      "Batch images shape: (16, 128, 128, 3)\n",
      "Batch labels shape: (16, 1)\n",
      "Batch images shape: (16, 128, 128, 3)\n",
      "Batch labels shape: (16, 1)\n",
      "Batch images shape: (16, 128, 128, 3)\n",
      "Batch labels shape: (16, 1)\n",
      "Batch images shape: (16, 128, 128, 3)\n",
      "Batch labels shape: (16, 1)\n"
     ]
    },
    {
     "name": "stderr",
     "output_type": "stream",
     "text": [
      "Processing Non-Demented:  44%|██████████████████████▉                             | 1412/3200 [00:02<00:03, 548.32it/s]"
     ]
    },
    {
     "name": "stdout",
     "output_type": "stream",
     "text": [
      "Batch images shape: (16, 128, 128, 3)\n",
      "Batch labels shape: (16, 1)\n",
      "Batch images shape: (16, 128, 128, 3)\n",
      "Batch labels shape: (16, 1)\n",
      "Batch images shape: (16, 128, 128, 3)\n",
      "Batch labels shape: (16, 1)\n",
      "Batch images shape: (16, 128, 128, 3)\n",
      "Batch labels shape: (16, 1)\n",
      "Batch images shape: (16, 128, 128, 3)\n",
      "Batch labels shape: (16, 1)\n",
      "Batch images shape: (16, 128, 128, 3)\n",
      "Batch labels shape: (16, 1)\n",
      "Batch images shape: (16, 128, 128, 3)\n",
      "Batch labels shape: (16, 1)\n",
      "Batch images shape: (16, 128, 128, 3)\n",
      "Batch labels shape: (16, 1)\n"
     ]
    },
    {
     "name": "stderr",
     "output_type": "stream",
     "text": [
      "Processing Non-Demented:  48%|████████████████████████▊                           | 1530/3200 [00:02<00:02, 567.83it/s]"
     ]
    },
    {
     "name": "stdout",
     "output_type": "stream",
     "text": [
      "Batch images shape: (16, 128, 128, 3)\n",
      "Batch labels shape: (16, 1)\n",
      "Batch images shape: (16, 128, 128, 3)\n",
      "Batch labels shape: (16, 1)\n",
      "Batch images shape: (16, 128, 128, 3)\n",
      "Batch labels shape: (16, 1)\n",
      "Batch images shape: (16, 128, 128, 3)\n",
      "Batch labels shape: (16, 1)\n",
      "Batch images shape: (16, 128, 128, 3)\n",
      "Batch labels shape: (16, 1)\n",
      "Batch images shape: (16, 128, 128, 3)\n",
      "Batch labels shape: (16, 1)\n",
      "Batch images shape: (16, 128, 128, 3)\n",
      "Batch labels shape: (16, 1)\n",
      "Batch images shape: (16, 128, 128, 3)\n",
      "Batch labels shape: (16, 1)\n",
      "Batch images shape: (16, 128, 128, 3)\n",
      "Batch labels shape: (16, 1)\n"
     ]
    },
    {
     "name": "stderr",
     "output_type": "stream",
     "text": [
      "Processing Non-Demented:  52%|███████████████████████████▏                        | 1674/3200 [00:02<00:02, 641.25it/s]"
     ]
    },
    {
     "name": "stdout",
     "output_type": "stream",
     "text": [
      "Batch images shape: (16, 128, 128, 3)\n",
      "Batch labels shape: (16, 1)\n",
      "Batch images shape: (16, 128, 128, 3)\n",
      "Batch labels shape: (16, 1)\n",
      "Batch images shape: (16, 128, 128, 3)\n",
      "Batch labels shape: (16, 1)\n",
      "Batch images shape: (16, 128, 128, 3)\n",
      "Batch labels shape: (16, 1)\n",
      "Batch images shape: (16, 128, 128, 3)\n",
      "Batch labels shape: (16, 1)\n",
      "Batch images shape: (16, 128, 128, 3)\n",
      "Batch labels shape: (16, 1)\n",
      "Batch images shape: (16, 128, 128, 3)\n",
      "Batch labels shape: (16, 1)\n",
      "Batch images shape: (16, 128, 128, 3)\n",
      "Batch labels shape: (16, 1)\n"
     ]
    },
    {
     "name": "stderr",
     "output_type": "stream",
     "text": [
      "Processing Non-Demented:  55%|████████████████████████████▎                       | 1746/3200 [00:02<00:02, 662.77it/s]"
     ]
    },
    {
     "name": "stdout",
     "output_type": "stream",
     "text": [
      "Batch images shape: (16, 128, 128, 3)\n",
      "Batch labels shape: (16, 1)\n",
      "Batch images shape: (16, 128, 128, 3)\n",
      "Batch labels shape: (16, 1)\n"
     ]
    },
    {
     "name": "stderr",
     "output_type": "stream",
     "text": [
      "Processing Non-Demented:  57%|█████████████████████████████▍                      | 1813/3200 [00:03<00:02, 664.28it/s]"
     ]
    },
    {
     "name": "stdout",
     "output_type": "stream",
     "text": [
      "Batch images shape: (16, 128, 128, 3)\n",
      "Batch labels shape: (16, 1)\n",
      "Batch images shape: (16, 128, 128, 3)\n",
      "Batch labels shape: (16, 1)\n",
      "Batch images shape: (16, 128, 128, 3)\n",
      "Batch labels shape: (16, 1)\n",
      "Batch images shape: (16, 128, 128, 3)\n",
      "Batch labels shape: (16, 1)\n",
      "Batch images shape: (16, 128, 128, 3)\n",
      "Batch labels shape: (16, 1)\n",
      "Batch images shape: (16, 128, 128, 3)\n",
      "Batch labels shape: (16, 1)\n",
      "Batch images shape: (16, 128, 128, 3)\n",
      "Batch labels shape: (16, 1)\n"
     ]
    },
    {
     "name": "stderr",
     "output_type": "stream",
     "text": [
      "Processing Non-Demented:  59%|██████████████████████████████▋                     | 1886/3200 [00:03<00:01, 682.46it/s]"
     ]
    },
    {
     "name": "stdout",
     "output_type": "stream",
     "text": [
      "Batch images shape: (16, 128, 128, 3)\n",
      "Batch labels shape: (16, 1)\n",
      "Batch images shape: (16, 128, 128, 3)\n",
      "Batch labels shape: (16, 1)\n"
     ]
    },
    {
     "name": "stderr",
     "output_type": "stream",
     "text": [
      "Processing Non-Demented:  61%|███████████████████████████████▊                    | 1955/3200 [00:03<00:01, 670.08it/s]"
     ]
    },
    {
     "name": "stdout",
     "output_type": "stream",
     "text": [
      "Batch images shape: (16, 128, 128, 3)\n",
      "Batch labels shape: (16, 1)\n",
      "Batch images shape: (16, 128, 128, 3)\n",
      "Batch labels shape: (16, 1)\n",
      "Batch images shape: (16, 128, 128, 3)\n",
      "Batch labels shape: (16, 1)\n",
      "Batch images shape: (16, 128, 128, 3)\n",
      "Batch labels shape: (16, 1)\n",
      "Batch images shape: (16, 128, 128, 3)\n",
      "Batch labels shape: (16, 1)\n",
      "Batch images shape: (16, 128, 128, 3)\n",
      "Batch labels shape: (16, 1)\n",
      "Batch images shape: (16, 128, 128, 3)\n",
      "Batch labels shape: (16, 1)\n"
     ]
    },
    {
     "name": "stderr",
     "output_type": "stream",
     "text": [
      "Processing Non-Demented:  65%|█████████████████████████████████▉                  | 2088/3200 [00:03<00:01, 615.00it/s]"
     ]
    },
    {
     "name": "stdout",
     "output_type": "stream",
     "text": [
      "Batch images shape: (16, 128, 128, 3)\n",
      "Batch labels shape: (16, 1)\n",
      "Batch images shape: (16, 128, 128, 3)\n",
      "Batch labels shape: (16, 1)\n",
      "Batch images shape: (16, 128, 128, 3)\n",
      "Batch labels shape: (16, 1)\n",
      "Batch images shape: (16, 128, 128, 3)\n",
      "Batch labels shape: (16, 1)\n",
      "Batch images shape: (16, 128, 128, 3)\n",
      "Batch labels shape: (16, 1)\n",
      "Batch images shape: (16, 128, 128, 3)\n",
      "Batch labels shape: (16, 1)\n",
      "Batch images shape: (16, 128, 128, 3)\n",
      "Batch labels shape: (16, 1)\n"
     ]
    },
    {
     "name": "stderr",
     "output_type": "stream",
     "text": [
      "Processing Non-Demented:  69%|███████████████████████████████████▉                | 2214/3200 [00:03<00:01, 582.81it/s]"
     ]
    },
    {
     "name": "stdout",
     "output_type": "stream",
     "text": [
      "Batch images shape: (16, 128, 128, 3)\n",
      "Batch labels shape: (16, 1)\n",
      "Batch images shape: (16, 128, 128, 3)\n",
      "Batch labels shape: (16, 1)\n",
      "Batch images shape: (16, 128, 128, 3)\n",
      "Batch labels shape: (16, 1)\n",
      "Batch images shape: (16, 128, 128, 3)\n",
      "Batch labels shape: (16, 1)\n",
      "Batch images shape: (16, 128, 128, 3)\n",
      "Batch labels shape: (16, 1)\n",
      "Batch images shape: (16, 128, 128, 3)\n",
      "Batch labels shape: (16, 1)\n",
      "Batch images shape: (16, 128, 128, 3)\n",
      "Batch labels shape: (16, 1)\n",
      "Batch images shape: (16, 128, 128, 3)\n",
      "Batch labels shape: (16, 1)\n"
     ]
    },
    {
     "name": "stderr",
     "output_type": "stream",
     "text": [
      "Processing Non-Demented:  73%|█████████████████████████████████████▉              | 2336/3200 [00:03<00:01, 592.59it/s]"
     ]
    },
    {
     "name": "stdout",
     "output_type": "stream",
     "text": [
      "Batch images shape: (16, 128, 128, 3)\n",
      "Batch labels shape: (16, 1)\n",
      "Batch images shape: (16, 128, 128, 3)\n",
      "Batch labels shape: (16, 1)\n",
      "Batch images shape: (16, 128, 128, 3)\n",
      "Batch labels shape: (16, 1)\n",
      "Batch images shape: (16, 128, 128, 3)\n",
      "Batch labels shape: (16, 1)\n",
      "Batch images shape: (16, 128, 128, 3)\n",
      "Batch labels shape: (16, 1)\n",
      "Batch images shape: (16, 128, 128, 3)\n",
      "Batch labels shape: (16, 1)\n",
      "Batch images shape: (16, 128, 128, 3)\n",
      "Batch labels shape: (16, 1)\n",
      "Batch images shape: (16, 128, 128, 3)\n",
      "Batch labels shape: (16, 1)\n"
     ]
    },
    {
     "name": "stderr",
     "output_type": "stream",
     "text": [
      "Processing Non-Demented:  77%|████████████████████████████████████████▏           | 2476/3200 [00:04<00:01, 629.06it/s]"
     ]
    },
    {
     "name": "stdout",
     "output_type": "stream",
     "text": [
      "Batch images shape: (16, 128, 128, 3)\n",
      "Batch labels shape: (16, 1)\n",
      "Batch images shape: (16, 128, 128, 3)\n",
      "Batch labels shape: (16, 1)\n",
      "Batch images shape: (16, 128, 128, 3)\n",
      "Batch labels shape: (16, 1)\n",
      "Batch images shape: (16, 128, 128, 3)\n",
      "Batch labels shape: (16, 1)\n",
      "Batch images shape: (16, 128, 128, 3)\n",
      "Batch labels shape: (16, 1)\n",
      "Batch images shape: (16, 128, 128, 3)\n",
      "Batch labels shape: (16, 1)\n",
      "Batch images shape: (16, 128, 128, 3)\n",
      "Batch labels shape: (16, 1)\n",
      "Batch images shape: (16, 128, 128, 3)\n",
      "Batch labels shape: (16, 1)\n",
      "Batch images shape: (16, 128, 128, 3)\n",
      "Batch labels shape: (16, 1)\n",
      "Batch images shape: (16, 128, 128, 3)\n",
      "Batch labels shape: (16, 1)\n"
     ]
    },
    {
     "name": "stderr",
     "output_type": "stream",
     "text": [
      "Processing Non-Demented:  83%|███████████████████████████████████████████▏        | 2658/3200 [00:04<00:00, 747.02it/s]"
     ]
    },
    {
     "name": "stdout",
     "output_type": "stream",
     "text": [
      "Batch images shape: (16, 128, 128, 3)\n",
      "Batch labels shape: (16, 1)\n",
      "Batch images shape: (16, 128, 128, 3)\n",
      "Batch labels shape: (16, 1)\n",
      "Batch images shape: (16, 128, 128, 3)\n",
      "Batch labels shape: (16, 1)\n",
      "Batch images shape: (16, 128, 128, 3)\n",
      "Batch labels shape: (16, 1)\n",
      "Batch images shape: (16, 128, 128, 3)\n",
      "Batch labels shape: (16, 1)\n",
      "Batch images shape: (16, 128, 128, 3)\n",
      "Batch labels shape: (16, 1)\n",
      "Batch images shape: (16, 128, 128, 3)\n",
      "Batch labels shape: (16, 1)\n",
      "Batch images shape: (16, 128, 128, 3)\n",
      "Batch labels shape: (16, 1)\n",
      "Batch images shape: (16, 128, 128, 3)\n",
      "Batch labels shape: (16, 1)\n",
      "Batch images shape: (16, 128, 128, 3)\n",
      "Batch labels shape: (16, 1)\n",
      "Batch images shape: (16, 128, 128, 3)\n",
      "Batch labels shape: (16, 1)\n"
     ]
    },
    {
     "name": "stderr",
     "output_type": "stream",
     "text": [
      "Processing Non-Demented:  88%|█████████████████████████████████████████████▉      | 2827/3200 [00:04<00:00, 772.89it/s]"
     ]
    },
    {
     "name": "stdout",
     "output_type": "stream",
     "text": [
      "Batch images shape: (16, 128, 128, 3)\n",
      "Batch labels shape: (16, 1)\n",
      "Batch images shape: (16, 128, 128, 3)\n",
      "Batch labels shape: (16, 1)\n",
      "Batch images shape: (16, 128, 128, 3)\n",
      "Batch labels shape: (16, 1)\n",
      "Batch images shape: (16, 128, 128, 3)\n",
      "Batch labels shape: (16, 1)\n",
      "Batch images shape: (16, 128, 128, 3)\n",
      "Batch labels shape: (16, 1)\n",
      "Batch images shape: (16, 128, 128, 3)\n",
      "Batch labels shape: (16, 1)\n",
      "Batch images shape: (16, 128, 128, 3)\n",
      "Batch labels shape: (16, 1)\n",
      "Batch images shape: (16, 128, 128, 3)\n",
      "Batch labels shape: (16, 1)\n",
      "Batch images shape: (16, 128, 128, 3)\n",
      "Batch labels shape: (16, 1)\n",
      "Batch images shape: (16, 128, 128, 3)\n",
      "Batch labels shape: (16, 1)\n",
      "Batch images shape: (16, 128, 128, 3)\n",
      "Batch labels shape: (16, 1)\n"
     ]
    },
    {
     "name": "stderr",
     "output_type": "stream",
     "text": [
      "Processing Non-Demented:  93%|████████████████████████████████████████████████▍   | 2982/3200 [00:04<00:00, 693.36it/s]"
     ]
    },
    {
     "name": "stdout",
     "output_type": "stream",
     "text": [
      "Batch images shape: (16, 128, 128, 3)\n",
      "Batch labels shape: (16, 1)\n",
      "Batch images shape: (16, 128, 128, 3)\n",
      "Batch labels shape: (16, 1)\n",
      "Batch images shape: (16, 128, 128, 3)\n",
      "Batch labels shape: (16, 1)\n",
      "Batch images shape: (16, 128, 128, 3)\n",
      "Batch labels shape: (16, 1)\n",
      "Batch images shape: (16, 128, 128, 3)\n",
      "Batch labels shape: (16, 1)\n",
      "Batch images shape: (16, 128, 128, 3)\n",
      "Batch labels shape: (16, 1)\n",
      "Batch images shape: (16, 128, 128, 3)\n",
      "Batch labels shape: (16, 1)\n"
     ]
    },
    {
     "name": "stderr",
     "output_type": "stream",
     "text": [
      "Processing Non-Demented:  95%|█████████████████████████████████████████████████▌  | 3053/3200 [00:04<00:00, 639.39it/s]"
     ]
    },
    {
     "name": "stdout",
     "output_type": "stream",
     "text": [
      "Batch images shape: (16, 128, 128, 3)\n",
      "Batch labels shape: (16, 1)\n",
      "Batch images shape: (16, 128, 128, 3)\n",
      "Batch labels shape: (16, 1)\n",
      "Batch images shape: (16, 128, 128, 3)\n",
      "Batch labels shape: (16, 1)\n",
      "Batch images shape: (16, 128, 128, 3)\n",
      "Batch labels shape: (16, 1)\n",
      "Batch images shape: (16, 128, 128, 3)\n",
      "Batch labels shape: (16, 1)\n",
      "Batch images shape: (16, 128, 128, 3)\n",
      "Batch labels shape: (16, 1)\n"
     ]
    },
    {
     "name": "stderr",
     "output_type": "stream",
     "text": [
      "Processing Non-Demented: 100%|████████████████████████████████████████████████████| 3200/3200 [00:05<00:00, 606.79it/s]"
     ]
    },
    {
     "name": "stdout",
     "output_type": "stream",
     "text": [
      "Batch images shape: (16, 128, 128, 3)\n",
      "Batch labels shape: (16, 1)\n",
      "Batch images shape: (16, 128, 128, 3)\n",
      "Batch labels shape: (16, 1)\n",
      "Batch images shape: (16, 128, 128, 3)\n",
      "Batch labels shape: (16, 1)\n",
      "Batch images shape: (16, 128, 128, 3)\n",
      "Batch labels shape: (16, 1)\n",
      "Batch images shape: (16, 128, 128, 3)\n",
      "Batch labels shape: (16, 1)\n",
      "Batch images shape: (16, 128, 128, 3)\n",
      "Batch labels shape: (16, 1)\n"
     ]
    },
    {
     "name": "stderr",
     "output_type": "stream",
     "text": [
      "\n",
      "Processing VeryMild-Demented:   6%|██▊                                             | 132/2240 [00:00<00:03, 654.65it/s]"
     ]
    },
    {
     "name": "stdout",
     "output_type": "stream",
     "text": [
      "Batch images shape: (16, 128, 128, 3)\n",
      "Batch labels shape: (16, 1)\n",
      "Batch images shape: (16, 128, 128, 3)\n",
      "Batch labels shape: (16, 1)\n",
      "Batch images shape: (16, 128, 128, 3)\n",
      "Batch labels shape: (16, 1)\n",
      "Batch images shape: (16, 128, 128, 3)\n",
      "Batch labels shape: (16, 1)\n",
      "Batch images shape: (16, 128, 128, 3)\n",
      "Batch labels shape: (16, 1)\n",
      "Batch images shape: (16, 128, 128, 3)\n",
      "Batch labels shape: (16, 1)\n",
      "Batch images shape: (16, 128, 128, 3)\n",
      "Batch labels shape: (16, 1)\n",
      "Batch images shape: (16, 128, 128, 3)\n",
      "Batch labels shape: (16, 1)\n",
      "Batch images shape: (16, 128, 128, 3)\n",
      "Batch labels shape: (16, 1)\n"
     ]
    },
    {
     "name": "stderr",
     "output_type": "stream",
     "text": [
      "Processing VeryMild-Demented:  12%|█████▉                                          | 277/2240 [00:00<00:02, 681.53it/s]"
     ]
    },
    {
     "name": "stdout",
     "output_type": "stream",
     "text": [
      "Batch images shape: (16, 128, 128, 3)\n",
      "Batch labels shape: (16, 1)\n",
      "Batch images shape: (16, 128, 128, 3)\n",
      "Batch labels shape: (16, 1)\n",
      "Batch images shape: (16, 128, 128, 3)\n",
      "Batch labels shape: (16, 1)\n",
      "Batch images shape: (16, 128, 128, 3)\n",
      "Batch labels shape: (16, 1)\n",
      "Batch images shape: (16, 128, 128, 3)\n",
      "Batch labels shape: (16, 1)\n",
      "Batch images shape: (16, 128, 128, 3)\n",
      "Batch labels shape: (16, 1)\n",
      "Batch images shape: (16, 128, 128, 3)\n",
      "Batch labels shape: (16, 1)\n",
      "Batch images shape: (16, 128, 128, 3)\n",
      "Batch labels shape: (16, 1)\n",
      "Batch images shape: (16, 128, 128, 3)\n",
      "Batch labels shape: (16, 1)\n",
      "Batch images shape: (16, 128, 128, 3)\n",
      "Batch labels shape: (16, 1)\n"
     ]
    },
    {
     "name": "stderr",
     "output_type": "stream",
     "text": [
      "Processing VeryMild-Demented:  19%|█████████                                       | 425/2240 [00:00<00:02, 712.14it/s]"
     ]
    },
    {
     "name": "stdout",
     "output_type": "stream",
     "text": [
      "Batch images shape: (16, 128, 128, 3)\n",
      "Batch labels shape: (16, 1)\n",
      "Batch images shape: (16, 128, 128, 3)\n",
      "Batch labels shape: (16, 1)\n",
      "Batch images shape: (16, 128, 128, 3)\n",
      "Batch labels shape: (16, 1)\n",
      "Batch images shape: (16, 128, 128, 3)\n",
      "Batch labels shape: (16, 1)\n",
      "Batch images shape: (16, 128, 128, 3)\n",
      "Batch labels shape: (16, 1)\n",
      "Batch images shape: (16, 128, 128, 3)\n",
      "Batch labels shape: (16, 1)\n",
      "Batch images shape: (16, 128, 128, 3)\n",
      "Batch labels shape: (16, 1)\n",
      "Batch images shape: (16, 128, 128, 3)\n",
      "Batch labels shape: (16, 1)\n",
      "Batch images shape: (16, 128, 128, 3)\n",
      "Batch labels shape: (16, 1)\n",
      "Batch images shape: (16, 128, 128, 3)\n",
      "Batch labels shape: (16, 1)\n"
     ]
    },
    {
     "name": "stderr",
     "output_type": "stream",
     "text": [
      "Processing VeryMild-Demented:  26%|████████████▎                                   | 574/2240 [00:00<00:02, 694.31it/s]"
     ]
    },
    {
     "name": "stdout",
     "output_type": "stream",
     "text": [
      "Batch images shape: (16, 128, 128, 3)\n",
      "Batch labels shape: (16, 1)\n",
      "Batch images shape: (16, 128, 128, 3)\n",
      "Batch labels shape: (16, 1)\n",
      "Batch images shape: (16, 128, 128, 3)\n",
      "Batch labels shape: (16, 1)\n",
      "Batch images shape: (16, 128, 128, 3)\n",
      "Batch labels shape: (16, 1)\n",
      "Batch images shape: (16, 128, 128, 3)\n",
      "Batch labels shape: (16, 1)\n",
      "Batch images shape: (16, 128, 128, 3)\n",
      "Batch labels shape: (16, 1)\n",
      "Batch images shape: (16, 128, 128, 3)\n",
      "Batch labels shape: (16, 1)\n",
      "Batch images shape: (16, 128, 128, 3)\n",
      "Batch labels shape: (16, 1)\n",
      "Batch images shape: (16, 128, 128, 3)\n",
      "Batch labels shape: (16, 1)\n"
     ]
    },
    {
     "name": "stderr",
     "output_type": "stream",
     "text": [
      "Processing VeryMild-Demented:  32%|███████████████▍                                | 720/2240 [00:01<00:02, 710.39it/s]"
     ]
    },
    {
     "name": "stdout",
     "output_type": "stream",
     "text": [
      "Batch images shape: (16, 128, 128, 3)\n",
      "Batch labels shape: (16, 1)\n",
      "Batch images shape: (16, 128, 128, 3)\n",
      "Batch labels shape: (16, 1)\n",
      "Batch images shape: (16, 128, 128, 3)\n",
      "Batch labels shape: (16, 1)\n",
      "Batch images shape: (16, 128, 128, 3)\n",
      "Batch labels shape: (16, 1)\n",
      "Batch images shape: (16, 128, 128, 3)\n",
      "Batch labels shape: (16, 1)\n",
      "Batch images shape: (16, 128, 128, 3)\n",
      "Batch labels shape: (16, 1)\n",
      "Batch images shape: (16, 128, 128, 3)\n",
      "Batch labels shape: (16, 1)\n",
      "Batch images shape: (16, 128, 128, 3)\n",
      "Batch labels shape: (16, 1)\n",
      "Batch images shape: (16, 128, 128, 3)\n",
      "Batch labels shape: (16, 1)\n",
      "Batch images shape: (16, 128, 128, 3)\n",
      "Batch labels shape: (16, 1)\n"
     ]
    },
    {
     "name": "stderr",
     "output_type": "stream",
     "text": [
      "Processing VeryMild-Demented:  39%|██████████████████▌                             | 864/2240 [00:01<00:01, 690.76it/s]"
     ]
    },
    {
     "name": "stdout",
     "output_type": "stream",
     "text": [
      "Batch images shape: (16, 128, 128, 3)\n",
      "Batch labels shape: (16, 1)\n",
      "Batch images shape: (16, 128, 128, 3)\n",
      "Batch labels shape: (16, 1)\n",
      "Batch images shape: (16, 128, 128, 3)\n",
      "Batch labels shape: (16, 1)\n",
      "Batch images shape: (16, 128, 128, 3)\n",
      "Batch labels shape: (16, 1)\n",
      "Batch images shape: (16, 128, 128, 3)\n",
      "Batch labels shape: (16, 1)\n",
      "Batch images shape: (16, 128, 128, 3)\n",
      "Batch labels shape: (16, 1)\n",
      "Batch images shape: (16, 128, 128, 3)\n",
      "Batch labels shape: (16, 1)\n"
     ]
    },
    {
     "name": "stderr",
     "output_type": "stream",
     "text": [
      "Processing VeryMild-Demented:  45%|█████████████████████                          | 1004/2240 [00:01<00:01, 653.55it/s]"
     ]
    },
    {
     "name": "stdout",
     "output_type": "stream",
     "text": [
      "Batch images shape: (16, 128, 128, 3)\n",
      "Batch labels shape: (16, 1)\n",
      "Batch images shape: (16, 128, 128, 3)\n",
      "Batch labels shape: (16, 1)\n",
      "Batch images shape: (16, 128, 128, 3)\n",
      "Batch labels shape: (16, 1)\n",
      "Batch images shape: (16, 128, 128, 3)\n",
      "Batch labels shape: (16, 1)\n",
      "Batch images shape: (16, 128, 128, 3)\n",
      "Batch labels shape: (16, 1)\n",
      "Batch images shape: (16, 128, 128, 3)\n",
      "Batch labels shape: (16, 1)\n",
      "Batch images shape: (16, 128, 128, 3)\n",
      "Batch labels shape: (16, 1)\n",
      "Batch images shape: (16, 128, 128, 3)\n",
      "Batch labels shape: (16, 1)\n",
      "Batch images shape: (16, 128, 128, 3)\n",
      "Batch labels shape: (16, 1)\n"
     ]
    },
    {
     "name": "stderr",
     "output_type": "stream",
     "text": [
      "Processing VeryMild-Demented:  51%|███████████████████████▊                       | 1135/2240 [00:01<00:01, 611.24it/s]"
     ]
    },
    {
     "name": "stdout",
     "output_type": "stream",
     "text": [
      "Batch images shape: (16, 128, 128, 3)\n",
      "Batch labels shape: (16, 1)\n",
      "Batch images shape: (16, 128, 128, 3)\n",
      "Batch labels shape: (16, 1)\n",
      "Batch images shape: (16, 128, 128, 3)\n",
      "Batch labels shape: (16, 1)\n",
      "Batch images shape: (16, 128, 128, 3)\n",
      "Batch labels shape: (16, 1)\n",
      "Batch images shape: (16, 128, 128, 3)\n",
      "Batch labels shape: (16, 1)\n",
      "Batch images shape: (16, 128, 128, 3)\n",
      "Batch labels shape: (16, 1)\n",
      "Batch images shape: (16, 128, 128, 3)\n",
      "Batch labels shape: (16, 1)\n"
     ]
    },
    {
     "name": "stderr",
     "output_type": "stream",
     "text": [
      "Processing VeryMild-Demented:  54%|█████████████████████████▏                     | 1203/2240 [00:01<00:01, 610.20it/s]"
     ]
    },
    {
     "name": "stdout",
     "output_type": "stream",
     "text": [
      "Batch images shape: (16, 128, 128, 3)\n",
      "Batch labels shape: (16, 1)\n",
      "Batch images shape: (16, 128, 128, 3)\n",
      "Batch labels shape: (16, 1)\n",
      "Batch images shape: (16, 128, 128, 3)\n",
      "Batch labels shape: (16, 1)\n",
      "Batch images shape: (16, 128, 128, 3)\n",
      "Batch labels shape: (16, 1)\n",
      "Batch images shape: (16, 128, 128, 3)\n",
      "Batch labels shape: (16, 1)\n",
      "Batch images shape: (16, 128, 128, 3)\n",
      "Batch labels shape: (16, 1)\n",
      "Batch images shape: (16, 128, 128, 3)\n",
      "Batch labels shape: (16, 1)\n",
      "Batch images shape: (16, 128, 128, 3)\n",
      "Batch labels shape: (16, 1)\n"
     ]
    },
    {
     "name": "stderr",
     "output_type": "stream",
     "text": [
      "Processing VeryMild-Demented:  60%|████████████████████████████▍                  | 1355/2240 [00:02<00:01, 664.87it/s]"
     ]
    },
    {
     "name": "stdout",
     "output_type": "stream",
     "text": [
      "Batch images shape: (16, 128, 128, 3)\n",
      "Batch labels shape: (16, 1)\n",
      "Batch images shape: (16, 128, 128, 3)\n",
      "Batch labels shape: (16, 1)\n",
      "Batch images shape: (16, 128, 128, 3)\n",
      "Batch labels shape: (16, 1)\n",
      "Batch images shape: (16, 128, 128, 3)\n",
      "Batch labels shape: (16, 1)\n",
      "Batch images shape: (16, 128, 128, 3)\n",
      "Batch labels shape: (16, 1)\n",
      "Batch images shape: (16, 128, 128, 3)\n",
      "Batch labels shape: (16, 1)\n",
      "Batch images shape: (16, 128, 128, 3)\n",
      "Batch labels shape: (16, 1)\n",
      "Batch images shape: (16, 128, 128, 3)\n",
      "Batch labels shape: (16, 1)\n",
      "Batch images shape: (16, 128, 128, 3)\n",
      "Batch labels shape: (16, 1)\n",
      "Batch images shape: (16, 128, 128, 3)\n",
      "Batch labels shape: (16, 1)\n"
     ]
    },
    {
     "name": "stderr",
     "output_type": "stream",
     "text": [
      "Processing VeryMild-Demented:  67%|███████████████████████████████▋               | 1510/2240 [00:02<00:01, 709.51it/s]"
     ]
    },
    {
     "name": "stdout",
     "output_type": "stream",
     "text": [
      "Batch images shape: (16, 128, 128, 3)\n",
      "Batch labels shape: (16, 1)\n",
      "Batch images shape: (16, 128, 128, 3)\n",
      "Batch labels shape: (16, 1)\n",
      "Batch images shape: (16, 128, 128, 3)\n",
      "Batch labels shape: (16, 1)\n",
      "Batch images shape: (16, 128, 128, 3)\n",
      "Batch labels shape: (16, 1)\n",
      "Batch images shape: (16, 128, 128, 3)\n",
      "Batch labels shape: (16, 1)\n",
      "Batch images shape: (16, 128, 128, 3)\n",
      "Batch labels shape: (16, 1)\n",
      "Batch images shape: (16, 128, 128, 3)\n",
      "Batch labels shape: (16, 1)\n",
      "Batch images shape: (16, 128, 128, 3)\n",
      "Batch labels shape: (16, 1)\n",
      "Batch images shape: (16, 128, 128, 3)\n",
      "Batch labels shape: (16, 1)\n",
      "Batch images shape: (16, 128, 128, 3)\n",
      "Batch labels shape: (16, 1)\n"
     ]
    },
    {
     "name": "stderr",
     "output_type": "stream",
     "text": [
      "Processing VeryMild-Demented:  75%|███████████████████████████████████▎           | 1684/2240 [00:02<00:00, 767.10it/s]"
     ]
    },
    {
     "name": "stdout",
     "output_type": "stream",
     "text": [
      "Batch images shape: (16, 128, 128, 3)\n",
      "Batch labels shape: (16, 1)\n",
      "Batch images shape: (16, 128, 128, 3)\n",
      "Batch labels shape: (16, 1)\n",
      "Batch images shape: (16, 128, 128, 3)\n",
      "Batch labels shape: (16, 1)\n",
      "Batch images shape: (16, 128, 128, 3)\n",
      "Batch labels shape: (16, 1)\n",
      "Batch images shape: (16, 128, 128, 3)\n",
      "Batch labels shape: (16, 1)\n",
      "Batch images shape: (16, 128, 128, 3)\n",
      "Batch labels shape: (16, 1)\n",
      "Batch images shape: (16, 128, 128, 3)\n",
      "Batch labels shape: (16, 1)\n",
      "Batch images shape: (16, 128, 128, 3)\n",
      "Batch labels shape: (16, 1)\n",
      "Batch images shape: (16, 128, 128, 3)\n",
      "Batch labels shape: (16, 1)\n",
      "Batch images shape: (16, 128, 128, 3)\n",
      "Batch labels shape: (16, 1)\n",
      "Batch images shape: (16, 128, 128, 3)\n",
      "Batch labels shape: (16, 1)\n"
     ]
    },
    {
     "name": "stderr",
     "output_type": "stream",
     "text": [
      "Processing VeryMild-Demented:  82%|██████████████████████████████████████▌        | 1840/2240 [00:02<00:00, 663.07it/s]"
     ]
    },
    {
     "name": "stdout",
     "output_type": "stream",
     "text": [
      "Batch images shape: (16, 128, 128, 3)\n",
      "Batch labels shape: (16, 1)\n",
      "Batch images shape: (16, 128, 128, 3)\n",
      "Batch labels shape: (16, 1)\n",
      "Batch images shape: (16, 128, 128, 3)\n",
      "Batch labels shape: (16, 1)\n",
      "Batch images shape: (16, 128, 128, 3)\n",
      "Batch labels shape: (16, 1)\n",
      "Batch images shape: (16, 128, 128, 3)\n",
      "Batch labels shape: (16, 1)\n",
      "Batch images shape: (16, 128, 128, 3)\n",
      "Batch labels shape: (16, 1)\n"
     ]
    },
    {
     "name": "stderr",
     "output_type": "stream",
     "text": [
      "Processing VeryMild-Demented:  85%|████████████████████████████████████████       | 1909/2240 [00:02<00:00, 587.66it/s]"
     ]
    },
    {
     "name": "stdout",
     "output_type": "stream",
     "text": [
      "Batch images shape: (16, 128, 128, 3)\n",
      "Batch labels shape: (16, 1)\n",
      "Batch images shape: (16, 128, 128, 3)\n",
      "Batch labels shape: (16, 1)\n",
      "Batch images shape: (16, 128, 128, 3)\n",
      "Batch labels shape: (16, 1)\n",
      "Batch images shape: (16, 128, 128, 3)\n",
      "Batch labels shape: (16, 1)\n",
      "Batch images shape: (16, 128, 128, 3)\n",
      "Batch labels shape: (16, 1)\n",
      "Batch images shape: (16, 128, 128, 3)\n",
      "Batch labels shape: (16, 1)\n",
      "Batch images shape: (16, 128, 128, 3)\n",
      "Batch labels shape: (16, 1)\n"
     ]
    },
    {
     "name": "stderr",
     "output_type": "stream",
     "text": [
      "Processing VeryMild-Demented:  91%|██████████████████████████████████████████▋    | 2033/2240 [00:03<00:00, 521.65it/s]"
     ]
    },
    {
     "name": "stdout",
     "output_type": "stream",
     "text": [
      "Batch images shape: (16, 128, 128, 3)\n",
      "Batch labels shape: (16, 1)\n",
      "Batch images shape: (16, 128, 128, 3)\n",
      "Batch labels shape: (16, 1)\n",
      "Batch images shape: (16, 128, 128, 3)\n",
      "Batch labels shape: (16, 1)\n",
      "Batch images shape: (16, 128, 128, 3)\n",
      "Batch labels shape: (16, 1)\n",
      "Batch images shape: (16, 128, 128, 3)\n",
      "Batch labels shape: (16, 1)\n"
     ]
    },
    {
     "name": "stderr",
     "output_type": "stream",
     "text": [
      "Processing VeryMild-Demented:  93%|███████████████████████████████████████████▊   | 2088/2240 [00:03<00:00, 432.64it/s]"
     ]
    },
    {
     "name": "stdout",
     "output_type": "stream",
     "text": [
      "Batch images shape: (16, 128, 128, 3)\n",
      "Batch labels shape: (16, 1)\n",
      "Batch images shape: (16, 128, 128, 3)\n",
      "Batch labels shape: (16, 1)\n",
      "Batch images shape: (16, 128, 128, 3)\n",
      "Batch labels shape: (16, 1)\n",
      "Batch images shape: (16, 128, 128, 3)\n",
      "Batch labels shape: (16, 1)\n"
     ]
    },
    {
     "name": "stderr",
     "output_type": "stream",
     "text": [
      "Processing VeryMild-Demented:  98%|█████████████████████████████████████████████▊ | 2184/2240 [00:03<00:00, 399.52it/s]"
     ]
    },
    {
     "name": "stdout",
     "output_type": "stream",
     "text": [
      "Batch images shape: (16, 128, 128, 3)\n",
      "Batch labels shape: (16, 1)\n",
      "Batch images shape: (16, 128, 128, 3)\n",
      "Batch labels shape: (16, 1)\n",
      "Batch images shape: (16, 128, 128, 3)\n",
      "Batch labels shape: (16, 1)\n",
      "Batch images shape: (16, 128, 128, 3)\n",
      "Batch labels shape: (16, 1)\n",
      "Batch images shape: (16, 128, 128, 3)\n",
      "Batch labels shape: (16, 1)\n",
      "Batch images shape: (16, 128, 128, 3)\n",
      "Batch labels shape: (16, 1)\n",
      "Batch images shape: (16, 128, 128, 3)\n",
      "Batch labels shape: (16, 1)\n"
     ]
    },
    {
     "name": "stderr",
     "output_type": "stream",
     "text": [
      "Processing VeryMild-Demented: 100%|███████████████████████████████████████████████| 2240/2240 [00:03<00:00, 605.92it/s]"
     ]
    },
    {
     "name": "stdout",
     "output_type": "stream",
     "text": [
      "Batch images shape: (16, 128, 128, 3)\n",
      "Batch labels shape: (16, 1)\n"
     ]
    },
    {
     "name": "stderr",
     "output_type": "stream",
     "text": [
      "\n"
     ]
    }
   ],
   "source": [
    "import os\n",
    "import numpy as np\n",
    "import cv2\n",
    "from sklearn.preprocessing import LabelBinarizer\n",
    "from tqdm import tqdm\n",
    "\n",
    "# Set directories\n",
    "base_dir = \"C:\\\\Users\\\\HP\\\\Downloads\\\\Dataset_Alzheimer23\"\n",
    "class_dirs = {\n",
    "    \"Mild-Demented\": os.path.join(base_dir, \"Mild_Demented\"),\n",
    "    \"Moderate-Demented\": os.path.join(base_dir, \"Moderate_Demented\"),\n",
    "    \"Non-Demented\": os.path.join(base_dir, \"Non_Demented\"),\n",
    "    \"VeryMild-Demented\": os.path.join(base_dir, \"Very_Mild_Demented\")\n",
    "}\n",
    "\n",
    "# Define preprocessing parameters\n",
    "target_size = (128, 128)  # Standardized for better model performance\n",
    "batch_size = 16  # Matches typical model input batch size\n",
    "\n",
    "# Initialize LabelBinarizer\n",
    "lb = LabelBinarizer()\n",
    "lb.fit([\"Demented\", \"Non-Demented\"])  # Fit only once globally\n",
    "\n",
    "# Generator function to yield batches\n",
    "def image_generator():\n",
    "    images = []\n",
    "    labels = []\n",
    "    valid_extensions = (\".jpg\", \".png\", \".jpeg\")\n",
    "\n",
    "    for class_name, class_dir in class_dirs.items():\n",
    "        for img_file in tqdm(os.listdir(class_dir), desc=f'Processing {class_name}'):\n",
    "            if not img_file.lower().endswith(valid_extensions):\n",
    "                continue  # Skip non-image files\n",
    "            \n",
    "            img_path = os.path.join(class_dir, img_file)\n",
    "            img = cv2.imread(img_path)\n",
    "\n",
    "            # Resize using bicubic interpolation\n",
    "            img_resized = cv2.resize(img, target_size, interpolation=cv2.INTER_CUBIC)\n",
    "\n",
    "            # Convert to grayscale for CLAHE\n",
    "            img_gray = cv2.cvtColor(img_resized, cv2.COLOR_BGR2GRAY)\n",
    "            clahe = cv2.createCLAHE(clipLimit=2.0, tileGridSize=(8, 8))\n",
    "            img_clahe = clahe.apply(img_gray)\n",
    "\n",
    "            # Normalize using min-max scaling (safer than mean-std)\n",
    "            img_normalized = cv2.normalize(img_clahe, None, 0, 255, cv2.NORM_MINMAX)\n",
    "\n",
    "            # Convert back to 3-channel format for CNN models\n",
    "            img_final = cv2.cvtColor(img_normalized.astype(np.uint8), cv2.COLOR_GRAY2BGR)\n",
    "\n",
    "            # Assign labels\n",
    "            label = \"Demented\" if class_name in [\"Mild-Demented\", \"Moderate-Demented\", \"VeryMild-Demented\"] else \"Non-Demented\"\n",
    "\n",
    "            images.append(img_final)\n",
    "            labels.append(label)\n",
    "\n",
    "            # Yield batch\n",
    "            if len(images) == batch_size:\n",
    "                yield np.array(images), lb.transform(labels)\n",
    "                images, labels = [], []  # Reset for next batch\n",
    "\n",
    "    # Yield remaining images if any\n",
    "    if images:\n",
    "        yield np.array(images), lb.transform(labels)\n",
    "\n",
    "# Example usage\n",
    "for batch_images, batch_labels in image_generator():\n",
    "    print(f\"Batch images shape: {batch_images.shape}\")\n",
    "    print(f\"Batch labels shape: {batch_labels.shape}\")\n",
    "# Define source directory paths\n"
   ]
  },
  {
   "cell_type": "code",
   "execution_count": 2,
   "id": "82d085e2-b807-4dbf-8584-aefbf810eeda",
   "metadata": {},
   "outputs": [
    {
     "name": "stderr",
     "output_type": "stream",
     "text": [
      "Copying to D:\\Alzheimer_Inception_v3New\\train\\Demented: 100%|█████████████████████| 2560/2560 [00:08<00:00, 315.83it/s]\n",
      "Copying to D:\\Alzheimer_Inception_v3New\\test\\Demented: 100%|████████████████████████| 640/640 [00:01<00:00, 350.10it/s]\n",
      "Copying to D:\\Alzheimer_Inception_v3New\\train\\Non-Demented: 100%|█████████████████| 2560/2560 [00:07<00:00, 355.88it/s]\n",
      "Copying to D:\\Alzheimer_Inception_v3New\\test\\Non-Demented: 100%|████████████████████| 640/640 [00:01<00:00, 343.56it/s]\n",
      "Loading 1 images: 100%|██████████████████████████████████████████████████████████| 2560/2560 [00:02<00:00, 1014.77it/s]\n",
      "Loading 0 images: 100%|███████████████████████████████████████████████████████████| 2560/2560 [00:02<00:00, 986.24it/s]\n",
      "Loading 1 images: 100%|████████████████████████████████████████████████████████████| 640/640 [00:00<00:00, 1006.43it/s]\n",
      "Loading 0 images: 100%|█████████████████████████████████████████████████████████████| 640/640 [00:00<00:00, 734.15it/s]\n"
     ]
    },
    {
     "name": "stdout",
     "output_type": "stream",
     "text": [
      "Training - Demented: 2560, Non-Demented: 2560\n",
      "Testing - Demented: 640, Non-Demented: 640\n",
      "Dataset successfully split and loaded!\n"
     ]
    }
   ],
   "source": [
    "import os\n",
    "import shutil\n",
    "import random\n",
    "import numpy as np\n",
    "from tqdm import tqdm\n",
    "from PIL import Image\n",
    "\n",
    "source_dirs = {\n",
    "    \"Demented\": [\n",
    "        \"C:\\\\Users\\\\HP\\\\Downloads\\\\Dataset_Alzheimer23\\\\Mild_Demented\",\n",
    "        \"C:\\\\Users\\\\HP\\\\Downloads\\\\Dataset_Alzheimer23\\\\Moderate_Demented\",\n",
    "        \"C:\\\\Users\\\\HP\\\\Downloads\\\\Dataset_Alzheimer23\\\\Very_Mild_Demented\"\n",
    "    ],\n",
    "    \"Non-Demented\": [\"C:\\\\Users\\\\HP\\\\Downloads\\\\Dataset_Alzheimer23\\\\Non_Demented\"]\n",
    "}\n",
    "\n",
    "# Define target directories\n",
    "new_base_dir = \"D:\\\\Alzheimer_Inception_v3New\"\n",
    "train_dir = os.path.join(new_base_dir, \"train\")\n",
    "test_dir = os.path.join(new_base_dir, \"test\")\n",
    "train_demented_dir = os.path.join(train_dir, \"Demented\")\n",
    "train_nondemented_dir = os.path.join(train_dir, \"Non-Demented\")\n",
    "test_demented_dir = os.path.join(test_dir, \"Demented\")\n",
    "test_nondemented_dir = os.path.join(test_dir, \"Non-Demented\")\n",
    "\n",
    "\n",
    "# Create directories if they don't exist\n",
    "for dir_path in [train_demented_dir, train_nondemented_dir, test_demented_dir, test_nondemented_dir]:\n",
    "    os.makedirs(dir_path, exist_ok=True)\n",
    "\n",
    "# Function to shuffle and split data\n",
    "def shuffle_and_split_data(source_dirs, train_dir, test_dir, split_ratio=0.8):\n",
    "    all_images = []\n",
    "    valid_extensions = (\".jpg\", \".png\", \".jpeg\")\n",
    "\n",
    "    for source_dir in source_dirs:\n",
    "        for sub_dir in (source_dir if isinstance(source_dir, list) else [source_dir]):\n",
    "            for img_file in os.listdir(sub_dir):\n",
    "                if img_file.lower().endswith(valid_extensions):\n",
    "                    all_images.append(os.path.join(sub_dir, img_file))\n",
    "\n",
    "    # Shuffle images\n",
    "    random.shuffle(all_images)\n",
    "\n",
    "    # Split data\n",
    "    split_point = int(len(all_images) * split_ratio)\n",
    "    train_images, test_images = all_images[:split_point], all_images[split_point:]\n",
    "\n",
    "    # Copy images\n",
    "    for img_path in tqdm(train_images, desc=f'Copying to {train_dir}'):\n",
    "        shutil.copy(img_path, train_dir)\n",
    "    \n",
    "    for img_path in tqdm(test_images, desc=f'Copying to {test_dir}'):\n",
    "        shutil.copy(img_path, test_dir)\n",
    "    \n",
    "    return train_images, test_images\n",
    "\n",
    "# Split and copy data\n",
    "train_demented, test_demented = shuffle_and_split_data(source_dirs[\"Demented\"], train_demented_dir, test_demented_dir)\n",
    "train_nondemented, test_nondemented = shuffle_and_split_data(source_dirs[\"Non-Demented\"], train_nondemented_dir, test_nondemented_dir)\n",
    "\n",
    "# Load images without augmentation\n",
    "def load_images(image_paths, label):\n",
    "    images = []\n",
    "    labels = []\n",
    "    \n",
    "    for img_path in tqdm(image_paths, desc=f'Loading {label} images'):\n",
    "        try:\n",
    "            img = Image.open(img_path).convert(\"RGB\").resize((128, 128))\n",
    "            img_array = np.array(img)\n",
    "            \n",
    "            images.append(img_array)\n",
    "            labels.append(label)\n",
    "        except Exception as e:\n",
    "            print(f\"Error loading {img_path}: {e}\")\n",
    "    \n",
    "    return np.array(images), np.array(labels)\n",
    "\n",
    "# Load training and testing data\n",
    "X_train_demented, y_train_demented = load_images(train_demented, label=1)\n",
    "X_train_nondemented, y_train_nondemented = load_images(train_nondemented, label=0)\n",
    "X_test_demented, y_test_demented = load_images(test_demented, label=1)\n",
    "X_test_nondemented, y_test_nondemented = load_images(test_nondemented, label=0)\n",
    "\n",
    "# Combine training data\n",
    "X_train = np.concatenate([X_train_demented, X_train_nondemented], axis=0)\n",
    "y_train = np.concatenate([y_train_demented, y_train_nondemented], axis=0)\n",
    "\n",
    "# Combine testing data\n",
    "X_test = np.concatenate([X_test_demented, X_test_nondemented], axis=0)\n",
    "y_test = np.concatenate([y_test_demented, y_test_nondemented], axis=0)\n",
    "\n",
    "# Shuffle data\n",
    "indices_train = np.arange(len(X_train))\n",
    "indices_test = np.arange(len(X_test))\n",
    "np.random.shuffle(indices_train)\n",
    "np.random.shuffle(indices_test)\n",
    "\n",
    "X_train, y_train = X_train[indices_train], y_train[indices_train]\n",
    "X_test, y_test = X_test[indices_test], y_test[indices_test]\n",
    "\n",
    "# Normalize images (convert pixel values to [0,1])\n",
    "X_train = X_train.astype(\"float32\") / 255.0\n",
    "X_test = X_test.astype(\"float32\") / 255.0\n",
    "\n",
    "# Print dataset summary\n",
    "print(f\"Training - Demented: {len(y_train_demented)}, Non-Demented: {len(y_train_nondemented)}\")\n",
    "print(f\"Testing - Demented: {len(y_test_demented)}, Non-Demented: {len(y_test_nondemented)}\")\n",
    "print(\"Dataset successfully split and loaded!\")\n"
   ]
  },
  {
   "cell_type": "code",
   "execution_count": 4,
   "id": "6244dec1-59cd-4bca-8e1c-e556d4b4c2fa",
   "metadata": {},
   "outputs": [
    {
     "name": "stdout",
     "output_type": "stream",
     "text": [
      "Epoch 1/15\n",
      "\u001b[1m160/160\u001b[0m \u001b[32m━━━━━━━━━━━━━━━━━━━━\u001b[0m\u001b[37m\u001b[0m \u001b[1m659s\u001b[0m 4s/step - accuracy: 0.5598 - loss: 0.8842 - val_accuracy: 0.5336 - val_loss: 0.7296 - learning_rate: 1.0000e-04\n",
      "Epoch 2/15\n",
      "\u001b[1m160/160\u001b[0m \u001b[32m━━━━━━━━━━━━━━━━━━━━\u001b[0m\u001b[37m\u001b[0m \u001b[1m619s\u001b[0m 4s/step - accuracy: 0.6800 - loss: 0.6829 - val_accuracy: 0.6336 - val_loss: 0.6574 - learning_rate: 1.0000e-04\n",
      "Epoch 3/15\n",
      "\u001b[1m160/160\u001b[0m \u001b[32m━━━━━━━━━━━━━━━━━━━━\u001b[0m\u001b[37m\u001b[0m \u001b[1m557s\u001b[0m 3s/step - accuracy: 0.7524 - loss: 0.5598 - val_accuracy: 0.7117 - val_loss: 0.6101 - learning_rate: 1.0000e-04\n",
      "Epoch 4/15\n",
      "\u001b[1m160/160\u001b[0m \u001b[32m━━━━━━━━━━━━━━━━━━━━\u001b[0m\u001b[37m\u001b[0m \u001b[1m534s\u001b[0m 3s/step - accuracy: 0.8454 - loss: 0.3778 - val_accuracy: 0.8016 - val_loss: 0.4906 - learning_rate: 1.0000e-04\n",
      "Epoch 5/15\n",
      "\u001b[1m160/160\u001b[0m \u001b[32m━━━━━━━━━━━━━━━━━━━━\u001b[0m\u001b[37m\u001b[0m \u001b[1m550s\u001b[0m 3s/step - accuracy: 0.9126 - loss: 0.2252 - val_accuracy: 0.8945 - val_loss: 0.2855 - learning_rate: 1.0000e-04\n",
      "Epoch 6/15\n",
      "\u001b[1m160/160\u001b[0m \u001b[32m━━━━━━━━━━━━━━━━━━━━\u001b[0m\u001b[37m\u001b[0m \u001b[1m410s\u001b[0m 3s/step - accuracy: 0.9444 - loss: 0.1357 - val_accuracy: 0.8938 - val_loss: 0.2641 - learning_rate: 1.0000e-04\n",
      "Epoch 7/15\n",
      "\u001b[1m160/160\u001b[0m \u001b[32m━━━━━━━━━━━━━━━━━━━━\u001b[0m\u001b[37m\u001b[0m \u001b[1m404s\u001b[0m 3s/step - accuracy: 0.9549 - loss: 0.1039 - val_accuracy: 0.9383 - val_loss: 0.1788 - learning_rate: 1.0000e-04\n",
      "Epoch 8/15\n",
      "\u001b[1m160/160\u001b[0m \u001b[32m━━━━━━━━━━━━━━━━━━━━\u001b[0m\u001b[37m\u001b[0m \u001b[1m404s\u001b[0m 3s/step - accuracy: 0.9672 - loss: 0.0917 - val_accuracy: 0.9422 - val_loss: 0.1811 - learning_rate: 1.0000e-04\n",
      "Epoch 9/15\n",
      "\u001b[1m160/160\u001b[0m \u001b[32m━━━━━━━━━━━━━━━━━━━━\u001b[0m\u001b[37m\u001b[0m \u001b[1m403s\u001b[0m 3s/step - accuracy: 0.9674 - loss: 0.0902 - val_accuracy: 0.9523 - val_loss: 0.1195 - learning_rate: 1.0000e-04\n",
      "Epoch 10/15\n",
      "\u001b[1m160/160\u001b[0m \u001b[32m━━━━━━━━━━━━━━━━━━━━\u001b[0m\u001b[37m\u001b[0m \u001b[1m396s\u001b[0m 2s/step - accuracy: 0.9840 - loss: 0.0438 - val_accuracy: 0.9563 - val_loss: 0.1151 - learning_rate: 1.0000e-04\n",
      "Epoch 11/15\n",
      "\u001b[1m160/160\u001b[0m \u001b[32m━━━━━━━━━━━━━━━━━━━━\u001b[0m\u001b[37m\u001b[0m \u001b[1m402s\u001b[0m 3s/step - accuracy: 0.9856 - loss: 0.0405 - val_accuracy: 0.9422 - val_loss: 0.1920 - learning_rate: 1.0000e-04\n",
      "Epoch 12/15\n",
      "\u001b[1m160/160\u001b[0m \u001b[32m━━━━━━━━━━━━━━━━━━━━\u001b[0m\u001b[37m\u001b[0m \u001b[1m401s\u001b[0m 3s/step - accuracy: 0.9772 - loss: 0.0613 - val_accuracy: 0.6656 - val_loss: 1.9912 - learning_rate: 1.0000e-04\n",
      "Epoch 13/15\n",
      "\u001b[1m160/160\u001b[0m \u001b[32m━━━━━━━━━━━━━━━━━━━━\u001b[0m\u001b[37m\u001b[0m \u001b[1m402s\u001b[0m 3s/step - accuracy: 0.9614 - loss: 0.0920 - val_accuracy: 0.9523 - val_loss: 0.1313 - learning_rate: 1.0000e-04\n",
      "Epoch 14/15\n",
      "\u001b[1m160/160\u001b[0m \u001b[32m━━━━━━━━━━━━━━━━━━━━\u001b[0m\u001b[37m\u001b[0m \u001b[1m401s\u001b[0m 3s/step - accuracy: 0.9896 - loss: 0.0310 - val_accuracy: 0.9609 - val_loss: 0.1063 - learning_rate: 1.0000e-04\n",
      "Epoch 15/15\n",
      "\u001b[1m160/160\u001b[0m \u001b[32m━━━━━━━━━━━━━━━━━━━━\u001b[0m\u001b[37m\u001b[0m \u001b[1m405s\u001b[0m 3s/step - accuracy: 0.9875 - loss: 0.0347 - val_accuracy: 0.9609 - val_loss: 0.1414 - learning_rate: 1.0000e-04\n"
     ]
    },
    {
     "name": "stderr",
     "output_type": "stream",
     "text": [
      "WARNING:absl:You are saving your model as an HDF5 file via `model.save()` or `keras.saving.save_model(model)`. This file format is considered legacy. We recommend using instead the native Keras format, e.g. `model.save('my_model.keras')` or `keras.saving.save_model(model, 'my_model.keras')`. \n"
     ]
    },
    {
     "data": {
      "image/png": "[encoded data removed]",
      "text/plain": [
       "<Figure size 1000x500 with 2 Axes>"
      ]
     },
     "metadata": {},
     "output_type": "display_data"
    }
   ],
   "source": [
    "import numpy as np\n",
    "import matplotlib.pyplot as plt\n",
    "from tensorflow.keras.applications import InceptionV3\n",
    "from tensorflow.keras.layers import Dense, GlobalAveragePooling2D, Dropout, BatchNormalization\n",
    "from tensorflow.keras.models import Model\n",
    "from tensorflow.keras.optimizers import Adam\n",
    "from tensorflow.keras.callbacks import EarlyStopping, ReduceLROnPlateau\n",
    "\n",
    "# Define parameters\n",
    "input_shape = (128, 128, 3)\n",
    "epochs = 15\n",
    "learning_rate = 0.0001\n",
    "\n",
    "# Initialize InceptionV3 model with pre-trained weights\n",
    "base_model = InceptionV3(weights='imagenet', include_top=False, input_shape=input_shape)\n",
    "\n",
    "# Add custom layers\n",
    "x = base_model.output\n",
    "x = GlobalAveragePooling2D()(x)\n",
    "x = Dense(1024, activation='relu')(x)\n",
    "x = BatchNormalization()(x)  # Helps in stable training\n",
    "x = Dropout(0.5)(x)\n",
    "x = Dense(512, activation='relu')(x)\n",
    "x = BatchNormalization()(x)\n",
    "x = Dropout(0.3)(x)\n",
    "predictions = Dense(1, activation='sigmoid')(x)\n",
    "\n",
    "# Define the full model\n",
    "model = Model(inputs=base_model.input, outputs=predictions)\n",
    "\n",
    "# Unfreeze some layers in the base model\n",
    "for layer in base_model.layers[-50:]:  # Unfreezing the last 50 layers\n",
    "    layer.trainable = True\n",
    "\n",
    "# Compile the model with a lower learning rate\n",
    "model.compile(optimizer=Adam(learning_rate=learning_rate), loss='binary_crossentropy', metrics=['accuracy'])\n",
    "\n",
    "# Add callbacks for early stopping and dynamic learning rate adjustment\n",
    "early_stopping = EarlyStopping(monitor='val_loss', patience=10, restore_best_weights=True)\n",
    "lr_scheduler = ReduceLROnPlateau(monitor='val_loss', factor=0.2, patience=5, min_lr=1e-6)\n",
    "\n",
    "# Train the model\n",
    "history = model.fit(\n",
    "    X_train, y_train,\n",
    "    validation_data=(X_test, y_test),\n",
    "    epochs=epochs,\n",
    "    batch_size=32,\n",
    "    callbacks=[early_stopping, lr_scheduler]\n",
    ")\n",
    "\n",
    "# Save the model\n",
    "model.save(\"Alzheimer_InceptionV3.h5\")\n",
    "\n",
    "# Plot Training Accuracy & Validation Accuracy\n",
    "plt.figure(figsize=(10, 5))\n",
    "plt.subplot(1, 2, 1)\n",
    "plt.plot(history.history['accuracy'], label='Training Accuracy')\n",
    "plt.plot(history.history['val_accuracy'], label='Validation Accuracy')\n",
    "plt.title('Model Accuracy')\n",
    "plt.xlabel('Epochs')\n",
    "plt.ylabel('Accuracy')\n",
    "plt.legend()\n",
    "\n",
    "# Plot Training Loss & Validation Loss\n",
    "plt.subplot(1, 2, 2)\n",
    "plt.plot(history.history['loss'], label='Training Loss')\n",
    "plt.plot(history.history['val_loss'], label='Validation Loss')\n",
    "plt.title('Model Loss')\n",
    "plt.xlabel('Epochs')\n",
    "plt.ylabel('Loss')\n",
    "plt.legend()\n",
    "\n",
    "plt.show()\n"
   ]
  },
  {
   "cell_type": "code",
   "execution_count": 5,
   "id": "06029ab9-9156-49dd-94ce-127d9e6ad3fe",
   "metadata": {},
   "outputs": [
    {
     "name": "stdout",
     "output_type": "stream",
     "text": [
      "\u001b[1m40/40\u001b[0m \u001b[32m━━━━━━━━━━━━━━━━━━━━\u001b[0m\u001b[37m\u001b[0m \u001b[1m23s\u001b[0m 494ms/step\n",
      "Accuracy: 0.9609\n",
      "Precision: 0.9638\n",
      "Recall: 0.9578\n",
      "F1-Score: 0.9608\n",
      "Confusion Matrix:\n",
      "[[617  23]\n",
      " [ 27 613]]\n"
     ]
    },
    {
     "data": {
      "image/png": "[encoded data removed]",
      "text/plain": [
       "<Figure size 800x600 with 1 Axes>"
      ]
     },
     "metadata": {},
     "output_type": "display_data"
    }
   ],
   "source": [
    "from sklearn.metrics import (\n",
    "    accuracy_score, precision_score, recall_score, f1_score,\n",
    "    confusion_matrix, roc_curve, auc\n",
    ")\n",
    "import matplotlib.pyplot as plt\n",
    "\n",
    "# Predict probabilities and binary labels\n",
    "y_probs = model.predict(X_test)  # probabilities\n",
    "y_pred = (y_probs > 0.5).astype(int)  # binary predictions\n",
    "\n",
    "# Evaluation metrics\n",
    "accuracy = accuracy_score(y_test, y_pred)\n",
    "precision = precision_score(y_test, y_pred)\n",
    "recall = recall_score(y_test, y_pred)\n",
    "f1 = f1_score(y_test, y_pred)\n",
    "cm = confusion_matrix(y_test, y_pred)\n",
    "\n",
    "# Print metrics\n",
    "print(f\"Accuracy: {accuracy:.4f}\")\n",
    "print(f\"Precision: {precision:.4f}\")\n",
    "print(f\"Recall: {recall:.4f}\")\n",
    "print(f\"F1-Score: {f1:.4f}\")\n",
    "print(\"Confusion Matrix:\")\n",
    "print(cm)\n",
    "\n",
    "# ROC and AUC\n",
    "fpr, tpr, thresholds = roc_curve(y_test, y_probs)\n",
    "roc_auc = auc(fpr, tpr)\n",
    "\n",
    "# Plot ROC Curve\n",
    "plt.figure(figsize=(8, 6))\n",
    "plt.plot(fpr, tpr, label=f'AUC = {roc_auc:.4f}', color='darkorange', linewidth=2)\n",
    "plt.plot([0, 1], [0, 1], linestyle='--', color='navy')\n",
    "plt.xlabel('False Positive Rate')\n",
    "plt.ylabel('True Positive Rate')\n",
    "plt.title('Receiver Operating Characteristic (ROC) Curve')\n",
    "plt.legend(loc='lower right')\n",
    "plt.grid(True)\n",
    "plt.show()\n"
   ]
  },
  {
   "cell_type": "code",
   "execution_count": 1,
   "id": "336caebb-46b2-4e0d-90e7-045ec296a33a",
   "metadata": {},
   "outputs": [
    {
     "name": "stdout",
     "output_type": "stream",
     "text": [
      "Found 5120 images belonging to 2 classes.\n",
      "Found 1280 images belonging to 2 classes.\n"
     ]
    },
    {
     "name": "stderr",
     "output_type": "stream",
     "text": [
      "C:\\Users\\HP\\AppData\\Local\\Programs\\Python\\Python311\\Lib\\site-packages\\keras\\src\\trainers\\data_adapters\\py_dataset_adapter.py:121: UserWarning: Your `PyDataset` class should call `super().__init__(**kwargs)` in its constructor. `**kwargs` can include `workers`, `use_multiprocessing`, `max_queue_size`. Do not pass these arguments to `fit()`, as they will be ignored.\n",
      "  self._warn_if_super_not_called()\n"
     ]
    },
    {
     "name": "stdout",
     "output_type": "stream",
     "text": [
      "Epoch 1/20\n",
      "\u001b[1m160/160\u001b[0m \u001b[32m━━━━━━━━━━━━━━━━━━━━\u001b[0m\u001b[37m\u001b[0m \u001b[1m672s\u001b[0m 4s/step - accuracy: 0.5340 - loss: 0.9201 - val_accuracy: 0.6438 - val_loss: 0.6475 - learning_rate: 1.0000e-04\n",
      "Epoch 2/20\n",
      "\u001b[1m160/160\u001b[0m \u001b[32m━━━━━━━━━━━━━━━━━━━━\u001b[0m\u001b[37m\u001b[0m \u001b[1m581s\u001b[0m 4s/step - accuracy: 0.6211 - loss: 0.7894 - val_accuracy: 0.6578 - val_loss: 0.6318 - learning_rate: 1.0000e-04\n",
      "Epoch 3/20\n",
      "\u001b[1m160/160\u001b[0m \u001b[32m━━━━━━━━━━━━━━━━━━━━\u001b[0m\u001b[37m\u001b[0m \u001b[1m573s\u001b[0m 4s/step - accuracy: 0.6014 - loss: 0.7575 - val_accuracy: 0.6766 - val_loss: 0.6235 - learning_rate: 1.0000e-04\n",
      "Epoch 4/20\n",
      "\u001b[1m160/160\u001b[0m \u001b[32m━━━━━━━━━━━━━━━━━━━━\u001b[0m\u001b[37m\u001b[0m \u001b[1m566s\u001b[0m 4s/step - accuracy: 0.6415 - loss: 0.7252 - val_accuracy: 0.6953 - val_loss: 0.5919 - learning_rate: 1.0000e-04\n",
      "Epoch 5/20\n",
      "\u001b[1m160/160\u001b[0m \u001b[32m━━━━━━━━━━━━━━━━━━━━\u001b[0m\u001b[37m\u001b[0m \u001b[1m575s\u001b[0m 4s/step - accuracy: 0.6343 - loss: 0.7180 - val_accuracy: 0.7391 - val_loss: 0.5319 - learning_rate: 1.0000e-04\n",
      "Epoch 6/20\n",
      "\u001b[1m160/160\u001b[0m \u001b[32m━━━━━━━━━━━━━━━━━━━━\u001b[0m\u001b[37m\u001b[0m \u001b[1m610s\u001b[0m 4s/step - accuracy: 0.6760 - loss: 0.6619 - val_accuracy: 0.7367 - val_loss: 0.5443 - learning_rate: 1.0000e-04\n",
      "Epoch 7/20\n",
      "\u001b[1m160/160\u001b[0m \u001b[32m━━━━━━━━━━━━━━━━━━━━\u001b[0m\u001b[37m\u001b[0m \u001b[1m575s\u001b[0m 4s/step - accuracy: 0.6481 - loss: 0.6839 - val_accuracy: 0.7266 - val_loss: 0.5637 - learning_rate: 1.0000e-04\n",
      "Epoch 8/20\n",
      "\u001b[1m160/160\u001b[0m \u001b[32m━━━━━━━━━━━━━━━━━━━━\u001b[0m\u001b[37m\u001b[0m \u001b[1m562s\u001b[0m 4s/step - accuracy: 0.6844 - loss: 0.6362 - val_accuracy: 0.7328 - val_loss: 0.5232 - learning_rate: 1.0000e-04\n",
      "Epoch 9/20\n",
      "\u001b[1m160/160\u001b[0m \u001b[32m━━━━━━━━━━━━━━━━━━━━\u001b[0m\u001b[37m\u001b[0m \u001b[1m571s\u001b[0m 4s/step - accuracy: 0.7001 - loss: 0.6269 - val_accuracy: 0.7625 - val_loss: 0.4997 - learning_rate: 1.0000e-04\n",
      "Epoch 10/20\n",
      "\u001b[1m160/160\u001b[0m \u001b[32m━━━━━━━━━━━━━━━━━━━━\u001b[0m\u001b[37m\u001b[0m \u001b[1m558s\u001b[0m 3s/step - accuracy: 0.7118 - loss: 0.6048 - val_accuracy: 0.7359 - val_loss: 0.5438 - learning_rate: 1.0000e-04\n",
      "Epoch 11/20\n",
      "\u001b[1m160/160\u001b[0m \u001b[32m━━━━━━━━━━━━━━━━━━━━\u001b[0m\u001b[37m\u001b[0m \u001b[1m573s\u001b[0m 4s/step - accuracy: 0.7119 - loss: 0.5945 - val_accuracy: 0.7758 - val_loss: 0.4821 - learning_rate: 1.0000e-04\n",
      "Epoch 12/20\n",
      "\u001b[1m160/160\u001b[0m \u001b[32m━━━━━━━━━━━━━━━━━━━━\u001b[0m\u001b[37m\u001b[0m \u001b[1m564s\u001b[0m 4s/step - accuracy: 0.7159 - loss: 0.5837 - val_accuracy: 0.7727 - val_loss: 0.4650 - learning_rate: 1.0000e-04\n",
      "Epoch 13/20\n",
      "\u001b[1m160/160\u001b[0m \u001b[32m━━━━━━━━━━━━━━━━━━━━\u001b[0m\u001b[37m\u001b[0m \u001b[1m570s\u001b[0m 4s/step - accuracy: 0.7368 - loss: 0.5491 - val_accuracy: 0.7477 - val_loss: 0.4854 - learning_rate: 1.0000e-04\n",
      "Epoch 14/20\n",
      "\u001b[1m160/160\u001b[0m \u001b[32m━━━━━━━━━━━━━━━━━━━━\u001b[0m\u001b[37m\u001b[0m \u001b[1m563s\u001b[0m 4s/step - accuracy: 0.7343 - loss: 0.5458 - val_accuracy: 0.7625 - val_loss: 0.4892 - learning_rate: 1.0000e-04\n",
      "Epoch 15/20\n",
      "\u001b[1m160/160\u001b[0m \u001b[32m━━━━━━━━━━━━━━━━━━━━\u001b[0m\u001b[37m\u001b[0m \u001b[1m525s\u001b[0m 3s/step - accuracy: 0.7457 - loss: 0.5455 - val_accuracy: 0.8047 - val_loss: 0.4343 - learning_rate: 1.0000e-04\n",
      "Epoch 16/20\n",
      "\u001b[1m160/160\u001b[0m \u001b[32m━━━━━━━━━━━━━━━━━━━━\u001b[0m\u001b[37m\u001b[0m \u001b[1m416s\u001b[0m 3s/step - accuracy: 0.7600 - loss: 0.5094 - val_accuracy: 0.8055 - val_loss: 0.4168 - learning_rate: 1.0000e-04\n",
      "Epoch 17/20\n",
      "\u001b[1m160/160\u001b[0m \u001b[32m━━━━━━━━━━━━━━━━━━━━\u001b[0m\u001b[37m\u001b[0m \u001b[1m418s\u001b[0m 3s/step - accuracy: 0.7710 - loss: 0.4944 - val_accuracy: 0.8062 - val_loss: 0.4144 - learning_rate: 1.0000e-04\n",
      "Epoch 18/20\n",
      "\u001b[1m160/160\u001b[0m \u001b[32m━━━━━━━━━━━━━━━━━━━━\u001b[0m\u001b[37m\u001b[0m \u001b[1m410s\u001b[0m 3s/step - accuracy: 0.7756 - loss: 0.4744 - val_accuracy: 0.8094 - val_loss: 0.4144 - learning_rate: 1.0000e-04\n",
      "Epoch 19/20\n",
      "\u001b[1m160/160\u001b[0m \u001b[32m━━━━━━━━━━━━━━━━━━━━\u001b[0m\u001b[37m\u001b[0m \u001b[1m410s\u001b[0m 3s/step - accuracy: 0.7937 - loss: 0.4522 - val_accuracy: 0.8344 - val_loss: 0.3694 - learning_rate: 1.0000e-04\n",
      "Epoch 20/20\n",
      "\u001b[1m160/160\u001b[0m \u001b[32m━━━━━━━━━━━━━━━━━━━━\u001b[0m\u001b[37m\u001b[0m \u001b[1m420s\u001b[0m 3s/step - accuracy: 0.7854 - loss: 0.4422 - val_accuracy: 0.8289 - val_loss: 0.3947 - learning_rate: 1.0000e-04\n"
     ]
    },
    {
     "name": "stderr",
     "output_type": "stream",
     "text": [
      "WARNING:absl:You are saving your model as an HDF5 file via `model.save()` or `keras.saving.save_model(model)`. This file format is considered legacy. We recommend using instead the native Keras format, e.g. `model.save('my_model.keras')` or `keras.saving.save_model(model, 'my_model.keras')`. \n"
     ]
    },
    {
     "data": {
      "image/png": "[encoded data removed]",
      "text/plain": [
       "<Figure size 1000x500 with 2 Axes>"
      ]
     },
     "metadata": {},
     "output_type": "display_data"
    }
   ],
   "source": [
    "import numpy as np\n",
    "import matplotlib.pyplot as plt\n",
    "from tensorflow.keras.applications import InceptionV3\n",
    "from tensorflow.keras.preprocessing.image import ImageDataGenerator\n",
    "from tensorflow.keras.layers import Dense, GlobalAveragePooling2D, Dropout, BatchNormalization\n",
    "from tensorflow.keras.models import Model\n",
    "from tensorflow.keras.optimizers import Adam\n",
    "from tensorflow.keras.callbacks import EarlyStopping, ReduceLROnPlateau\n",
    "\n",
    "# Define parameters\n",
    "input_shape = (128, 128, 3)\n",
    "batch_size = 32\n",
    "epochs = 20  # Increased epochs to account for augmentation\n",
    "learning_rate = 0.0001\n",
    "\n",
    "# **Apply Data Augmentation**\n",
    "train_datagen = ImageDataGenerator(\n",
    "    rescale=1.0/255.0,  # Normalize images\n",
    "    rotation_range=20,  # Random rotation up to 20 degrees\n",
    "    width_shift_range=0.2,  # Shift width by 20%\n",
    "    height_shift_range=0.2,  # Shift height by 20%\n",
    "    zoom_range=0.2,  # Random zoom\n",
    "    horizontal_flip=True,  # Flip images horizontally\n",
    "    brightness_range=[0.8, 1.2],  # Adjust brightness\n",
    "    fill_mode=\"nearest\"\n",
    ")\n",
    "\n",
    "test_datagen = ImageDataGenerator(rescale=1.0/255.0)  # Only rescale for test images\n",
    "\n",
    "# **Prepare Image Generators**\n",
    "train_dir = \"C:\\\\Users\\\\HP\\\\Downloads\\\\Alzheimer_Feb_Tuesday\\\\train\"\n",
    "test_dir = \"C:\\\\Users\\\\HP\\\\Downloads\\\\Alzheimer_Feb_Tuesday\\\\test\"\n",
    "\n",
    "train_generator = train_datagen.flow_from_directory(\n",
    "    train_dir,\n",
    "    target_size=(128, 128),\n",
    "    batch_size=batch_size,\n",
    "    class_mode=\"binary\"\n",
    ")\n",
    "\n",
    "test_generator = test_datagen.flow_from_directory(\n",
    "    test_dir,\n",
    "    target_size=(128, 128),\n",
    "    batch_size=batch_size,\n",
    "    class_mode=\"binary\",\n",
    "    shuffle=False  # No need to shuffle test data\n",
    ")\n",
    "\n",
    "# **Load Pretrained InceptionV3 Model**\n",
    "base_model = InceptionV3(weights='imagenet', include_top=False, input_shape=input_shape)\n",
    "\n",
    "# **Add Custom Fully Connected Layers**\n",
    "x = base_model.output\n",
    "x = GlobalAveragePooling2D()(x)\n",
    "x = Dense(1024, activation='relu')(x)\n",
    "x = BatchNormalization()(x)  # Helps in stable training\n",
    "x = Dropout(0.5)(x)\n",
    "x = Dense(512, activation='relu')(x)\n",
    "x = BatchNormalization()(x)\n",
    "x = Dropout(0.3)(x)\n",
    "predictions = Dense(1, activation='sigmoid')(x)  # Binary classification (Demented/Non-Demented)\n",
    "\n",
    "# **Define Model**\n",
    "model = Model(inputs=base_model.input, outputs=predictions)\n",
    "\n",
    "# **Unfreeze Last Few Layers for Fine-Tuning**\n",
    "for layer in base_model.layers[-50:]:  # Unfreezing the last 50 layers\n",
    "    layer.trainable = True\n",
    "\n",
    "# **Compile Model**\n",
    "model.compile(optimizer=Adam(learning_rate=learning_rate), loss='binary_crossentropy', metrics=['accuracy'])\n",
    "\n",
    "# **Add Callbacks for Better Training**\n",
    "early_stopping = EarlyStopping(monitor='val_loss', patience=10, restore_best_weights=True)\n",
    "lr_scheduler = ReduceLROnPlateau(monitor='val_loss', factor=0.2, patience=5, min_lr=1e-6)\n",
    "\n",
    "# **Train the Model**\n",
    "history = model.fit(\n",
    "    train_generator,\n",
    "    validation_data=test_generator,\n",
    "    epochs=epochs,\n",
    "    callbacks=[early_stopping, lr_scheduler]\n",
    ")\n",
    "\n",
    "# **Save the Model**\n",
    "model.save(\"Alzheimer_InceptionV3_Augmented.h5\")\n",
    "\n",
    "# **Plot Training Accuracy & Validation Accuracy**\n",
    "plt.figure(figsize=(10, 5))\n",
    "plt.subplot(1, 2, 1)\n",
    "plt.plot(history.history['accuracy'], label='Training Accuracy')\n",
    "plt.plot(history.history['val_accuracy'], label='Validation Accuracy')\n",
    "plt.title('Model Accuracy')\n",
    "plt.xlabel('Epochs')\n",
    "plt.ylabel('Accuracy')\n",
    "plt.legend()\n",
    "\n",
    "# **Plot Training Loss & Validation Loss**\n",
    "plt.subplot(1, 2, 2)\n",
    "plt.plot(history.history['loss'], label='Training Loss')\n",
    "plt.plot(history.history['val_loss'], label='Validation Loss')\n",
    "plt.title('Model Loss')\n",
    "plt.xlabel('Epochs')\n",
    "plt.ylabel('Loss')\n",
    "plt.legend()\n",
    "\n",
    "plt.show()\n"
   ]
  },
  {
   "cell_type": "code",
   "execution_count": 2,
   "id": "72aefce8-1feb-4e2a-af06-8c89559ddec7",
   "metadata": {
    "scrolled": true
   },
   "outputs": [
    {
     "name": "stdout",
     "output_type": "stream",
     "text": [
      "\u001b[1m40/40\u001b[0m \u001b[32m━━━━━━━━━━━━━━━━━━━━\u001b[0m\u001b[37m\u001b[0m \u001b[1m20s\u001b[0m 504ms/step - accuracy: 0.8652 - loss: 0.3407\n",
      "Test Accuracy: 83.44%\n",
      "\u001b[1m40/40\u001b[0m \u001b[32m━━━━━━━━━━━━━━━━━━━━\u001b[0m\u001b[37m\u001b[0m \u001b[1m25s\u001b[0m 543ms/step\n",
      "Classification Report:\n",
      "              precision    recall  f1-score   support\n",
      "\n",
      "    Demented       0.82      0.85      0.84       640\n",
      "Non-Demented       0.85      0.82      0.83       640\n",
      "\n",
      "    accuracy                           0.83      1280\n",
      "   macro avg       0.83      0.83      0.83      1280\n",
      "weighted avg       0.83      0.83      0.83      1280\n",
      "\n"
     ]
    }
   ],
   "source": [
    "from sklearn.metrics import classification_report, confusion_matrix\n",
    "\n",
    "# **Evaluate Model on Test Data**\n",
    "test_loss, test_accuracy = model.evaluate(test_generator)\n",
    "print(f\"Test Accuracy: {test_accuracy * 100:.2f}%\")\n",
    "\n",
    "# **Generate Predictions**\n",
    "y_pred = model.predict(test_generator)\n",
    "y_pred_classes = (y_pred > 0.5).astype(int)  # Convert probabilities to binary labels\n",
    "\n",
    "# **Get True Labels**\n",
    "y_true = test_generator.classes\n",
    "\n",
    "# **Classification Report**\n",
    "print(\"Classification Report:\")\n",
    "print(classification_report(y_true, y_pred_classes, target_names=test_generator.class_indices.keys()))\n"
   ]
  },
  {
   "cell_type": "code",
   "execution_count": 3,
   "id": "7821d253-0a17-4af0-a21a-b0d57c978540",
   "metadata": {},
   "outputs": [
    {
     "name": "stdout",
     "output_type": "stream",
     "text": [
      "Confusion Matrix:\n",
      "[[546  94]\n",
      " [118 522]]\n"
     ]
    }
   ],
   "source": [
    "# **Confusion Matrix**\n",
    "print(\"Confusion Matrix:\")\n",
    "print(confusion_matrix(y_true, y_pred_classes))"
   ]
  },
  {
   "cell_type": "code",
   "execution_count": null,
   "id": "3c067d63-46ff-449a-835c-f7a78bcaa79a",
   "metadata": {},
   "outputs": [],
   "source": []
  }
 ],
 "metadata": {
  "kernelspec": {
   "display_name": "Python 3 (ipykernel)",
   "language": "python",
   "name": "python3"
  },
  "language_info": {
   "codemirror_mode": {
    "name": "ipython",
    "version": 3
   },
   "file_extension": ".py",
   "mimetype": "text/x-python",
   "name": "python",
   "nbconvert_exporter": "python",
   "pygments_lexer": "ipython3",
   "version": "3.11.4"
  }
 },
 "nbformat": 4,
 "nbformat_minor": 5
}
