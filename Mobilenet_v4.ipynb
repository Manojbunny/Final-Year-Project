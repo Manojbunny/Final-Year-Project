{
 "cells": [
  {
   "cell_type": "code",
   "execution_count": 1,
   "id": "b39a859c-0fcc-4789-9191-634fe3038d3d",
   "metadata": {},
   "outputs": [
    {
     "name": "stderr",
     "output_type": "stream",
     "text": [
      "Processing Mild-Demented:   4%|██▏                                                   | 37/896 [00:00<00:08, 101.29it/s]"
     ]
    },
    {
     "name": "stdout",
     "output_type": "stream",
     "text": [
      "Batch images shape: (16, 128, 128, 3)\n",
      "Batch labels shape: (16, 1)\n",
      "Batch images shape: (16, 128, 128, 3)\n",
      "Batch labels shape: (16, 1)\n",
      "Batch images shape: (16, 128, 128, 3)\n",
      "Batch labels shape: (16, 1)\n"
     ]
    },
    {
     "name": "stderr",
     "output_type": "stream",
     "text": [
      "Processing Mild-Demented:  10%|█████▎                                                | 88/896 [00:00<00:05, 140.21it/s]"
     ]
    },
    {
     "name": "stdout",
     "output_type": "stream",
     "text": [
      "Batch images shape: (16, 128, 128, 3)\n",
      "Batch labels shape: (16, 1)\n",
      "Batch images shape: (16, 128, 128, 3)\n",
      "Batch labels shape: (16, 1)\n"
     ]
    },
    {
     "name": "stderr",
     "output_type": "stream",
     "text": [
      "Processing Mild-Demented:  14%|███████▏                                             | 122/896 [00:01<00:05, 150.64it/s]"
     ]
    },
    {
     "name": "stdout",
     "output_type": "stream",
     "text": [
      "Batch images shape: (16, 128, 128, 3)\n",
      "Batch labels shape: (16, 1)\n",
      "Batch images shape: (16, 128, 128, 3)\n",
      "Batch labels shape: (16, 1)\n",
      "Batch images shape: (16, 128, 128, 3)\n",
      "Batch labels shape: (16, 1)\n"
     ]
    },
    {
     "name": "stderr",
     "output_type": "stream",
     "text": [
      "Processing Mild-Demented:  18%|█████████▎                                           | 157/896 [00:01<00:04, 156.12it/s]"
     ]
    },
    {
     "name": "stdout",
     "output_type": "stream",
     "text": [
      "Batch images shape: (16, 128, 128, 3)\n",
      "Batch labels shape: (16, 1)\n",
      "Batch images shape: (16, 128, 128, 3)\n",
      "Batch labels shape: (16, 1)\n"
     ]
    },
    {
     "name": "stderr",
     "output_type": "stream",
     "text": [
      "Processing Mild-Demented:  21%|███████████▏                                         | 190/896 [00:01<00:04, 155.89it/s]"
     ]
    },
    {
     "name": "stdout",
     "output_type": "stream",
     "text": [
      "Batch images shape: (16, 128, 128, 3)\n",
      "Batch labels shape: (16, 1)\n",
      "Batch images shape: (16, 128, 128, 3)\n",
      "Batch labels shape: (16, 1)\n"
     ]
    },
    {
     "name": "stderr",
     "output_type": "stream",
     "text": [
      "Processing Mild-Demented:  25%|█████████████▎                                       | 225/896 [00:01<00:04, 146.74it/s]"
     ]
    },
    {
     "name": "stdout",
     "output_type": "stream",
     "text": [
      "Batch images shape: (16, 128, 128, 3)\n",
      "Batch labels shape: (16, 1)\n",
      "Batch images shape: (16, 128, 128, 3)\n",
      "Batch labels shape: (16, 1)\n"
     ]
    },
    {
     "name": "stderr",
     "output_type": "stream",
     "text": [
      "Processing Mild-Demented:  28%|███████████████                                      | 255/896 [00:01<00:04, 131.97it/s]"
     ]
    },
    {
     "name": "stdout",
     "output_type": "stream",
     "text": [
      "Batch images shape: (16, 128, 128, 3)\n",
      "Batch labels shape: (16, 1)\n",
      "Batch images shape: (16, 128, 128, 3)\n",
      "Batch labels shape: (16, 1)\n"
     ]
    },
    {
     "name": "stderr",
     "output_type": "stream",
     "text": [
      "Processing Mild-Demented:  32%|████████████████▋                                    | 283/896 [00:02<00:04, 125.91it/s]"
     ]
    },
    {
     "name": "stdout",
     "output_type": "stream",
     "text": [
      "Batch images shape: (16, 128, 128, 3)\n",
      "Batch labels shape: (16, 1)\n",
      "Batch images shape: (16, 128, 128, 3)\n",
      "Batch labels shape: (16, 1)\n"
     ]
    },
    {
     "name": "stderr",
     "output_type": "stream",
     "text": [
      "Processing Mild-Demented:  36%|███████████████████▎                                 | 326/896 [00:02<00:04, 135.43it/s]"
     ]
    },
    {
     "name": "stdout",
     "output_type": "stream",
     "text": [
      "Batch images shape: (16, 128, 128, 3)\n",
      "Batch labels shape: (16, 1)\n",
      "Batch images shape: (16, 128, 128, 3)\n",
      "Batch labels shape: (16, 1)\n",
      "Batch images shape: (16, 128, 128, 3)\n",
      "Batch labels shape: (16, 1)\n"
     ]
    },
    {
     "name": "stderr",
     "output_type": "stream",
     "text": [
      "Processing Mild-Demented:  42%|██████████████████████                               | 373/896 [00:02<00:03, 134.29it/s]"
     ]
    },
    {
     "name": "stdout",
     "output_type": "stream",
     "text": [
      "Batch images shape: (16, 128, 128, 3)\n",
      "Batch labels shape: (16, 1)\n",
      "Batch images shape: (16, 128, 128, 3)\n",
      "Batch labels shape: (16, 1)\n"
     ]
    },
    {
     "name": "stderr",
     "output_type": "stream",
     "text": [
      "Processing Mild-Demented:  45%|███████████████████████▉                             | 404/896 [00:03<00:03, 143.67it/s]"
     ]
    },
    {
     "name": "stdout",
     "output_type": "stream",
     "text": [
      "Batch images shape: (16, 128, 128, 3)\n",
      "Batch labels shape: (16, 1)\n",
      "Batch images shape: (16, 128, 128, 3)\n",
      "Batch labels shape: (16, 1)\n",
      "Batch images shape: (16, 128, 128, 3)\n",
      "Batch labels shape: (16, 1)\n"
     ]
    },
    {
     "name": "stderr",
     "output_type": "stream",
     "text": [
      "Processing Mild-Demented:  51%|██████████████████████████▉                          | 456/896 [00:03<00:02, 154.17it/s]"
     ]
    },
    {
     "name": "stdout",
     "output_type": "stream",
     "text": [
      "Batch images shape: (16, 128, 128, 3)\n",
      "Batch labels shape: (16, 1)\n",
      "Batch images shape: (16, 128, 128, 3)\n",
      "Batch labels shape: (16, 1)\n",
      "Batch images shape: (16, 128, 128, 3)\n",
      "Batch labels shape: (16, 1)\n"
     ]
    },
    {
     "name": "stderr",
     "output_type": "stream",
     "text": [
      "Processing Mild-Demented:  57%|██████████████████████████████▏                      | 511/896 [00:03<00:02, 164.49it/s]"
     ]
    },
    {
     "name": "stdout",
     "output_type": "stream",
     "text": [
      "Batch images shape: (16, 128, 128, 3)\n",
      "Batch labels shape: (16, 1)\n",
      "Batch images shape: (16, 128, 128, 3)\n",
      "Batch labels shape: (16, 1)\n",
      "Batch images shape: (16, 128, 128, 3)\n",
      "Batch labels shape: (16, 1)\n"
     ]
    },
    {
     "name": "stderr",
     "output_type": "stream",
     "text": [
      "Processing Mild-Demented:  61%|████████████████████████████████▎                    | 546/896 [00:03<00:02, 162.20it/s]"
     ]
    },
    {
     "name": "stdout",
     "output_type": "stream",
     "text": [
      "Batch images shape: (16, 128, 128, 3)\n",
      "Batch labels shape: (16, 1)\n",
      "Batch images shape: (16, 128, 128, 3)\n",
      "Batch labels shape: (16, 1)\n"
     ]
    },
    {
     "name": "stderr",
     "output_type": "stream",
     "text": [
      "Processing Mild-Demented:  65%|██████████████████████████████████▏                  | 579/896 [00:04<00:02, 147.93it/s]"
     ]
    },
    {
     "name": "stdout",
     "output_type": "stream",
     "text": [
      "Batch images shape: (16, 128, 128, 3)\n",
      "Batch labels shape: (16, 1)\n",
      "Batch images shape: (16, 128, 128, 3)\n",
      "Batch labels shape: (16, 1)\n"
     ]
    },
    {
     "name": "stderr",
     "output_type": "stream",
     "text": [
      "Processing Mild-Demented:  68%|███████████████████████████████████▉                 | 608/896 [00:04<00:02, 131.21it/s]"
     ]
    },
    {
     "name": "stdout",
     "output_type": "stream",
     "text": [
      "Batch images shape: (16, 128, 128, 3)\n",
      "Batch labels shape: (16, 1)\n",
      "Batch images shape: (16, 128, 128, 3)\n",
      "Batch labels shape: (16, 1)\n"
     ]
    },
    {
     "name": "stderr",
     "output_type": "stream",
     "text": [
      "Processing Mild-Demented:  72%|██████████████████████████████████████▎              | 648/896 [00:04<00:01, 128.68it/s]"
     ]
    },
    {
     "name": "stdout",
     "output_type": "stream",
     "text": [
      "Batch images shape: (16, 128, 128, 3)\n",
      "Batch labels shape: (16, 1)\n",
      "Batch images shape: (16, 128, 128, 3)\n",
      "Batch labels shape: (16, 1)\n"
     ]
    },
    {
     "name": "stderr",
     "output_type": "stream",
     "text": [
      "Processing Mild-Demented:  75%|███████████████████████████████████████▉             | 676/896 [00:04<00:01, 125.34it/s]"
     ]
    },
    {
     "name": "stdout",
     "output_type": "stream",
     "text": [
      "Batch images shape: (16, 128, 128, 3)\n",
      "Batch labels shape: (16, 1)\n",
      "Batch images shape: (16, 128, 128, 3)\n",
      "Batch labels shape: (16, 1)\n"
     ]
    },
    {
     "name": "stderr",
     "output_type": "stream",
     "text": [
      "Processing Mild-Demented:  78%|█████████████████████████████████████████▌           | 703/896 [00:05<00:01, 104.82it/s]"
     ]
    },
    {
     "name": "stdout",
     "output_type": "stream",
     "text": [
      "Batch images shape: (16, 128, 128, 3)\n",
      "Batch labels shape: (16, 1)\n",
      "Batch images shape: (16, 128, 128, 3)\n",
      "Batch labels shape: (16, 1)\n"
     ]
    },
    {
     "name": "stderr",
     "output_type": "stream",
     "text": [
      "Processing Mild-Demented:  83%|███████████████████████████████████████████▉         | 742/896 [00:05<00:01, 116.88it/s]"
     ]
    },
    {
     "name": "stdout",
     "output_type": "stream",
     "text": [
      "Batch images shape: (16, 128, 128, 3)\n",
      "Batch labels shape: (16, 1)\n",
      "Batch images shape: (16, 128, 128, 3)\n",
      "Batch labels shape: (16, 1)\n"
     ]
    },
    {
     "name": "stderr",
     "output_type": "stream",
     "text": [
      "Processing Mild-Demented:  86%|█████████████████████████████████████████████▋       | 773/896 [00:05<00:00, 128.32it/s]"
     ]
    },
    {
     "name": "stdout",
     "output_type": "stream",
     "text": [
      "Batch images shape: (16, 128, 128, 3)\n",
      "Batch labels shape: (16, 1)\n",
      "Batch images shape: (16, 128, 128, 3)\n",
      "Batch labels shape: (16, 1)\n"
     ]
    },
    {
     "name": "stderr",
     "output_type": "stream",
     "text": [
      "Processing Mild-Demented:  90%|███████████████████████████████████████████████▌     | 805/896 [00:06<00:00, 137.88it/s]"
     ]
    },
    {
     "name": "stdout",
     "output_type": "stream",
     "text": [
      "Batch images shape: (16, 128, 128, 3)\n",
      "Batch labels shape: (16, 1)\n",
      "Batch images shape: (16, 128, 128, 3)\n",
      "Batch labels shape: (16, 1)\n"
     ]
    },
    {
     "name": "stderr",
     "output_type": "stream",
     "text": [
      "Processing Mild-Demented:  93%|█████████████████████████████████████████████████▌   | 837/896 [00:06<00:00, 146.68it/s]"
     ]
    },
    {
     "name": "stdout",
     "output_type": "stream",
     "text": [
      "Batch images shape: (16, 128, 128, 3)\n",
      "Batch labels shape: (16, 1)\n",
      "Batch images shape: (16, 128, 128, 3)\n",
      "Batch labels shape: (16, 1)\n",
      "Batch images shape: (16, 128, 128, 3)\n",
      "Batch labels shape: (16, 1)\n"
     ]
    },
    {
     "name": "stderr",
     "output_type": "stream",
     "text": [
      "Processing Mild-Demented: 100%|████████████████████████████████████████████████████▉| 894/896 [00:06<00:00, 160.55it/s]"
     ]
    },
    {
     "name": "stdout",
     "output_type": "stream",
     "text": [
      "Batch images shape: (16, 128, 128, 3)\n",
      "Batch labels shape: (16, 1)\n",
      "Batch images shape: (16, 128, 128, 3)\n",
      "Batch labels shape: (16, 1)\n",
      "Batch images shape: (16, 128, 128, 3)\n",
      "Batch labels shape: (16, 1)\n"
     ]
    },
    {
     "name": "stderr",
     "output_type": "stream",
     "text": [
      "Processing Mild-Demented: 100%|█████████████████████████████████████████████████████| 896/896 [00:06<00:00, 136.02it/s]\n",
      "Processing Moderate-Demented:  55%|███████████████████████████▉                       | 35/64 [00:00<00:00, 149.64it/s]"
     ]
    },
    {
     "name": "stdout",
     "output_type": "stream",
     "text": [
      "Batch images shape: (16, 128, 128, 3)\n",
      "Batch labels shape: (16, 1)\n",
      "Batch images shape: (16, 128, 128, 3)\n",
      "Batch labels shape: (16, 1)\n"
     ]
    },
    {
     "name": "stderr",
     "output_type": "stream",
     "text": [
      "Processing Moderate-Demented: 100%|███████████████████████████████████████████████████| 64/64 [00:00<00:00, 147.09it/s]\n"
     ]
    },
    {
     "name": "stdout",
     "output_type": "stream",
     "text": [
      "Batch images shape: (16, 128, 128, 3)\n",
      "Batch labels shape: (16, 1)\n",
      "Batch images shape: (16, 128, 128, 3)\n",
      "Batch labels shape: (16, 1)\n"
     ]
    },
    {
     "name": "stderr",
     "output_type": "stream",
     "text": [
      "Processing Non-Demented:   1%|▌                                                     | 30/3200 [00:00<00:22, 138.00it/s]"
     ]
    },
    {
     "name": "stdout",
     "output_type": "stream",
     "text": [
      "Batch images shape: (16, 128, 128, 3)\n",
      "Batch labels shape: (16, 1)\n",
      "Batch images shape: (16, 128, 128, 3)\n",
      "Batch labels shape: (16, 1)\n"
     ]
    },
    {
     "name": "stderr",
     "output_type": "stream",
     "text": [
      "Processing Non-Demented:   2%|█                                                     | 60/3200 [00:00<00:25, 121.68it/s]"
     ]
    },
    {
     "name": "stdout",
     "output_type": "stream",
     "text": [
      "Batch images shape: (16, 128, 128, 3)\n",
      "Batch labels shape: (16, 1)\n",
      "Batch images shape: (16, 128, 128, 3)\n",
      "Batch labels shape: (16, 1)\n"
     ]
    },
    {
     "name": "stderr",
     "output_type": "stream",
     "text": [
      "Processing Non-Demented:   3%|█▍                                                    | 86/3200 [00:00<00:29, 106.16it/s]"
     ]
    },
    {
     "name": "stdout",
     "output_type": "stream",
     "text": [
      "Batch images shape: (16, 128, 128, 3)\n",
      "Batch labels shape: (16, 1)\n"
     ]
    },
    {
     "name": "stderr",
     "output_type": "stream",
     "text": [
      "Processing Non-Demented:   3%|█▋                                                     | 97/3200 [00:01<00:45, 68.22it/s]"
     ]
    },
    {
     "name": "stdout",
     "output_type": "stream",
     "text": [
      "Batch images shape: (16, 128, 128, 3)\n",
      "Batch labels shape: (16, 1)\n"
     ]
    },
    {
     "name": "stderr",
     "output_type": "stream",
     "text": [
      "Processing Non-Demented:   4%|██                                                    | 121/3200 [00:01<00:51, 59.53it/s]"
     ]
    },
    {
     "name": "stdout",
     "output_type": "stream",
     "text": [
      "Batch images shape: (16, 128, 128, 3)\n",
      "Batch labels shape: (16, 1)\n"
     ]
    },
    {
     "name": "stderr",
     "output_type": "stream",
     "text": [
      "Processing Non-Demented:   4%|██▎                                                   | 135/3200 [00:01<00:58, 52.64it/s]"
     ]
    },
    {
     "name": "stdout",
     "output_type": "stream",
     "text": [
      "Batch images shape: (16, 128, 128, 3)\n",
      "Batch labels shape: (16, 1)\n"
     ]
    },
    {
     "name": "stderr",
     "output_type": "stream",
     "text": [
      "Processing Non-Demented:   5%|██▊                                                   | 163/3200 [00:02<00:39, 76.28it/s]"
     ]
    },
    {
     "name": "stdout",
     "output_type": "stream",
     "text": [
      "Batch images shape: (16, 128, 128, 3)\n",
      "Batch labels shape: (16, 1)\n",
      "Batch images shape: (16, 128, 128, 3)\n",
      "Batch labels shape: (16, 1)\n"
     ]
    },
    {
     "name": "stderr",
     "output_type": "stream",
     "text": [
      "Processing Non-Demented:   6%|███▏                                                  | 189/3200 [00:02<00:32, 93.70it/s]"
     ]
    },
    {
     "name": "stdout",
     "output_type": "stream",
     "text": [
      "Batch images shape: (16, 128, 128, 3)\n",
      "Batch labels shape: (16, 1)\n",
      "Batch images shape: (16, 128, 128, 3)\n",
      "Batch labels shape: (16, 1)\n"
     ]
    },
    {
     "name": "stderr",
     "output_type": "stream",
     "text": [
      "Processing Non-Demented:   7%|███▋                                                  | 218/3200 [00:02<00:35, 82.90it/s]"
     ]
    },
    {
     "name": "stdout",
     "output_type": "stream",
     "text": [
      "Batch images shape: (16, 128, 128, 3)\n",
      "Batch labels shape: (16, 1)\n"
     ]
    },
    {
     "name": "stderr",
     "output_type": "stream",
     "text": [
      "Processing Non-Demented:   7%|███▊                                                  | 227/3200 [00:02<00:36, 81.11it/s]"
     ]
    },
    {
     "name": "stdout",
     "output_type": "stream",
     "text": [
      "Batch images shape: (16, 128, 128, 3)\n",
      "Batch labels shape: (16, 1)\n"
     ]
    },
    {
     "name": "stderr",
     "output_type": "stream",
     "text": [
      "Processing Non-Demented:   8%|████▎                                                 | 253/3200 [00:03<00:42, 68.97it/s]"
     ]
    },
    {
     "name": "stdout",
     "output_type": "stream",
     "text": [
      "Batch images shape: (16, 128, 128, 3)\n",
      "Batch labels shape: (16, 1)\n",
      "Batch images shape: (16, 128, 128, 3)\n",
      "Batch labels shape: (16, 1)\n"
     ]
    },
    {
     "name": "stderr",
     "output_type": "stream",
     "text": [
      "Processing Non-Demented:   9%|████▊                                                 | 282/3200 [00:03<00:33, 86.56it/s]"
     ]
    },
    {
     "name": "stdout",
     "output_type": "stream",
     "text": [
      "Batch images shape: (16, 128, 128, 3)\n",
      "Batch labels shape: (16, 1)\n",
      "Batch images shape: (16, 128, 128, 3)\n",
      "Batch labels shape: (16, 1)\n"
     ]
    },
    {
     "name": "stderr",
     "output_type": "stream",
     "text": [
      "Processing Non-Demented:  10%|█████▎                                               | 323/3200 [00:03<00:24, 115.67it/s]"
     ]
    },
    {
     "name": "stdout",
     "output_type": "stream",
     "text": [
      "Batch images shape: (16, 128, 128, 3)\n",
      "Batch labels shape: (16, 1)\n",
      "Batch images shape: (16, 128, 128, 3)\n",
      "Batch labels shape: (16, 1)\n"
     ]
    },
    {
     "name": "stderr",
     "output_type": "stream",
     "text": [
      "Processing Non-Demented:  11%|█████▉                                               | 357/3200 [00:04<00:20, 137.07it/s]"
     ]
    },
    {
     "name": "stdout",
     "output_type": "stream",
     "text": [
      "Batch images shape: (16, 128, 128, 3)\n",
      "Batch labels shape: (16, 1)\n",
      "Batch images shape: (16, 128, 128, 3)\n",
      "Batch labels shape: (16, 1)\n"
     ]
    },
    {
     "name": "stderr",
     "output_type": "stream",
     "text": [
      "Processing Non-Demented:  12%|██████▌                                              | 395/3200 [00:04<00:18, 152.76it/s]"
     ]
    },
    {
     "name": "stdout",
     "output_type": "stream",
     "text": [
      "Batch images shape: (16, 128, 128, 3)\n",
      "Batch labels shape: (16, 1)\n",
      "Batch images shape: (16, 128, 128, 3)\n",
      "Batch labels shape: (16, 1)\n",
      "Batch images shape: (16, 128, 128, 3)\n",
      "Batch labels shape: (16, 1)\n"
     ]
    },
    {
     "name": "stderr",
     "output_type": "stream",
     "text": [
      "Processing Non-Demented:  14%|███████▎                                             | 444/3200 [00:04<00:17, 156.44it/s]"
     ]
    },
    {
     "name": "stdout",
     "output_type": "stream",
     "text": [
      "Batch images shape: (16, 128, 128, 3)\n",
      "Batch labels shape: (16, 1)\n",
      "Batch images shape: (16, 128, 128, 3)\n",
      "Batch labels shape: (16, 1)\n",
      "Batch images shape: (16, 128, 128, 3)\n",
      "Batch labels shape: (16, 1)\n"
     ]
    },
    {
     "name": "stderr",
     "output_type": "stream",
     "text": [
      "Processing Non-Demented:  15%|████████▏                                            | 493/3200 [00:05<00:17, 156.40it/s]"
     ]
    },
    {
     "name": "stdout",
     "output_type": "stream",
     "text": [
      "Batch images shape: (16, 128, 128, 3)\n",
      "Batch labels shape: (16, 1)\n",
      "Batch images shape: (16, 128, 128, 3)\n",
      "Batch labels shape: (16, 1)\n",
      "Batch images shape: (16, 128, 128, 3)\n",
      "Batch labels shape: (16, 1)\n"
     ]
    },
    {
     "name": "stderr",
     "output_type": "stream",
     "text": [
      "Processing Non-Demented:  16%|████████▋                                            | 527/3200 [00:05<00:16, 159.01it/s]"
     ]
    },
    {
     "name": "stdout",
     "output_type": "stream",
     "text": [
      "Batch images shape: (16, 128, 128, 3)\n",
      "Batch labels shape: (16, 1)\n",
      "Batch images shape: (16, 128, 128, 3)\n",
      "Batch labels shape: (16, 1)\n"
     ]
    },
    {
     "name": "stderr",
     "output_type": "stream",
     "text": [
      "Processing Non-Demented:  18%|█████████▎                                           | 561/3200 [00:05<00:16, 163.82it/s]"
     ]
    },
    {
     "name": "stdout",
     "output_type": "stream",
     "text": [
      "Batch images shape: (16, 128, 128, 3)\n",
      "Batch labels shape: (16, 1)\n",
      "Batch images shape: (16, 128, 128, 3)\n",
      "Batch labels shape: (16, 1)\n",
      "Batch images shape: (16, 128, 128, 3)\n",
      "Batch labels shape: (16, 1)\n"
     ]
    },
    {
     "name": "stderr",
     "output_type": "stream",
     "text": [
      "Processing Non-Demented:  19%|██████████▏                                          | 614/3200 [00:05<00:15, 165.43it/s]"
     ]
    },
    {
     "name": "stdout",
     "output_type": "stream",
     "text": [
      "Batch images shape: (16, 128, 128, 3)\n",
      "Batch labels shape: (16, 1)\n",
      "Batch images shape: (16, 128, 128, 3)\n",
      "Batch labels shape: (16, 1)\n",
      "Batch images shape: (16, 128, 128, 3)\n",
      "Batch labels shape: (16, 1)\n"
     ]
    },
    {
     "name": "stderr",
     "output_type": "stream",
     "text": [
      "Processing Non-Demented:  21%|██████████▉                                          | 663/3200 [00:06<00:17, 147.79it/s]"
     ]
    },
    {
     "name": "stdout",
     "output_type": "stream",
     "text": [
      "Batch images shape: (16, 128, 128, 3)\n",
      "Batch labels shape: (16, 1)\n",
      "Batch images shape: (16, 128, 128, 3)\n",
      "Batch labels shape: (16, 1)\n"
     ]
    },
    {
     "name": "stderr",
     "output_type": "stream",
     "text": [
      "Processing Non-Demented:  22%|███████████▍                                         | 693/3200 [00:06<00:17, 143.66it/s]"
     ]
    },
    {
     "name": "stdout",
     "output_type": "stream",
     "text": [
      "Batch images shape: (16, 128, 128, 3)\n",
      "Batch labels shape: (16, 1)\n",
      "Batch images shape: (16, 128, 128, 3)\n",
      "Batch labels shape: (16, 1)\n"
     ]
    },
    {
     "name": "stderr",
     "output_type": "stream",
     "text": [
      "Processing Non-Demented:  23%|████████████                                         | 727/3200 [00:06<00:16, 151.22it/s]"
     ]
    },
    {
     "name": "stdout",
     "output_type": "stream",
     "text": [
      "Batch images shape: (16, 128, 128, 3)\n",
      "Batch labels shape: (16, 1)\n",
      "Batch images shape: (16, 128, 128, 3)\n",
      "Batch labels shape: (16, 1)\n",
      "Batch images shape: (16, 128, 128, 3)\n",
      "Batch labels shape: (16, 1)\n"
     ]
    },
    {
     "name": "stderr",
     "output_type": "stream",
     "text": [
      "Processing Non-Demented:  24%|████████████▌                                        | 762/3200 [00:06<00:17, 143.08it/s]"
     ]
    },
    {
     "name": "stdout",
     "output_type": "stream",
     "text": [
      "Batch images shape: (16, 128, 128, 3)\n",
      "Batch labels shape: (16, 1)\n",
      "Batch images shape: (16, 128, 128, 3)\n",
      "Batch labels shape: (16, 1)\n"
     ]
    },
    {
     "name": "stderr",
     "output_type": "stream",
     "text": [
      "Processing Non-Demented:  25%|█████████████▎                                       | 806/3200 [00:07<00:17, 135.54it/s]"
     ]
    },
    {
     "name": "stdout",
     "output_type": "stream",
     "text": [
      "Batch images shape: (16, 128, 128, 3)\n",
      "Batch labels shape: (16, 1)\n",
      "Batch images shape: (16, 128, 128, 3)\n",
      "Batch labels shape: (16, 1)\n"
     ]
    },
    {
     "name": "stderr",
     "output_type": "stream",
     "text": [
      "Processing Non-Demented:  26%|█████████████▉                                       | 838/3200 [00:07<00:16, 143.21it/s]"
     ]
    },
    {
     "name": "stdout",
     "output_type": "stream",
     "text": [
      "Batch images shape: (16, 128, 128, 3)\n",
      "Batch labels shape: (16, 1)\n",
      "Batch images shape: (16, 128, 128, 3)\n",
      "Batch labels shape: (16, 1)\n"
     ]
    },
    {
     "name": "stderr",
     "output_type": "stream",
     "text": [
      "Processing Non-Demented:  27%|██████████████▍                                      | 868/3200 [00:07<00:16, 139.37it/s]"
     ]
    },
    {
     "name": "stdout",
     "output_type": "stream",
     "text": [
      "Batch images shape: (16, 128, 128, 3)\n",
      "Batch labels shape: (16, 1)\n",
      "Batch images shape: (16, 128, 128, 3)\n",
      "Batch labels shape: (16, 1)\n"
     ]
    },
    {
     "name": "stderr",
     "output_type": "stream",
     "text": [
      "Processing Non-Demented:  28%|██████████████▉                                      | 904/3200 [00:07<00:15, 151.17it/s]"
     ]
    },
    {
     "name": "stdout",
     "output_type": "stream",
     "text": [
      "Batch images shape: (16, 128, 128, 3)\n",
      "Batch labels shape: (16, 1)\n",
      "Batch images shape: (16, 128, 128, 3)\n",
      "Batch labels shape: (16, 1)\n"
     ]
    },
    {
     "name": "stderr",
     "output_type": "stream",
     "text": [
      "Processing Non-Demented:  29%|███████████████▌                                     | 943/3200 [00:08<00:13, 162.09it/s]"
     ]
    },
    {
     "name": "stdout",
     "output_type": "stream",
     "text": [
      "Batch images shape: (16, 128, 128, 3)\n",
      "Batch labels shape: (16, 1)\n",
      "Batch images shape: (16, 128, 128, 3)\n",
      "Batch labels shape: (16, 1)\n"
     ]
    },
    {
     "name": "stderr",
     "output_type": "stream",
     "text": [
      "Processing Non-Demented:  31%|████████████████▏                                    | 977/3200 [00:08<00:13, 164.11it/s]"
     ]
    },
    {
     "name": "stdout",
     "output_type": "stream",
     "text": [
      "Batch images shape: (16, 128, 128, 3)\n",
      "Batch labels shape: (16, 1)\n",
      "Batch images shape: (16, 128, 128, 3)\n",
      "Batch labels shape: (16, 1)\n",
      "Batch images shape: (16, 128, 128, 3)\n",
      "Batch labels shape: (16, 1)\n"
     ]
    },
    {
     "name": "stderr",
     "output_type": "stream",
     "text": [
      "Processing Non-Demented:  32%|████████████████▍                                   | 1011/3200 [00:08<00:13, 164.29it/s]"
     ]
    },
    {
     "name": "stdout",
     "output_type": "stream",
     "text": [
      "Batch images shape: (16, 128, 128, 3)\n",
      "Batch labels shape: (16, 1)\n",
      "Batch images shape: (16, 128, 128, 3)\n",
      "Batch labels shape: (16, 1)\n",
      "Batch images shape: (16, 128, 128, 3)\n",
      "Batch labels shape: (16, 1)\n"
     ]
    },
    {
     "name": "stderr",
     "output_type": "stream",
     "text": [
      "Processing Non-Demented:  33%|█████████████████▎                                  | 1062/3200 [00:08<00:13, 163.87it/s]"
     ]
    },
    {
     "name": "stdout",
     "output_type": "stream",
     "text": [
      "Batch images shape: (16, 128, 128, 3)\n",
      "Batch labels shape: (16, 1)\n",
      "Batch images shape: (16, 128, 128, 3)\n",
      "Batch labels shape: (16, 1)\n",
      "Batch images shape: (16, 128, 128, 3)\n",
      "Batch labels shape: (16, 1)\n"
     ]
    },
    {
     "name": "stderr",
     "output_type": "stream",
     "text": [
      "Processing Non-Demented:  35%|██████████████████                                  | 1115/3200 [00:09<00:12, 163.71it/s]"
     ]
    },
    {
     "name": "stdout",
     "output_type": "stream",
     "text": [
      "Batch images shape: (16, 128, 128, 3)\n",
      "Batch labels shape: (16, 1)\n",
      "Batch images shape: (16, 128, 128, 3)\n",
      "Batch labels shape: (16, 1)\n",
      "Batch images shape: (16, 128, 128, 3)\n",
      "Batch labels shape: (16, 1)\n"
     ]
    },
    {
     "name": "stderr",
     "output_type": "stream",
     "text": [
      "Processing Non-Demented:  36%|██████████████████▉                                 | 1168/3200 [00:09<00:12, 165.84it/s]"
     ]
    },
    {
     "name": "stdout",
     "output_type": "stream",
     "text": [
      "Batch images shape: (16, 128, 128, 3)\n",
      "Batch labels shape: (16, 1)\n",
      "Batch images shape: (16, 128, 128, 3)\n",
      "Batch labels shape: (16, 1)\n",
      "Batch images shape: (16, 128, 128, 3)\n",
      "Batch labels shape: (16, 1)\n"
     ]
    },
    {
     "name": "stderr",
     "output_type": "stream",
     "text": [
      "Processing Non-Demented:  38%|███████████████████▌                                | 1202/3200 [00:09<00:11, 167.35it/s]"
     ]
    },
    {
     "name": "stdout",
     "output_type": "stream",
     "text": [
      "Batch images shape: (16, 128, 128, 3)\n",
      "Batch labels shape: (16, 1)\n",
      "Batch images shape: (16, 128, 128, 3)\n",
      "Batch labels shape: (16, 1)\n",
      "Batch images shape: (16, 128, 128, 3)\n",
      "Batch labels shape: (16, 1)\n"
     ]
    },
    {
     "name": "stderr",
     "output_type": "stream",
     "text": [
      "Processing Non-Demented:  39%|████████████████████▍                               | 1255/3200 [00:09<00:11, 168.60it/s]"
     ]
    },
    {
     "name": "stdout",
     "output_type": "stream",
     "text": [
      "Batch images shape: (16, 128, 128, 3)\n",
      "Batch labels shape: (16, 1)\n",
      "Batch images shape: (16, 128, 128, 3)\n",
      "Batch labels shape: (16, 1)\n",
      "Batch images shape: (16, 128, 128, 3)\n",
      "Batch labels shape: (16, 1)\n"
     ]
    },
    {
     "name": "stderr",
     "output_type": "stream",
     "text": [
      "Processing Non-Demented:  41%|█████████████████████▎                              | 1312/3200 [00:10<00:10, 173.76it/s]"
     ]
    },
    {
     "name": "stdout",
     "output_type": "stream",
     "text": [
      "Batch images shape: (16, 128, 128, 3)\n",
      "Batch labels shape: (16, 1)\n",
      "Batch images shape: (16, 128, 128, 3)\n",
      "Batch labels shape: (16, 1)\n",
      "Batch images shape: (16, 128, 128, 3)\n",
      "Batch labels shape: (16, 1)\n"
     ]
    },
    {
     "name": "stderr",
     "output_type": "stream",
     "text": [
      "Processing Non-Demented:  42%|█████████████████████▉                              | 1351/3200 [00:10<00:10, 172.58it/s]"
     ]
    },
    {
     "name": "stdout",
     "output_type": "stream",
     "text": [
      "Batch images shape: (16, 128, 128, 3)\n",
      "Batch labels shape: (16, 1)\n",
      "Batch images shape: (16, 128, 128, 3)\n",
      "Batch labels shape: (16, 1)\n",
      "Batch images shape: (16, 128, 128, 3)\n",
      "Batch labels shape: (16, 1)\n"
     ]
    },
    {
     "name": "stderr",
     "output_type": "stream",
     "text": [
      "Processing Non-Demented:  43%|██████████████████████▌                             | 1388/3200 [00:10<00:10, 170.76it/s]"
     ]
    },
    {
     "name": "stdout",
     "output_type": "stream",
     "text": [
      "Batch images shape: (16, 128, 128, 3)\n",
      "Batch labels shape: (16, 1)\n",
      "Batch images shape: (16, 128, 128, 3)\n",
      "Batch labels shape: (16, 1)\n"
     ]
    },
    {
     "name": "stderr",
     "output_type": "stream",
     "text": [
      "Processing Non-Demented:  44%|███████████████████████▏                            | 1424/3200 [00:10<00:11, 156.71it/s]"
     ]
    },
    {
     "name": "stdout",
     "output_type": "stream",
     "text": [
      "Batch images shape: (16, 128, 128, 3)\n",
      "Batch labels shape: (16, 1)\n",
      "Batch images shape: (16, 128, 128, 3)\n",
      "Batch labels shape: (16, 1)\n",
      "Batch images shape: (16, 128, 128, 3)\n",
      "Batch labels shape: (16, 1)\n"
     ]
    },
    {
     "name": "stderr",
     "output_type": "stream",
     "text": [
      "Processing Non-Demented:  46%|███████████████████████▉                            | 1476/3200 [00:11<00:11, 147.48it/s]"
     ]
    },
    {
     "name": "stdout",
     "output_type": "stream",
     "text": [
      "Batch images shape: (16, 128, 128, 3)\n",
      "Batch labels shape: (16, 1)\n",
      "Batch images shape: (16, 128, 128, 3)\n",
      "Batch labels shape: (16, 1)\n"
     ]
    },
    {
     "name": "stderr",
     "output_type": "stream",
     "text": [
      "Processing Non-Demented:  47%|████████████████████████▌                           | 1511/3200 [00:11<00:10, 155.47it/s]"
     ]
    },
    {
     "name": "stdout",
     "output_type": "stream",
     "text": [
      "Batch images shape: (16, 128, 128, 3)\n",
      "Batch labels shape: (16, 1)\n",
      "Batch images shape: (16, 128, 128, 3)\n",
      "Batch labels shape: (16, 1)\n",
      "Batch images shape: (16, 128, 128, 3)\n",
      "Batch labels shape: (16, 1)\n"
     ]
    },
    {
     "name": "stderr",
     "output_type": "stream",
     "text": [
      "Processing Non-Demented:  49%|█████████████████████████▍                          | 1569/3200 [00:11<00:09, 167.68it/s]"
     ]
    },
    {
     "name": "stdout",
     "output_type": "stream",
     "text": [
      "Batch images shape: (16, 128, 128, 3)\n",
      "Batch labels shape: (16, 1)\n",
      "Batch images shape: (16, 128, 128, 3)\n",
      "Batch labels shape: (16, 1)\n",
      "Batch images shape: (16, 128, 128, 3)\n",
      "Batch labels shape: (16, 1)\n"
     ]
    },
    {
     "name": "stderr",
     "output_type": "stream",
     "text": [
      "Processing Non-Demented:  50%|██████████████████████████                          | 1607/3200 [00:12<00:09, 171.97it/s]"
     ]
    },
    {
     "name": "stdout",
     "output_type": "stream",
     "text": [
      "Batch images shape: (16, 128, 128, 3)\n",
      "Batch labels shape: (16, 1)\n",
      "Batch images shape: (16, 128, 128, 3)\n",
      "Batch labels shape: (16, 1)\n",
      "Batch images shape: (16, 128, 128, 3)\n",
      "Batch labels shape: (16, 1)\n"
     ]
    },
    {
     "name": "stderr",
     "output_type": "stream",
     "text": [
      "Processing Non-Demented:  51%|██████████████████████████▋                         | 1645/3200 [00:12<00:08, 173.37it/s]"
     ]
    },
    {
     "name": "stdout",
     "output_type": "stream",
     "text": [
      "Batch images shape: (16, 128, 128, 3)\n",
      "Batch labels shape: (16, 1)\n",
      "Batch images shape: (16, 128, 128, 3)\n",
      "Batch labels shape: (16, 1)\n"
     ]
    },
    {
     "name": "stderr",
     "output_type": "stream",
     "text": [
      "Processing Non-Demented:  53%|███████████████████████████▎                        | 1682/3200 [00:12<00:08, 176.86it/s]"
     ]
    },
    {
     "name": "stdout",
     "output_type": "stream",
     "text": [
      "Batch images shape: (16, 128, 128, 3)\n",
      "Batch labels shape: (16, 1)\n",
      "Batch images shape: (16, 128, 128, 3)\n",
      "Batch labels shape: (16, 1)\n",
      "Batch images shape: (16, 128, 128, 3)\n",
      "Batch labels shape: (16, 1)\n"
     ]
    },
    {
     "name": "stderr",
     "output_type": "stream",
     "text": [
      "Processing Non-Demented:  54%|████████████████████████████▎                       | 1741/3200 [00:12<00:08, 174.10it/s]"
     ]
    },
    {
     "name": "stdout",
     "output_type": "stream",
     "text": [
      "Batch images shape: (16, 128, 128, 3)\n",
      "Batch labels shape: (16, 1)\n",
      "Batch images shape: (16, 128, 128, 3)\n",
      "Batch labels shape: (16, 1)\n",
      "Batch images shape: (16, 128, 128, 3)\n",
      "Batch labels shape: (16, 1)\n"
     ]
    },
    {
     "name": "stderr",
     "output_type": "stream",
     "text": [
      "Processing Non-Demented:  56%|████████████████████████████▉                       | 1777/3200 [00:13<00:08, 167.21it/s]"
     ]
    },
    {
     "name": "stdout",
     "output_type": "stream",
     "text": [
      "Batch images shape: (16, 128, 128, 3)\n",
      "Batch labels shape: (16, 1)\n",
      "Batch images shape: (16, 128, 128, 3)\n",
      "Batch labels shape: (16, 1)\n"
     ]
    },
    {
     "name": "stderr",
     "output_type": "stream",
     "text": [
      "Processing Non-Demented:  57%|█████████████████████████████▍                      | 1812/3200 [00:13<00:08, 164.41it/s]"
     ]
    },
    {
     "name": "stdout",
     "output_type": "stream",
     "text": [
      "Batch images shape: (16, 128, 128, 3)\n",
      "Batch labels shape: (16, 1)\n",
      "Batch images shape: (16, 128, 128, 3)\n",
      "Batch labels shape: (16, 1)\n",
      "Batch images shape: (16, 128, 128, 3)\n",
      "Batch labels shape: (16, 1)\n"
     ]
    },
    {
     "name": "stderr",
     "output_type": "stream",
     "text": [
      "Processing Non-Demented:  58%|██████████████████████████████▎                     | 1868/3200 [00:13<00:07, 172.60it/s]"
     ]
    },
    {
     "name": "stdout",
     "output_type": "stream",
     "text": [
      "Batch images shape: (16, 128, 128, 3)\n",
      "Batch labels shape: (16, 1)\n",
      "Batch images shape: (16, 128, 128, 3)\n",
      "Batch labels shape: (16, 1)\n",
      "Batch images shape: (16, 128, 128, 3)\n",
      "Batch labels shape: (16, 1)\n"
     ]
    },
    {
     "name": "stderr",
     "output_type": "stream",
     "text": [
      "Processing Non-Demented:  60%|██████████████████████████████▉                     | 1906/3200 [00:13<00:07, 173.45it/s]"
     ]
    },
    {
     "name": "stdout",
     "output_type": "stream",
     "text": [
      "Batch images shape: (16, 128, 128, 3)\n",
      "Batch labels shape: (16, 1)\n",
      "Batch images shape: (16, 128, 128, 3)\n",
      "Batch labels shape: (16, 1)\n",
      "Batch images shape: (16, 128, 128, 3)\n",
      "Batch labels shape: (16, 1)\n"
     ]
    },
    {
     "name": "stderr",
     "output_type": "stream",
     "text": [
      "Processing Non-Demented:  61%|███████████████████████████████▌                    | 1945/3200 [00:14<00:07, 173.32it/s]"
     ]
    },
    {
     "name": "stdout",
     "output_type": "stream",
     "text": [
      "Batch images shape: (16, 128, 128, 3)\n",
      "Batch labels shape: (16, 1)\n",
      "Batch images shape: (16, 128, 128, 3)\n",
      "Batch labels shape: (16, 1)\n"
     ]
    },
    {
     "name": "stderr",
     "output_type": "stream",
     "text": [
      "Processing Non-Demented:  62%|████████████████████████████████▏                   | 1979/3200 [00:14<00:09, 125.32it/s]"
     ]
    },
    {
     "name": "stdout",
     "output_type": "stream",
     "text": [
      "Batch images shape: (16, 128, 128, 3)\n",
      "Batch labels shape: (16, 1)\n",
      "Batch images shape: (16, 128, 128, 3)\n",
      "Batch labels shape: (16, 1)\n"
     ]
    },
    {
     "name": "stderr",
     "output_type": "stream",
     "text": [
      "Processing Non-Demented:  63%|████████████████████████████████▊                   | 2021/3200 [00:14<00:09, 120.39it/s]"
     ]
    },
    {
     "name": "stdout",
     "output_type": "stream",
     "text": [
      "Batch images shape: (16, 128, 128, 3)\n",
      "Batch labels shape: (16, 1)\n",
      "Batch images shape: (16, 128, 128, 3)\n",
      "Batch labels shape: (16, 1)\n"
     ]
    },
    {
     "name": "stderr",
     "output_type": "stream",
     "text": [
      "Processing Non-Demented:  64%|█████████████████████████████████▍                  | 2057/3200 [00:14<00:08, 141.88it/s]"
     ]
    },
    {
     "name": "stdout",
     "output_type": "stream",
     "text": [
      "Batch images shape: (16, 128, 128, 3)\n",
      "Batch labels shape: (16, 1)\n",
      "Batch images shape: (16, 128, 128, 3)\n",
      "Batch labels shape: (16, 1)\n",
      "Batch images shape: (16, 128, 128, 3)\n",
      "Batch labels shape: (16, 1)\n"
     ]
    },
    {
     "name": "stderr",
     "output_type": "stream",
     "text": [
      "Processing Non-Demented:  66%|██████████████████████████████████▎                 | 2111/3200 [00:15<00:06, 159.85it/s]"
     ]
    },
    {
     "name": "stdout",
     "output_type": "stream",
     "text": [
      "Batch images shape: (16, 128, 128, 3)\n",
      "Batch labels shape: (16, 1)\n",
      "Batch images shape: (16, 128, 128, 3)\n",
      "Batch labels shape: (16, 1)\n",
      "Batch images shape: (16, 128, 128, 3)\n",
      "Batch labels shape: (16, 1)\n"
     ]
    },
    {
     "name": "stderr",
     "output_type": "stream",
     "text": [
      "Processing Non-Demented:  67%|██████████████████████████████████▊                 | 2146/3200 [00:15<00:06, 161.06it/s]"
     ]
    },
    {
     "name": "stdout",
     "output_type": "stream",
     "text": [
      "Batch images shape: (16, 128, 128, 3)\n",
      "Batch labels shape: (16, 1)\n",
      "Batch images shape: (16, 128, 128, 3)\n",
      "Batch labels shape: (16, 1)\n",
      "Batch images shape: (16, 128, 128, 3)\n",
      "Batch labels shape: (16, 1)\n"
     ]
    },
    {
     "name": "stderr",
     "output_type": "stream",
     "text": [
      "Processing Non-Demented:  69%|███████████████████████████████████▊                | 2204/3200 [00:15<00:05, 168.99it/s]"
     ]
    },
    {
     "name": "stdout",
     "output_type": "stream",
     "text": [
      "Batch images shape: (16, 128, 128, 3)\n",
      "Batch labels shape: (16, 1)\n",
      "Batch images shape: (16, 128, 128, 3)\n",
      "Batch labels shape: (16, 1)\n",
      "Batch images shape: (16, 128, 128, 3)\n",
      "Batch labels shape: (16, 1)\n"
     ]
    },
    {
     "name": "stderr",
     "output_type": "stream",
     "text": [
      "Processing Non-Demented:  70%|████████████████████████████████████▍               | 2241/3200 [00:16<00:05, 169.67it/s]"
     ]
    },
    {
     "name": "stdout",
     "output_type": "stream",
     "text": [
      "Batch images shape: (16, 128, 128, 3)\n",
      "Batch labels shape: (16, 1)\n",
      "Batch images shape: (16, 128, 128, 3)\n",
      "Batch labels shape: (16, 1)\n",
      "Batch images shape: (16, 128, 128, 3)\n",
      "Batch labels shape: (16, 1)\n"
     ]
    },
    {
     "name": "stderr",
     "output_type": "stream",
     "text": [
      "Processing Non-Demented:  72%|█████████████████████████████████████▎              | 2296/3200 [00:16<00:05, 172.19it/s]"
     ]
    },
    {
     "name": "stdout",
     "output_type": "stream",
     "text": [
      "Batch images shape: (16, 128, 128, 3)\n",
      "Batch labels shape: (16, 1)\n",
      "Batch images shape: (16, 128, 128, 3)\n",
      "Batch labels shape: (16, 1)\n",
      "Batch images shape: (16, 128, 128, 3)\n",
      "Batch labels shape: (16, 1)\n"
     ]
    },
    {
     "name": "stderr",
     "output_type": "stream",
     "text": [
      "Processing Non-Demented:  73%|█████████████████████████████████████▉              | 2334/3200 [00:16<00:04, 173.41it/s]"
     ]
    },
    {
     "name": "stdout",
     "output_type": "stream",
     "text": [
      "Batch images shape: (16, 128, 128, 3)\n",
      "Batch labels shape: (16, 1)\n",
      "Batch images shape: (16, 128, 128, 3)\n",
      "Batch labels shape: (16, 1)\n"
     ]
    },
    {
     "name": "stderr",
     "output_type": "stream",
     "text": [
      "Processing Non-Demented:  74%|██████████████████████████████████████▌             | 2370/3200 [00:16<00:04, 174.99it/s]"
     ]
    },
    {
     "name": "stdout",
     "output_type": "stream",
     "text": [
      "Batch images shape: (16, 128, 128, 3)\n",
      "Batch labels shape: (16, 1)\n",
      "Batch images shape: (16, 128, 128, 3)\n",
      "Batch labels shape: (16, 1)\n",
      "Batch images shape: (16, 128, 128, 3)\n",
      "Batch labels shape: (16, 1)\n"
     ]
    },
    {
     "name": "stderr",
     "output_type": "stream",
     "text": [
      "Processing Non-Demented:  76%|███████████████████████████████████████▍            | 2428/3200 [00:17<00:04, 175.66it/s]"
     ]
    },
    {
     "name": "stdout",
     "output_type": "stream",
     "text": [
      "Batch images shape: (16, 128, 128, 3)\n",
      "Batch labels shape: (16, 1)\n",
      "Batch images shape: (16, 128, 128, 3)\n",
      "Batch labels shape: (16, 1)\n",
      "Batch images shape: (16, 128, 128, 3)\n",
      "Batch labels shape: (16, 1)\n"
     ]
    },
    {
     "name": "stderr",
     "output_type": "stream",
     "text": [
      "Processing Non-Demented:  78%|████████████████████████████████████████▎           | 2483/3200 [00:17<00:04, 173.86it/s]"
     ]
    },
    {
     "name": "stdout",
     "output_type": "stream",
     "text": [
      "Batch images shape: (16, 128, 128, 3)\n",
      "Batch labels shape: (16, 1)\n",
      "Batch images shape: (16, 128, 128, 3)\n",
      "Batch labels shape: (16, 1)\n",
      "Batch images shape: (16, 128, 128, 3)\n",
      "Batch labels shape: (16, 1)\n"
     ]
    },
    {
     "name": "stderr",
     "output_type": "stream",
     "text": [
      "Processing Non-Demented:  79%|████████████████████████████████████████▉           | 2520/3200 [00:17<00:03, 174.54it/s]"
     ]
    },
    {
     "name": "stdout",
     "output_type": "stream",
     "text": [
      "Batch images shape: (16, 128, 128, 3)\n",
      "Batch labels shape: (16, 1)\n",
      "Batch images shape: (16, 128, 128, 3)\n",
      "Batch labels shape: (16, 1)\n",
      "Batch images shape: (16, 128, 128, 3)\n",
      "Batch labels shape: (16, 1)\n"
     ]
    },
    {
     "name": "stderr",
     "output_type": "stream",
     "text": [
      "Processing Non-Demented:  80%|█████████████████████████████████████████▌          | 2556/3200 [00:17<00:03, 175.79it/s]"
     ]
    },
    {
     "name": "stdout",
     "output_type": "stream",
     "text": [
      "Batch images shape: (16, 128, 128, 3)\n",
      "Batch labels shape: (16, 1)\n",
      "Batch images shape: (16, 128, 128, 3)\n",
      "Batch labels shape: (16, 1)\n"
     ]
    },
    {
     "name": "stderr",
     "output_type": "stream",
     "text": [
      "Processing Non-Demented:  81%|██████████████████████████████████████████▏         | 2593/3200 [00:18<00:03, 169.92it/s]"
     ]
    },
    {
     "name": "stdout",
     "output_type": "stream",
     "text": [
      "Batch images shape: (16, 128, 128, 3)\n",
      "Batch labels shape: (16, 1)\n",
      "Batch images shape: (16, 128, 128, 3)\n",
      "Batch labels shape: (16, 1)\n",
      "Batch images shape: (16, 128, 128, 3)\n",
      "Batch labels shape: (16, 1)\n"
     ]
    },
    {
     "name": "stderr",
     "output_type": "stream",
     "text": [
      "Processing Non-Demented:  83%|███████████████████████████████████████████         | 2647/3200 [00:18<00:03, 174.98it/s]"
     ]
    },
    {
     "name": "stdout",
     "output_type": "stream",
     "text": [
      "Batch images shape: (16, 128, 128, 3)\n",
      "Batch labels shape: (16, 1)\n",
      "Batch images shape: (16, 128, 128, 3)\n",
      "Batch labels shape: (16, 1)\n",
      "Batch images shape: (16, 128, 128, 3)\n",
      "Batch labels shape: (16, 1)\n"
     ]
    },
    {
     "name": "stderr",
     "output_type": "stream",
     "text": [
      "Processing Non-Demented:  84%|███████████████████████████████████████████▉        | 2700/3200 [00:18<00:03, 166.37it/s]"
     ]
    },
    {
     "name": "stdout",
     "output_type": "stream",
     "text": [
      "Batch images shape: (16, 128, 128, 3)\n",
      "Batch labels shape: (16, 1)\n",
      "Batch images shape: (16, 128, 128, 3)\n",
      "Batch labels shape: (16, 1)\n",
      "Batch images shape: (16, 128, 128, 3)\n",
      "Batch labels shape: (16, 1)\n"
     ]
    },
    {
     "name": "stderr",
     "output_type": "stream",
     "text": [
      "Processing Non-Demented:  85%|████████████████████████████████████████████▍       | 2734/3200 [00:18<00:03, 149.28it/s]"
     ]
    },
    {
     "name": "stdout",
     "output_type": "stream",
     "text": [
      "Batch images shape: (16, 128, 128, 3)\n",
      "Batch labels shape: (16, 1)\n",
      "Batch images shape: (16, 128, 128, 3)\n",
      "Batch labels shape: (16, 1)\n"
     ]
    },
    {
     "name": "stderr",
     "output_type": "stream",
     "text": [
      "Processing Non-Demented:  86%|████████████████████████████████████████████▉       | 2765/3200 [00:19<00:03, 139.82it/s]"
     ]
    },
    {
     "name": "stdout",
     "output_type": "stream",
     "text": [
      "Batch images shape: (16, 128, 128, 3)\n",
      "Batch labels shape: (16, 1)\n",
      "Batch images shape: (16, 128, 128, 3)\n",
      "Batch labels shape: (16, 1)\n"
     ]
    },
    {
     "name": "stderr",
     "output_type": "stream",
     "text": [
      "Processing Non-Demented:  87%|█████████████████████████████████████████████▍      | 2796/3200 [00:19<00:03, 133.29it/s]"
     ]
    },
    {
     "name": "stdout",
     "output_type": "stream",
     "text": [
      "Batch images shape: (16, 128, 128, 3)\n",
      "Batch labels shape: (16, 1)\n",
      "Batch images shape: (16, 128, 128, 3)\n",
      "Batch labels shape: (16, 1)\n"
     ]
    },
    {
     "name": "stderr",
     "output_type": "stream",
     "text": [
      "Processing Non-Demented:  89%|██████████████████████████████████████████████▏     | 2840/3200 [00:19<00:02, 128.41it/s]"
     ]
    },
    {
     "name": "stdout",
     "output_type": "stream",
     "text": [
      "Batch images shape: (16, 128, 128, 3)\n",
      "Batch labels shape: (16, 1)\n",
      "Batch images shape: (16, 128, 128, 3)\n",
      "Batch labels shape: (16, 1)\n"
     ]
    },
    {
     "name": "stderr",
     "output_type": "stream",
     "text": [
      "Processing Non-Demented:  90%|██████████████████████████████████████████████▌     | 2869/3200 [00:19<00:02, 131.40it/s]"
     ]
    },
    {
     "name": "stdout",
     "output_type": "stream",
     "text": [
      "Batch images shape: (16, 128, 128, 3)\n",
      "Batch labels shape: (16, 1)\n",
      "Batch images shape: (16, 128, 128, 3)\n",
      "Batch labels shape: (16, 1)\n"
     ]
    },
    {
     "name": "stderr",
     "output_type": "stream",
     "text": [
      "Processing Non-Demented:  91%|███████████████████████████████████████████████     | 2899/3200 [00:20<00:02, 139.62it/s]"
     ]
    },
    {
     "name": "stdout",
     "output_type": "stream",
     "text": [
      "Batch images shape: (16, 128, 128, 3)\n",
      "Batch labels shape: (16, 1)\n",
      "Batch images shape: (16, 128, 128, 3)\n",
      "Batch labels shape: (16, 1)\n",
      "Batch images shape: (16, 128, 128, 3)\n",
      "Batch labels shape: (16, 1)\n"
     ]
    },
    {
     "name": "stderr",
     "output_type": "stream",
     "text": [
      "Processing Non-Demented:  92%|████████████████████████████████████████████████    | 2954/3200 [00:20<00:01, 160.39it/s]"
     ]
    },
    {
     "name": "stdout",
     "output_type": "stream",
     "text": [
      "Batch images shape: (16, 128, 128, 3)\n",
      "Batch labels shape: (16, 1)\n",
      "Batch images shape: (16, 128, 128, 3)\n",
      "Batch labels shape: (16, 1)\n",
      "Batch images shape: (16, 128, 128, 3)\n",
      "Batch labels shape: (16, 1)\n"
     ]
    },
    {
     "name": "stderr",
     "output_type": "stream",
     "text": [
      "Processing Non-Demented:  94%|████████████████████████████████████████████████▋   | 2993/3200 [00:20<00:01, 165.30it/s]"
     ]
    },
    {
     "name": "stdout",
     "output_type": "stream",
     "text": [
      "Batch images shape: (16, 128, 128, 3)\n",
      "Batch labels shape: (16, 1)\n",
      "Batch images shape: (16, 128, 128, 3)\n",
      "Batch labels shape: (16, 1)\n",
      "Batch images shape: (16, 128, 128, 3)\n",
      "Batch labels shape: (16, 1)\n"
     ]
    },
    {
     "name": "stderr",
     "output_type": "stream",
     "text": [
      "Processing Non-Demented:  95%|█████████████████████████████████████████████████▍  | 3046/3200 [00:21<00:00, 156.25it/s]"
     ]
    },
    {
     "name": "stdout",
     "output_type": "stream",
     "text": [
      "Batch images shape: (16, 128, 128, 3)\n",
      "Batch labels shape: (16, 1)\n",
      "Batch images shape: (16, 128, 128, 3)\n",
      "Batch labels shape: (16, 1)\n",
      "Batch images shape: (16, 128, 128, 3)\n",
      "Batch labels shape: (16, 1)\n"
     ]
    },
    {
     "name": "stderr",
     "output_type": "stream",
     "text": [
      "Processing Non-Demented:  97%|██████████████████████████████████████████████████▍ | 3103/3200 [00:21<00:00, 166.53it/s]"
     ]
    },
    {
     "name": "stdout",
     "output_type": "stream",
     "text": [
      "Batch images shape: (16, 128, 128, 3)\n",
      "Batch labels shape: (16, 1)\n",
      "Batch images shape: (16, 128, 128, 3)\n",
      "Batch labels shape: (16, 1)\n",
      "Batch images shape: (16, 128, 128, 3)\n",
      "Batch labels shape: (16, 1)\n"
     ]
    },
    {
     "name": "stderr",
     "output_type": "stream",
     "text": [
      "Processing Non-Demented:  98%|███████████████████████████████████████████████████ | 3141/3200 [00:21<00:00, 171.48it/s]"
     ]
    },
    {
     "name": "stdout",
     "output_type": "stream",
     "text": [
      "Batch images shape: (16, 128, 128, 3)\n",
      "Batch labels shape: (16, 1)\n",
      "Batch images shape: (16, 128, 128, 3)\n",
      "Batch labels shape: (16, 1)\n",
      "Batch images shape: (16, 128, 128, 3)\n",
      "Batch labels shape: (16, 1)\n"
     ]
    },
    {
     "name": "stderr",
     "output_type": "stream",
     "text": [
      "Processing Non-Demented: 100%|████████████████████████████████████████████████████| 3200/3200 [00:21<00:00, 145.62it/s]"
     ]
    },
    {
     "name": "stdout",
     "output_type": "stream",
     "text": [
      "Batch images shape: (16, 128, 128, 3)\n",
      "Batch labels shape: (16, 1)\n",
      "Batch images shape: (16, 128, 128, 3)\n",
      "Batch labels shape: (16, 1)\n",
      "Batch images shape: (16, 128, 128, 3)\n",
      "Batch labels shape: (16, 1)\n"
     ]
    },
    {
     "name": "stderr",
     "output_type": "stream",
     "text": [
      "\n",
      "Processing VeryMild-Demented:   2%|▊                                                | 36/2240 [00:00<00:13, 167.00it/s]"
     ]
    },
    {
     "name": "stdout",
     "output_type": "stream",
     "text": [
      "Batch images shape: (16, 128, 128, 3)\n",
      "Batch labels shape: (16, 1)\n",
      "Batch images shape: (16, 128, 128, 3)\n",
      "Batch labels shape: (16, 1)\n",
      "Batch images shape: (16, 128, 128, 3)\n",
      "Batch labels shape: (16, 1)\n"
     ]
    },
    {
     "name": "stderr",
     "output_type": "stream",
     "text": [
      "Processing VeryMild-Demented:   3%|█▋                                               | 77/2240 [00:00<00:12, 176.10it/s]"
     ]
    },
    {
     "name": "stdout",
     "output_type": "stream",
     "text": [
      "Batch images shape: (16, 128, 128, 3)\n",
      "Batch labels shape: (16, 1)\n",
      "Batch images shape: (16, 128, 128, 3)\n",
      "Batch labels shape: (16, 1)\n"
     ]
    },
    {
     "name": "stderr",
     "output_type": "stream",
     "text": [
      "Processing VeryMild-Demented:   5%|██▍                                             | 115/2240 [00:00<00:12, 176.27it/s]"
     ]
    },
    {
     "name": "stdout",
     "output_type": "stream",
     "text": [
      "Batch images shape: (16, 128, 128, 3)\n",
      "Batch labels shape: (16, 1)\n",
      "Batch images shape: (16, 128, 128, 3)\n",
      "Batch labels shape: (16, 1)\n",
      "Batch images shape: (16, 128, 128, 3)\n",
      "Batch labels shape: (16, 1)\n"
     ]
    },
    {
     "name": "stderr",
     "output_type": "stream",
     "text": [
      "Processing VeryMild-Demented:   8%|███▋                                            | 171/2240 [00:00<00:11, 176.58it/s]"
     ]
    },
    {
     "name": "stdout",
     "output_type": "stream",
     "text": [
      "Batch images shape: (16, 128, 128, 3)\n",
      "Batch labels shape: (16, 1)\n",
      "Batch images shape: (16, 128, 128, 3)\n",
      "Batch labels shape: (16, 1)\n",
      "Batch images shape: (16, 128, 128, 3)\n",
      "Batch labels shape: (16, 1)\n"
     ]
    },
    {
     "name": "stderr",
     "output_type": "stream",
     "text": [
      "Processing VeryMild-Demented:   9%|████▍                                           | 207/2240 [00:01<00:11, 175.71it/s]"
     ]
    },
    {
     "name": "stdout",
     "output_type": "stream",
     "text": [
      "Batch images shape: (16, 128, 128, 3)\n",
      "Batch labels shape: (16, 1)\n",
      "Batch images shape: (16, 128, 128, 3)\n",
      "Batch labels shape: (16, 1)\n"
     ]
    },
    {
     "name": "stderr",
     "output_type": "stream",
     "text": [
      "Processing VeryMild-Demented:  11%|█████▎                                          | 245/2240 [00:01<00:11, 169.92it/s]"
     ]
    },
    {
     "name": "stdout",
     "output_type": "stream",
     "text": [
      "Batch images shape: (16, 128, 128, 3)\n",
      "Batch labels shape: (16, 1)\n",
      "Batch images shape: (16, 128, 128, 3)\n",
      "Batch labels shape: (16, 1)\n",
      "Batch images shape: (16, 128, 128, 3)\n",
      "Batch labels shape: (16, 1)\n"
     ]
    },
    {
     "name": "stderr",
     "output_type": "stream",
     "text": [
      "Processing VeryMild-Demented:  14%|██████▍                                         | 303/2240 [00:01<00:11, 174.25it/s]"
     ]
    },
    {
     "name": "stdout",
     "output_type": "stream",
     "text": [
      "Batch images shape: (16, 128, 128, 3)\n",
      "Batch labels shape: (16, 1)\n",
      "Batch images shape: (16, 128, 128, 3)\n",
      "Batch labels shape: (16, 1)\n",
      "Batch images shape: (16, 128, 128, 3)\n",
      "Batch labels shape: (16, 1)\n"
     ]
    },
    {
     "name": "stderr",
     "output_type": "stream",
     "text": [
      "Processing VeryMild-Demented:  15%|███████▎                                        | 340/2240 [00:01<00:11, 172.24it/s]"
     ]
    },
    {
     "name": "stdout",
     "output_type": "stream",
     "text": [
      "Batch images shape: (16, 128, 128, 3)\n",
      "Batch labels shape: (16, 1)\n",
      "Batch images shape: (16, 128, 128, 3)\n",
      "Batch labels shape: (16, 1)\n",
      "Batch images shape: (16, 128, 128, 3)\n",
      "Batch labels shape: (16, 1)\n"
     ]
    },
    {
     "name": "stderr",
     "output_type": "stream",
     "text": [
      "Processing VeryMild-Demented:  18%|████████▍                                       | 396/2240 [00:02<00:10, 174.11it/s]"
     ]
    },
    {
     "name": "stdout",
     "output_type": "stream",
     "text": [
      "Batch images shape: (16, 128, 128, 3)\n",
      "Batch labels shape: (16, 1)\n",
      "Batch images shape: (16, 128, 128, 3)\n",
      "Batch labels shape: (16, 1)\n",
      "Batch images shape: (16, 128, 128, 3)\n",
      "Batch labels shape: (16, 1)\n"
     ]
    },
    {
     "name": "stderr",
     "output_type": "stream",
     "text": [
      "Processing VeryMild-Demented:  19%|█████████▎                                      | 433/2240 [00:02<00:10, 172.56it/s]"
     ]
    },
    {
     "name": "stdout",
     "output_type": "stream",
     "text": [
      "Batch images shape: (16, 128, 128, 3)\n",
      "Batch labels shape: (16, 1)\n",
      "Batch images shape: (16, 128, 128, 3)\n",
      "Batch labels shape: (16, 1)\n",
      "Batch images shape: (16, 128, 128, 3)\n",
      "Batch labels shape: (16, 1)\n"
     ]
    },
    {
     "name": "stderr",
     "output_type": "stream",
     "text": [
      "Processing VeryMild-Demented:  22%|██████████▌                                     | 490/2240 [00:02<00:10, 171.59it/s]"
     ]
    },
    {
     "name": "stdout",
     "output_type": "stream",
     "text": [
      "Batch images shape: (16, 128, 128, 3)\n",
      "Batch labels shape: (16, 1)\n",
      "Batch images shape: (16, 128, 128, 3)\n",
      "Batch labels shape: (16, 1)\n"
     ]
    },
    {
     "name": "stderr",
     "output_type": "stream",
     "text": [
      "Processing VeryMild-Demented:  23%|██████████▉                                     | 508/2240 [00:02<00:10, 172.32it/s]"
     ]
    },
    {
     "name": "stdout",
     "output_type": "stream",
     "text": [
      "Batch images shape: (16, 128, 128, 3)\n",
      "Batch labels shape: (16, 1)\n",
      "Batch images shape: (16, 128, 128, 3)\n",
      "Batch labels shape: (16, 1)\n"
     ]
    },
    {
     "name": "stderr",
     "output_type": "stream",
     "text": [
      "Processing VeryMild-Demented:  24%|███████████▋                                    | 548/2240 [00:03<00:09, 174.34it/s]"
     ]
    },
    {
     "name": "stdout",
     "output_type": "stream",
     "text": [
      "Batch images shape: (16, 128, 128, 3)\n",
      "Batch labels shape: (16, 1)\n",
      "Batch images shape: (16, 128, 128, 3)\n",
      "Batch labels shape: (16, 1)\n",
      "Batch images shape: (16, 128, 128, 3)\n",
      "Batch labels shape: (16, 1)\n"
     ]
    },
    {
     "name": "stderr",
     "output_type": "stream",
     "text": [
      "Processing VeryMild-Demented:  27%|████████████▉                                   | 606/2240 [00:03<00:09, 174.51it/s]"
     ]
    },
    {
     "name": "stdout",
     "output_type": "stream",
     "text": [
      "Batch images shape: (16, 128, 128, 3)\n",
      "Batch labels shape: (16, 1)\n",
      "Batch images shape: (16, 128, 128, 3)\n",
      "Batch labels shape: (16, 1)\n",
      "Batch images shape: (16, 128, 128, 3)\n",
      "Batch labels shape: (16, 1)\n"
     ]
    },
    {
     "name": "stderr",
     "output_type": "stream",
     "text": [
      "Processing VeryMild-Demented:  29%|█████████████▊                                  | 643/2240 [00:03<00:09, 172.48it/s]"
     ]
    },
    {
     "name": "stdout",
     "output_type": "stream",
     "text": [
      "Batch images shape: (16, 128, 128, 3)\n",
      "Batch labels shape: (16, 1)\n",
      "Batch images shape: (16, 128, 128, 3)\n",
      "Batch labels shape: (16, 1)\n",
      "Batch images shape: (16, 128, 128, 3)\n",
      "Batch labels shape: (16, 1)\n"
     ]
    },
    {
     "name": "stderr",
     "output_type": "stream",
     "text": [
      "Processing VeryMild-Demented:  31%|██████████████▉                                 | 699/2240 [00:04<00:08, 176.08it/s]"
     ]
    },
    {
     "name": "stdout",
     "output_type": "stream",
     "text": [
      "Batch images shape: (16, 128, 128, 3)\n",
      "Batch labels shape: (16, 1)\n",
      "Batch images shape: (16, 128, 128, 3)\n",
      "Batch labels shape: (16, 1)\n",
      "Batch images shape: (16, 128, 128, 3)\n",
      "Batch labels shape: (16, 1)\n"
     ]
    },
    {
     "name": "stderr",
     "output_type": "stream",
     "text": [
      "Processing VeryMild-Demented:  33%|███████████████▊                                | 737/2240 [00:04<00:08, 174.65it/s]"
     ]
    },
    {
     "name": "stdout",
     "output_type": "stream",
     "text": [
      "Batch images shape: (16, 128, 128, 3)\n",
      "Batch labels shape: (16, 1)\n",
      "Batch images shape: (16, 128, 128, 3)\n",
      "Batch labels shape: (16, 1)\n",
      "Batch images shape: (16, 128, 128, 3)\n",
      "Batch labels shape: (16, 1)\n"
     ]
    },
    {
     "name": "stderr",
     "output_type": "stream",
     "text": [
      "Processing VeryMild-Demented:  35%|████████████████▉                               | 792/2240 [00:04<00:08, 175.50it/s]"
     ]
    },
    {
     "name": "stdout",
     "output_type": "stream",
     "text": [
      "Batch images shape: (16, 128, 128, 3)\n",
      "Batch labels shape: (16, 1)\n",
      "Batch images shape: (16, 128, 128, 3)\n",
      "Batch labels shape: (16, 1)\n",
      "Batch images shape: (16, 128, 128, 3)\n",
      "Batch labels shape: (16, 1)\n"
     ]
    },
    {
     "name": "stderr",
     "output_type": "stream",
     "text": [
      "Processing VeryMild-Demented:  37%|█████████████████▊                              | 830/2240 [00:04<00:08, 174.94it/s]"
     ]
    },
    {
     "name": "stdout",
     "output_type": "stream",
     "text": [
      "Batch images shape: (16, 128, 128, 3)\n",
      "Batch labels shape: (16, 1)\n",
      "Batch images shape: (16, 128, 128, 3)\n",
      "Batch labels shape: (16, 1)\n"
     ]
    },
    {
     "name": "stderr",
     "output_type": "stream",
     "text": [
      "Processing VeryMild-Demented:  39%|██████████████████▌                             | 869/2240 [00:04<00:07, 175.40it/s]"
     ]
    },
    {
     "name": "stdout",
     "output_type": "stream",
     "text": [
      "Batch images shape: (16, 128, 128, 3)\n",
      "Batch labels shape: (16, 1)\n",
      "Batch images shape: (16, 128, 128, 3)\n",
      "Batch labels shape: (16, 1)\n",
      "Batch images shape: (16, 128, 128, 3)\n",
      "Batch labels shape: (16, 1)\n"
     ]
    },
    {
     "name": "stderr",
     "output_type": "stream",
     "text": [
      "Processing VeryMild-Demented:  41%|███████████████████▊                            | 925/2240 [00:05<00:07, 172.99it/s]"
     ]
    },
    {
     "name": "stdout",
     "output_type": "stream",
     "text": [
      "Batch images shape: (16, 128, 128, 3)\n",
      "Batch labels shape: (16, 1)\n",
      "Batch images shape: (16, 128, 128, 3)\n",
      "Batch labels shape: (16, 1)\n",
      "Batch images shape: (16, 128, 128, 3)\n",
      "Batch labels shape: (16, 1)\n"
     ]
    },
    {
     "name": "stderr",
     "output_type": "stream",
     "text": [
      "Processing VeryMild-Demented:  43%|████████████████████▋                           | 963/2240 [00:05<00:07, 172.72it/s]"
     ]
    },
    {
     "name": "stdout",
     "output_type": "stream",
     "text": [
      "Batch images shape: (16, 128, 128, 3)\n",
      "Batch labels shape: (16, 1)\n",
      "Batch images shape: (16, 128, 128, 3)\n",
      "Batch labels shape: (16, 1)\n",
      "Batch images shape: (16, 128, 128, 3)\n",
      "Batch labels shape: (16, 1)\n"
     ]
    },
    {
     "name": "stderr",
     "output_type": "stream",
     "text": [
      "Processing VeryMild-Demented:  46%|█████████████████████▍                         | 1020/2240 [00:05<00:06, 174.32it/s]"
     ]
    },
    {
     "name": "stdout",
     "output_type": "stream",
     "text": [
      "Batch images shape: (16, 128, 128, 3)\n",
      "Batch labels shape: (16, 1)\n",
      "Batch images shape: (16, 128, 128, 3)\n",
      "Batch labels shape: (16, 1)\n",
      "Batch images shape: (16, 128, 128, 3)\n",
      "Batch labels shape: (16, 1)\n"
     ]
    },
    {
     "name": "stderr",
     "output_type": "stream",
     "text": [
      "Processing VeryMild-Demented:  47%|██████████████████████▏                        | 1059/2240 [00:06<00:06, 173.56it/s]"
     ]
    },
    {
     "name": "stdout",
     "output_type": "stream",
     "text": [
      "Batch images shape: (16, 128, 128, 3)\n",
      "Batch labels shape: (16, 1)\n",
      "Batch images shape: (16, 128, 128, 3)\n",
      "Batch labels shape: (16, 1)\n",
      "Batch images shape: (16, 128, 128, 3)\n",
      "Batch labels shape: (16, 1)\n"
     ]
    },
    {
     "name": "stderr",
     "output_type": "stream",
     "text": [
      "Processing VeryMild-Demented:  50%|███████████████████████▍                       | 1115/2240 [00:06<00:06, 173.37it/s]"
     ]
    },
    {
     "name": "stdout",
     "output_type": "stream",
     "text": [
      "Batch images shape: (16, 128, 128, 3)\n",
      "Batch labels shape: (16, 1)\n",
      "Batch images shape: (16, 128, 128, 3)\n",
      "Batch labels shape: (16, 1)\n",
      "Batch images shape: (16, 128, 128, 3)\n",
      "Batch labels shape: (16, 1)\n"
     ]
    },
    {
     "name": "stderr",
     "output_type": "stream",
     "text": [
      "Processing VeryMild-Demented:  52%|████████████████████████▏                      | 1155/2240 [00:06<00:06, 175.13it/s]"
     ]
    },
    {
     "name": "stdout",
     "output_type": "stream",
     "text": [
      "Batch images shape: (16, 128, 128, 3)\n",
      "Batch labels shape: (16, 1)\n",
      "Batch images shape: (16, 128, 128, 3)\n",
      "Batch labels shape: (16, 1)\n",
      "Batch images shape: (16, 128, 128, 3)\n",
      "Batch labels shape: (16, 1)\n"
     ]
    },
    {
     "name": "stderr",
     "output_type": "stream",
     "text": [
      "Processing VeryMild-Demented:  54%|█████████████████████████▍                     | 1211/2240 [00:06<00:05, 173.82it/s]"
     ]
    },
    {
     "name": "stdout",
     "output_type": "stream",
     "text": [
      "Batch images shape: (16, 128, 128, 3)\n",
      "Batch labels shape: (16, 1)\n",
      "Batch images shape: (16, 128, 128, 3)\n",
      "Batch labels shape: (16, 1)\n",
      "Batch images shape: (16, 128, 128, 3)\n",
      "Batch labels shape: (16, 1)\n"
     ]
    },
    {
     "name": "stderr",
     "output_type": "stream",
     "text": [
      "Processing VeryMild-Demented:  56%|██████████████████████████▏                    | 1249/2240 [00:07<00:05, 173.57it/s]"
     ]
    },
    {
     "name": "stdout",
     "output_type": "stream",
     "text": [
      "Batch images shape: (16, 128, 128, 3)\n",
      "Batch labels shape: (16, 1)\n",
      "Batch images shape: (16, 128, 128, 3)\n",
      "Batch labels shape: (16, 1)\n",
      "Batch images shape: (16, 128, 128, 3)\n",
      "Batch labels shape: (16, 1)\n"
     ]
    },
    {
     "name": "stderr",
     "output_type": "stream",
     "text": [
      "Processing VeryMild-Demented:  58%|███████████████████████████▍                   | 1309/2240 [00:07<00:05, 174.31it/s]"
     ]
    },
    {
     "name": "stdout",
     "output_type": "stream",
     "text": [
      "Batch images shape: (16, 128, 128, 3)\n",
      "Batch labels shape: (16, 1)\n",
      "Batch images shape: (16, 128, 128, 3)\n",
      "Batch labels shape: (16, 1)\n",
      "Batch images shape: (16, 128, 128, 3)\n",
      "Batch labels shape: (16, 1)\n"
     ]
    },
    {
     "name": "stderr",
     "output_type": "stream",
     "text": [
      "Processing VeryMild-Demented:  60%|████████████████████████████▎                  | 1347/2240 [00:07<00:05, 176.08it/s]"
     ]
    },
    {
     "name": "stdout",
     "output_type": "stream",
     "text": [
      "Batch images shape: (16, 128, 128, 3)\n",
      "Batch labels shape: (16, 1)\n",
      "Batch images shape: (16, 128, 128, 3)\n",
      "Batch labels shape: (16, 1)\n",
      "Batch images shape: (16, 128, 128, 3)\n",
      "Batch labels shape: (16, 1)\n"
     ]
    },
    {
     "name": "stderr",
     "output_type": "stream",
     "text": [
      "Processing VeryMild-Demented:  63%|█████████████████████████████▍                 | 1402/2240 [00:08<00:04, 173.98it/s]"
     ]
    },
    {
     "name": "stdout",
     "output_type": "stream",
     "text": [
      "Batch images shape: (16, 128, 128, 3)\n",
      "Batch labels shape: (16, 1)\n",
      "Batch images shape: (16, 128, 128, 3)\n",
      "Batch labels shape: (16, 1)\n",
      "Batch images shape: (16, 128, 128, 3)\n",
      "Batch labels shape: (16, 1)\n"
     ]
    },
    {
     "name": "stderr",
     "output_type": "stream",
     "text": [
      "Processing VeryMild-Demented:  64%|██████████████████████████████▏                | 1440/2240 [00:08<00:04, 175.24it/s]"
     ]
    },
    {
     "name": "stdout",
     "output_type": "stream",
     "text": [
      "Batch images shape: (16, 128, 128, 3)\n",
      "Batch labels shape: (16, 1)\n",
      "Batch images shape: (16, 128, 128, 3)\n",
      "Batch labels shape: (16, 1)\n",
      "Batch images shape: (16, 128, 128, 3)\n",
      "Batch labels shape: (16, 1)\n"
     ]
    },
    {
     "name": "stderr",
     "output_type": "stream",
     "text": [
      "Processing VeryMild-Demented:  67%|███████████████████████████████▍               | 1496/2240 [00:08<00:04, 174.80it/s]"
     ]
    },
    {
     "name": "stdout",
     "output_type": "stream",
     "text": [
      "Batch images shape: (16, 128, 128, 3)\n",
      "Batch labels shape: (16, 1)\n",
      "Batch images shape: (16, 128, 128, 3)\n",
      "Batch labels shape: (16, 1)\n",
      "Batch images shape: (16, 128, 128, 3)\n",
      "Batch labels shape: (16, 1)\n"
     ]
    },
    {
     "name": "stderr",
     "output_type": "stream",
     "text": [
      "Processing VeryMild-Demented:  69%|████████████████████████████████▏              | 1536/2240 [00:08<00:04, 175.99it/s]"
     ]
    },
    {
     "name": "stdout",
     "output_type": "stream",
     "text": [
      "Batch images shape: (16, 128, 128, 3)\n",
      "Batch labels shape: (16, 1)\n",
      "Batch images shape: (16, 128, 128, 3)\n",
      "Batch labels shape: (16, 1)\n",
      "Batch images shape: (16, 128, 128, 3)\n",
      "Batch labels shape: (16, 1)\n"
     ]
    },
    {
     "name": "stderr",
     "output_type": "stream",
     "text": [
      "Processing VeryMild-Demented:  71%|█████████████████████████████████▍             | 1591/2240 [00:09<00:04, 157.25it/s]"
     ]
    },
    {
     "name": "stdout",
     "output_type": "stream",
     "text": [
      "Batch images shape: (16, 128, 128, 3)\n",
      "Batch labels shape: (16, 1)\n",
      "Batch images shape: (16, 128, 128, 3)\n",
      "Batch labels shape: (16, 1)\n"
     ]
    },
    {
     "name": "stderr",
     "output_type": "stream",
     "text": [
      "Processing VeryMild-Demented:  72%|█████████████████████████████████▊             | 1610/2240 [00:09<00:03, 159.52it/s]"
     ]
    },
    {
     "name": "stdout",
     "output_type": "stream",
     "text": [
      "Batch images shape: (16, 128, 128, 3)\n",
      "Batch labels shape: (16, 1)\n",
      "Batch images shape: (16, 128, 128, 3)\n",
      "Batch labels shape: (16, 1)\n"
     ]
    },
    {
     "name": "stderr",
     "output_type": "stream",
     "text": [
      "Processing VeryMild-Demented:  74%|██████████████████████████████████▌            | 1649/2240 [00:09<00:03, 165.33it/s]"
     ]
    },
    {
     "name": "stdout",
     "output_type": "stream",
     "text": [
      "Batch images shape: (16, 128, 128, 3)\n",
      "Batch labels shape: (16, 1)\n",
      "Batch images shape: (16, 128, 128, 3)\n",
      "Batch labels shape: (16, 1)\n",
      "Batch images shape: (16, 128, 128, 3)\n",
      "Batch labels shape: (16, 1)\n"
     ]
    },
    {
     "name": "stderr",
     "output_type": "stream",
     "text": [
      "Processing VeryMild-Demented:  76%|███████████████████████████████████▊           | 1705/2240 [00:09<00:03, 170.31it/s]"
     ]
    },
    {
     "name": "stdout",
     "output_type": "stream",
     "text": [
      "Batch images shape: (16, 128, 128, 3)\n",
      "Batch labels shape: (16, 1)\n",
      "Batch images shape: (16, 128, 128, 3)\n",
      "Batch labels shape: (16, 1)\n",
      "Batch images shape: (16, 128, 128, 3)\n",
      "Batch labels shape: (16, 1)\n"
     ]
    },
    {
     "name": "stderr",
     "output_type": "stream",
     "text": [
      "Processing VeryMild-Demented:  78%|████████████████████████████████████▌          | 1744/2240 [00:10<00:02, 170.53it/s]"
     ]
    },
    {
     "name": "stdout",
     "output_type": "stream",
     "text": [
      "Batch images shape: (16, 128, 128, 3)\n",
      "Batch labels shape: (16, 1)\n",
      "Batch images shape: (16, 128, 128, 3)\n",
      "Batch labels shape: (16, 1)\n",
      "Batch images shape: (16, 128, 128, 3)\n",
      "Batch labels shape: (16, 1)\n"
     ]
    },
    {
     "name": "stderr",
     "output_type": "stream",
     "text": [
      "Processing VeryMild-Demented:  80%|█████████████████████████████████████▊         | 1801/2240 [00:10<00:02, 176.29it/s]"
     ]
    },
    {
     "name": "stdout",
     "output_type": "stream",
     "text": [
      "Batch images shape: (16, 128, 128, 3)\n",
      "Batch labels shape: (16, 1)\n",
      "Batch images shape: (16, 128, 128, 3)\n",
      "Batch labels shape: (16, 1)\n",
      "Batch images shape: (16, 128, 128, 3)\n",
      "Batch labels shape: (16, 1)\n"
     ]
    },
    {
     "name": "stderr",
     "output_type": "stream",
     "text": [
      "Processing VeryMild-Demented:  82%|██████████████████████████████████████▌        | 1838/2240 [00:10<00:02, 173.81it/s]"
     ]
    },
    {
     "name": "stdout",
     "output_type": "stream",
     "text": [
      "Batch images shape: (16, 128, 128, 3)\n",
      "Batch labels shape: (16, 1)\n",
      "Batch images shape: (16, 128, 128, 3)\n",
      "Batch labels shape: (16, 1)\n"
     ]
    },
    {
     "name": "stderr",
     "output_type": "stream",
     "text": [
      "Processing VeryMild-Demented:  84%|███████████████████████████████████████▎       | 1876/2240 [00:10<00:02, 175.56it/s]"
     ]
    },
    {
     "name": "stdout",
     "output_type": "stream",
     "text": [
      "Batch images shape: (16, 128, 128, 3)\n",
      "Batch labels shape: (16, 1)\n",
      "Batch images shape: (16, 128, 128, 3)\n",
      "Batch labels shape: (16, 1)\n",
      "Batch images shape: (16, 128, 128, 3)\n",
      "Batch labels shape: (16, 1)\n"
     ]
    },
    {
     "name": "stderr",
     "output_type": "stream",
     "text": [
      "Processing VeryMild-Demented:  86%|████████████████████████████████████████▌      | 1934/2240 [00:11<00:01, 175.31it/s]"
     ]
    },
    {
     "name": "stdout",
     "output_type": "stream",
     "text": [
      "Batch images shape: (16, 128, 128, 3)\n",
      "Batch labels shape: (16, 1)\n",
      "Batch images shape: (16, 128, 128, 3)\n",
      "Batch labels shape: (16, 1)\n"
     ]
    },
    {
     "name": "stderr",
     "output_type": "stream",
     "text": [
      "Processing VeryMild-Demented:  88%|█████████████████████████████████████████▎     | 1970/2240 [00:11<00:01, 170.51it/s]"
     ]
    },
    {
     "name": "stdout",
     "output_type": "stream",
     "text": [
      "Batch images shape: (16, 128, 128, 3)\n",
      "Batch labels shape: (16, 1)\n",
      "Batch images shape: (16, 128, 128, 3)\n",
      "Batch labels shape: (16, 1)\n",
      "Batch images shape: (16, 128, 128, 3)\n",
      "Batch labels shape: (16, 1)\n"
     ]
    },
    {
     "name": "stderr",
     "output_type": "stream",
     "text": [
      "Processing VeryMild-Demented:  90%|██████████████████████████████████████████▏    | 2008/2240 [00:11<00:01, 173.06it/s]"
     ]
    },
    {
     "name": "stdout",
     "output_type": "stream",
     "text": [
      "Batch images shape: (16, 128, 128, 3)\n",
      "Batch labels shape: (16, 1)\n",
      "Batch images shape: (16, 128, 128, 3)\n",
      "Batch labels shape: (16, 1)\n",
      "Batch images shape: (16, 128, 128, 3)\n",
      "Batch labels shape: (16, 1)\n"
     ]
    },
    {
     "name": "stderr",
     "output_type": "stream",
     "text": [
      "Processing VeryMild-Demented:  91%|██████████████████████████████████████████▉    | 2046/2240 [00:11<00:01, 173.91it/s]"
     ]
    },
    {
     "name": "stdout",
     "output_type": "stream",
     "text": [
      "Batch images shape: (16, 128, 128, 3)\n",
      "Batch labels shape: (16, 1)\n",
      "Batch images shape: (16, 128, 128, 3)\n",
      "Batch labels shape: (16, 1)\n"
     ]
    },
    {
     "name": "stderr",
     "output_type": "stream",
     "text": [
      "Processing VeryMild-Demented:  93%|███████████████████████████████████████████▋   | 2083/2240 [00:12<00:00, 172.81it/s]"
     ]
    },
    {
     "name": "stdout",
     "output_type": "stream",
     "text": [
      "Batch images shape: (16, 128, 128, 3)\n",
      "Batch labels shape: (16, 1)\n",
      "Batch images shape: (16, 128, 128, 3)\n",
      "Batch labels shape: (16, 1)\n",
      "Batch images shape: (16, 128, 128, 3)\n",
      "Batch labels shape: (16, 1)\n"
     ]
    },
    {
     "name": "stderr",
     "output_type": "stream",
     "text": [
      "Processing VeryMild-Demented:  95%|████████████████████████████████████████████▉  | 2139/2240 [00:12<00:00, 176.08it/s]"
     ]
    },
    {
     "name": "stdout",
     "output_type": "stream",
     "text": [
      "Batch images shape: (16, 128, 128, 3)\n",
      "Batch labels shape: (16, 1)\n",
      "Batch images shape: (16, 128, 128, 3)\n",
      "Batch labels shape: (16, 1)\n",
      "Batch images shape: (16, 128, 128, 3)\n",
      "Batch labels shape: (16, 1)\n"
     ]
    },
    {
     "name": "stderr",
     "output_type": "stream",
     "text": [
      "Processing VeryMild-Demented:  97%|█████████████████████████████████████████████▋ | 2176/2240 [00:12<00:00, 173.43it/s]"
     ]
    },
    {
     "name": "stdout",
     "output_type": "stream",
     "text": [
      "Batch images shape: (16, 128, 128, 3)\n",
      "Batch labels shape: (16, 1)\n",
      "Batch images shape: (16, 128, 128, 3)\n",
      "Batch labels shape: (16, 1)\n",
      "Batch images shape: (16, 128, 128, 3)\n",
      "Batch labels shape: (16, 1)\n"
     ]
    },
    {
     "name": "stderr",
     "output_type": "stream",
     "text": [
      "Processing VeryMild-Demented: 100%|███████████████████████████████████████████████| 2240/2240 [00:12<00:00, 173.40it/s]"
     ]
    },
    {
     "name": "stdout",
     "output_type": "stream",
     "text": [
      "Batch images shape: (16, 128, 128, 3)\n",
      "Batch labels shape: (16, 1)\n",
      "Batch images shape: (16, 128, 128, 3)\n",
      "Batch labels shape: (16, 1)\n",
      "Batch images shape: (16, 128, 128, 3)\n",
      "Batch labels shape: (16, 1)\n"
     ]
    },
    {
     "name": "stderr",
     "output_type": "stream",
     "text": [
      "\n"
     ]
    }
   ],
   "source": [
    "import os\n",
    "import numpy as np\n",
    "import cv2\n",
    "from sklearn.preprocessing import LabelBinarizer\n",
    "from tqdm import tqdm\n",
    "\n",
    "# Set directories\n",
    "base_dir = \"C:\\\\Users\\\\HP\\\\Downloads\\\\Dataset_Alzheimer_Wed\"\n",
    "class_dirs = {\n",
    "    \"Mild-Demented\": os.path.join(base_dir, \"Mild_Demented\"),\n",
    "    \"Moderate-Demented\": os.path.join(base_dir, \"Moderate_Demented\"),\n",
    "    \"Non-Demented\": os.path.join(base_dir, \"Non_Demented\"),\n",
    "    \"VeryMild-Demented\": os.path.join(base_dir, \"Very_Mild_Demented\")\n",
    "}\n",
    "\n",
    "# Define preprocessing parameters\n",
    "target_size = (128, 128)  # Standardized for better model performance\n",
    "batch_size = 16  # Matches typical model input batch size\n",
    "\n",
    "# Initialize LabelBinarizer\n",
    "lb = LabelBinarizer()\n",
    "lb.fit([\"Demented\", \"Non-Demented\"])  # Fit only once globally\n",
    "\n",
    "# Generator function to yield batches\n",
    "def image_generator():\n",
    "    images = []\n",
    "    labels = []\n",
    "    valid_extensions = (\".jpg\", \".png\", \".jpeg\")\n",
    "\n",
    "    for class_name, class_dir in class_dirs.items():\n",
    "        for img_file in tqdm(os.listdir(class_dir), desc=f'Processing {class_name}'):\n",
    "            if not img_file.lower().endswith(valid_extensions):\n",
    "                continue  # Skip non-image files\n",
    "            \n",
    "            img_path = os.path.join(class_dir, img_file)\n",
    "            img = cv2.imread(img_path)\n",
    "\n",
    "            # Resize using bicubic interpolation\n",
    "            img_resized = cv2.resize(img, target_size, interpolation=cv2.INTER_CUBIC)\n",
    "\n",
    "            # Apply bilateral filter for noise reduction while keeping edges\n",
    "            img_denoised = cv2.bilateralFilter(img_resized, d=9, sigmaColor=75, sigmaSpace=75)\n",
    "\n",
    "            # Apply CLAHE to each channel separately\n",
    "            lab = cv2.cvtColor(img_denoised, cv2.COLOR_BGR2LAB)\n",
    "            l, a, b = cv2.split(lab)\n",
    "            clahe = cv2.createCLAHE(clipLimit=2.0, tileGridSize=(8, 8))\n",
    "            l = clahe.apply(l)\n",
    "            lab = cv2.merge((l, a, b))\n",
    "            img_clahe = cv2.cvtColor(lab, cv2.COLOR_LAB2BGR)\n",
    "\n",
    "            # Convert to float and normalize using standardization (zero mean, unit variance)\n",
    "            img_normalized = img_clahe.astype(np.float32) / 255.0  # Scale to [0,1]\n",
    "            mean = np.mean(img_normalized, axis=(0, 1), keepdims=True)\n",
    "            std = np.std(img_normalized, axis=(0, 1), keepdims=True)\n",
    "            img_standardized = (img_normalized - mean) / (std + 1e-7)  # Avoid division by zero\n",
    "\n",
    "            # Assign labels\n",
    "            label = \"Demented\" if class_name in [\"Mild-Demented\", \"Moderate-Demented\", \"VeryMild-Demented\"] else \"Non-Demented\"\n",
    "\n",
    "            images.append(img_standardized)\n",
    "            labels.append(label)\n",
    "\n",
    "            # Yield batch\n",
    "            if len(images) == batch_size:\n",
    "                yield np.array(images), lb.transform(labels)\n",
    "                images, labels = [], []  # Reset for next batch\n",
    "\n",
    "    # Yield remaining images if any\n",
    "    if images:\n",
    "        yield np.array(images), lb.transform(labels)\n",
    "\n",
    "# Example usage\n",
    "for batch_images, batch_labels in image_generator():\n",
    "    print(f\"Batch images shape: {batch_images.shape}\")\n",
    "    print(f\"Batch labels shape: {batch_labels.shape}\")\n"
   ]
  },
  {
   "cell_type": "code",
   "execution_count": 2,
   "id": "65e88f0c-a0f6-49d1-b5b6-58522a73b034",
   "metadata": {},
   "outputs": [
    {
     "name": "stderr",
     "output_type": "stream",
     "text": [
      "Copying to C:\\Users\\HP\\Downloads\\Alzheimer_Feb_Wednesday2\\train\\Demented: 100%|███| 2560/2560 [00:04<00:00, 532.96it/s]\n",
      "Copying to C:\\Users\\HP\\Downloads\\Alzheimer_Feb_Wednesday2\\test\\Demented: 100%|██████| 640/640 [00:01<00:00, 564.18it/s]\n",
      "Copying to C:\\Users\\HP\\Downloads\\Alzheimer_Feb_Wednesday2\\train\\Non-Demented: 100%|█| 2560/2560 [00:04<00:00, 549.95it/\n",
      "Copying to C:\\Users\\HP\\Downloads\\Alzheimer_Feb_Wednesday2\\test\\Non-Demented: 100%|██| 640/640 [00:01<00:00, 564.41it/s]\n",
      "Loading 1 images: 100%|██████████████████████████████████████████████████████████| 2560/2560 [00:01<00:00, 1694.55it/s]\n",
      "Loading 0 images: 100%|██████████████████████████████████████████████████████████| 2560/2560 [00:01<00:00, 1555.72it/s]\n",
      "Loading 1 images: 100%|████████████████████████████████████████████████████████████| 640/640 [00:00<00:00, 1631.36it/s]\n",
      "Loading 0 images: 100%|████████████████████████████████████████████████████████████| 640/640 [00:00<00:00, 1621.73it/s]\n"
     ]
    },
    {
     "name": "stdout",
     "output_type": "stream",
     "text": [
      "Training - Demented: 2560, Non-Demented: 2560\n",
      "Testing - Demented: 640, Non-Demented: 640\n",
      "Dataset successfully split and loaded!\n"
     ]
    }
   ],
   "source": [
    "import os\n",
    "import shutil\n",
    "import random\n",
    "import numpy as np\n",
    "from tqdm import tqdm\n",
    "from PIL import Image\n",
    "\n",
    "# Define source directory paths\n",
    "source_dirs = {\n",
    "    \"Demented\": [\n",
    "        \"C:\\\\Users\\\\HP\\\\Downloads\\\\Dataset_Alzheimer_Wed\\\\Mild_Demented\",\n",
    "        \"C:\\\\Users\\\\HP\\\\Downloads\\\\Dataset_Alzheimer_Wed\\\\Moderate_Demented\",\n",
    "        \"C:\\\\Users\\\\HP\\\\Downloads\\\\Dataset_Alzheimer_Wed\\\\Very_Mild_Demented\"\n",
    "    ],\n",
    "    \"Non-Demented\": [\"C:\\\\Users\\\\HP\\\\Downloads\\\\Dataset_Alzheimer_Wed\\\\Non_Demented\"]\n",
    "}\n",
    "\n",
    "# Define target directories\n",
    "new_base_dir = \"C:\\\\Users\\\\HP\\\\Downloads\\\\Alzheimer_Feb_Wednesday2\"\n",
    "train_dir = os.path.join(new_base_dir, \"train\")\n",
    "test_dir = os.path.join(new_base_dir, \"test\")\n",
    "train_demented_dir = os.path.join(train_dir, \"Demented\")\n",
    "train_nondemented_dir = os.path.join(train_dir, \"Non-Demented\")\n",
    "test_demented_dir = os.path.join(test_dir, \"Demented\")\n",
    "test_nondemented_dir = os.path.join(test_dir, \"Non-Demented\")\n",
    "\n",
    "# Create directories if they don't exist\n",
    "for dir_path in [train_demented_dir, train_nondemented_dir, test_demented_dir, test_nondemented_dir]:\n",
    "    os.makedirs(dir_path, exist_ok=True)\n",
    "\n",
    "# Function to shuffle and split data\n",
    "def shuffle_and_split_data(source_dirs, train_dir, test_dir, split_ratio=0.8):\n",
    "    all_images = []\n",
    "    valid_extensions = (\".jpg\", \".png\", \".jpeg\")\n",
    "\n",
    "    for source_dir in source_dirs:\n",
    "        for sub_dir in (source_dir if isinstance(source_dir, list) else [source_dir]):\n",
    "            for img_file in os.listdir(sub_dir):\n",
    "                if img_file.lower().endswith(valid_extensions):\n",
    "                    all_images.append(os.path.join(sub_dir, img_file))\n",
    "\n",
    "    # Shuffle images\n",
    "    random.shuffle(all_images)\n",
    "\n",
    "    # Split data\n",
    "    split_point = int(len(all_images) * split_ratio)\n",
    "    train_images, test_images = all_images[:split_point], all_images[split_point:]\n",
    "\n",
    "    # Copy images\n",
    "    for img_path in tqdm(train_images, desc=f'Copying to {train_dir}'):\n",
    "        shutil.copy(img_path, train_dir)\n",
    "    \n",
    "    for img_path in tqdm(test_images, desc=f'Copying to {test_dir}'):\n",
    "        shutil.copy(img_path, test_dir)\n",
    "    \n",
    "    return train_images, test_images\n",
    "\n",
    "# Split and copy data\n",
    "train_demented, test_demented = shuffle_and_split_data(source_dirs[\"Demented\"], train_demented_dir, test_demented_dir)\n",
    "train_nondemented, test_nondemented = shuffle_and_split_data(source_dirs[\"Non-Demented\"], train_nondemented_dir, test_nondemented_dir)\n",
    "\n",
    "# Load images without augmentation\n",
    "def load_images(image_paths, label):\n",
    "    images = []\n",
    "    labels = []\n",
    "    \n",
    "    for img_path in tqdm(image_paths, desc=f'Loading {label} images'):\n",
    "        try:\n",
    "            img = Image.open(img_path).convert(\"RGB\").resize((128, 128))\n",
    "            img_array = np.array(img)\n",
    "            \n",
    "            images.append(img_array)\n",
    "            labels.append(label)\n",
    "        except Exception as e:\n",
    "            print(f\"Error loading {img_path}: {e}\")\n",
    "    \n",
    "    return np.array(images), np.array(labels)\n",
    "\n",
    "# Load training and testing data\n",
    "X_train_demented, y_train_demented = load_images(train_demented, label=1)\n",
    "X_train_nondemented, y_train_nondemented = load_images(train_nondemented, label=0)\n",
    "X_test_demented, y_test_demented = load_images(test_demented, label=1)\n",
    "X_test_nondemented, y_test_nondemented = load_images(test_nondemented, label=0)\n",
    "\n",
    "# Combine training data\n",
    "X_train = np.concatenate([X_train_demented, X_train_nondemented], axis=0)\n",
    "y_train = np.concatenate([y_train_demented, y_train_nondemented], axis=0)\n",
    "\n",
    "# Combine testing data\n",
    "X_test = np.concatenate([X_test_demented, X_test_nondemented], axis=0)\n",
    "y_test = np.concatenate([y_test_demented, y_test_nondemented], axis=0)\n",
    "\n",
    "# Shuffle data\n",
    "indices_train = np.arange(len(X_train))\n",
    "indices_test = np.arange(len(X_test))\n",
    "np.random.shuffle(indices_train)\n",
    "np.random.shuffle(indices_test)\n",
    "\n",
    "X_train, y_train = X_train[indices_train], y_train[indices_train]\n",
    "X_test, y_test = X_test[indices_test], y_test[indices_test]\n",
    "\n",
    "# Normalize images (convert pixel values to [0,1])\n",
    "X_train = X_train.astype(\"float32\") / 255.0\n",
    "X_test = X_test.astype(\"float32\") / 255.0\n",
    "\n",
    "# Print dataset summary\n",
    "print(f\"Training - Demented: {len(y_train_demented)}, Non-Demented: {len(y_train_nondemented)}\")\n",
    "print(f\"Testing - Demented: {len(y_test_demented)}, Non-Demented: {len(y_test_nondemented)}\")\n",
    "print(\"Dataset successfully split and loaded!\")\n"
   ]
  },
  {
   "cell_type": "code",
   "execution_count": 9,
   "id": "edc9f618-8d34-43f7-ac06-05af593aa325",
   "metadata": {},
   "outputs": [],
   "source": [
    "# Function to extract features from MobileNetV3\n",
    "def extract_mobilenet_features(img_paths):\n",
    "    # Use 128x128 size for MobileNetV3\n",
    "    model = MobileNetV3Small(weights='imagenet', include_top=False, input_shape=(128, 128, 3))\n",
    "    model.trainable = False  # Freeze the layers of MobileNetV3\n",
    "    global_average_layer = tf.keras.layers.GlobalAveragePooling2D()\n",
    "    model_with_pooling = tf.keras.Sequential([model, global_average_layer])\n",
    "    \n",
    "    features = []\n",
    "    for img_array in img_paths:\n",
    "        img_array = preprocess_input(img_array)  # Preprocess for MobileNetV3\n",
    "        img_array = np.expand_dims(img_array, axis=0)  # Add batch dimension\n",
    "        feature = model_with_pooling(img_array)\n",
    "        features.append(feature.numpy().flatten())  # Flatten to 1D vector\n",
    "    \n",
    "    return np.array(features)\n",
    "\n",
    "# Load images without augmentation (from your existing split paths)\n",
    "def load_images(image_paths, label):\n",
    "    images = []\n",
    "    labels = []\n",
    "    \n",
    "    for img_path in tqdm(image_paths, desc=f'Loading {label} images'):\n",
    "        try:\n",
    "            img = Image.open(img_path).convert(\"RGB\").resize((128, 128))\n",
    "            img_array = np.array(img)\n",
    "            \n",
    "            images.append(img_array)\n",
    "            labels.append(label)\n",
    "        except Exception as e:\n",
    "            print(f\"Error loading {img_path}: {e}\")\n",
    "    \n",
    "    return np.array(images), np.array(labels)\n",
    "\n",
    "# Extract features using MobileNetV3\n",
    "train_features = extract_mobilenet_features(X_train)  # X_train should be your images\n",
    "test_features = extract_mobilenet_features(X_test)    # X_test should be your images\n"
   ]
  },
  {
   "cell_type": "code",
   "execution_count": 10,
   "id": "67b1e775-cd52-485a-a78b-fa8a0ea3f098",
   "metadata": {},
   "outputs": [
    {
     "name": "stdout",
     "output_type": "stream",
     "text": [
      "Accuracy: 87.50%\n"
     ]
    }
   ],
   "source": [
    "# XGBoost model for classification\n",
    "def train_xgboost(features, labels):\n",
    "    dtrain = xgb.DMatrix(features, label=labels)\n",
    "    \n",
    "    params = {\n",
    "        'objective': 'binary:logistic',\n",
    "        'eval_metric': 'logloss',\n",
    "        'max_depth': 5,\n",
    "        'eta': 0.1,\n",
    "        'verbosity': 1\n",
    "    }\n",
    "    \n",
    "    bst = xgb.train(params, dtrain, num_boost_round=100)\n",
    "    return bst\n",
    "\n",
    "# Train XGBoost model\n",
    "model = train_xgboost(train_features, y_train)  # y_train is your labels\n",
    "\n",
    "# Evaluate XGBoost model on test data\n",
    "dtest = xgb.DMatrix(test_features)\n",
    "y_pred_prob = model.predict(dtest)  # Prediction probabilities\n",
    "\n",
    "# Convert probabilities to binary predictions (0 or 1)\n",
    "y_pred = (y_pred_prob > 0.5).astype(int)\n",
    "\n",
    "# Evaluate the model performance using accuracy score\n",
    "accuracy = accuracy_score(y_test, y_pred)\n",
    "print(f'Accuracy: {accuracy * 100:.2f}%')\n"
   ]
  },
  {
   "cell_type": "code",
   "execution_count": 11,
   "id": "825c4d32-2e3d-44ec-b61c-04edf1735bcc",
   "metadata": {},
   "outputs": [
    {
     "name": "stdout",
     "output_type": "stream",
     "text": [
      "Accuracy: 87.50%\n",
      "Confusion Matrix:\n",
      "[[549  91]\n",
      " [ 69 571]]\n",
      "Precision: 0.86\n",
      "Recall: 0.89\n",
      "F1 Score: 0.88\n",
      "ROC AUC Score: 0.94\n",
      "Log Loss: 0.34\n",
      "MCC: 0.75\n"
     ]
    },
    {
     "data": {
      "image/png": "[encoded data removed]",
      "text/plain": [
       "<Figure size 800x600 with 1 Axes>"
      ]
     },
     "metadata": {},
     "output_type": "display_data"
    }
   ],
   "source": [
    "from sklearn.metrics import accuracy_score, precision_score, recall_score, f1_score, confusion_matrix, roc_auc_score, roc_curve, log_loss, matthews_corrcoef\n",
    "import matplotlib.pyplot as plt\n",
    "\n",
    "# Accuracy\n",
    "accuracy = accuracy_score(y_test, y_pred)\n",
    "print(f'Accuracy: {accuracy * 100:.2f}%')\n",
    "\n",
    "# Confusion Matrix\n",
    "cm = confusion_matrix(y_test, y_pred)\n",
    "print(\"Confusion Matrix:\")\n",
    "print(cm)\n",
    "\n",
    "# Precision\n",
    "precision = precision_score(y_test, y_pred)\n",
    "print(f'Precision: {precision:.2f}')\n",
    "\n",
    "# Recall\n",
    "recall = recall_score(y_test, y_pred)\n",
    "print(f'Recall: {recall:.2f}')\n",
    "\n",
    "# F1 Score\n",
    "f1 = f1_score(y_test, y_pred)\n",
    "print(f'F1 Score: {f1:.2f}')\n",
    "\n",
    "# ROC AUC Score\n",
    "roc_auc = roc_auc_score(y_test, y_pred_prob)\n",
    "print(f'ROC AUC Score: {roc_auc:.2f}')\n",
    "\n",
    "# Log Loss\n",
    "log_loss_value = log_loss(y_test, y_pred_prob)\n",
    "print(f'Log Loss: {log_loss_value:.2f}')\n",
    "\n",
    "# Matthews Correlation Coefficient (MCC)\n",
    "mcc = matthews_corrcoef(y_test, y_pred)\n",
    "print(f'MCC: {mcc:.2f}')\n",
    "\n",
    "# ROC Curve\n",
    "fpr, tpr, _ = roc_curve(y_test, y_pred_prob)\n",
    "plt.figure(figsize=(8, 6))\n",
    "plt.plot(fpr, tpr, color='blue', label='ROC Curve (AUC = %.2f)' % roc_auc)\n",
    "plt.plot([0, 1], [0, 1], color='gray', linestyle='--')\n",
    "plt.xlabel('False Positive Rate')\n",
    "plt.ylabel('True Positive Rate')\n",
    "plt.title('Receiver Operating Characteristic Curve')\n",
    "plt.legend(loc='lower right')\n",
    "plt.show()\n"
   ]
  },
  {
   "cell_type": "code",
   "execution_count": 15,
   "id": "32fdd4af-a894-41dc-805a-bef9ea6949f8",
   "metadata": {},
   "outputs": [
    {
     "name": "stdout",
     "output_type": "stream",
     "text": [
      "Found 5120 images belonging to 2 classes.\n",
      "Found 1280 images belonging to 2 classes.\n"
     ]
    }
   ],
   "source": [
    "# Define augmentation generator for training data\n",
    "train_datagen = ImageDataGenerator(\n",
    "    rescale=1./255,\n",
    "    rotation_range=30,\n",
    "    width_shift_range=0.2,\n",
    "    height_shift_range=0.2,\n",
    "    shear_range=0.2,\n",
    "    zoom_range=0.2,\n",
    "    horizontal_flip=True,\n",
    "    fill_mode='nearest'\n",
    ")\n",
    "\n",
    "# Define generator for testing (without augmentation, just rescaling)\n",
    "test_datagen = ImageDataGenerator(rescale=1./255)\n",
    "\n",
    "# Flow images through the data generator\n",
    "train_generator = train_datagen.flow_from_directory(\n",
    "    train_dir,\n",
    "    target_size=(128, 128),\n",
    "    batch_size=32,\n",
    "    class_mode='binary'\n",
    ")\n",
    "\n",
    "test_generator = test_datagen.flow_from_directory(\n",
    "    test_dir,\n",
    "    target_size=(128, 128),\n",
    "    batch_size=32,\n",
    "    class_mode='binary'\n",
    ")\n"
   ]
  },
  {
   "cell_type": "code",
   "execution_count": 16,
   "id": "3d99783f-3f9d-4503-b5ae-498d46797eb4",
   "metadata": {},
   "outputs": [],
   "source": [
    "# Function to extract features from MobileNetV3\n",
    "def extract_mobilenet_features(img_paths):\n",
    "    # Use 128x128 size for MobileNetV3\n",
    "    model = MobileNetV3Small(weights='imagenet', include_top=False, input_shape=(128, 128, 3))\n",
    "    model.trainable = False  # Freeze the layers of MobileNetV3\n",
    "    global_average_layer = tf.keras.layers.GlobalAveragePooling2D()\n",
    "    model_with_pooling = tf.keras.Sequential([model, global_average_layer])\n",
    "    \n",
    "    features = []\n",
    "    for img_array in img_paths:\n",
    "        img_array = preprocess_input(img_array)  # Preprocess for MobileNetV3\n",
    "        img_array = np.expand_dims(img_array, axis=0)  # Add batch dimension\n",
    "        feature = model_with_pooling(img_array)\n",
    "        features.append(feature.numpy().flatten())  # Flatten to 1D vector\n",
    "    \n",
    "    return np.array(features)\n",
    "\n",
    "# Extract features for train and test images\n",
    "train_features = extract_mobilenet_features(X_train)  # X_train images\n",
    "test_features = extract_mobilenet_features(X_test)    # X_test images\n"
   ]
  },
  {
   "cell_type": "code",
   "execution_count": 17,
   "id": "870f27c2-ca2d-4386-9f1d-68e8cd09fca5",
   "metadata": {},
   "outputs": [],
   "source": [
    "# XGBoost model for classification\n",
    "def train_xgboost(features, labels):\n",
    "    dtrain = xgb.DMatrix(features, label=labels)\n",
    "    \n",
    "    params = {\n",
    "        'objective': 'binary:logistic',\n",
    "        'eval_metric': 'logloss',\n",
    "        'max_depth': 5,\n",
    "        'eta': 0.1,\n",
    "        'verbosity': 1\n",
    "    }\n",
    "    \n",
    "    bst = xgb.train(params, dtrain, num_boost_round=100)\n",
    "    return bst\n",
    "\n",
    "# Train XGBoost model\n",
    "model = train_xgboost(train_features, y_train)\n"
   ]
  },
  {
   "cell_type": "code",
   "execution_count": 18,
   "id": "c0d4fecb-69ff-4372-aa3c-40c21fb87235",
   "metadata": {},
   "outputs": [
    {
     "name": "stdout",
     "output_type": "stream",
     "text": [
      "Accuracy: 0.875\n",
      "Classification Report:\n",
      "              precision    recall  f1-score   support\n",
      "\n",
      "           0       0.89      0.86      0.87       640\n",
      "           1       0.86      0.89      0.88       640\n",
      "\n",
      "    accuracy                           0.88      1280\n",
      "   macro avg       0.88      0.88      0.87      1280\n",
      "weighted avg       0.88      0.88      0.87      1280\n",
      "\n"
     ]
    },
    {
     "data": {
      "image/png": "[encoded data removed]",
      "text/plain": [
       "<Figure size 640x480 with 1 Axes>"
      ]
     },
     "metadata": {},
     "output_type": "display_data"
    }
   ],
   "source": [
    "from sklearn.metrics import accuracy_score, classification_report, roc_curve, auc\n",
    "import matplotlib.pyplot as plt\n",
    "\n",
    "# Predict using the trained XGBoost model\n",
    "y_pred_prob = model.predict(xgb.DMatrix(test_features))  # Predicted probabilities\n",
    "y_pred = (y_pred_prob > 0.5).astype(int)  # Convert probabilities to binary labels\n",
    "\n",
    "# Calculate accuracy\n",
    "accuracy = accuracy_score(y_test, y_pred)\n",
    "\n",
    "# Generate classification report (precision, recall, f1-score)\n",
    "report = classification_report(y_test, y_pred)\n",
    "\n",
    "# Compute ROC curve and AUROC\n",
    "fpr, tpr, thresholds = roc_curve(y_test, y_pred_prob)\n",
    "roc_auc = auc(fpr, tpr)\n",
    "\n",
    "# Print all the metrics\n",
    "print(f\"Accuracy: {accuracy}\")\n",
    "print(\"Classification Report:\")\n",
    "print(report)\n",
    "\n",
    "# Plot ROC curve\n",
    "plt.figure()\n",
    "plt.plot(fpr, tpr, color='blue', lw=2, label=f'ROC curve (area = {roc_auc:.2f})')\n",
    "plt.plot([0, 1], [0, 1], color='gray', linestyle='--')\n",
    "plt.xlim([0.0, 1.0])\n",
    "plt.ylim([0.0, 1.05])\n",
    "plt.xlabel('False Positive Rate')\n",
    "plt.ylabel('True Positive Rate')\n",
    "plt.title('Receiver Operating Characteristic (ROC) Curve')\n",
    "plt.legend(loc='lower right')\n",
    "plt.show()\n"
   ]
  },
  {
   "cell_type": "code",
   "execution_count": null,
   "id": "fb05b90f-a09b-4c59-aefa-53477b9ed252",
   "metadata": {},
   "outputs": [],
   "source": []
  }
 ],
 "metadata": {
  "kernelspec": {
   "display_name": "Python 3 (ipykernel)",
   "language": "python",
   "name": "python3"
  },
  "language_info": {
   "codemirror_mode": {
    "name": "ipython",
    "version": 3
   },
   "file_extension": ".py",
   "mimetype": "text/x-python",
   "name": "python",
   "nbconvert_exporter": "python",
   "pygments_lexer": "ipython3",
   "version": "3.11.4"
  }
 },
 "nbformat": 4,
 "nbformat_minor": 5
}
