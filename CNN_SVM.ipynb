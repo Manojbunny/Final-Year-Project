{
 "cells": [
  {
   "cell_type": "code",
   "execution_count": 1,
   "id": "a7fdb905-b0ad-4291-be97-2180343c0a14",
   "metadata": {},
   "outputs": [
    {
     "name": "stderr",
     "output_type": "stream",
     "text": [
      "Processing Mild-Demented:   7%|████                                                  | 67/896 [00:00<00:02, 340.03it/s]"
     ]
    },
    {
     "name": "stdout",
     "output_type": "stream",
     "text": [
      "Batch images shape: (16, 128, 128, 3)\n",
      "Batch labels shape: (16, 1)\n",
      "Batch images shape: (16, 128, 128, 3)\n",
      "Batch labels shape: (16, 1)\n",
      "Batch images shape: (16, 128, 128, 3)\n",
      "Batch labels shape: (16, 1)\n",
      "Batch images shape: (16, 128, 128, 3)\n",
      "Batch labels shape: (16, 1)\n",
      "Batch images shape: (16, 128, 128, 3)\n",
      "Batch labels shape: (16, 1)\n",
      "Batch images shape: (16, 128, 128, 3)\n",
      "Batch labels shape: (16, 1)\n"
     ]
    },
    {
     "name": "stderr",
     "output_type": "stream",
     "text": [
      "Processing Mild-Demented:  20%|██████████▍                                          | 177/896 [00:00<00:02, 346.91it/s]"
     ]
    },
    {
     "name": "stdout",
     "output_type": "stream",
     "text": [
      "Batch images shape: (16, 128, 128, 3)\n",
      "Batch labels shape: (16, 1)\n",
      "Batch images shape: (16, 128, 128, 3)\n",
      "Batch labels shape: (16, 1)\n",
      "Batch images shape: (16, 128, 128, 3)\n",
      "Batch labels shape: (16, 1)\n",
      "Batch images shape: (16, 128, 128, 3)\n",
      "Batch labels shape: (16, 1)\n",
      "Batch images shape: (16, 128, 128, 3)\n",
      "Batch labels shape: (16, 1)\n"
     ]
    },
    {
     "name": "stderr",
     "output_type": "stream",
     "text": [
      "Processing Mild-Demented:  28%|██████████████▌                                      | 247/896 [00:00<00:01, 341.74it/s]"
     ]
    },
    {
     "name": "stdout",
     "output_type": "stream",
     "text": [
      "Batch images shape: (16, 128, 128, 3)\n",
      "Batch labels shape: (16, 1)\n",
      "Batch images shape: (16, 128, 128, 3)\n",
      "Batch labels shape: (16, 1)\n",
      "Batch images shape: (16, 128, 128, 3)\n",
      "Batch labels shape: (16, 1)\n",
      "Batch images shape: (16, 128, 128, 3)\n",
      "Batch labels shape: (16, 1)\n",
      "Batch images shape: (16, 128, 128, 3)\n",
      "Batch labels shape: (16, 1)\n"
     ]
    },
    {
     "name": "stderr",
     "output_type": "stream",
     "text": [
      "Processing Mild-Demented:  36%|██████████████████▉                                  | 320/896 [00:00<00:01, 353.25it/s]"
     ]
    },
    {
     "name": "stdout",
     "output_type": "stream",
     "text": [
      "Batch images shape: (16, 128, 128, 3)\n",
      "Batch labels shape: (16, 1)\n",
      "Batch images shape: (16, 128, 128, 3)\n",
      "Batch labels shape: (16, 1)\n",
      "Batch images shape: (16, 128, 128, 3)\n",
      "Batch labels shape: (16, 1)\n",
      "Batch images shape: (16, 128, 128, 3)\n",
      "Batch labels shape: (16, 1)\n",
      "Batch images shape: (16, 128, 128, 3)\n",
      "Batch labels shape: (16, 1)\n"
     ]
    },
    {
     "name": "stderr",
     "output_type": "stream",
     "text": [
      "Processing Mild-Demented:  44%|███████████████████████▏                             | 392/896 [00:01<00:01, 353.35it/s]"
     ]
    },
    {
     "name": "stdout",
     "output_type": "stream",
     "text": [
      "Batch images shape: (16, 128, 128, 3)\n",
      "Batch labels shape: (16, 1)\n",
      "Batch images shape: (16, 128, 128, 3)\n",
      "Batch labels shape: (16, 1)\n",
      "Batch images shape: (16, 128, 128, 3)\n",
      "Batch labels shape: (16, 1)\n",
      "Batch images shape: (16, 128, 128, 3)\n",
      "Batch labels shape: (16, 1)\n",
      "Batch images shape: (16, 128, 128, 3)\n",
      "Batch labels shape: (16, 1)\n"
     ]
    },
    {
     "name": "stderr",
     "output_type": "stream",
     "text": [
      "Processing Mild-Demented:  52%|███████████████████████████▎                         | 462/896 [00:01<00:01, 311.95it/s]"
     ]
    },
    {
     "name": "stdout",
     "output_type": "stream",
     "text": [
      "Batch images shape: (16, 128, 128, 3)\n",
      "Batch labels shape: (16, 1)\n",
      "Batch images shape: (16, 128, 128, 3)\n",
      "Batch labels shape: (16, 1)\n",
      "Batch images shape: (16, 128, 128, 3)\n",
      "Batch labels shape: (16, 1)\n",
      "Batch images shape: (16, 128, 128, 3)\n",
      "Batch labels shape: (16, 1)\n"
     ]
    },
    {
     "name": "stderr",
     "output_type": "stream",
     "text": [
      "Processing Mild-Demented:  58%|██████████████████████████████▉                      | 524/896 [00:01<00:01, 291.01it/s]"
     ]
    },
    {
     "name": "stdout",
     "output_type": "stream",
     "text": [
      "Batch images shape: (16, 128, 128, 3)\n",
      "Batch labels shape: (16, 1)\n",
      "Batch images shape: (16, 128, 128, 3)\n",
      "Batch labels shape: (16, 1)\n",
      "Batch images shape: (16, 128, 128, 3)\n",
      "Batch labels shape: (16, 1)\n",
      "Batch images shape: (16, 128, 128, 3)\n",
      "Batch labels shape: (16, 1)\n"
     ]
    },
    {
     "name": "stderr",
     "output_type": "stream",
     "text": [
      "Processing Mild-Demented:  65%|██████████████████████████████████▍                  | 583/896 [00:01<00:01, 269.98it/s]"
     ]
    },
    {
     "name": "stdout",
     "output_type": "stream",
     "text": [
      "Batch images shape: (16, 128, 128, 3)\n",
      "Batch labels shape: (16, 1)\n",
      "Batch images shape: (16, 128, 128, 3)\n",
      "Batch labels shape: (16, 1)\n",
      "Batch images shape: (16, 128, 128, 3)\n",
      "Batch labels shape: (16, 1)\n",
      "Batch images shape: (16, 128, 128, 3)\n",
      "Batch labels shape: (16, 1)\n"
     ]
    },
    {
     "name": "stderr",
     "output_type": "stream",
     "text": [
      "Processing Mild-Demented:  74%|███████████████████████████████████████▍             | 667/896 [00:02<00:00, 268.55it/s]"
     ]
    },
    {
     "name": "stdout",
     "output_type": "stream",
     "text": [
      "Batch images shape: (16, 128, 128, 3)\n",
      "Batch labels shape: (16, 1)\n",
      "Batch images shape: (16, 128, 128, 3)\n",
      "Batch labels shape: (16, 1)\n",
      "Batch images shape: (16, 128, 128, 3)\n",
      "Batch labels shape: (16, 1)\n",
      "Batch images shape: (16, 128, 128, 3)\n",
      "Batch labels shape: (16, 1)\n"
     ]
    },
    {
     "name": "stderr",
     "output_type": "stream",
     "text": [
      "Processing Mild-Demented:  80%|██████████████████████████████████████████▋          | 721/896 [00:02<00:00, 262.97it/s]"
     ]
    },
    {
     "name": "stdout",
     "output_type": "stream",
     "text": [
      "Batch images shape: (16, 128, 128, 3)\n",
      "Batch labels shape: (16, 1)\n",
      "Batch images shape: (16, 128, 128, 3)\n",
      "Batch labels shape: (16, 1)\n",
      "Batch images shape: (16, 128, 128, 3)\n",
      "Batch labels shape: (16, 1)\n",
      "Batch images shape: (16, 128, 128, 3)\n",
      "Batch labels shape: (16, 1)\n"
     ]
    },
    {
     "name": "stderr",
     "output_type": "stream",
     "text": [
      "Processing Mild-Demented:  87%|██████████████████████████████████████████████▏      | 781/896 [00:02<00:00, 273.97it/s]"
     ]
    },
    {
     "name": "stdout",
     "output_type": "stream",
     "text": [
      "Batch images shape: (16, 128, 128, 3)\n",
      "Batch labels shape: (16, 1)\n",
      "Batch images shape: (16, 128, 128, 3)\n",
      "Batch labels shape: (16, 1)\n",
      "Batch images shape: (16, 128, 128, 3)\n",
      "Batch labels shape: (16, 1)\n",
      "Batch images shape: (16, 128, 128, 3)\n",
      "Batch labels shape: (16, 1)\n"
     ]
    },
    {
     "name": "stderr",
     "output_type": "stream",
     "text": [
      "Processing Mild-Demented:  97%|███████████████████████████████████████████████████▎ | 867/896 [00:02<00:00, 282.64it/s]"
     ]
    },
    {
     "name": "stdout",
     "output_type": "stream",
     "text": [
      "Batch images shape: (16, 128, 128, 3)\n",
      "Batch labels shape: (16, 1)\n",
      "Batch images shape: (16, 128, 128, 3)\n",
      "Batch labels shape: (16, 1)\n",
      "Batch images shape: (16, 128, 128, 3)\n",
      "Batch labels shape: (16, 1)\n",
      "Batch images shape: (16, 128, 128, 3)\n",
      "Batch labels shape: (16, 1)\n"
     ]
    },
    {
     "name": "stderr",
     "output_type": "stream",
     "text": [
      "Processing Mild-Demented: 100%|█████████████████████████████████████████████████████| 896/896 [00:02<00:00, 301.90it/s]\n"
     ]
    },
    {
     "name": "stdout",
     "output_type": "stream",
     "text": [
      "Batch images shape: (16, 128, 128, 3)\n",
      "Batch labels shape: (16, 1)\n",
      "Batch images shape: (16, 128, 128, 3)\n",
      "Batch labels shape: (16, 1)\n"
     ]
    },
    {
     "name": "stderr",
     "output_type": "stream",
     "text": [
      "Processing Moderate-Demented:  50%|█████████████████████████▌                         | 32/64 [00:00<00:00, 299.85it/s]"
     ]
    },
    {
     "name": "stdout",
     "output_type": "stream",
     "text": [
      "Batch images shape: (16, 128, 128, 3)\n",
      "Batch labels shape: (16, 1)\n",
      "Batch images shape: (16, 128, 128, 3)\n",
      "Batch labels shape: (16, 1)\n"
     ]
    },
    {
     "name": "stderr",
     "output_type": "stream",
     "text": [
      "Processing Moderate-Demented: 100%|███████████████████████████████████████████████████| 64/64 [00:00<00:00, 288.99it/s]"
     ]
    },
    {
     "name": "stdout",
     "output_type": "stream",
     "text": [
      "Batch images shape: (16, 128, 128, 3)\n",
      "Batch labels shape: (16, 1)\n",
      "Batch images shape: (16, 128, 128, 3)\n",
      "Batch labels shape: (16, 1)\n"
     ]
    },
    {
     "name": "stderr",
     "output_type": "stream",
     "text": [
      "\n",
      "Processing Non-Demented:   0%|                                                                | 0/3200 [00:00<?, ?it/s]"
     ]
    },
    {
     "name": "stdout",
     "output_type": "stream",
     "text": [
      "Batch images shape: (16, 128, 128, 3)\n",
      "Batch labels shape: (16, 1)\n"
     ]
    },
    {
     "name": "stderr",
     "output_type": "stream",
     "text": [
      "Processing Non-Demented:   2%|█▏                                                    | 67/3200 [00:00<00:09, 336.76it/s]"
     ]
    },
    {
     "name": "stdout",
     "output_type": "stream",
     "text": [
      "Batch images shape: (16, 128, 128, 3)\n",
      "Batch labels shape: (16, 1)\n",
      "Batch images shape: (16, 128, 128, 3)\n",
      "Batch labels shape: (16, 1)\n",
      "Batch images shape: (16, 128, 128, 3)\n",
      "Batch labels shape: (16, 1)\n",
      "Batch images shape: (16, 128, 128, 3)\n",
      "Batch labels shape: (16, 1)\n"
     ]
    },
    {
     "name": "stderr",
     "output_type": "stream",
     "text": [
      "Processing Non-Demented:   4%|██▏                                                  | 133/3200 [00:00<00:10, 301.93it/s]"
     ]
    },
    {
     "name": "stdout",
     "output_type": "stream",
     "text": [
      "Batch images shape: (16, 128, 128, 3)\n",
      "Batch labels shape: (16, 1)\n",
      "Batch images shape: (16, 128, 128, 3)\n",
      "Batch labels shape: (16, 1)\n",
      "Batch images shape: (16, 128, 128, 3)\n",
      "Batch labels shape: (16, 1)\n",
      "Batch images shape: (16, 128, 128, 3)\n",
      "Batch labels shape: (16, 1)\n"
     ]
    },
    {
     "name": "stderr",
     "output_type": "stream",
     "text": [
      "Processing Non-Demented:   6%|███▎                                                 | 200/3200 [00:00<00:09, 314.92it/s]"
     ]
    },
    {
     "name": "stdout",
     "output_type": "stream",
     "text": [
      "Batch images shape: (16, 128, 128, 3)\n",
      "Batch labels shape: (16, 1)\n",
      "Batch images shape: (16, 128, 128, 3)\n",
      "Batch labels shape: (16, 1)\n",
      "Batch images shape: (16, 128, 128, 3)\n",
      "Batch labels shape: (16, 1)\n",
      "Batch images shape: (16, 128, 128, 3)\n",
      "Batch labels shape: (16, 1)\n",
      "Batch images shape: (16, 128, 128, 3)\n",
      "Batch labels shape: (16, 1)\n"
     ]
    },
    {
     "name": "stderr",
     "output_type": "stream",
     "text": [
      "Processing Non-Demented:   9%|████▉                                                | 295/3200 [00:00<00:09, 308.62it/s]"
     ]
    },
    {
     "name": "stdout",
     "output_type": "stream",
     "text": [
      "Batch images shape: (16, 128, 128, 3)\n",
      "Batch labels shape: (16, 1)\n",
      "Batch images shape: (16, 128, 128, 3)\n",
      "Batch labels shape: (16, 1)\n",
      "Batch images shape: (16, 128, 128, 3)\n",
      "Batch labels shape: (16, 1)\n",
      "Batch images shape: (16, 128, 128, 3)\n",
      "Batch labels shape: (16, 1)\n",
      "Batch images shape: (16, 128, 128, 3)\n",
      "Batch labels shape: (16, 1)\n"
     ]
    },
    {
     "name": "stderr",
     "output_type": "stream",
     "text": [
      "Processing Non-Demented:  11%|█████▉                                               | 357/3200 [00:01<00:09, 300.34it/s]"
     ]
    },
    {
     "name": "stdout",
     "output_type": "stream",
     "text": [
      "Batch images shape: (16, 128, 128, 3)\n",
      "Batch labels shape: (16, 1)\n",
      "Batch images shape: (16, 128, 128, 3)\n",
      "Batch labels shape: (16, 1)\n",
      "Batch images shape: (16, 128, 128, 3)\n",
      "Batch labels shape: (16, 1)\n",
      "Batch images shape: (16, 128, 128, 3)\n",
      "Batch labels shape: (16, 1)\n",
      "Batch images shape: (16, 128, 128, 3)\n",
      "Batch labels shape: (16, 1)\n"
     ]
    },
    {
     "name": "stderr",
     "output_type": "stream",
     "text": [
      "Processing Non-Demented:  15%|███████▋                                             | 466/3200 [00:01<00:08, 338.83it/s]"
     ]
    },
    {
     "name": "stdout",
     "output_type": "stream",
     "text": [
      "Batch images shape: (16, 128, 128, 3)\n",
      "Batch labels shape: (16, 1)\n",
      "Batch images shape: (16, 128, 128, 3)\n",
      "Batch labels shape: (16, 1)\n",
      "Batch images shape: (16, 128, 128, 3)\n",
      "Batch labels shape: (16, 1)\n",
      "Batch images shape: (16, 128, 128, 3)\n",
      "Batch labels shape: (16, 1)\n",
      "Batch images shape: (16, 128, 128, 3)\n",
      "Batch labels shape: (16, 1)\n"
     ]
    },
    {
     "name": "stderr",
     "output_type": "stream",
     "text": [
      "Processing Non-Demented:  17%|████████▉                                            | 540/3200 [00:01<00:08, 331.89it/s]"
     ]
    },
    {
     "name": "stdout",
     "output_type": "stream",
     "text": [
      "Batch images shape: (16, 128, 128, 3)\n",
      "Batch labels shape: (16, 1)\n",
      "Batch images shape: (16, 128, 128, 3)\n",
      "Batch labels shape: (16, 1)\n",
      "Batch images shape: (16, 128, 128, 3)\n",
      "Batch labels shape: (16, 1)\n",
      "Batch images shape: (16, 128, 128, 3)\n",
      "Batch labels shape: (16, 1)\n"
     ]
    },
    {
     "name": "stderr",
     "output_type": "stream",
     "text": [
      "Processing Non-Demented:  18%|█████████▌                                           | 574/3200 [00:01<00:10, 259.07it/s]"
     ]
    },
    {
     "name": "stdout",
     "output_type": "stream",
     "text": [
      "Batch images shape: (16, 128, 128, 3)\n",
      "Batch labels shape: (16, 1)\n",
      "Batch images shape: (16, 128, 128, 3)\n",
      "Batch labels shape: (16, 1)\n"
     ]
    },
    {
     "name": "stderr",
     "output_type": "stream",
     "text": [
      "Processing Non-Demented:  20%|██████████▋                                          | 642/3200 [00:02<00:08, 291.85it/s]"
     ]
    },
    {
     "name": "stdout",
     "output_type": "stream",
     "text": [
      "Batch images shape: (16, 128, 128, 3)\n",
      "Batch labels shape: (16, 1)\n",
      "Batch images shape: (16, 128, 128, 3)\n",
      "Batch labels shape: (16, 1)\n",
      "Batch images shape: (16, 128, 128, 3)\n",
      "Batch labels shape: (16, 1)\n",
      "Batch images shape: (16, 128, 128, 3)\n",
      "Batch labels shape: (16, 1)\n",
      "Batch images shape: (16, 128, 128, 3)\n",
      "Batch labels shape: (16, 1)\n"
     ]
    },
    {
     "name": "stderr",
     "output_type": "stream",
     "text": [
      "Processing Non-Demented:  22%|███████████▋                                         | 704/3200 [00:02<00:08, 280.29it/s]"
     ]
    },
    {
     "name": "stdout",
     "output_type": "stream",
     "text": [
      "Batch images shape: (16, 128, 128, 3)\n",
      "Batch labels shape: (16, 1)\n",
      "Batch images shape: (16, 128, 128, 3)\n",
      "Batch labels shape: (16, 1)\n",
      "Batch images shape: (16, 128, 128, 3)\n",
      "Batch labels shape: (16, 1)\n",
      "Batch images shape: (16, 128, 128, 3)\n",
      "Batch labels shape: (16, 1)\n"
     ]
    },
    {
     "name": "stderr",
     "output_type": "stream",
     "text": [
      "Processing Non-Demented:  24%|████████████▋                                        | 767/3200 [00:02<00:08, 295.41it/s]"
     ]
    },
    {
     "name": "stdout",
     "output_type": "stream",
     "text": [
      "Batch images shape: (16, 128, 128, 3)\n",
      "Batch labels shape: (16, 1)\n",
      "Batch images shape: (16, 128, 128, 3)\n",
      "Batch labels shape: (16, 1)\n",
      "Batch images shape: (16, 128, 128, 3)\n",
      "Batch labels shape: (16, 1)\n",
      "Batch images shape: (16, 128, 128, 3)\n",
      "Batch labels shape: (16, 1)\n"
     ]
    },
    {
     "name": "stderr",
     "output_type": "stream",
     "text": [
      "Processing Non-Demented:  26%|█████████████▋                                       | 828/3200 [00:02<00:08, 288.92it/s]"
     ]
    },
    {
     "name": "stdout",
     "output_type": "stream",
     "text": [
      "Batch images shape: (16, 128, 128, 3)\n",
      "Batch labels shape: (16, 1)\n",
      "Batch images shape: (16, 128, 128, 3)\n",
      "Batch labels shape: (16, 1)\n",
      "Batch images shape: (16, 128, 128, 3)\n",
      "Batch labels shape: (16, 1)\n",
      "Batch images shape: (16, 128, 128, 3)\n",
      "Batch labels shape: (16, 1)\n"
     ]
    },
    {
     "name": "stderr",
     "output_type": "stream",
     "text": [
      "Processing Non-Demented:  28%|██████████████▊                                      | 892/3200 [00:02<00:07, 301.36it/s]"
     ]
    },
    {
     "name": "stdout",
     "output_type": "stream",
     "text": [
      "Batch images shape: (16, 128, 128, 3)\n",
      "Batch labels shape: (16, 1)\n",
      "Batch images shape: (16, 128, 128, 3)\n",
      "Batch labels shape: (16, 1)\n",
      "Batch images shape: (16, 128, 128, 3)\n",
      "Batch labels shape: (16, 1)\n",
      "Batch images shape: (16, 128, 128, 3)\n",
      "Batch labels shape: (16, 1)\n"
     ]
    },
    {
     "name": "stderr",
     "output_type": "stream",
     "text": [
      "Processing Non-Demented:  30%|███████████████▊                                     | 956/3200 [00:03<00:07, 301.46it/s]"
     ]
    },
    {
     "name": "stdout",
     "output_type": "stream",
     "text": [
      "Batch images shape: (16, 128, 128, 3)\n",
      "Batch labels shape: (16, 1)\n",
      "Batch images shape: (16, 128, 128, 3)\n",
      "Batch labels shape: (16, 1)\n",
      "Batch images shape: (16, 128, 128, 3)\n",
      "Batch labels shape: (16, 1)\n",
      "Batch images shape: (16, 128, 128, 3)\n",
      "Batch labels shape: (16, 1)\n",
      "Batch images shape: (16, 128, 128, 3)\n",
      "Batch labels shape: (16, 1)\n"
     ]
    },
    {
     "name": "stderr",
     "output_type": "stream",
     "text": [
      "Processing Non-Demented:  32%|████████████████▋                                   | 1024/3200 [00:03<00:07, 299.36it/s]"
     ]
    },
    {
     "name": "stdout",
     "output_type": "stream",
     "text": [
      "Batch images shape: (16, 128, 128, 3)\n",
      "Batch labels shape: (16, 1)\n",
      "Batch images shape: (16, 128, 128, 3)\n",
      "Batch labels shape: (16, 1)\n",
      "Batch images shape: (16, 128, 128, 3)\n",
      "Batch labels shape: (16, 1)\n",
      "Batch images shape: (16, 128, 128, 3)\n",
      "Batch labels shape: (16, 1)\n"
     ]
    },
    {
     "name": "stderr",
     "output_type": "stream",
     "text": [
      "Processing Non-Demented:  35%|██████████████████▏                                 | 1116/3200 [00:03<00:07, 297.29it/s]"
     ]
    },
    {
     "name": "stdout",
     "output_type": "stream",
     "text": [
      "Batch images shape: (16, 128, 128, 3)\n",
      "Batch labels shape: (16, 1)\n",
      "Batch images shape: (16, 128, 128, 3)\n",
      "Batch labels shape: (16, 1)\n",
      "Batch images shape: (16, 128, 128, 3)\n",
      "Batch labels shape: (16, 1)\n",
      "Batch images shape: (16, 128, 128, 3)\n",
      "Batch labels shape: (16, 1)\n"
     ]
    },
    {
     "name": "stderr",
     "output_type": "stream",
     "text": [
      "Processing Non-Demented:  36%|██████████████████▌                                 | 1146/3200 [00:03<00:07, 282.75it/s]"
     ]
    },
    {
     "name": "stdout",
     "output_type": "stream",
     "text": [
      "Batch images shape: (16, 128, 128, 3)\n",
      "Batch labels shape: (16, 1)\n",
      "Batch images shape: (16, 128, 128, 3)\n",
      "Batch labels shape: (16, 1)\n",
      "Batch images shape: (16, 128, 128, 3)\n",
      "Batch labels shape: (16, 1)\n",
      "Batch images shape: (16, 128, 128, 3)\n",
      "Batch labels shape: (16, 1)\n"
     ]
    },
    {
     "name": "stderr",
     "output_type": "stream",
     "text": [
      "Processing Non-Demented:  40%|████████████████████▌                               | 1268/3200 [00:04<00:05, 368.30it/s]"
     ]
    },
    {
     "name": "stdout",
     "output_type": "stream",
     "text": [
      "Batch images shape: (16, 128, 128, 3)\n",
      "Batch labels shape: (16, 1)\n",
      "Batch images shape: (16, 128, 128, 3)\n",
      "Batch labels shape: (16, 1)\n",
      "Batch images shape: (16, 128, 128, 3)\n",
      "Batch labels shape: (16, 1)\n",
      "Batch images shape: (16, 128, 128, 3)\n",
      "Batch labels shape: (16, 1)\n",
      "Batch images shape: (16, 128, 128, 3)\n",
      "Batch labels shape: (16, 1)\n",
      "Batch images shape: (16, 128, 128, 3)\n",
      "Batch labels shape: (16, 1)\n"
     ]
    },
    {
     "name": "stderr",
     "output_type": "stream",
     "text": [
      "Processing Non-Demented:  42%|██████████████████████                              | 1357/3200 [00:04<00:04, 403.44it/s]"
     ]
    },
    {
     "name": "stdout",
     "output_type": "stream",
     "text": [
      "Batch images shape: (16, 128, 128, 3)\n",
      "Batch labels shape: (16, 1)\n",
      "Batch images shape: (16, 128, 128, 3)\n",
      "Batch labels shape: (16, 1)\n",
      "Batch images shape: (16, 128, 128, 3)\n",
      "Batch labels shape: (16, 1)\n",
      "Batch images shape: (16, 128, 128, 3)\n",
      "Batch labels shape: (16, 1)\n",
      "Batch images shape: (16, 128, 128, 3)\n",
      "Batch labels shape: (16, 1)\n"
     ]
    },
    {
     "name": "stderr",
     "output_type": "stream",
     "text": [
      "Processing Non-Demented:  44%|██████████████████████▋                             | 1398/3200 [00:04<00:04, 389.39it/s]"
     ]
    },
    {
     "name": "stdout",
     "output_type": "stream",
     "text": [
      "Batch images shape: (16, 128, 128, 3)\n",
      "Batch labels shape: (16, 1)\n",
      "Batch images shape: (16, 128, 128, 3)\n",
      "Batch labels shape: (16, 1)\n",
      "Batch images shape: (16, 128, 128, 3)\n",
      "Batch labels shape: (16, 1)\n",
      "Batch images shape: (16, 128, 128, 3)\n",
      "Batch labels shape: (16, 1)\n",
      "Batch images shape: (16, 128, 128, 3)\n",
      "Batch labels shape: (16, 1)\n"
     ]
    },
    {
     "name": "stderr",
     "output_type": "stream",
     "text": [
      "Processing Non-Demented:  46%|████████████████████████                            | 1477/3200 [00:04<00:04, 379.40it/s]"
     ]
    },
    {
     "name": "stdout",
     "output_type": "stream",
     "text": [
      "Batch images shape: (16, 128, 128, 3)\n",
      "Batch labels shape: (16, 1)\n",
      "Batch images shape: (16, 128, 128, 3)\n",
      "Batch labels shape: (16, 1)\n",
      "Batch images shape: (16, 128, 128, 3)\n",
      "Batch labels shape: (16, 1)\n",
      "Batch images shape: (16, 128, 128, 3)\n",
      "Batch labels shape: (16, 1)\n",
      "Batch images shape: (16, 128, 128, 3)\n",
      "Batch labels shape: (16, 1)\n"
     ]
    },
    {
     "name": "stderr",
     "output_type": "stream",
     "text": [
      "Processing Non-Demented:  49%|█████████████████████████▎                          | 1554/3200 [00:04<00:04, 368.71it/s]"
     ]
    },
    {
     "name": "stdout",
     "output_type": "stream",
     "text": [
      "Batch images shape: (16, 128, 128, 3)\n",
      "Batch labels shape: (16, 1)\n",
      "Batch images shape: (16, 128, 128, 3)\n",
      "Batch labels shape: (16, 1)\n",
      "Batch images shape: (16, 128, 128, 3)\n",
      "Batch labels shape: (16, 1)\n",
      "Batch images shape: (16, 128, 128, 3)\n",
      "Batch labels shape: (16, 1)\n",
      "Batch images shape: (16, 128, 128, 3)\n",
      "Batch labels shape: (16, 1)\n"
     ]
    },
    {
     "name": "stderr",
     "output_type": "stream",
     "text": [
      "Processing Non-Demented:  51%|██████████████████████████▍                         | 1630/3200 [00:05<00:04, 371.63it/s]"
     ]
    },
    {
     "name": "stdout",
     "output_type": "stream",
     "text": [
      "Batch images shape: (16, 128, 128, 3)\n",
      "Batch labels shape: (16, 1)\n",
      "Batch images shape: (16, 128, 128, 3)\n",
      "Batch labels shape: (16, 1)\n",
      "Batch images shape: (16, 128, 128, 3)\n",
      "Batch labels shape: (16, 1)\n",
      "Batch images shape: (16, 128, 128, 3)\n",
      "Batch labels shape: (16, 1)\n"
     ]
    },
    {
     "name": "stderr",
     "output_type": "stream",
     "text": [
      "Processing Non-Demented:  53%|███████████████████████████▋                        | 1702/3200 [00:05<00:04, 308.56it/s]"
     ]
    },
    {
     "name": "stdout",
     "output_type": "stream",
     "text": [
      "Batch images shape: (16, 128, 128, 3)\n",
      "Batch labels shape: (16, 1)\n",
      "Batch images shape: (16, 128, 128, 3)\n",
      "Batch labels shape: (16, 1)\n",
      "Batch images shape: (16, 128, 128, 3)\n",
      "Batch labels shape: (16, 1)\n",
      "Batch images shape: (16, 128, 128, 3)\n",
      "Batch labels shape: (16, 1)\n"
     ]
    },
    {
     "name": "stderr",
     "output_type": "stream",
     "text": [
      "Processing Non-Demented:  56%|████████████████████████████▊                       | 1776/3200 [00:05<00:04, 328.65it/s]"
     ]
    },
    {
     "name": "stdout",
     "output_type": "stream",
     "text": [
      "Batch images shape: (16, 128, 128, 3)\n",
      "Batch labels shape: (16, 1)\n",
      "Batch images shape: (16, 128, 128, 3)\n",
      "Batch labels shape: (16, 1)\n",
      "Batch images shape: (16, 128, 128, 3)\n",
      "Batch labels shape: (16, 1)\n",
      "Batch images shape: (16, 128, 128, 3)\n",
      "Batch labels shape: (16, 1)\n",
      "Batch images shape: (16, 128, 128, 3)\n",
      "Batch labels shape: (16, 1)\n"
     ]
    },
    {
     "name": "stderr",
     "output_type": "stream",
     "text": [
      "Processing Non-Demented:  58%|█████████████████████████████▉                      | 1843/3200 [00:05<00:04, 314.37it/s]"
     ]
    },
    {
     "name": "stdout",
     "output_type": "stream",
     "text": [
      "Batch images shape: (16, 128, 128, 3)\n",
      "Batch labels shape: (16, 1)\n",
      "Batch images shape: (16, 128, 128, 3)\n",
      "Batch labels shape: (16, 1)\n",
      "Batch images shape: (16, 128, 128, 3)\n",
      "Batch labels shape: (16, 1)\n",
      "Batch images shape: (16, 128, 128, 3)\n",
      "Batch labels shape: (16, 1)\n",
      "Batch images shape: (16, 128, 128, 3)\n",
      "Batch labels shape: (16, 1)\n"
     ]
    },
    {
     "name": "stderr",
     "output_type": "stream",
     "text": [
      "Processing Non-Demented:  61%|███████████████████████████████▌                    | 1940/3200 [00:06<00:04, 307.74it/s]"
     ]
    },
    {
     "name": "stdout",
     "output_type": "stream",
     "text": [
      "Batch images shape: (16, 128, 128, 3)\n",
      "Batch labels shape: (16, 1)\n",
      "Batch images shape: (16, 128, 128, 3)\n",
      "Batch labels shape: (16, 1)\n",
      "Batch images shape: (16, 128, 128, 3)\n",
      "Batch labels shape: (16, 1)\n",
      "Batch images shape: (16, 128, 128, 3)\n",
      "Batch labels shape: (16, 1)\n"
     ]
    },
    {
     "name": "stderr",
     "output_type": "stream",
     "text": [
      "Processing Non-Demented:  63%|████████████████████████████████▋                   | 2011/3200 [00:06<00:03, 331.84it/s]"
     ]
    },
    {
     "name": "stdout",
     "output_type": "stream",
     "text": [
      "Batch images shape: (16, 128, 128, 3)\n",
      "Batch labels shape: (16, 1)\n",
      "Batch images shape: (16, 128, 128, 3)\n",
      "Batch labels shape: (16, 1)\n",
      "Batch images shape: (16, 128, 128, 3)\n",
      "Batch labels shape: (16, 1)\n",
      "Batch images shape: (16, 128, 128, 3)\n",
      "Batch labels shape: (16, 1)\n",
      "Batch images shape: (16, 128, 128, 3)\n",
      "Batch labels shape: (16, 1)\n"
     ]
    },
    {
     "name": "stderr",
     "output_type": "stream",
     "text": [
      "Processing Non-Demented:  65%|█████████████████████████████████▉                  | 2087/3200 [00:06<00:03, 352.53it/s]"
     ]
    },
    {
     "name": "stdout",
     "output_type": "stream",
     "text": [
      "Batch images shape: (16, 128, 128, 3)\n",
      "Batch labels shape: (16, 1)\n",
      "Batch images shape: (16, 128, 128, 3)\n",
      "Batch labels shape: (16, 1)\n",
      "Batch images shape: (16, 128, 128, 3)\n",
      "Batch labels shape: (16, 1)\n",
      "Batch images shape: (16, 128, 128, 3)\n",
      "Batch labels shape: (16, 1)\n",
      "Batch images shape: (16, 128, 128, 3)\n",
      "Batch labels shape: (16, 1)\n"
     ]
    },
    {
     "name": "stderr",
     "output_type": "stream",
     "text": [
      "Processing Non-Demented:  68%|███████████████████████████████████▏                | 2164/3200 [00:06<00:02, 364.33it/s]"
     ]
    },
    {
     "name": "stdout",
     "output_type": "stream",
     "text": [
      "Batch images shape: (16, 128, 128, 3)\n",
      "Batch labels shape: (16, 1)\n",
      "Batch images shape: (16, 128, 128, 3)\n",
      "Batch labels shape: (16, 1)\n",
      "Batch images shape: (16, 128, 128, 3)\n",
      "Batch labels shape: (16, 1)\n",
      "Batch images shape: (16, 128, 128, 3)\n",
      "Batch labels shape: (16, 1)\n",
      "Batch images shape: (16, 128, 128, 3)\n",
      "Batch labels shape: (16, 1)\n"
     ]
    },
    {
     "name": "stderr",
     "output_type": "stream",
     "text": [
      "Processing Non-Demented:  70%|████████████████████████████████████▍               | 2240/3200 [00:06<00:02, 368.92it/s]"
     ]
    },
    {
     "name": "stdout",
     "output_type": "stream",
     "text": [
      "Batch images shape: (16, 128, 128, 3)\n",
      "Batch labels shape: (16, 1)\n",
      "Batch images shape: (16, 128, 128, 3)\n",
      "Batch labels shape: (16, 1)\n",
      "Batch images shape: (16, 128, 128, 3)\n",
      "Batch labels shape: (16, 1)\n",
      "Batch images shape: (16, 128, 128, 3)\n",
      "Batch labels shape: (16, 1)\n",
      "Batch images shape: (16, 128, 128, 3)\n",
      "Batch labels shape: (16, 1)\n"
     ]
    },
    {
     "name": "stderr",
     "output_type": "stream",
     "text": [
      "Processing Non-Demented:  71%|█████████████████████████████████████               | 2277/3200 [00:07<00:02, 366.33it/s]"
     ]
    },
    {
     "name": "stdout",
     "output_type": "stream",
     "text": [
      "Batch images shape: (16, 128, 128, 3)\n",
      "Batch labels shape: (16, 1)\n",
      "Batch images shape: (16, 128, 128, 3)\n",
      "Batch labels shape: (16, 1)\n",
      "Batch images shape: (16, 128, 128, 3)\n",
      "Batch labels shape: (16, 1)\n"
     ]
    },
    {
     "name": "stderr",
     "output_type": "stream",
     "text": [
      "Processing Non-Demented:  73%|██████████████████████████████████████▏             | 2347/3200 [00:07<00:02, 314.35it/s]"
     ]
    },
    {
     "name": "stdout",
     "output_type": "stream",
     "text": [
      "Batch images shape: (16, 128, 128, 3)\n",
      "Batch labels shape: (16, 1)\n",
      "Batch images shape: (16, 128, 128, 3)\n",
      "Batch labels shape: (16, 1)\n",
      "Batch images shape: (16, 128, 128, 3)\n",
      "Batch labels shape: (16, 1)\n",
      "Batch images shape: (16, 128, 128, 3)\n",
      "Batch labels shape: (16, 1)\n"
     ]
    },
    {
     "name": "stderr",
     "output_type": "stream",
     "text": [
      "Processing Non-Demented:  77%|███████████████████████████████████████▉            | 2456/3200 [00:07<00:02, 306.03it/s]"
     ]
    },
    {
     "name": "stdout",
     "output_type": "stream",
     "text": [
      "Batch images shape: (16, 128, 128, 3)\n",
      "Batch labels shape: (16, 1)\n",
      "Batch images shape: (16, 128, 128, 3)\n",
      "Batch labels shape: (16, 1)\n",
      "Batch images shape: (16, 128, 128, 3)\n",
      "Batch labels shape: (16, 1)\n",
      "Batch images shape: (16, 128, 128, 3)\n",
      "Batch labels shape: (16, 1)\n",
      "Batch images shape: (16, 128, 128, 3)\n",
      "Batch labels shape: (16, 1)\n"
     ]
    },
    {
     "name": "stderr",
     "output_type": "stream",
     "text": [
      "Processing Non-Demented:  78%|████████████████████████████████████████▍           | 2489/3200 [00:07<00:02, 286.98it/s]"
     ]
    },
    {
     "name": "stdout",
     "output_type": "stream",
     "text": [
      "Batch images shape: (16, 128, 128, 3)\n",
      "Batch labels shape: (16, 1)\n",
      "Batch images shape: (16, 128, 128, 3)\n",
      "Batch labels shape: (16, 1)\n",
      "Batch images shape: (16, 128, 128, 3)\n",
      "Batch labels shape: (16, 1)\n",
      "Batch images shape: (16, 128, 128, 3)\n",
      "Batch labels shape: (16, 1)\n"
     ]
    },
    {
     "name": "stderr",
     "output_type": "stream",
     "text": [
      "Processing Non-Demented:  81%|█████████████████████████████████████████▉          | 2577/3200 [00:08<00:02, 262.69it/s]"
     ]
    },
    {
     "name": "stdout",
     "output_type": "stream",
     "text": [
      "Batch images shape: (16, 128, 128, 3)\n",
      "Batch labels shape: (16, 1)\n",
      "Batch images shape: (16, 128, 128, 3)\n",
      "Batch labels shape: (16, 1)\n",
      "Batch images shape: (16, 128, 128, 3)\n",
      "Batch labels shape: (16, 1)\n",
      "Batch images shape: (16, 128, 128, 3)\n",
      "Batch labels shape: (16, 1)\n"
     ]
    },
    {
     "name": "stderr",
     "output_type": "stream",
     "text": [
      "Processing Non-Demented:  83%|███████████████████████████████████████████         | 2653/3200 [00:08<00:01, 315.00it/s]"
     ]
    },
    {
     "name": "stdout",
     "output_type": "stream",
     "text": [
      "Batch images shape: (16, 128, 128, 3)\n",
      "Batch labels shape: (16, 1)\n",
      "Batch images shape: (16, 128, 128, 3)\n",
      "Batch labels shape: (16, 1)\n",
      "Batch images shape: (16, 128, 128, 3)\n",
      "Batch labels shape: (16, 1)\n",
      "Batch images shape: (16, 128, 128, 3)\n",
      "Batch labels shape: (16, 1)\n",
      "Batch images shape: (16, 128, 128, 3)\n",
      "Batch labels shape: (16, 1)\n",
      "Batch images shape: (16, 128, 128, 3)\n",
      "Batch labels shape: (16, 1)\n"
     ]
    },
    {
     "name": "stderr",
     "output_type": "stream",
     "text": [
      "Processing Non-Demented:  85%|████████████████████████████████████████████▎       | 2729/3200 [00:08<00:01, 344.33it/s]"
     ]
    },
    {
     "name": "stdout",
     "output_type": "stream",
     "text": [
      "Batch images shape: (16, 128, 128, 3)\n",
      "Batch labels shape: (16, 1)\n",
      "Batch images shape: (16, 128, 128, 3)\n",
      "Batch labels shape: (16, 1)\n",
      "Batch images shape: (16, 128, 128, 3)\n",
      "Batch labels shape: (16, 1)\n",
      "Batch images shape: (16, 128, 128, 3)\n",
      "Batch labels shape: (16, 1)\n",
      "Batch images shape: (16, 128, 128, 3)\n",
      "Batch labels shape: (16, 1)\n"
     ]
    },
    {
     "name": "stderr",
     "output_type": "stream",
     "text": [
      "Processing Non-Demented:  89%|██████████████████████████████████████████████▎     | 2848/3200 [00:08<00:00, 376.17it/s]"
     ]
    },
    {
     "name": "stdout",
     "output_type": "stream",
     "text": [
      "Batch images shape: (16, 128, 128, 3)\n",
      "Batch labels shape: (16, 1)\n",
      "Batch images shape: (16, 128, 128, 3)\n",
      "Batch labels shape: (16, 1)\n",
      "Batch images shape: (16, 128, 128, 3)\n",
      "Batch labels shape: (16, 1)\n",
      "Batch images shape: (16, 128, 128, 3)\n",
      "Batch labels shape: (16, 1)\n",
      "Batch images shape: (16, 128, 128, 3)\n",
      "Batch labels shape: (16, 1)\n",
      "Batch images shape: (16, 128, 128, 3)\n",
      "Batch labels shape: (16, 1)\n"
     ]
    },
    {
     "name": "stderr",
     "output_type": "stream",
     "text": [
      "Processing Non-Demented:  91%|███████████████████████████████████████████████▌    | 2925/3200 [00:09<00:00, 377.18it/s]"
     ]
    },
    {
     "name": "stdout",
     "output_type": "stream",
     "text": [
      "Batch images shape: (16, 128, 128, 3)\n",
      "Batch labels shape: (16, 1)\n",
      "Batch images shape: (16, 128, 128, 3)\n",
      "Batch labels shape: (16, 1)\n",
      "Batch images shape: (16, 128, 128, 3)\n",
      "Batch labels shape: (16, 1)\n",
      "Batch images shape: (16, 128, 128, 3)\n",
      "Batch labels shape: (16, 1)\n",
      "Batch images shape: (16, 128, 128, 3)\n",
      "Batch labels shape: (16, 1)\n",
      "Batch images shape: (16, 128, 128, 3)\n",
      "Batch labels shape: (16, 1)\n"
     ]
    },
    {
     "name": "stderr",
     "output_type": "stream",
     "text": [
      "Processing Non-Demented:  94%|████████████████████████████████████████████████▊   | 3002/3200 [00:09<00:00, 379.09it/s]"
     ]
    },
    {
     "name": "stdout",
     "output_type": "stream",
     "text": [
      "Batch images shape: (16, 128, 128, 3)\n",
      "Batch labels shape: (16, 1)\n",
      "Batch images shape: (16, 128, 128, 3)\n",
      "Batch labels shape: (16, 1)\n",
      "Batch images shape: (16, 128, 128, 3)\n",
      "Batch labels shape: (16, 1)\n",
      "Batch images shape: (16, 128, 128, 3)\n",
      "Batch labels shape: (16, 1)\n",
      "Batch images shape: (16, 128, 128, 3)\n",
      "Batch labels shape: (16, 1)\n"
     ]
    },
    {
     "name": "stderr",
     "output_type": "stream",
     "text": [
      "Processing Non-Demented:  96%|██████████████████████████████████████████████████  | 3081/3200 [00:09<00:00, 382.42it/s]"
     ]
    },
    {
     "name": "stdout",
     "output_type": "stream",
     "text": [
      "Batch images shape: (16, 128, 128, 3)\n",
      "Batch labels shape: (16, 1)\n",
      "Batch images shape: (16, 128, 128, 3)\n",
      "Batch labels shape: (16, 1)\n",
      "Batch images shape: (16, 128, 128, 3)\n",
      "Batch labels shape: (16, 1)\n",
      "Batch images shape: (16, 128, 128, 3)\n",
      "Batch labels shape: (16, 1)\n",
      "Batch images shape: (16, 128, 128, 3)\n",
      "Batch labels shape: (16, 1)\n"
     ]
    },
    {
     "name": "stderr",
     "output_type": "stream",
     "text": [
      "Processing Non-Demented:  99%|███████████████████████████████████████████████████▎| 3159/3200 [00:09<00:00, 381.04it/s]"
     ]
    },
    {
     "name": "stdout",
     "output_type": "stream",
     "text": [
      "Batch images shape: (16, 128, 128, 3)\n",
      "Batch labels shape: (16, 1)\n",
      "Batch images shape: (16, 128, 128, 3)\n",
      "Batch labels shape: (16, 1)\n",
      "Batch images shape: (16, 128, 128, 3)\n",
      "Batch labels shape: (16, 1)\n",
      "Batch images shape: (16, 128, 128, 3)\n",
      "Batch labels shape: (16, 1)\n",
      "Batch images shape: (16, 128, 128, 3)\n",
      "Batch labels shape: (16, 1)\n"
     ]
    },
    {
     "name": "stderr",
     "output_type": "stream",
     "text": [
      "Processing Non-Demented: 100%|████████████████████████████████████████████████████| 3200/3200 [00:09<00:00, 325.93it/s]\n"
     ]
    },
    {
     "name": "stdout",
     "output_type": "stream",
     "text": [
      "Batch images shape: (16, 128, 128, 3)\n",
      "Batch labels shape: (16, 1)\n"
     ]
    },
    {
     "name": "stderr",
     "output_type": "stream",
     "text": [
      "Processing VeryMild-Demented:   2%|█▏                                               | 52/2240 [00:00<00:08, 246.88it/s]"
     ]
    },
    {
     "name": "stdout",
     "output_type": "stream",
     "text": [
      "Batch images shape: (16, 128, 128, 3)\n",
      "Batch labels shape: (16, 1)\n",
      "Batch images shape: (16, 128, 128, 3)\n",
      "Batch labels shape: (16, 1)\n",
      "Batch images shape: (16, 128, 128, 3)\n",
      "Batch labels shape: (16, 1)\n",
      "Batch images shape: (16, 128, 128, 3)\n",
      "Batch labels shape: (16, 1)\n"
     ]
    },
    {
     "name": "stderr",
     "output_type": "stream",
     "text": [
      "Processing VeryMild-Demented:   5%|██▍                                             | 111/2240 [00:00<00:07, 275.40it/s]"
     ]
    },
    {
     "name": "stdout",
     "output_type": "stream",
     "text": [
      "Batch images shape: (16, 128, 128, 3)\n",
      "Batch labels shape: (16, 1)\n",
      "Batch images shape: (16, 128, 128, 3)\n",
      "Batch labels shape: (16, 1)\n",
      "Batch images shape: (16, 128, 128, 3)\n",
      "Batch labels shape: (16, 1)\n",
      "Batch images shape: (16, 128, 128, 3)\n",
      "Batch labels shape: (16, 1)\n"
     ]
    },
    {
     "name": "stderr",
     "output_type": "stream",
     "text": [
      "Processing VeryMild-Demented:   9%|████▏                                           | 196/2240 [00:00<00:07, 275.54it/s]"
     ]
    },
    {
     "name": "stdout",
     "output_type": "stream",
     "text": [
      "Batch images shape: (16, 128, 128, 3)\n",
      "Batch labels shape: (16, 1)\n",
      "Batch images shape: (16, 128, 128, 3)\n",
      "Batch labels shape: (16, 1)\n",
      "Batch images shape: (16, 128, 128, 3)\n",
      "Batch labels shape: (16, 1)\n",
      "Batch images shape: (16, 128, 128, 3)\n",
      "Batch labels shape: (16, 1)\n"
     ]
    },
    {
     "name": "stderr",
     "output_type": "stream",
     "text": [
      "Processing VeryMild-Demented:  11%|█████▍                                          | 256/2240 [00:00<00:06, 284.27it/s]"
     ]
    },
    {
     "name": "stdout",
     "output_type": "stream",
     "text": [
      "Batch images shape: (16, 128, 128, 3)\n",
      "Batch labels shape: (16, 1)\n",
      "Batch images shape: (16, 128, 128, 3)\n",
      "Batch labels shape: (16, 1)\n",
      "Batch images shape: (16, 128, 128, 3)\n",
      "Batch labels shape: (16, 1)\n",
      "Batch images shape: (16, 128, 128, 3)\n",
      "Batch labels shape: (16, 1)\n"
     ]
    },
    {
     "name": "stderr",
     "output_type": "stream",
     "text": [
      "Processing VeryMild-Demented:  14%|██████▋                                         | 314/2240 [00:01<00:06, 282.85it/s]"
     ]
    },
    {
     "name": "stdout",
     "output_type": "stream",
     "text": [
      "Batch images shape: (16, 128, 128, 3)\n",
      "Batch labels shape: (16, 1)\n",
      "Batch images shape: (16, 128, 128, 3)\n",
      "Batch labels shape: (16, 1)\n",
      "Batch images shape: (16, 128, 128, 3)\n",
      "Batch labels shape: (16, 1)\n",
      "Batch images shape: (16, 128, 128, 3)\n",
      "Batch labels shape: (16, 1)\n"
     ]
    },
    {
     "name": "stderr",
     "output_type": "stream",
     "text": [
      "Processing VeryMild-Demented:  17%|███████▉                                        | 373/2240 [00:01<00:06, 278.68it/s]"
     ]
    },
    {
     "name": "stdout",
     "output_type": "stream",
     "text": [
      "Batch images shape: (16, 128, 128, 3)\n",
      "Batch labels shape: (16, 1)\n",
      "Batch images shape: (16, 128, 128, 3)\n",
      "Batch labels shape: (16, 1)\n",
      "Batch images shape: (16, 128, 128, 3)\n",
      "Batch labels shape: (16, 1)\n",
      "Batch images shape: (16, 128, 128, 3)\n",
      "Batch labels shape: (16, 1)\n"
     ]
    },
    {
     "name": "stderr",
     "output_type": "stream",
     "text": [
      "Processing VeryMild-Demented:  21%|██████████                                      | 472/2240 [00:01<00:05, 313.41it/s]"
     ]
    },
    {
     "name": "stdout",
     "output_type": "stream",
     "text": [
      "Batch images shape: (16, 128, 128, 3)\n",
      "Batch labels shape: (16, 1)\n",
      "Batch images shape: (16, 128, 128, 3)\n",
      "Batch labels shape: (16, 1)\n",
      "Batch images shape: (16, 128, 128, 3)\n",
      "Batch labels shape: (16, 1)\n",
      "Batch images shape: (16, 128, 128, 3)\n",
      "Batch labels shape: (16, 1)\n",
      "Batch images shape: (16, 128, 128, 3)\n",
      "Batch labels shape: (16, 1)\n"
     ]
    },
    {
     "name": "stderr",
     "output_type": "stream",
     "text": [
      "Processing VeryMild-Demented:  24%|███████████▌                                    | 541/2240 [00:01<00:05, 329.54it/s]"
     ]
    },
    {
     "name": "stdout",
     "output_type": "stream",
     "text": [
      "Batch images shape: (16, 128, 128, 3)\n",
      "Batch labels shape: (16, 1)\n",
      "Batch images shape: (16, 128, 128, 3)\n",
      "Batch labels shape: (16, 1)\n",
      "Batch images shape: (16, 128, 128, 3)\n",
      "Batch labels shape: (16, 1)\n",
      "Batch images shape: (16, 128, 128, 3)\n",
      "Batch labels shape: (16, 1)\n",
      "Batch images shape: (16, 128, 128, 3)\n",
      "Batch labels shape: (16, 1)\n"
     ]
    },
    {
     "name": "stderr",
     "output_type": "stream",
     "text": [
      "Processing VeryMild-Demented:  27%|████████████▉                                   | 606/2240 [00:02<00:05, 285.25it/s]"
     ]
    },
    {
     "name": "stdout",
     "output_type": "stream",
     "text": [
      "Batch images shape: (16, 128, 128, 3)\n",
      "Batch labels shape: (16, 1)\n",
      "Batch images shape: (16, 128, 128, 3)\n",
      "Batch labels shape: (16, 1)\n",
      "Batch images shape: (16, 128, 128, 3)\n",
      "Batch labels shape: (16, 1)\n"
     ]
    },
    {
     "name": "stderr",
     "output_type": "stream",
     "text": [
      "Processing VeryMild-Demented:  28%|█████████████▋                                  | 636/2240 [00:02<00:06, 242.92it/s]"
     ]
    },
    {
     "name": "stdout",
     "output_type": "stream",
     "text": [
      "Batch images shape: (16, 128, 128, 3)\n",
      "Batch labels shape: (16, 1)\n",
      "Batch images shape: (16, 128, 128, 3)\n",
      "Batch labels shape: (16, 1)\n",
      "Batch images shape: (16, 128, 128, 3)\n",
      "Batch labels shape: (16, 1)\n"
     ]
    },
    {
     "name": "stderr",
     "output_type": "stream",
     "text": [
      "Processing VeryMild-Demented:  32%|███████████████▏                                | 709/2240 [00:02<00:05, 287.28it/s]"
     ]
    },
    {
     "name": "stdout",
     "output_type": "stream",
     "text": [
      "Batch images shape: (16, 128, 128, 3)\n",
      "Batch labels shape: (16, 1)\n",
      "Batch images shape: (16, 128, 128, 3)\n",
      "Batch labels shape: (16, 1)\n",
      "Batch images shape: (16, 128, 128, 3)\n",
      "Batch labels shape: (16, 1)\n",
      "Batch images shape: (16, 128, 128, 3)\n",
      "Batch labels shape: (16, 1)\n",
      "Batch images shape: (16, 128, 128, 3)\n",
      "Batch labels shape: (16, 1)\n",
      "Batch images shape: (16, 128, 128, 3)\n",
      "Batch labels shape: (16, 1)\n"
     ]
    },
    {
     "name": "stderr",
     "output_type": "stream",
     "text": [
      "Processing VeryMild-Demented:  35%|█████████████████                               | 795/2240 [00:02<00:04, 353.58it/s]"
     ]
    },
    {
     "name": "stdout",
     "output_type": "stream",
     "text": [
      "Batch images shape: (16, 128, 128, 3)\n",
      "Batch labels shape: (16, 1)\n",
      "Batch images shape: (16, 128, 128, 3)\n",
      "Batch labels shape: (16, 1)\n",
      "Batch images shape: (16, 128, 128, 3)\n",
      "Batch labels shape: (16, 1)\n",
      "Batch images shape: (16, 128, 128, 3)\n",
      "Batch labels shape: (16, 1)\n",
      "Batch images shape: (16, 128, 128, 3)\n",
      "Batch labels shape: (16, 1)\n",
      "Batch images shape: (16, 128, 128, 3)\n",
      "Batch labels shape: (16, 1)\n"
     ]
    },
    {
     "name": "stderr",
     "output_type": "stream",
     "text": [
      "Processing VeryMild-Demented:  38%|██████████████████                              | 840/2240 [00:02<00:03, 378.89it/s]"
     ]
    },
    {
     "name": "stdout",
     "output_type": "stream",
     "text": [
      "Batch images shape: (16, 128, 128, 3)\n",
      "Batch labels shape: (16, 1)\n",
      "Batch images shape: (16, 128, 128, 3)\n",
      "Batch labels shape: (16, 1)\n"
     ]
    },
    {
     "name": "stderr",
     "output_type": "stream",
     "text": [
      "Processing VeryMild-Demented:  41%|███████████████████▌                            | 912/2240 [00:03<00:06, 197.01it/s]"
     ]
    },
    {
     "name": "stdout",
     "output_type": "stream",
     "text": [
      "Batch images shape: (16, 128, 128, 3)\n",
      "Batch labels shape: (16, 1)\n",
      "Batch images shape: (16, 128, 128, 3)\n",
      "Batch labels shape: (16, 1)\n",
      "Batch images shape: (16, 128, 128, 3)\n",
      "Batch labels shape: (16, 1)\n",
      "Batch images shape: (16, 128, 128, 3)\n",
      "Batch labels shape: (16, 1)\n",
      "Batch images shape: (16, 128, 128, 3)\n",
      "Batch labels shape: (16, 1)\n"
     ]
    },
    {
     "name": "stderr",
     "output_type": "stream",
     "text": [
      "Processing VeryMild-Demented:  44%|█████████████████████▎                          | 992/2240 [00:03<00:04, 264.06it/s]"
     ]
    },
    {
     "name": "stdout",
     "output_type": "stream",
     "text": [
      "Batch images shape: (16, 128, 128, 3)\n",
      "Batch labels shape: (16, 1)\n",
      "Batch images shape: (16, 128, 128, 3)\n",
      "Batch labels shape: (16, 1)\n",
      "Batch images shape: (16, 128, 128, 3)\n",
      "Batch labels shape: (16, 1)\n",
      "Batch images shape: (16, 128, 128, 3)\n",
      "Batch labels shape: (16, 1)\n"
     ]
    },
    {
     "name": "stderr",
     "output_type": "stream",
     "text": [
      "Processing VeryMild-Demented:  47%|██████████████████████▏                        | 1058/2240 [00:03<00:04, 239.95it/s]"
     ]
    },
    {
     "name": "stdout",
     "output_type": "stream",
     "text": [
      "Batch images shape: (16, 128, 128, 3)\n",
      "Batch labels shape: (16, 1)\n",
      "Batch images shape: (16, 128, 128, 3)\n",
      "Batch labels shape: (16, 1)\n",
      "Batch images shape: (16, 128, 128, 3)\n",
      "Batch labels shape: (16, 1)\n"
     ]
    },
    {
     "name": "stderr",
     "output_type": "stream",
     "text": [
      "Processing VeryMild-Demented:  48%|██████████████████████▊                        | 1086/2240 [00:04<00:05, 229.53it/s]"
     ]
    },
    {
     "name": "stdout",
     "output_type": "stream",
     "text": [
      "Batch images shape: (16, 128, 128, 3)\n",
      "Batch labels shape: (16, 1)\n",
      "Batch images shape: (16, 128, 128, 3)\n",
      "Batch labels shape: (16, 1)\n",
      "Batch images shape: (16, 128, 128, 3)\n",
      "Batch labels shape: (16, 1)\n"
     ]
    },
    {
     "name": "stderr",
     "output_type": "stream",
     "text": [
      "Processing VeryMild-Demented:  54%|█████████████████████████▏                     | 1200/2240 [00:04<00:03, 310.21it/s]"
     ]
    },
    {
     "name": "stdout",
     "output_type": "stream",
     "text": [
      "Batch images shape: (16, 128, 128, 3)\n",
      "Batch labels shape: (16, 1)\n",
      "Batch images shape: (16, 128, 128, 3)\n",
      "Batch labels shape: (16, 1)\n",
      "Batch images shape: (16, 128, 128, 3)\n",
      "Batch labels shape: (16, 1)\n",
      "Batch images shape: (16, 128, 128, 3)\n",
      "Batch labels shape: (16, 1)\n",
      "Batch images shape: (16, 128, 128, 3)\n",
      "Batch labels shape: (16, 1)\n",
      "Batch images shape: (16, 128, 128, 3)\n",
      "Batch labels shape: (16, 1)\n"
     ]
    },
    {
     "name": "stderr",
     "output_type": "stream",
     "text": [
      "Processing VeryMild-Demented:  58%|███████████████████████████▎                   | 1303/2240 [00:04<00:02, 403.57it/s]"
     ]
    },
    {
     "name": "stdout",
     "output_type": "stream",
     "text": [
      "Batch images shape: (16, 128, 128, 3)\n",
      "Batch labels shape: (16, 1)\n",
      "Batch images shape: (16, 128, 128, 3)\n",
      "Batch labels shape: (16, 1)\n",
      "Batch images shape: (16, 128, 128, 3)\n",
      "Batch labels shape: (16, 1)\n",
      "Batch images shape: (16, 128, 128, 3)\n",
      "Batch labels shape: (16, 1)\n",
      "Batch images shape: (16, 128, 128, 3)\n",
      "Batch labels shape: (16, 1)\n",
      "Batch images shape: (16, 128, 128, 3)\n",
      "Batch labels shape: (16, 1)\n",
      "Batch images shape: (16, 128, 128, 3)\n",
      "Batch labels shape: (16, 1)\n"
     ]
    },
    {
     "name": "stderr",
     "output_type": "stream",
     "text": [
      "Processing VeryMild-Demented:  63%|█████████████████████████████▍                 | 1404/2240 [00:04<00:01, 446.25it/s]"
     ]
    },
    {
     "name": "stdout",
     "output_type": "stream",
     "text": [
      "Batch images shape: (16, 128, 128, 3)\n",
      "Batch labels shape: (16, 1)\n",
      "Batch images shape: (16, 128, 128, 3)\n",
      "Batch labels shape: (16, 1)\n",
      "Batch images shape: (16, 128, 128, 3)\n",
      "Batch labels shape: (16, 1)\n",
      "Batch images shape: (16, 128, 128, 3)\n",
      "Batch labels shape: (16, 1)\n",
      "Batch images shape: (16, 128, 128, 3)\n",
      "Batch labels shape: (16, 1)\n",
      "Batch images shape: (16, 128, 128, 3)\n",
      "Batch labels shape: (16, 1)\n",
      "Batch images shape: (16, 128, 128, 3)\n",
      "Batch labels shape: (16, 1)\n"
     ]
    },
    {
     "name": "stderr",
     "output_type": "stream",
     "text": [
      "Processing VeryMild-Demented:  67%|███████████████████████████████▍               | 1496/2240 [00:05<00:01, 444.47it/s]"
     ]
    },
    {
     "name": "stdout",
     "output_type": "stream",
     "text": [
      "Batch images shape: (16, 128, 128, 3)\n",
      "Batch labels shape: (16, 1)\n",
      "Batch images shape: (16, 128, 128, 3)\n",
      "Batch labels shape: (16, 1)\n",
      "Batch images shape: (16, 128, 128, 3)\n",
      "Batch labels shape: (16, 1)\n",
      "Batch images shape: (16, 128, 128, 3)\n",
      "Batch labels shape: (16, 1)\n",
      "Batch images shape: (16, 128, 128, 3)\n",
      "Batch labels shape: (16, 1)\n",
      "Batch images shape: (16, 128, 128, 3)\n",
      "Batch labels shape: (16, 1)\n"
     ]
    },
    {
     "name": "stderr",
     "output_type": "stream",
     "text": [
      "Processing VeryMild-Demented:  71%|█████████████████████████████████▎             | 1590/2240 [00:05<00:01, 450.99it/s]"
     ]
    },
    {
     "name": "stdout",
     "output_type": "stream",
     "text": [
      "Batch images shape: (16, 128, 128, 3)\n",
      "Batch labels shape: (16, 1)\n",
      "Batch images shape: (16, 128, 128, 3)\n",
      "Batch labels shape: (16, 1)\n",
      "Batch images shape: (16, 128, 128, 3)\n",
      "Batch labels shape: (16, 1)\n",
      "Batch images shape: (16, 128, 128, 3)\n",
      "Batch labels shape: (16, 1)\n",
      "Batch images shape: (16, 128, 128, 3)\n",
      "Batch labels shape: (16, 1)\n",
      "Batch images shape: (16, 128, 128, 3)\n",
      "Batch labels shape: (16, 1)\n",
      "Batch images shape: (16, 128, 128, 3)\n",
      "Batch labels shape: (16, 1)\n"
     ]
    },
    {
     "name": "stderr",
     "output_type": "stream",
     "text": [
      "Processing VeryMild-Demented:  75%|███████████████████████████████████▍           | 1687/2240 [00:05<00:01, 419.06it/s]"
     ]
    },
    {
     "name": "stdout",
     "output_type": "stream",
     "text": [
      "Batch images shape: (16, 128, 128, 3)\n",
      "Batch labels shape: (16, 1)\n",
      "Batch images shape: (16, 128, 128, 3)\n",
      "Batch labels shape: (16, 1)\n",
      "Batch images shape: (16, 128, 128, 3)\n",
      "Batch labels shape: (16, 1)\n",
      "Batch images shape: (16, 128, 128, 3)\n",
      "Batch labels shape: (16, 1)\n",
      "Batch images shape: (16, 128, 128, 3)\n",
      "Batch labels shape: (16, 1)\n"
     ]
    },
    {
     "name": "stderr",
     "output_type": "stream",
     "text": [
      "Processing VeryMild-Demented:  79%|█████████████████████████████████████▎         | 1780/2240 [00:05<00:01, 440.05it/s]"
     ]
    },
    {
     "name": "stdout",
     "output_type": "stream",
     "text": [
      "Batch images shape: (16, 128, 128, 3)\n",
      "Batch labels shape: (16, 1)\n",
      "Batch images shape: (16, 128, 128, 3)\n",
      "Batch labels shape: (16, 1)\n",
      "Batch images shape: (16, 128, 128, 3)\n",
      "Batch labels shape: (16, 1)\n",
      "Batch images shape: (16, 128, 128, 3)\n",
      "Batch labels shape: (16, 1)\n",
      "Batch images shape: (16, 128, 128, 3)\n",
      "Batch labels shape: (16, 1)\n",
      "Batch images shape: (16, 128, 128, 3)\n",
      "Batch labels shape: (16, 1)\n"
     ]
    },
    {
     "name": "stderr",
     "output_type": "stream",
     "text": [
      "Processing VeryMild-Demented:  84%|███████████████████████████████████████▎       | 1873/2240 [00:05<00:00, 417.19it/s]"
     ]
    },
    {
     "name": "stdout",
     "output_type": "stream",
     "text": [
      "Batch images shape: (16, 128, 128, 3)\n",
      "Batch labels shape: (16, 1)\n",
      "Batch images shape: (16, 128, 128, 3)\n",
      "Batch labels shape: (16, 1)\n",
      "Batch images shape: (16, 128, 128, 3)\n",
      "Batch labels shape: (16, 1)\n",
      "Batch images shape: (16, 128, 128, 3)\n",
      "Batch labels shape: (16, 1)\n",
      "Batch images shape: (16, 128, 128, 3)\n",
      "Batch labels shape: (16, 1)\n"
     ]
    },
    {
     "name": "stderr",
     "output_type": "stream",
     "text": [
      "Processing VeryMild-Demented:  88%|█████████████████████████████████████████▎     | 1966/2240 [00:06<00:00, 428.94it/s]"
     ]
    },
    {
     "name": "stdout",
     "output_type": "stream",
     "text": [
      "Batch images shape: (16, 128, 128, 3)\n",
      "Batch labels shape: (16, 1)\n",
      "Batch images shape: (16, 128, 128, 3)\n",
      "Batch labels shape: (16, 1)\n",
      "Batch images shape: (16, 128, 128, 3)\n",
      "Batch labels shape: (16, 1)\n",
      "Batch images shape: (16, 128, 128, 3)\n",
      "Batch labels shape: (16, 1)\n",
      "Batch images shape: (16, 128, 128, 3)\n",
      "Batch labels shape: (16, 1)\n",
      "Batch images shape: (16, 128, 128, 3)\n",
      "Batch labels shape: (16, 1)\n",
      "Batch images shape: (16, 128, 128, 3)\n",
      "Batch labels shape: (16, 1)\n"
     ]
    },
    {
     "name": "stderr",
     "output_type": "stream",
     "text": [
      "Processing VeryMild-Demented:  92%|███████████████████████████████████████████    | 2055/2240 [00:06<00:00, 422.08it/s]"
     ]
    },
    {
     "name": "stdout",
     "output_type": "stream",
     "text": [
      "Batch images shape: (16, 128, 128, 3)\n",
      "Batch labels shape: (16, 1)\n",
      "Batch images shape: (16, 128, 128, 3)\n",
      "Batch labels shape: (16, 1)\n",
      "Batch images shape: (16, 128, 128, 3)\n",
      "Batch labels shape: (16, 1)\n",
      "Batch images shape: (16, 128, 128, 3)\n",
      "Batch labels shape: (16, 1)\n",
      "Batch images shape: (16, 128, 128, 3)\n",
      "Batch labels shape: (16, 1)\n"
     ]
    },
    {
     "name": "stderr",
     "output_type": "stream",
     "text": [
      "Processing VeryMild-Demented:  96%|████████████████████████████████████████████▉  | 2140/2240 [00:06<00:00, 406.98it/s]"
     ]
    },
    {
     "name": "stdout",
     "output_type": "stream",
     "text": [
      "Batch images shape: (16, 128, 128, 3)\n",
      "Batch labels shape: (16, 1)\n",
      "Batch images shape: (16, 128, 128, 3)\n",
      "Batch labels shape: (16, 1)\n",
      "Batch images shape: (16, 128, 128, 3)\n",
      "Batch labels shape: (16, 1)\n",
      "Batch images shape: (16, 128, 128, 3)\n",
      "Batch labels shape: (16, 1)\n",
      "Batch images shape: (16, 128, 128, 3)\n",
      "Batch labels shape: (16, 1)\n"
     ]
    },
    {
     "name": "stderr",
     "output_type": "stream",
     "text": [
      "Processing VeryMild-Demented: 100%|███████████████████████████████████████████████| 2240/2240 [00:06<00:00, 327.11it/s]"
     ]
    },
    {
     "name": "stdout",
     "output_type": "stream",
     "text": [
      "Batch images shape: (16, 128, 128, 3)\n",
      "Batch labels shape: (16, 1)\n",
      "Batch images shape: (16, 128, 128, 3)\n",
      "Batch labels shape: (16, 1)\n",
      "Batch images shape: (16, 128, 128, 3)\n",
      "Batch labels shape: (16, 1)\n",
      "Batch images shape: (16, 128, 128, 3)\n",
      "Batch labels shape: (16, 1)\n",
      "Batch images shape: (16, 128, 128, 3)\n",
      "Batch labels shape: (16, 1)\n"
     ]
    },
    {
     "name": "stderr",
     "output_type": "stream",
     "text": [
      "\n"
     ]
    }
   ],
   "source": [
    "import os\n",
    "import numpy as np\n",
    "import cv2\n",
    "from sklearn.preprocessing import LabelBinarizer\n",
    "from tqdm import tqdm\n",
    "\n",
    "# Set directories\n",
    "base_dir = \"C:\\\\Users\\\\HP\\\\Downloads\\\\Dataset_Alzheimer23\"\n",
    "class_dirs = {\n",
    "    \"Mild-Demented\": os.path.join(base_dir, \"Mild_Demented\"),\n",
    "    \"Moderate-Demented\": os.path.join(base_dir, \"Moderate_Demented\"),\n",
    "    \"Non-Demented\": os.path.join(base_dir, \"Non_Demented\"),\n",
    "    \"VeryMild-Demented\": os.path.join(base_dir, \"Very_Mild_Demented\")\n",
    "}\n",
    "\n",
    "# Define preprocessing parameters\n",
    "target_size = (128, 128)  # Standardized size for CNN-SVM\n",
    "batch_size = 16  # Matches typical model input batch size\n",
    "\n",
    "# Initialize LabelBinarizer\n",
    "lb = LabelBinarizer()\n",
    "lb.fit([\"Demented\", \"Non-Demented\"])  # Fit only once globally\n",
    "\n",
    "# Generator function to yield batches\n",
    "def image_generator():\n",
    "    images = []\n",
    "    labels = []\n",
    "    valid_extensions = (\".jpg\", \".png\", \".jpeg\")\n",
    "\n",
    "    for class_name, class_dir in class_dirs.items():\n",
    "        for img_file in tqdm(os.listdir(class_dir), desc=f'Processing {class_name}'):\n",
    "            if not img_file.lower().endswith(valid_extensions):\n",
    "                continue  # Skip non-image files\n",
    "            \n",
    "            img_path = os.path.join(class_dir, img_file)\n",
    "            img = cv2.imread(img_path)\n",
    "\n",
    "            # Resize using bicubic interpolation\n",
    "            img_resized = cv2.resize(img, target_size, interpolation=cv2.INTER_CUBIC)\n",
    "\n",
    "            # Convert to grayscale\n",
    "            img_gray = cv2.cvtColor(img_resized, cv2.COLOR_BGR2GRAY)\n",
    "\n",
    "            # Apply global histogram equalization (better for CNN-SVM)\n",
    "            img_eq = cv2.equalizeHist(img_gray)\n",
    "\n",
    "            # Standardize using mean-std normalization (better for CNN-SVM)\n",
    "            img_standardized = (img_eq - np.mean(img_eq)) / np.std(img_eq)\n",
    "\n",
    "            # Convert back to 3-channel format for CNN models\n",
    "            img_final = cv2.cvtColor(img_standardized.astype(np.uint8), cv2.COLOR_GRAY2BGR)\n",
    "\n",
    "            # Assign labels\n",
    "            label = \"Demented\" if class_name in [\"Mild-Demented\", \"Moderate-Demented\", \"VeryMild-Demented\"] else \"Non-Demented\"\n",
    "\n",
    "            images.append(img_final)\n",
    "            labels.append(label)\n",
    "\n",
    "            # Yield batch\n",
    "            if len(images) == batch_size:\n",
    "                yield np.array(images), lb.transform(labels)\n",
    "                images, labels = [], []  # Reset for next batch\n",
    "\n",
    "    # Yield remaining images if any\n",
    "    if images:\n",
    "        yield np.array(images), lb.transform(labels)\n",
    "\n",
    "# Example usage\n",
    "for batch_images, batch_labels in image_generator():\n",
    "    print(f\"Batch images shape: {batch_images.shape}\")\n",
    "    print(f\"Batch labels shape: {batch_labels.shape}\")\n"
   ]
  },
  {
   "cell_type": "code",
   "execution_count": 1,
   "id": "c2286c16-070e-468f-af08-1f009ee59a44",
   "metadata": {},
   "outputs": [
    {
     "name": "stderr",
     "output_type": "stream",
     "text": [
      "Copying to C:\\Users\\HP\\Downloads\\Alzheimer_Feb_Sunday\\train\\Demented: 100%|███████| 2560/2560 [00:06<00:00, 380.64it/s]\n",
      "Copying to C:\\Users\\HP\\Downloads\\Alzheimer_Feb_Sunday\\test\\Demented: 100%|██████████| 640/640 [00:01<00:00, 422.07it/s]\n",
      "Copying to C:\\Users\\HP\\Downloads\\Alzheimer_Feb_Sunday\\train\\Non-Demented: 100%|███| 2560/2560 [00:07<00:00, 355.81it/s]\n",
      "Copying to C:\\Users\\HP\\Downloads\\Alzheimer_Feb_Sunday\\test\\Non-Demented: 100%|██████| 640/640 [00:01<00:00, 431.65it/s]\n",
      "Loading 1 images: 100%|██████████████████████████████████████████████████████████| 2560/2560 [00:01<00:00, 1691.76it/s]\n",
      "Loading 0 images: 100%|██████████████████████████████████████████████████████████| 2560/2560 [00:01<00:00, 1552.36it/s]\n",
      "Loading 1 images: 100%|████████████████████████████████████████████████████████████| 640/640 [00:00<00:00, 1865.71it/s]\n",
      "Loading 0 images: 100%|████████████████████████████████████████████████████████████| 640/640 [00:00<00:00, 1418.56it/s]\n"
     ]
    },
    {
     "name": "stdout",
     "output_type": "stream",
     "text": [
      "Train: Demented=2560, Non-Demented=2560\n",
      "Test: Demented=640, Non-Demented=640\n",
      "Dataset preparation complete!\n"
     ]
    }
   ],
   "source": [
    "import os\n",
    "import shutil\n",
    "import random\n",
    "import numpy as np\n",
    "from tqdm import tqdm\n",
    "from PIL import Image\n",
    "\n",
    "# Define directories\n",
    "base_dir = \"C:\\\\Users\\\\HP\\\\Downloads\\\\Dataset_Alzheimer23\"\n",
    "new_base_dir = \"C:\\\\Users\\\\HP\\\\Downloads\\\\Alzheimer_Feb_Sunday\"\n",
    "train_dir, test_dir = os.path.join(new_base_dir, \"train\"), os.path.join(new_base_dir, \"test\")\n",
    "\n",
    "# Define class directories\n",
    "classes = {\"Demented\": [\"Mild_Demented\", \"Moderate_Demented\", \"Very_Mild_Demented\"], \"Non-Demented\": [\"Non_Demented\"]}\n",
    "source_dirs = {label: [os.path.join(base_dir, subdir) for subdir in subdirs] for label, subdirs in classes.items()}\n",
    "\n",
    "# Create train/test directories\n",
    "for label in classes.keys():\n",
    "    os.makedirs(os.path.join(train_dir, label), exist_ok=True)\n",
    "    os.makedirs(os.path.join(test_dir, label), exist_ok=True)\n",
    "\n",
    "# Function to shuffle, split, and copy images\n",
    "def split_and_copy_images(source_dirs, train_path, test_path, split_ratio=0.8):\n",
    "    all_images = []\n",
    "    valid_extensions = (\".jpg\", \".png\", \".jpeg\")\n",
    "    \n",
    "    for source_dir in source_dirs:\n",
    "        all_images.extend([os.path.join(source_dir, img) for img in os.listdir(source_dir) if img.lower().endswith(valid_extensions)])\n",
    "    \n",
    "    random.shuffle(all_images)\n",
    "    split_point = int(len(all_images) * split_ratio)\n",
    "    train_images, test_images = all_images[:split_point], all_images[split_point:]\n",
    "\n",
    "    for img_path in tqdm(train_images, desc=f'Copying to {train_path}'):\n",
    "        shutil.copy2(img_path, train_path)\n",
    "    for img_path in tqdm(test_images, desc=f'Copying to {test_path}'):\n",
    "        shutil.copy2(img_path, test_path)\n",
    "\n",
    "    return train_images, test_images\n",
    "\n",
    "# Split data\n",
    "train_data, test_data = {}, {}\n",
    "for label in classes.keys():\n",
    "    train_data[label], test_data[label] = split_and_copy_images(source_dirs[label], os.path.join(train_dir, label), os.path.join(test_dir, label))\n",
    "\n",
    "# Function to load and preprocess images\n",
    "def load_images(image_paths, label, target_size=(128, 128)):\n",
    "    images, labels = [], []\n",
    "    \n",
    "    for img_path in tqdm(image_paths, desc=f'Loading {label} images'):\n",
    "        try:\n",
    "            img = Image.open(img_path).convert(\"RGB\").resize(target_size)\n",
    "            img_array = np.array(img)\n",
    "            images.append(img_array)\n",
    "            labels.append(label)\n",
    "        except Exception as e:\n",
    "            print(f\"Error loading {img_path}: {e}\")\n",
    "    \n",
    "    return np.array(images), np.array(labels)\n",
    "\n",
    "# Load train and test images\n",
    "X_train, y_train = zip(*[load_images(train_data[label], label=int(label == \"Demented\")) for label in classes.keys()])\n",
    "X_test, y_test = zip(*[load_images(test_data[label], label=int(label == \"Demented\")) for label in classes.keys()])\n",
    "\n",
    "# Convert to numpy arrays\n",
    "X_train, y_train = np.concatenate(X_train), np.concatenate(y_train)\n",
    "X_test, y_test = np.concatenate(X_test), np.concatenate(y_test)\n",
    "\n",
    "# Shuffle dataset\n",
    "shuffle_train, shuffle_test = np.random.permutation(len(X_train)), np.random.permutation(len(X_test))\n",
    "X_train, y_train = X_train[shuffle_train], y_train[shuffle_train]\n",
    "X_test, y_test = X_test[shuffle_test], y_test[shuffle_test]\n",
    "\n",
    "# Normalize images\n",
    "X_train, X_test = X_train.astype(\"float32\") / 255.0, X_test.astype(\"float32\") / 255.0\n",
    "\n",
    "# Print dataset summary\n",
    "print(f\"Train: Demented={sum(y_train)}, Non-Demented={len(y_train) - sum(y_train)}\")\n",
    "print(f\"Test: Demented={sum(y_test)}, Non-Demented={len(y_test) - sum(y_test)}\")\n",
    "print(\"Dataset preparation complete!\")\n"
   ]
  },
  {
   "cell_type": "code",
   "execution_count": 1,
   "id": "bc479e86-895d-4008-ab92-b5c44e247648",
   "metadata": {},
   "outputs": [
    {
     "name": "stdout",
     "output_type": "stream",
     "text": [
      "Epoch 1/20\n",
      "\u001b[1m160/160\u001b[0m \u001b[32m━━━━━━━━━━━━━━━━━━━━\u001b[0m\u001b[37m\u001b[0m \u001b[1m103s\u001b[0m 619ms/step - accuracy: 0.5196 - loss: 0.8793 - val_accuracy: 0.7117 - val_loss: 0.5977 - learning_rate: 0.0010\n",
      "Epoch 2/20\n",
      "\u001b[1m160/160\u001b[0m \u001b[32m━━━━━━━━━━━━━━━━━━━━\u001b[0m\u001b[37m\u001b[0m \u001b[1m103s\u001b[0m 640ms/step - accuracy: 0.6723 - loss: 0.6246 - val_accuracy: 0.7477 - val_loss: 0.5403 - learning_rate: 0.0010\n",
      "Epoch 3/20\n",
      "\u001b[1m160/160\u001b[0m \u001b[32m━━━━━━━━━━━━━━━━━━━━\u001b[0m\u001b[37m\u001b[0m \u001b[1m103s\u001b[0m 644ms/step - accuracy: 0.7139 - loss: 0.5650 - val_accuracy: 0.7781 - val_loss: 0.4692 - learning_rate: 0.0010\n",
      "Epoch 4/20\n",
      "\u001b[1m160/160\u001b[0m \u001b[32m━━━━━━━━━━━━━━━━━━━━\u001b[0m\u001b[37m\u001b[0m \u001b[1m98s\u001b[0m 613ms/step - accuracy: 0.7544 - loss: 0.4858 - val_accuracy: 0.7852 - val_loss: 0.4264 - learning_rate: 0.0010\n",
      "Epoch 5/20\n",
      "\u001b[1m160/160\u001b[0m \u001b[32m━━━━━━━━━━━━━━━━━━━━\u001b[0m\u001b[37m\u001b[0m \u001b[1m99s\u001b[0m 616ms/step - accuracy: 0.8287 - loss: 0.3689 - val_accuracy: 0.8523 - val_loss: 0.3322 - learning_rate: 0.0010\n",
      "Epoch 6/20\n",
      "\u001b[1m160/160\u001b[0m \u001b[32m━━━━━━━━━━━━━━━━━━━━\u001b[0m\u001b[37m\u001b[0m \u001b[1m99s\u001b[0m 619ms/step - accuracy: 0.8887 - loss: 0.2559 - val_accuracy: 0.9266 - val_loss: 0.1930 - learning_rate: 0.0010\n",
      "Epoch 7/20\n",
      "\u001b[1m160/160\u001b[0m \u001b[32m━━━━━━━━━━━━━━━━━━━━\u001b[0m\u001b[37m\u001b[0m \u001b[1m100s\u001b[0m 625ms/step - accuracy: 0.9404 - loss: 0.1461 - val_accuracy: 0.9500 - val_loss: 0.1253 - learning_rate: 0.0010\n",
      "Epoch 8/20\n",
      "\u001b[1m160/160\u001b[0m \u001b[32m━━━━━━━━━━━━━━━━━━━━\u001b[0m\u001b[37m\u001b[0m \u001b[1m98s\u001b[0m 612ms/step - accuracy: 0.9630 - loss: 0.0960 - val_accuracy: 0.9625 - val_loss: 0.1028 - learning_rate: 0.0010\n",
      "Epoch 9/20\n",
      "\u001b[1m160/160\u001b[0m \u001b[32m━━━━━━━━━━━━━━━━━━━━\u001b[0m\u001b[37m\u001b[0m \u001b[1m98s\u001b[0m 611ms/step - accuracy: 0.9818 - loss: 0.0525 - val_accuracy: 0.9789 - val_loss: 0.0689 - learning_rate: 0.0010\n",
      "Epoch 10/20\n",
      "\u001b[1m160/160\u001b[0m \u001b[32m━━━━━━━━━━━━━━━━━━━━\u001b[0m\u001b[37m\u001b[0m \u001b[1m100s\u001b[0m 623ms/step - accuracy: 0.9877 - loss: 0.0436 - val_accuracy: 0.9797 - val_loss: 0.0592 - learning_rate: 0.0010\n",
      "Epoch 11/20\n",
      "\u001b[1m160/160\u001b[0m \u001b[32m━━━━━━━━━━━━━━━━━━━━\u001b[0m\u001b[37m\u001b[0m \u001b[1m94s\u001b[0m 588ms/step - accuracy: 0.9852 - loss: 0.0387 - val_accuracy: 0.9727 - val_loss: 0.0859 - learning_rate: 0.0010\n",
      "Epoch 12/20\n",
      "\u001b[1m160/160\u001b[0m \u001b[32m━━━━━━━━━━━━━━━━━━━━\u001b[0m\u001b[37m\u001b[0m \u001b[1m95s\u001b[0m 596ms/step - accuracy: 0.9875 - loss: 0.0385 - val_accuracy: 0.9711 - val_loss: 0.0831 - learning_rate: 0.0010\n",
      "Epoch 13/20\n",
      "\u001b[1m160/160\u001b[0m \u001b[32m━━━━━━━━━━━━━━━━━━━━\u001b[0m\u001b[37m\u001b[0m \u001b[1m141s\u001b[0m 589ms/step - accuracy: 0.9878 - loss: 0.0379 - val_accuracy: 0.9688 - val_loss: 0.1079 - learning_rate: 0.0010\n",
      "Epoch 14/20\n",
      "\u001b[1m160/160\u001b[0m \u001b[32m━━━━━━━━━━━━━━━━━━━━\u001b[0m\u001b[37m\u001b[0m \u001b[1m94s\u001b[0m 588ms/step - accuracy: 0.9892 - loss: 0.0308 - val_accuracy: 0.9906 - val_loss: 0.0421 - learning_rate: 5.0000e-04\n",
      "Epoch 15/20\n",
      "\u001b[1m160/160\u001b[0m \u001b[32m━━━━━━━━━━━━━━━━━━━━\u001b[0m\u001b[37m\u001b[0m \u001b[1m95s\u001b[0m 593ms/step - accuracy: 0.9990 - loss: 0.0059 - val_accuracy: 0.9891 - val_loss: 0.0404 - learning_rate: 5.0000e-04\n",
      "Epoch 16/20\n",
      "\u001b[1m160/160\u001b[0m \u001b[32m━━━━━━━━━━━━━━━━━━━━\u001b[0m\u001b[37m\u001b[0m \u001b[1m94s\u001b[0m 588ms/step - accuracy: 0.9980 - loss: 0.0069 - val_accuracy: 0.9836 - val_loss: 0.0606 - learning_rate: 5.0000e-04\n",
      "Epoch 17/20\n",
      "\u001b[1m160/160\u001b[0m \u001b[32m━━━━━━━━━━━━━━━━━━━━\u001b[0m\u001b[37m\u001b[0m \u001b[1m97s\u001b[0m 607ms/step - accuracy: 0.9972 - loss: 0.0101 - val_accuracy: 0.9852 - val_loss: 0.0553 - learning_rate: 5.0000e-04\n",
      "Epoch 18/20\n",
      "\u001b[1m160/160\u001b[0m \u001b[32m━━━━━━━━━━━━━━━━━━━━\u001b[0m\u001b[37m\u001b[0m \u001b[1m93s\u001b[0m 581ms/step - accuracy: 0.9970 - loss: 0.0091 - val_accuracy: 0.9883 - val_loss: 0.0482 - learning_rate: 5.0000e-04\n",
      "Epoch 19/20\n",
      "\u001b[1m160/160\u001b[0m \u001b[32m━━━━━━━━━━━━━━━━━━━━\u001b[0m\u001b[37m\u001b[0m \u001b[1m98s\u001b[0m 612ms/step - accuracy: 0.9989 - loss: 0.0032 - val_accuracy: 0.9859 - val_loss: 0.0507 - learning_rate: 2.5000e-04\n",
      "Epoch 20/20\n",
      "\u001b[1m160/160\u001b[0m \u001b[32m━━━━━━━━━━━━━━━━━━━━\u001b[0m\u001b[37m\u001b[0m \u001b[1m99s\u001b[0m 621ms/step - accuracy: 0.9992 - loss: 0.0029 - val_accuracy: 0.9875 - val_loss: 0.0472 - learning_rate: 2.5000e-04\n",
      "\u001b[1m1/1\u001b[0m \u001b[32m━━━━━━━━━━━━━━━━━━━━\u001b[0m\u001b[37m\u001b[0m \u001b[1m0s\u001b[0m 274ms/step\n",
      "\u001b[1m160/160\u001b[0m \u001b[32m━━━━━━━━━━━━━━━━━━━━\u001b[0m\u001b[37m\u001b[0m \u001b[1m24s\u001b[0m 147ms/step\n",
      "\u001b[1m40/40\u001b[0m \u001b[32m━━━━━━━━━━━━━━━━━━━━\u001b[0m\u001b[37m\u001b[0m \u001b[1m6s\u001b[0m 153ms/step\n",
      "SVM Test Accuracy: 0.9898\n",
      "              precision    recall  f1-score   support\n",
      "\n",
      "           0       0.99      0.99      0.99       640\n",
      "           1       0.99      0.99      0.99       640\n",
      "\n",
      "    accuracy                           0.99      1280\n",
      "   macro avg       0.99      0.99      0.99      1280\n",
      "weighted avg       0.99      0.99      0.99      1280\n",
      "\n"
     ]
    },
    {
     "data": {
      "image/png": "[encoded data removed]",
      "text/plain": [
       "<Figure size 1200x500 with 2 Axes>"
      ]
     },
     "metadata": {},
     "output_type": "display_data"
    }
   ],
   "source": [
    "import numpy as np\n",
    "import tensorflow as tf\n",
    "from tensorflow import keras\n",
    "from tensorflow.keras import layers, callbacks\n",
    "from sklearn.svm import SVC\n",
    "from sklearn.metrics import accuracy_score, classification_report\n",
    "import matplotlib.pyplot as plt\n",
    "\n",
    "# Define CNN model for feature extraction\n",
    "def create_cnn(input_shape):\n",
    "    inputs = keras.Input(shape=input_shape)\n",
    "    x = layers.Conv2D(32, (3, 3), activation='relu')(inputs)\n",
    "    x = layers.MaxPooling2D((2, 2))(x)\n",
    "    x = layers.Conv2D(64, (3, 3), activation='relu')(x)\n",
    "    x = layers.MaxPooling2D((2, 2))(x)\n",
    "    x = layers.Conv2D(128, (3, 3), activation='relu')(x)\n",
    "    x = layers.MaxPooling2D((2, 2))(x)\n",
    "    x = layers.Flatten()(x)\n",
    "    x = layers.Dense(128, activation='relu')(x)\n",
    "    x = layers.Dropout(0.5)(x)\n",
    "    feature_layer = layers.Dense(64, activation='relu', name='feature_layer')(x)\n",
    "    outputs = layers.Dense(10, activation='softmax')(feature_layer)  # Ensure output layer for training\n",
    "    model = keras.Model(inputs=inputs, outputs=outputs)\n",
    "    return model\n",
    "\n",
    "# Load preprocessed dataset\n",
    "(X_train, y_train), (X_test, y_test) = (np.load('X_train.npy'), np.load('y_train.npy')), (np.load('X_test.npy'), np.load('y_test.npy'))\n",
    "input_shape = X_train.shape[1:]\n",
    "\n",
    "# Initialize and compile CNN\n",
    "cnn_model = create_cnn(input_shape)\n",
    "cnn_model.compile(optimizer='adam', loss='sparse_categorical_crossentropy', metrics=['accuracy'])\n",
    "\n",
    "# Callbacks for early stopping and reducing learning rate\n",
    "early_stopping = callbacks.EarlyStopping(monitor='val_loss', patience=5, restore_best_weights=True)\n",
    "reduce_lr = callbacks.ReduceLROnPlateau(monitor='val_loss', factor=0.5, patience=3, min_lr=1e-6)\n",
    "\n",
    "# Train CNN model\n",
    "history = cnn_model.fit(\n",
    "    X_train, y_train, epochs=20, batch_size=32, validation_data=(X_test, y_test),\n",
    "    callbacks=[early_stopping, reduce_lr]\n",
    ")\n",
    "\n",
    "# Ensure model is built before feature extraction\n",
    "cnn_model.predict(np.expand_dims(X_train[0], axis=0))  # Dummy forward pass\n",
    "\n",
    "# Extract features for SVM\n",
    "feature_extractor = keras.Model(inputs=cnn_model.input, outputs=cnn_model.get_layer('feature_layer').output)  # Extract from feature layer\n",
    "X_train_features = feature_extractor.predict(X_train)\n",
    "X_test_features = feature_extractor.predict(X_test)\n",
    "\n",
    "# Reshape extracted features for SVM\n",
    "X_train_features = X_train_features.reshape(X_train_features.shape[0], -1)\n",
    "X_test_features = X_test_features.reshape(X_test_features.shape[0], -1)\n",
    "\n",
    "# Train SVM classifier\n",
    "svm = SVC(kernel='rbf', C=1.0, gamma='scale')\n",
    "svm.fit(X_train_features, y_train)\n",
    "\n",
    "# Predictions and evaluation\n",
    "y_pred = svm.predict(X_test_features)\n",
    "accuracy = accuracy_score(y_test, y_pred)\n",
    "print(f'SVM Test Accuracy: {accuracy:.4f}')\n",
    "print(classification_report(y_test, y_pred))\n",
    "\n",
    "# Plot training accuracy and loss\n",
    "plt.figure(figsize=(12, 5))\n",
    "plt.subplot(1, 2, 1)\n",
    "plt.plot(history.history['accuracy'], label='Train Accuracy')\n",
    "plt.plot(history.history['val_accuracy'], label='Test Accuracy')\n",
    "plt.xlabel('Epochs')\n",
    "plt.ylabel('Accuracy')\n",
    "plt.legend()\n",
    "plt.title('Training & Validation Accuracy')\n",
    "\n",
    "plt.subplot(1, 2, 2)\n",
    "plt.plot(history.history['loss'], label='Train Loss')\n",
    "plt.plot(history.history['val_loss'], label='Test Loss')\n",
    "plt.xlabel('Epochs')\n",
    "plt.ylabel('Loss')\n",
    "plt.legend()\n",
    "plt.title('Training & Validation Loss')\n",
    "\n",
    "plt.show()\n"
   ]
  },
  {
   "cell_type": "code",
   "execution_count": 2,
   "id": "d759cf6c-6d39-41cf-8448-789b7b8cd0db",
   "metadata": {},
   "outputs": [
    {
     "data": {
      "image/png": "[encoded data removed]",
      "text/plain": [
       "<Figure size 1000x700 with 2 Axes>"
      ]
     },
     "metadata": {},
     "output_type": "display_data"
    }
   ],
   "source": [
    "from sklearn.metrics import confusion_matrix\n",
    "import seaborn as sns\n",
    "\n",
    "# Calculate the confusion matrix\n",
    "cm = confusion_matrix(y_test, y_pred)\n",
    "\n",
    "# Plot the confusion matrix\n",
    "plt.figure(figsize=(10, 7))\n",
    "sns.heatmap(cm, annot=True, fmt='d', cmap='Blues', xticklabels=np.unique(y_test), yticklabels=np.unique(y_test))\n",
    "plt.xlabel('Predicted Labels')\n",
    "plt.ylabel('True Labels')\n",
    "plt.title('Confusion Matrix')\n",
    "plt.show()\n"
   ]
  },
  {
   "cell_type": "code",
   "execution_count": 3,
   "id": "9aacaafc-ae71-4179-8d63-d304a61f59dd",
   "metadata": {},
   "outputs": [
    {
     "name": "stderr",
     "output_type": "stream",
     "text": [
      "C:\\Users\\HP\\AppData\\Local\\Programs\\Python\\Python311\\Lib\\site-packages\\keras\\src\\trainers\\data_adapters\\py_dataset_adapter.py:121: UserWarning: Your `PyDataset` class should call `super().__init__(**kwargs)` in its constructor. `**kwargs` can include `workers`, `use_multiprocessing`, `max_queue_size`. Do not pass these arguments to `fit()`, as they will be ignored.\n",
      "  self._warn_if_super_not_called()\n"
     ]
    },
    {
     "name": "stdout",
     "output_type": "stream",
     "text": [
      "Epoch 1/20\n",
      "\u001b[1m160/160\u001b[0m \u001b[32m━━━━━━━━━━━━━━━━━━━━\u001b[0m\u001b[37m\u001b[0m \u001b[1m99s\u001b[0m 589ms/step - accuracy: 0.4747 - loss: 0.9496 - val_accuracy: 0.5000 - val_loss: 0.7315 - learning_rate: 0.0010\n",
      "Epoch 2/20\n",
      "\u001b[1m160/160\u001b[0m \u001b[32m━━━━━━━━━━━━━━━━━━━━\u001b[0m\u001b[37m\u001b[0m \u001b[1m91s\u001b[0m 567ms/step - accuracy: 0.5073 - loss: 0.7228 - val_accuracy: 0.6891 - val_loss: 0.6229 - learning_rate: 0.0010\n",
      "Epoch 3/20\n",
      "\u001b[1m160/160\u001b[0m \u001b[32m━━━━━━━━━━━━━━━━━━━━\u001b[0m\u001b[37m\u001b[0m \u001b[1m92s\u001b[0m 573ms/step - accuracy: 0.6293 - loss: 0.6603 - val_accuracy: 0.6914 - val_loss: 0.6050 - learning_rate: 0.0010\n",
      "Epoch 4/20\n",
      "\u001b[1m160/160\u001b[0m \u001b[32m━━━━━━━━━━━━━━━━━━━━\u001b[0m\u001b[37m\u001b[0m \u001b[1m93s\u001b[0m 581ms/step - accuracy: 0.6608 - loss: 0.6245 - val_accuracy: 0.7180 - val_loss: 0.5898 - learning_rate: 0.0010\n",
      "Epoch 5/20\n",
      "\u001b[1m160/160\u001b[0m \u001b[32m━━━━━━━━━━━━━━━━━━━━\u001b[0m\u001b[37m\u001b[0m \u001b[1m91s\u001b[0m 568ms/step - accuracy: 0.6684 - loss: 0.6214 - val_accuracy: 0.7180 - val_loss: 0.5740 - learning_rate: 0.0010\n",
      "Epoch 6/20\n",
      "\u001b[1m160/160\u001b[0m \u001b[32m━━━━━━━━━━━━━━━━━━━━\u001b[0m\u001b[37m\u001b[0m \u001b[1m92s\u001b[0m 573ms/step - accuracy: 0.6593 - loss: 0.6153 - val_accuracy: 0.6805 - val_loss: 0.6032 - learning_rate: 0.0010\n",
      "Epoch 7/20\n",
      "\u001b[1m160/160\u001b[0m \u001b[32m━━━━━━━━━━━━━━━━━━━━\u001b[0m\u001b[37m\u001b[0m \u001b[1m91s\u001b[0m 567ms/step - accuracy: 0.6923 - loss: 0.5947 - val_accuracy: 0.7047 - val_loss: 0.5617 - learning_rate: 0.0010\n",
      "Epoch 8/20\n",
      "\u001b[1m160/160\u001b[0m \u001b[32m━━━━━━━━━━━━━━━━━━━━\u001b[0m\u001b[37m\u001b[0m \u001b[1m86s\u001b[0m 538ms/step - accuracy: 0.6874 - loss: 0.5984 - val_accuracy: 0.7250 - val_loss: 0.5614 - learning_rate: 0.0010\n",
      "Epoch 9/20\n",
      "\u001b[1m160/160\u001b[0m \u001b[32m━━━━━━━━━━━━━━━━━━━━\u001b[0m\u001b[37m\u001b[0m \u001b[1m86s\u001b[0m 535ms/step - accuracy: 0.6956 - loss: 0.5914 - val_accuracy: 0.7203 - val_loss: 0.5701 - learning_rate: 0.0010\n",
      "Epoch 10/20\n",
      "\u001b[1m160/160\u001b[0m \u001b[32m━━━━━━━━━━━━━━━━━━━━\u001b[0m\u001b[37m\u001b[0m \u001b[1m89s\u001b[0m 554ms/step - accuracy: 0.7028 - loss: 0.5796 - val_accuracy: 0.6609 - val_loss: 0.5923 - learning_rate: 0.0010\n",
      "Epoch 11/20\n",
      "\u001b[1m160/160\u001b[0m \u001b[32m━━━━━━━━━━━━━━━━━━━━\u001b[0m\u001b[37m\u001b[0m \u001b[1m91s\u001b[0m 568ms/step - accuracy: 0.7091 - loss: 0.5721 - val_accuracy: 0.7109 - val_loss: 0.5665 - learning_rate: 0.0010\n",
      "Epoch 12/20\n",
      "\u001b[1m160/160\u001b[0m \u001b[32m━━━━━━━━━━━━━━━━━━━━\u001b[0m\u001b[37m\u001b[0m \u001b[1m90s\u001b[0m 564ms/step - accuracy: 0.7091 - loss: 0.5704 - val_accuracy: 0.6953 - val_loss: 0.5875 - learning_rate: 5.0000e-04\n",
      "Epoch 13/20\n",
      "\u001b[1m160/160\u001b[0m \u001b[32m━━━━━━━━━━━━━━━━━━━━\u001b[0m\u001b[37m\u001b[0m \u001b[1m91s\u001b[0m 568ms/step - accuracy: 0.7004 - loss: 0.5615 - val_accuracy: 0.7117 - val_loss: 0.5527 - learning_rate: 5.0000e-04\n",
      "Epoch 14/20\n",
      "\u001b[1m160/160\u001b[0m \u001b[32m━━━━━━━━━━━━━━━━━━━━\u001b[0m\u001b[37m\u001b[0m \u001b[1m87s\u001b[0m 544ms/step - accuracy: 0.7232 - loss: 0.5530 - val_accuracy: 0.7312 - val_loss: 0.5391 - learning_rate: 5.0000e-04\n",
      "Epoch 15/20\n",
      "\u001b[1m160/160\u001b[0m \u001b[32m━━━━━━━━━━━━━━━━━━━━\u001b[0m\u001b[37m\u001b[0m \u001b[1m86s\u001b[0m 539ms/step - accuracy: 0.7041 - loss: 0.5574 - val_accuracy: 0.7258 - val_loss: 0.5396 - learning_rate: 5.0000e-04\n",
      "Epoch 16/20\n",
      "\u001b[1m160/160\u001b[0m \u001b[32m━━━━━━━━━━━━━━━━━━━━\u001b[0m\u001b[37m\u001b[0m \u001b[1m89s\u001b[0m 555ms/step - accuracy: 0.7161 - loss: 0.5429 - val_accuracy: 0.7227 - val_loss: 0.5377 - learning_rate: 5.0000e-04\n",
      "Epoch 17/20\n",
      "\u001b[1m160/160\u001b[0m \u001b[32m━━━━━━━━━━━━━━━━━━━━\u001b[0m\u001b[37m\u001b[0m \u001b[1m92s\u001b[0m 572ms/step - accuracy: 0.7155 - loss: 0.5412 - val_accuracy: 0.7227 - val_loss: 0.5288 - learning_rate: 5.0000e-04\n",
      "Epoch 18/20\n",
      "\u001b[1m160/160\u001b[0m \u001b[32m━━━━━━━━━━━━━━━━━━━━\u001b[0m\u001b[37m\u001b[0m \u001b[1m96s\u001b[0m 598ms/step - accuracy: 0.7252 - loss: 0.5404 - val_accuracy: 0.7227 - val_loss: 0.5203 - learning_rate: 5.0000e-04\n",
      "Epoch 19/20\n",
      "\u001b[1m160/160\u001b[0m \u001b[32m━━━━━━━━━━━━━━━━━━━━\u001b[0m\u001b[37m\u001b[0m \u001b[1m91s\u001b[0m 562ms/step - accuracy: 0.7181 - loss: 0.5438 - val_accuracy: 0.7188 - val_loss: 0.5466 - learning_rate: 5.0000e-04\n",
      "Epoch 20/20\n",
      "\u001b[1m160/160\u001b[0m \u001b[32m━━━━━━━━━━━━━━━━━━━━\u001b[0m\u001b[37m\u001b[0m \u001b[1m91s\u001b[0m 566ms/step - accuracy: 0.7093 - loss: 0.5543 - val_accuracy: 0.7352 - val_loss: 0.5179 - learning_rate: 5.0000e-04\n",
      "\u001b[1m1/1\u001b[0m \u001b[32m━━━━━━━━━━━━━━━━━━━━\u001b[0m\u001b[37m\u001b[0m \u001b[1m0s\u001b[0m 420ms/step\n",
      "\u001b[1m160/160\u001b[0m \u001b[32m━━━━━━━━━━━━━━━━━━━━\u001b[0m\u001b[37m\u001b[0m \u001b[1m20s\u001b[0m 121ms/step\n",
      "\u001b[1m40/40\u001b[0m \u001b[32m━━━━━━━━━━━━━━━━━━━━\u001b[0m\u001b[37m\u001b[0m \u001b[1m5s\u001b[0m 123ms/step\n",
      "SVM Test Accuracy: 0.7359\n",
      "              precision    recall  f1-score   support\n",
      "\n",
      "           0       0.77      0.68      0.72       640\n",
      "           1       0.71      0.79      0.75       640\n",
      "\n",
      "    accuracy                           0.74      1280\n",
      "   macro avg       0.74      0.74      0.74      1280\n",
      "weighted avg       0.74      0.74      0.74      1280\n",
      "\n"
     ]
    },
    {
     "data": {
      "image/png": "[encoded data removed]",
      "text/plain": [
       "<Figure size 1200x500 with 2 Axes>"
      ]
     },
     "metadata": {},
     "output_type": "display_data"
    }
   ],
   "source": [
    "import numpy as np\n",
    "import tensorflow as tf\n",
    "from tensorflow import keras\n",
    "from tensorflow.keras import layers, callbacks\n",
    "from tensorflow.keras.preprocessing.image import ImageDataGenerator\n",
    "from sklearn.svm import SVC\n",
    "from sklearn.metrics import accuracy_score, classification_report\n",
    "import matplotlib.pyplot as plt\n",
    "\n",
    "# Define CNN model for feature extraction\n",
    "def create_cnn(input_shape):\n",
    "    inputs = keras.Input(shape=input_shape)\n",
    "    x = layers.Conv2D(32, (3, 3), activation='relu')(inputs)\n",
    "    x = layers.MaxPooling2D((2, 2))(x)\n",
    "    x = layers.Conv2D(64, (3, 3), activation='relu')(x)\n",
    "    x = layers.MaxPooling2D((2, 2))(x)\n",
    "    x = layers.Conv2D(128, (3, 3), activation='relu')(x)\n",
    "    x = layers.MaxPooling2D((2, 2))(x)\n",
    "    x = layers.Flatten()(x)\n",
    "    x = layers.Dense(128, activation='relu')(x)\n",
    "    x = layers.Dropout(0.5)(x)\n",
    "    feature_layer = layers.Dense(64, activation='relu', name='feature_layer')(x)\n",
    "    outputs = layers.Dense(10, activation='softmax')(feature_layer)  # Ensure output layer for training\n",
    "    model = keras.Model(inputs=inputs, outputs=outputs)\n",
    "    return model\n",
    "\n",
    "# Load preprocessed dataset\n",
    "(X_train, y_train), (X_test, y_test) = (np.load('X_train.npy'), np.load('y_train.npy')), (np.load('X_test.npy'), np.load('y_test.npy'))\n",
    "input_shape = X_train.shape[1:]\n",
    "\n",
    "# Apply Data Augmentation\n",
    "datagen = ImageDataGenerator(\n",
    "    rotation_range=15,      # Rotate images by 15 degrees\n",
    "    width_shift_range=0.1,  # Shift width by 10%\n",
    "    height_shift_range=0.1, # Shift height by 10%\n",
    "    horizontal_flip=True,   # Randomly flip images horizontally\n",
    "    zoom_range=0.1          # Random zoom\n",
    ")\n",
    "datagen.fit(X_train)\n",
    "\n",
    "# Initialize and compile CNN\n",
    "cnn_model = create_cnn(input_shape)\n",
    "cnn_model.compile(optimizer='adam', loss='sparse_categorical_crossentropy', metrics=['accuracy'])\n",
    "\n",
    "# Callbacks for early stopping and reducing learning rate\n",
    "early_stopping = callbacks.EarlyStopping(monitor='val_loss', patience=5, restore_best_weights=True)\n",
    "reduce_lr = callbacks.ReduceLROnPlateau(monitor='val_loss', factor=0.5, patience=3, min_lr=1e-6)\n",
    "\n",
    "# Train CNN model with augmented data\n",
    "history = cnn_model.fit(\n",
    "    datagen.flow(X_train, y_train, batch_size=32), \n",
    "    epochs=20, validation_data=(X_test, y_test), \n",
    "    callbacks=[early_stopping, reduce_lr],\n",
    "    steps_per_epoch=len(X_train) // 32\n",
    ")\n",
    "\n",
    "# Ensure model is built before feature extraction\n",
    "cnn_model.predict(np.expand_dims(X_train[0], axis=0))  # Dummy forward pass\n",
    "\n",
    "# Extract features for SVM\n",
    "feature_extractor = keras.Model(inputs=cnn_model.input, outputs=cnn_model.get_layer('feature_layer').output)\n",
    "X_train_features = feature_extractor.predict(X_train)\n",
    "X_test_features = feature_extractor.predict(X_test)\n",
    "\n",
    "# Reshape extracted features for SVM\n",
    "X_train_features = X_train_features.reshape(X_train_features.shape[0], -1)\n",
    "X_test_features = X_test_features.reshape(X_test_features.shape[0], -1)\n",
    "\n",
    "# Train SVM classifier\n",
    "svm = SVC(kernel='rbf', C=1.0, gamma='scale')\n",
    "svm.fit(X_train_features, y_train)\n",
    "\n",
    "# Predictions and evaluation\n",
    "y_pred = svm.predict(X_test_features)\n",
    "accuracy = accuracy_score(y_test, y_pred)\n",
    "print(f'SVM Test Accuracy: {accuracy:.4f}')\n",
    "print(classification_report(y_test, y_pred))\n",
    "\n",
    "# Plot training accuracy and loss\n",
    "plt.figure(figsize=(12, 5))\n",
    "plt.subplot(1, 2, 1)\n",
    "plt.plot(history.history['accuracy'], label='Train Accuracy')\n",
    "plt.plot(history.history['val_accuracy'], label='Test Accuracy')\n",
    "plt.xlabel('Epochs')\n",
    "plt.ylabel('Accuracy')\n",
    "plt.legend()\n",
    "plt.title('Training & Validation Accuracy')\n",
    "\n",
    "plt.subplot(1, 2, 2)\n",
    "plt.plot(history.history['loss'], label='Train Loss')\n",
    "plt.plot(history.history['val_loss'], label='Test Loss')\n",
    "plt.xlabel('Epochs')\n",
    "plt.ylabel('Loss')\n",
    "plt.legend()\n",
    "plt.title('Training & Validation Loss')\n",
    "\n",
    "plt.show()\n"
   ]
  },
  {
   "cell_type": "code",
   "execution_count": 4,
   "id": "af242f4a-c2c4-47b9-94e3-ca14e68e8114",
   "metadata": {},
   "outputs": [
    {
     "data": {
      "image/png": "[encoded data removed]",
      "text/plain": [
       "<Figure size 1000x700 with 2 Axes>"
      ]
     },
     "metadata": {},
     "output_type": "display_data"
    }
   ],
   "source": [
    "from sklearn.metrics import confusion_matrix\n",
    "import seaborn as sns\n",
    "\n",
    "# Calculate the confusion matrix\n",
    "cm = confusion_matrix(y_test, y_pred)\n",
    "\n",
    "# Plot the confusion matrix\n",
    "plt.figure(figsize=(10, 7))\n",
    "sns.heatmap(cm, annot=True, fmt='d', cmap='Blues', xticklabels=np.unique(y_test), yticklabels=np.unique(y_test))\n",
    "plt.xlabel('Predicted Labels')\n",
    "plt.ylabel('True Labels')\n",
    "plt.title('Confusion Matrix')\n",
    "plt.show()\n"
   ]
  },
  {
   "cell_type": "code",
   "execution_count": null,
   "id": "36b7c92a-b50b-4579-ae15-ec39662d4848",
   "metadata": {},
   "outputs": [],
   "source": []
  }
 ],
 "metadata": {
  "kernelspec": {
   "display_name": "Python 3 (ipykernel)",
   "language": "python",
   "name": "python3"
  },
  "language_info": {
   "codemirror_mode": {
    "name": "ipython",
    "version": 3
   },
   "file_extension": ".py",
   "mimetype": "text/x-python",
   "name": "python",
   "nbconvert_exporter": "python",
   "pygments_lexer": "ipython3",
   "version": "3.11.4"
  }
 },
 "nbformat": 4,
 "nbformat_minor": 5
}
